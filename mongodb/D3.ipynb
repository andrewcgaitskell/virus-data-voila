{
 "cells": [
  {
   "cell_type": "markdown",
   "id": "designing-reunion",
   "metadata": {},
   "source": [
    "https://livingwithmachines.ac.uk/d3-javascript-visualisation-in-a-python-jupyter-notebook/"
   ]
  },
  {
   "cell_type": "code",
   "execution_count": 29,
   "id": "interstate-salmon",
   "metadata": {},
   "outputs": [
    {
     "data": {
      "application/javascript": [
       "console.log(\"I'm writing JavaScript\");\n"
      ],
      "text/plain": [
       "<IPython.core.display.Javascript object>"
      ]
     },
     "metadata": {},
     "output_type": "display_data"
    }
   ],
   "source": [
    "%%javascript\n",
    "console.log(\"I'm writing JavaScript\");"
   ]
  },
  {
   "cell_type": "code",
   "execution_count": 30,
   "id": "suitable-parker",
   "metadata": {},
   "outputs": [
    {
     "data": {
      "application/javascript": [
       "\n",
       "console.log(\"I'm also writing JavaScript here\");\n"
      ],
      "text/plain": [
       "<IPython.core.display.Javascript object>"
      ]
     },
     "execution_count": 30,
     "metadata": {},
     "output_type": "execute_result"
    }
   ],
   "source": [
    "from IPython.display import display, Javascript \n",
    "Javascript(\"\"\"\n",
    "console.log(\"I'm also writing JavaScript here\");\n",
    "\"\"\")"
   ]
  },
  {
   "cell_type": "code",
   "execution_count": 31,
   "id": "american-manual",
   "metadata": {},
   "outputs": [
    {
     "data": {
      "application/javascript": [
       "require.config({\n",
       "    paths: { \n",
       "        d3: 'https://d3js.org/d3.v5.min'\n",
       "    }\n",
       "});\n"
      ],
      "text/plain": [
       "<IPython.core.display.Javascript object>"
      ]
     },
     "metadata": {},
     "output_type": "display_data"
    }
   ],
   "source": [
    "%%javascript\n",
    "require.config({\n",
    "    paths: { \n",
    "        d3: 'https://d3js.org/d3.v5.min'\n",
    "    }\n",
    "});"
   ]
  },
  {
   "cell_type": "code",
   "execution_count": 32,
   "id": "urban-tanzania",
   "metadata": {},
   "outputs": [
    {
     "data": {
      "application/javascript": [
       "require(['d3'], function(d3) {   \n",
       "    console.log(d3);\n",
       "});\n"
      ],
      "text/plain": [
       "<IPython.core.display.Javascript object>"
      ]
     },
     "metadata": {},
     "output_type": "display_data"
    }
   ],
   "source": [
    "%%javascript\n",
    "require(['d3'], function(d3) {   \n",
    "    console.log(d3);\n",
    "});"
   ]
  },
  {
   "cell_type": "code",
   "execution_count": 33,
   "id": "damaged-pavilion",
   "metadata": {},
   "outputs": [
    {
     "data": {
      "application/javascript": [
       "element.text('hello world');\n"
      ],
      "text/plain": [
       "<IPython.core.display.Javascript object>"
      ]
     },
     "metadata": {},
     "output_type": "display_data"
    }
   ],
   "source": [
    "%%javascript\n",
    "element.text('hello world');"
   ]
  },
  {
   "cell_type": "code",
   "execution_count": 34,
   "id": "later-notification",
   "metadata": {},
   "outputs": [
    {
     "data": {
      "application/javascript": [
       "(function(element) {\n",
       "    require(['d3'], function(d3) {   \n",
       "        d3.select(element.get(0)).append('text').text('hello world');\n",
       "    })\n",
       "})(element);\n"
      ],
      "text/plain": [
       "<IPython.core.display.Javascript object>"
      ]
     },
     "metadata": {},
     "output_type": "display_data"
    }
   ],
   "source": [
    "%%javascript\n",
    "(function(element) {\n",
    "    require(['d3'], function(d3) {   \n",
    "        d3.select(element.get(0)).append('text').text('hello world');\n",
    "    })\n",
    "})(element);"
   ]
  },
  {
   "cell_type": "code",
   "execution_count": 35,
   "id": "rapid-resort",
   "metadata": {},
   "outputs": [
    {
     "data": {
      "application/javascript": [
       "(function(element) {\n",
       "    require(['d3'], function(d3) {   \n",
       "        d3.select(element.get(0)).append('svg')\n",
       "            .append('rect')\n",
       "            .attr('width', 50)\n",
       "            .attr('height', 50)\n",
       "            .attr('fill', 'black')\n",
       "            .on('mouseover', function(){d3.select(this).attr('fill', 'red')})\n",
       "            .on('mouseout', function(){d3.select(this).attr('fill', 'black')});\n",
       "    })\n",
       "})(element);\n",
       "\n",
       "// This rectangle is interactive - mouseover to see it turn red\n"
      ],
      "text/plain": [
       "<IPython.core.display.Javascript object>"
      ]
     },
     "metadata": {},
     "output_type": "display_data"
    }
   ],
   "source": [
    "%%javascript\n",
    "(function(element) {\n",
    "    require(['d3'], function(d3) {   \n",
    "        d3.select(element.get(0)).append('svg')\n",
    "            .append('rect')\n",
    "            .attr('width', 50)\n",
    "            .attr('height', 50)\n",
    "            .attr('fill', 'black')\n",
    "            .on('mouseover', function(){d3.select(this).attr('fill', 'red')})\n",
    "            .on('mouseout', function(){d3.select(this).attr('fill', 'black')});\n",
    "    })\n",
    "})(element);\n",
    "\n",
    "// This rectangle is interactive - mouseover to see it turn red"
   ]
  },
  {
   "cell_type": "code",
   "execution_count": 36,
   "id": "corporate-aberdeen",
   "metadata": {},
   "outputs": [],
   "source": [
    "import json"
   ]
  },
  {
   "cell_type": "code",
   "execution_count": 37,
   "id": "welsh-thanks",
   "metadata": {},
   "outputs": [],
   "source": [
    "data = [50, 100]"
   ]
  },
  {
   "cell_type": "code",
   "execution_count": 38,
   "id": "engaging-correction",
   "metadata": {},
   "outputs": [
    {
     "data": {
      "text/plain": [
       "'element.text([50, 100]);'"
      ]
     },
     "execution_count": 38,
     "metadata": {},
     "output_type": "execute_result"
    }
   ],
   "source": [
    "Javascript\n",
    "(\"\"\"element.text(%s);\"\"\" % json.dumps(data))"
   ]
  },
  {
   "cell_type": "code",
   "execution_count": 39,
   "id": "satisfied-wonder",
   "metadata": {},
   "outputs": [
    {
     "data": {
      "application/javascript": [
       "\n",
       "(function(element) {\n",
       "    require(['d3'], function(d3) {   \n",
       "        var data = [50, 100];\n",
       "        d3.select(element.get(0)).append('svg')\n",
       "        .append('rect')\n",
       "        .attr('width', data[0])\n",
       "        .attr('height', data[1])\n",
       "        .attr('fill', 'black')\n",
       "    })\n",
       "})(element);\n"
      ],
      "text/plain": [
       "<IPython.core.display.Javascript object>"
      ]
     },
     "execution_count": 39,
     "metadata": {},
     "output_type": "execute_result"
    }
   ],
   "source": [
    "Javascript(\"\"\"\n",
    "(function(element) {\n",
    "    require(['d3'], function(d3) {   \n",
    "        var data = %s;\n",
    "        d3.select(element.get(0)).append('svg')\n",
    "        .append('rect')\n",
    "        .attr('width', data[0])\n",
    "        .attr('height', data[1])\n",
    "        .attr('fill', 'black')\n",
    "    })\n",
    "})(element);\n",
    "\"\"\" % json.dumps(data))\n",
    "\n",
    "# This rectangle is 50 x 100, from our data"
   ]
  },
  {
   "cell_type": "code",
   "execution_count": 40,
   "id": "opponent-firewall",
   "metadata": {},
   "outputs": [
    {
     "data": {
      "text/html": [
       "<div>\n",
       "<style scoped>\n",
       "    .dataframe tbody tr th:only-of-type {\n",
       "        vertical-align: middle;\n",
       "    }\n",
       "\n",
       "    .dataframe tbody tr th {\n",
       "        vertical-align: top;\n",
       "    }\n",
       "\n",
       "    .dataframe thead th {\n",
       "        text-align: right;\n",
       "    }\n",
       "</style>\n",
       "<table border=\"1\" class=\"dataframe\">\n",
       "  <thead>\n",
       "    <tr style=\"text-align: right;\">\n",
       "      <th></th>\n",
       "      <th>Name</th>\n",
       "      <th>Count</th>\n",
       "    </tr>\n",
       "  </thead>\n",
       "  <tbody>\n",
       "    <tr>\n",
       "      <th>0</th>\n",
       "      <td>A</td>\n",
       "      <td>10</td>\n",
       "    </tr>\n",
       "    <tr>\n",
       "      <th>1</th>\n",
       "      <td>B</td>\n",
       "      <td>15</td>\n",
       "    </tr>\n",
       "    <tr>\n",
       "      <th>2</th>\n",
       "      <td>C</td>\n",
       "      <td>14</td>\n",
       "    </tr>\n",
       "  </tbody>\n",
       "</table>\n",
       "</div>"
      ],
      "text/plain": [
       "  Name  Count\n",
       "0    A     10\n",
       "1    B     15\n",
       "2    C     14"
      ]
     },
     "execution_count": 40,
     "metadata": {},
     "output_type": "execute_result"
    }
   ],
   "source": [
    "# Import pandas library \n",
    "import pandas as pd \n",
    "  \n",
    "# initialize list of lists \n",
    "data_python = [['A', 10], ['B', 15], ['C', 14]] \n",
    "  \n",
    "# Create the pandas DataFrame \n",
    "df = pd.DataFrame(data_python, columns = ['Name', 'Count']) \n",
    "  \n",
    "# print dataframe. \n",
    "df"
   ]
  },
  {
   "cell_type": "code",
   "execution_count": 41,
   "id": "welsh-macro",
   "metadata": {},
   "outputs": [],
   "source": [
    "#Save df as json\n",
    "df.to_json(r'df.json', orient=\"records\")"
   ]
  },
  {
   "cell_type": "code",
   "execution_count": 42,
   "id": "verified-sister",
   "metadata": {},
   "outputs": [
    {
     "data": {
      "application/javascript": [
       "(function(element) {\n",
       "    require(['d3'], function(d3) {   \n",
       "        // access df.json created by the cell above\n",
       "        d3.json(\"df.json\").then(function(json){\n",
       "            var df_data = json;            \n",
       "            var svg = d3.select(element.get(0)).append('svg');\n",
       "            df_data.forEach(function(d,i){\n",
       "                \n",
       "                // Create 3 text elements with the 'Name' values in df.json\n",
       "                svg.append('text')\n",
       "                    .text(function(){return d.Name})\n",
       "                    .attr('x', i*50)\n",
       "                    .attr('y', 10);\n",
       "                \n",
       "                // Create 3 rectangles with height mapped to the 'Count' values in df.json\n",
       "                svg.append('rect')\n",
       "                    .attr('width', 10)\n",
       "                    .attr('height', function(){ return d.Count * 5})\n",
       "                    .attr('x', i*50)\n",
       "                    .attr('y', 20)\n",
       "                    .attr('fill', 'black');\n",
       "            });\n",
       "        });\n",
       "    })\n",
       "})(element);\n"
      ],
      "text/plain": [
       "<IPython.core.display.Javascript object>"
      ]
     },
     "metadata": {},
     "output_type": "display_data"
    }
   ],
   "source": [
    "%%javascript\n",
    "(function(element) {\n",
    "    require(['d3'], function(d3) {   \n",
    "        // access df.json created by the cell above\n",
    "        d3.json(\"df.json\").then(function(json){\n",
    "            var df_data = json;            \n",
    "            var svg = d3.select(element.get(0)).append('svg');\n",
    "            df_data.forEach(function(d,i){\n",
    "                \n",
    "                // Create 3 text elements with the 'Name' values in df.json\n",
    "                svg.append('text')\n",
    "                    .text(function(){return d.Name})\n",
    "                    .attr('x', i*50)\n",
    "                    .attr('y', 10);\n",
    "                \n",
    "                // Create 3 rectangles with height mapped to the 'Count' values in df.json\n",
    "                svg.append('rect')\n",
    "                    .attr('width', 10)\n",
    "                    .attr('height', function(){ return d.Count * 5})\n",
    "                    .attr('x', i*50)\n",
    "                    .attr('y', 20)\n",
    "                    .attr('fill', 'black');\n",
    "            });\n",
    "        });\n",
    "    })\n",
    "})(element);"
   ]
  },
  {
   "cell_type": "code",
   "execution_count": 43,
   "id": "nonprofit-morocco",
   "metadata": {},
   "outputs": [],
   "source": [
    "from IPython.display import HTML"
   ]
  },
  {
   "cell_type": "code",
   "execution_count": 44,
   "id": "visible-store",
   "metadata": {},
   "outputs": [
    {
     "data": {
      "text/html": [
       "<style>\n",
       "     viz_rect {\n",
       "         fill: blue;\n",
       "     }\n",
       "</style>"
      ],
      "text/plain": [
       "<IPython.core.display.HTML object>"
      ]
     },
     "metadata": {},
     "output_type": "display_data"
    },
    {
     "data": {
      "application/javascript": [
       "// Define a module, using RequireJS syntax, called 'viz'. \n",
       "// 'viz' is defined as a function with argument 'container' (to append the SVG element to)\n",
       "// 'viz' draws a 50 x 50 rectangle\n",
       "\n",
       "define('viz', ['d3'], function (d3) {\n",
       "    function draw(container) {\n",
       "        d3.select(container).append(\"svg\").append('rect').attr('id', 'viz_rect').attr('width', 50).attr('height', 50);\n",
       "        }\n",
       "    return draw;\n",
       "});\n",
       "element.append('Loaded 😄 ');"
      ],
      "text/plain": [
       "<IPython.core.display.Javascript object>"
      ]
     },
     "execution_count": 44,
     "metadata": {},
     "output_type": "execute_result"
    }
   ],
   "source": [
    "display(HTML(filename=\"viz.css.html\"))\n",
    "Javascript(filename='viz.js')"
   ]
  },
  {
   "cell_type": "code",
   "execution_count": 45,
   "id": "loaded-smart",
   "metadata": {},
   "outputs": [
    {
     "data": {
      "application/javascript": [
       "\n",
       "(function(element){\n",
       "    require(['viz'], function(viz) {\n",
       "        viz(element.get(0))\n",
       "    });\n",
       "})(element);\n"
      ],
      "text/plain": [
       "<IPython.core.display.Javascript object>"
      ]
     },
     "metadata": {},
     "output_type": "display_data"
    }
   ],
   "source": [
    "display(Javascript(\"\"\"\n",
    "(function(element){\n",
    "    require(['viz'], function(viz) {\n",
    "        viz(element.get(0))\n",
    "    });\n",
    "})(element);\n",
    "\"\"\"))"
   ]
  },
  {
   "cell_type": "code",
   "execution_count": 46,
   "id": "casual-brake",
   "metadata": {},
   "outputs": [
    {
     "data": {
      "text/html": [
       "<div id='variable1' data-fromPython='this_could_be_any_python_string' ></div>"
      ],
      "text/plain": [
       "<IPython.core.display.HTML object>"
      ]
     },
     "execution_count": 46,
     "metadata": {},
     "output_type": "execute_result"
    }
   ],
   "source": [
    "variable1 = \"this_could_be_any_python_string\"\n",
    "HTML(\"<div id='variable1' data-fromPython='\" + variable1 + \"' ></div>\")"
   ]
  },
  {
   "cell_type": "code",
   "execution_count": 47,
   "id": "chicken-nickel",
   "metadata": {},
   "outputs": [
    {
     "data": {
      "application/javascript": [
       "var fromPython = document.getElementById('variable1').getAttribute('data-fromPython');\n",
       "element.text(fromPython);\n"
      ],
      "text/plain": [
       "<IPython.core.display.Javascript object>"
      ]
     },
     "metadata": {},
     "output_type": "display_data"
    }
   ],
   "source": [
    "%%javascript\n",
    "var fromPython = document.getElementById('variable1').getAttribute('data-fromPython');\n",
    "element.text(fromPython);"
   ]
  },
  {
   "cell_type": "code",
   "execution_count": 48,
   "id": "excited-flour",
   "metadata": {},
   "outputs": [
    {
     "data": {
      "application/javascript": [
       "var variable2 = \"this_could_be_any_javascript_string\";\n",
       "// command is a string containing Python code\n",
       "var command = \"fromJavaScript='\" + variable2 + \"'\";\n",
       "IPython.notebook.kernel.execute(command);\n"
      ],
      "text/plain": [
       "<IPython.core.display.Javascript object>"
      ]
     },
     "metadata": {},
     "output_type": "display_data"
    }
   ],
   "source": [
    "%%javascript\n",
    "var variable2 = \"this_could_be_any_javascript_string\";\n",
    "// command is a string containing Python code\n",
    "var command = \"fromJavaScript='\" + variable2 + \"'\";\n",
    "IPython.notebook.kernel.execute(command);"
   ]
  },
  {
   "cell_type": "code",
   "execution_count": 49,
   "id": "pleasant-information",
   "metadata": {},
   "outputs": [
    {
     "name": "stdout",
     "output_type": "stream",
     "text": [
      "this_could_be_any_javascript_string\n"
     ]
    }
   ],
   "source": [
    "print(fromJavaScript)"
   ]
  },
  {
   "cell_type": "code",
   "execution_count": null,
   "id": "controlling-blues",
   "metadata": {},
   "outputs": [],
   "source": []
  }
 ],
 "metadata": {
  "kernelspec": {
   "display_name": "env",
   "language": "python",
   "name": "env"
  },
  "language_info": {
   "codemirror_mode": {
    "name": "ipython",
    "version": 3
   },
   "file_extension": ".py",
   "mimetype": "text/x-python",
   "name": "python",
   "nbconvert_exporter": "python",
   "pygments_lexer": "ipython3",
   "version": "3.6.9"
  }
 },
 "nbformat": 4,
 "nbformat_minor": 5
}

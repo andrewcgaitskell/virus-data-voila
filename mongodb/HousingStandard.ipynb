{
 "cells": [
  {
   "cell_type": "code",
   "execution_count": 84,
   "id": "better-drunk",
   "metadata": {},
   "outputs": [],
   "source": [
    "import os\n",
    "from datetime import datetime"
   ]
  },
  {
   "cell_type": "code",
   "execution_count": 85,
   "id": "bottom-violin",
   "metadata": {},
   "outputs": [],
   "source": [
    "c = os.getcwd()"
   ]
  },
  {
   "cell_type": "code",
   "execution_count": 86,
   "id": "superb-belize",
   "metadata": {},
   "outputs": [
    {
     "name": "stdout",
     "output_type": "stream",
     "text": [
      "/home/jupyterlab/virus-data-voila/mongodb\n"
     ]
    }
   ],
   "source": [
    "print(c)"
   ]
  },
  {
   "cell_type": "code",
   "execution_count": 87,
   "id": "prerequisite-consultation",
   "metadata": {},
   "outputs": [],
   "source": [
    "import pandas as pd\n",
    "import numpy as np"
   ]
  },
  {
   "cell_type": "code",
   "execution_count": 88,
   "id": "juvenile-saskatchewan",
   "metadata": {},
   "outputs": [],
   "source": [
    "os.environ['MPLCONFIGDIR'] = c"
   ]
  },
  {
   "cell_type": "code",
   "execution_count": 89,
   "id": "decimal-battle",
   "metadata": {},
   "outputs": [],
   "source": [
    "import xlsxwriter\n",
    "import xlrd\n",
    "import matplotlib"
   ]
  },
  {
   "cell_type": "code",
   "execution_count": 90,
   "id": "military-trauma",
   "metadata": {},
   "outputs": [
    {
     "name": "stdout",
     "output_type": "stream",
     "text": [
      "2021-02-04T17:22:41.886206\n"
     ]
    },
    {
     "data": {
      "text/plain": [
       "'R20210204172241886206'"
      ]
     },
     "execution_count": 90,
     "metadata": {},
     "output_type": "execute_result"
    }
   ],
   "source": [
    "from datetime import datetime\n",
    "my_date = datetime.now()\n",
    "print(my_date.isoformat())\n",
    "#print(my_date.strftime('%Y-%m-%dT%H:%M:%S.%f%z'))\n",
    "#2020-06-15T15:18:53.632557\n",
    "runid = \"R\" + my_date.strftime('%Y%m%d%H%M%S%f%z')\n",
    "runid"
   ]
  },
  {
   "cell_type": "code",
   "execution_count": null,
   "id": "peripheral-amber",
   "metadata": {},
   "outputs": [],
   "source": []
  },
  {
   "cell_type": "code",
   "execution_count": 91,
   "id": "blind-lambda",
   "metadata": {},
   "outputs": [],
   "source": [
    "def validate_date(date_text):\n",
    "    try:\n",
    "        format_string = '%Y-%m-%d %H:%M:%S'\n",
    "        datetime.strptime(date_text, format_string)\n",
    "        return \"OK\"\n",
    "    except ValueError:\n",
    "        return None\n",
    "\n",
    "def GetDataType(row_in):\n",
    "    valueasstring = str(row_in['CellValue'])\n",
    "    if validate_date(valueasstring) != None:\n",
    "        return 'Date'\n",
    "    elif valueasstring.isnumeric():\n",
    "        return 'Number'\n",
    "    else:\n",
    "        return 'Text'\n",
    "\n",
    "def add1_2row(row_in):\n",
    "    return row_in['RowID'] + 1\n",
    "\n",
    "\n",
    "def add1_2column(row_in):\n",
    "    return row_in['ColumnID'] + 1"
   ]
  },
  {
   "cell_type": "code",
   "execution_count": 92,
   "id": "future-poison",
   "metadata": {},
   "outputs": [],
   "source": [
    "import io"
   ]
  },
  {
   "cell_type": "code",
   "execution_count": 93,
   "id": "dying-retail",
   "metadata": {},
   "outputs": [],
   "source": [
    "filedf = pd.read_excel(\"/home/jupyterlab/virus-data-voila/mongodb/DataModel.xlsx\",sheet_name=None, header=None, engine=\"openpyxl\")"
   ]
  },
  {
   "cell_type": "code",
   "execution_count": 94,
   "id": "completed-classics",
   "metadata": {},
   "outputs": [],
   "source": [
    "sheetnames = list(filedf.keys())"
   ]
  },
  {
   "cell_type": "code",
   "execution_count": 95,
   "id": "focal-salem",
   "metadata": {},
   "outputs": [
    {
     "data": {
      "text/plain": [
       "['Entity & Code List Definitions',\n",
       " 'Attributes',\n",
       " 'Codes',\n",
       " 'UniclassSystemCode',\n",
       " 'UniclassProductCode',\n",
       " 'UniclassEntityCode',\n",
       " 'UniclassElementFunctionCode',\n",
       " 'UniclassComplexCode',\n",
       " 'UniclassActivityCode',\n",
       " 'M3NHFScheduleOfRatesCode',\n",
       " 'CoordinateReferenceSystemCode']"
      ]
     },
     "execution_count": 95,
     "metadata": {},
     "output_type": "execute_result"
    }
   ],
   "source": [
    "sheetnames"
   ]
  },
  {
   "cell_type": "code",
   "execution_count": 96,
   "id": "listed-magic",
   "metadata": {},
   "outputs": [],
   "source": [
    "celldbstagedf = pd.DataFrame()"
   ]
  },
  {
   "cell_type": "code",
   "execution_count": 97,
   "id": "particular-single",
   "metadata": {},
   "outputs": [],
   "source": [
    "for currentsheetname in sheetnames:\n",
    "\n",
    "    sheetdf = filedf[currentsheetname].copy()\n",
    "    sheetdf[\"RowID\"] = sheetdf.index\n",
    "    celldb = pd.melt(sheetdf, id_vars=['RowID'])\n",
    "    celldb = celldb.rename(columns={\"variable\": \"ColumnID\", \"value\": \"CellValue\"})\n",
    "    celldb[\"CellType\"] = \"Unset\"\n",
    "    celldb[\"FileName\"] = runid\n",
    "    celldb[\"SheetName\"] = currentsheetname\n",
    "    \n",
    "    celldb[\"ColumnID\"] = celldb[\"ColumnID\"]\n",
    "\n",
    "    try:\n",
    "        celldb[\"CellType\"] = celldb.apply(GetDataType, axis=1)\n",
    "        celldb[\"RowID\"] = celldb.apply(add1_2row, axis=1)\n",
    "        celldb[\"ColumnID\"] = celldb.apply(add1_2column, axis=1)\n",
    "\n",
    "    except:\n",
    "\n",
    "        celldb[\"CellType\"] = 'unknown'\n",
    "        celldb[\"RowID\"] = 0\n",
    "        celldb[\"ColumnID\"] = 0\n",
    "\n",
    "    celldbstagedf = celldbstagedf.append(celldb, ignore_index=True)\n",
    "\n",
    "    celldb = pd.DataFrame()"
   ]
  },
  {
   "cell_type": "code",
   "execution_count": 98,
   "id": "damaged-parts",
   "metadata": {},
   "outputs": [],
   "source": [
    "fullcelldb = celldbstagedf"
   ]
  },
  {
   "cell_type": "code",
   "execution_count": 99,
   "id": "french-belle",
   "metadata": {},
   "outputs": [
    {
     "data": {
      "text/html": [
       "<div>\n",
       "<style scoped>\n",
       "    .dataframe tbody tr th:only-of-type {\n",
       "        vertical-align: middle;\n",
       "    }\n",
       "\n",
       "    .dataframe tbody tr th {\n",
       "        vertical-align: top;\n",
       "    }\n",
       "\n",
       "    .dataframe thead th {\n",
       "        text-align: right;\n",
       "    }\n",
       "</style>\n",
       "<table border=\"1\" class=\"dataframe\">\n",
       "  <thead>\n",
       "    <tr style=\"text-align: right;\">\n",
       "      <th></th>\n",
       "      <th>RowID</th>\n",
       "      <th>ColumnID</th>\n",
       "      <th>CellValue</th>\n",
       "      <th>CellType</th>\n",
       "      <th>FileName</th>\n",
       "      <th>SheetName</th>\n",
       "    </tr>\n",
       "  </thead>\n",
       "  <tbody>\n",
       "    <tr>\n",
       "      <th>247566</th>\n",
       "      <td>1</td>\n",
       "      <td>1</td>\n",
       "      <td>Code List</td>\n",
       "      <td>Text</td>\n",
       "      <td>R20210204172241886206</td>\n",
       "      <td>UniclassComplexCode</td>\n",
       "    </tr>\n",
       "    <tr>\n",
       "      <th>247567</th>\n",
       "      <td>2</td>\n",
       "      <td>1</td>\n",
       "      <td>UniclassComplexCode</td>\n",
       "      <td>Text</td>\n",
       "      <td>R20210204172241886206</td>\n",
       "      <td>UniclassComplexCode</td>\n",
       "    </tr>\n",
       "    <tr>\n",
       "      <th>247568</th>\n",
       "      <td>3</td>\n",
       "      <td>1</td>\n",
       "      <td>UniclassComplexCode</td>\n",
       "      <td>Text</td>\n",
       "      <td>R20210204172241886206</td>\n",
       "      <td>UniclassComplexCode</td>\n",
       "    </tr>\n",
       "    <tr>\n",
       "      <th>247569</th>\n",
       "      <td>4</td>\n",
       "      <td>1</td>\n",
       "      <td>UniclassComplexCode</td>\n",
       "      <td>Text</td>\n",
       "      <td>R20210204172241886206</td>\n",
       "      <td>UniclassComplexCode</td>\n",
       "    </tr>\n",
       "    <tr>\n",
       "      <th>247570</th>\n",
       "      <td>5</td>\n",
       "      <td>1</td>\n",
       "      <td>UniclassComplexCode</td>\n",
       "      <td>Text</td>\n",
       "      <td>R20210204172241886206</td>\n",
       "      <td>UniclassComplexCode</td>\n",
       "    </tr>\n",
       "  </tbody>\n",
       "</table>\n",
       "</div>"
      ],
      "text/plain": [
       "        RowID  ColumnID            CellValue CellType               FileName  \\\n",
       "247566      1         1            Code List     Text  R20210204172241886206   \n",
       "247567      2         1  UniclassComplexCode     Text  R20210204172241886206   \n",
       "247568      3         1  UniclassComplexCode     Text  R20210204172241886206   \n",
       "247569      4         1  UniclassComplexCode     Text  R20210204172241886206   \n",
       "247570      5         1  UniclassComplexCode     Text  R20210204172241886206   \n",
       "\n",
       "                  SheetName  \n",
       "247566  UniclassComplexCode  \n",
       "247567  UniclassComplexCode  \n",
       "247568  UniclassComplexCode  \n",
       "247569  UniclassComplexCode  \n",
       "247570  UniclassComplexCode  "
      ]
     },
     "execution_count": 99,
     "metadata": {},
     "output_type": "execute_result"
    }
   ],
   "source": [
    "Cells = pd.DataFrame()\n",
    "Cells = fullcelldb[(fullcelldb['SheetName'] == 'UniclassComplexCode')].copy()\n",
    "Cells.head()"
   ]
  },
  {
   "cell_type": "code",
   "execution_count": 100,
   "id": "hollow-dinner",
   "metadata": {},
   "outputs": [
    {
     "name": "stdout",
     "output_type": "stream",
     "text": [
      "['Code List', 'Name', 'Documentation', 'Code', 1.1, 1.7]\n"
     ]
    }
   ],
   "source": [
    "##Below extracts a Sheet from the cell database and reshapes it to it original tabular form.\n",
    "Table = pd.DataFrame()\n",
    "Table = Cells.pivot_table(index = ['RowID'], values = 'CellValue',columns = 'ColumnID', aggfunc = 'max')\n",
    "Headings = Table.iloc[0]\n",
    "HeadingsList = list(Headings)\n",
    "print(HeadingsList)"
   ]
  },
  {
   "cell_type": "code",
   "execution_count": 101,
   "id": "accredited-support",
   "metadata": {},
   "outputs": [
    {
     "name": "stdout",
     "output_type": "stream",
     "text": [
      "{1: 'Code List', 2: 'Name', 3: 'Documentation', 4: 'Code', 5: 1.1, 6: 1.7}\n"
     ]
    },
    {
     "data": {
      "text/html": [
       "<div>\n",
       "<style scoped>\n",
       "    .dataframe tbody tr th:only-of-type {\n",
       "        vertical-align: middle;\n",
       "    }\n",
       "\n",
       "    .dataframe tbody tr th {\n",
       "        vertical-align: top;\n",
       "    }\n",
       "\n",
       "    .dataframe thead th {\n",
       "        text-align: right;\n",
       "    }\n",
       "</style>\n",
       "<table border=\"1\" class=\"dataframe\">\n",
       "  <thead>\n",
       "    <tr style=\"text-align: right;\">\n",
       "      <th>ColumnID</th>\n",
       "      <th>Code List</th>\n",
       "      <th>Name</th>\n",
       "      <th>Documentation</th>\n",
       "      <th>Code</th>\n",
       "      <th>1.1</th>\n",
       "      <th>1.7</th>\n",
       "    </tr>\n",
       "    <tr>\n",
       "      <th>RowID</th>\n",
       "      <th></th>\n",
       "      <th></th>\n",
       "      <th></th>\n",
       "      <th></th>\n",
       "      <th></th>\n",
       "      <th></th>\n",
       "    </tr>\n",
       "  </thead>\n",
       "  <tbody>\n",
       "    <tr>\n",
       "      <th>2</th>\n",
       "      <td>UniclassComplexCode</td>\n",
       "      <td>Administrative, commercial and protective serv...</td>\n",
       "      <td>NaN</td>\n",
       "      <td>Co_20</td>\n",
       "      <td>Y</td>\n",
       "      <td>Y</td>\n",
       "    </tr>\n",
       "    <tr>\n",
       "      <th>3</th>\n",
       "      <td>UniclassComplexCode</td>\n",
       "      <td>Legislative complexes</td>\n",
       "      <td>NaN</td>\n",
       "      <td>Co_20_10</td>\n",
       "      <td>Y</td>\n",
       "      <td>Y</td>\n",
       "    </tr>\n",
       "    <tr>\n",
       "      <th>4</th>\n",
       "      <td>UniclassComplexCode</td>\n",
       "      <td>Governmental complexes</td>\n",
       "      <td>NaN</td>\n",
       "      <td>Co_20_10_60</td>\n",
       "      <td>Y</td>\n",
       "      <td>Y</td>\n",
       "    </tr>\n",
       "    <tr>\n",
       "      <th>5</th>\n",
       "      <td>UniclassComplexCode</td>\n",
       "      <td>Administrative complexes</td>\n",
       "      <td>NaN</td>\n",
       "      <td>Co_20_15</td>\n",
       "      <td>Y</td>\n",
       "      <td>Y</td>\n",
       "    </tr>\n",
       "    <tr>\n",
       "      <th>6</th>\n",
       "      <td>UniclassComplexCode</td>\n",
       "      <td>Business parks</td>\n",
       "      <td>NaN</td>\n",
       "      <td>Co_20_15_08</td>\n",
       "      <td>Y</td>\n",
       "      <td>Y</td>\n",
       "    </tr>\n",
       "  </tbody>\n",
       "</table>\n",
       "</div>"
      ],
      "text/plain": [
       "ColumnID            Code List  \\\n",
       "RowID                           \n",
       "2         UniclassComplexCode   \n",
       "3         UniclassComplexCode   \n",
       "4         UniclassComplexCode   \n",
       "5         UniclassComplexCode   \n",
       "6         UniclassComplexCode   \n",
       "\n",
       "ColumnID                                               Name Documentation  \\\n",
       "RowID                                                                       \n",
       "2         Administrative, commercial and protective serv...           NaN   \n",
       "3                                     Legislative complexes           NaN   \n",
       "4                                    Governmental complexes           NaN   \n",
       "5                                  Administrative complexes           NaN   \n",
       "6                                            Business parks           NaN   \n",
       "\n",
       "ColumnID         Code 1.1 1.7  \n",
       "RowID                          \n",
       "2               Co_20   Y   Y  \n",
       "3            Co_20_10   Y   Y  \n",
       "4         Co_20_10_60   Y   Y  \n",
       "5            Co_20_15   Y   Y  \n",
       "6         Co_20_15_08   Y   Y  "
      ]
     },
     "execution_count": 101,
     "metadata": {},
     "output_type": "execute_result"
    }
   ],
   "source": [
    "HeadingsListTuple = enumerate(HeadingsList,start=1)\n",
    "HeadingsListDict = dict(HeadingsListTuple)\n",
    "print(HeadingsListDict)\n",
    "Table = Table.rename(columns=HeadingsListDict)\n",
    "Table = Table.drop([1])\n",
    "Table.head()"
   ]
  },
  {
   "cell_type": "code",
   "execution_count": 102,
   "id": "assigned-fishing",
   "metadata": {},
   "outputs": [],
   "source": [
    "Table['Length'] = Table['Code'].str.len().astype(int)"
   ]
  },
  {
   "cell_type": "code",
   "execution_count": 103,
   "id": "composite-excellence",
   "metadata": {},
   "outputs": [],
   "source": [
    "def applyFunc(s):\n",
    "    if s == 5:\n",
    "        return 1\n",
    "    elif s == 8:\n",
    "        return 2\n",
    "    elif s == 11:\n",
    "        return 3\n",
    "    return 0\n",
    "\n",
    "Table['Level'] = Table['Length'].apply(applyFunc)"
   ]
  },
  {
   "cell_type": "code",
   "execution_count": 104,
   "id": "resident-tokyo",
   "metadata": {},
   "outputs": [],
   "source": [
    "##Table['Parent'] = Table['Code'].str.slice(start=0, stop=Table['Length']-3)\n",
    "#Table['Parent'] = Table['Code'].str.slice(start=1)\n",
    "Table['Parent'] = Table['Code'].str[0:-3]"
   ]
  },
  {
   "cell_type": "code",
   "execution_count": 105,
   "id": "changing-dream",
   "metadata": {},
   "outputs": [
    {
     "data": {
      "text/html": [
       "<div>\n",
       "<style scoped>\n",
       "    .dataframe tbody tr th:only-of-type {\n",
       "        vertical-align: middle;\n",
       "    }\n",
       "\n",
       "    .dataframe tbody tr th {\n",
       "        vertical-align: top;\n",
       "    }\n",
       "\n",
       "    .dataframe thead th {\n",
       "        text-align: right;\n",
       "    }\n",
       "</style>\n",
       "<table border=\"1\" class=\"dataframe\">\n",
       "  <thead>\n",
       "    <tr style=\"text-align: right;\">\n",
       "      <th>ColumnID</th>\n",
       "      <th>Code List</th>\n",
       "      <th>Name</th>\n",
       "      <th>Documentation</th>\n",
       "      <th>Code</th>\n",
       "      <th>1.1</th>\n",
       "      <th>1.7</th>\n",
       "      <th>Length</th>\n",
       "      <th>Level</th>\n",
       "      <th>Parent</th>\n",
       "    </tr>\n",
       "    <tr>\n",
       "      <th>RowID</th>\n",
       "      <th></th>\n",
       "      <th></th>\n",
       "      <th></th>\n",
       "      <th></th>\n",
       "      <th></th>\n",
       "      <th></th>\n",
       "      <th></th>\n",
       "      <th></th>\n",
       "      <th></th>\n",
       "    </tr>\n",
       "  </thead>\n",
       "  <tbody>\n",
       "    <tr>\n",
       "      <th>2</th>\n",
       "      <td>UniclassComplexCode</td>\n",
       "      <td>Administrative, commercial and protective serv...</td>\n",
       "      <td>NaN</td>\n",
       "      <td>Co_20</td>\n",
       "      <td>Y</td>\n",
       "      <td>Y</td>\n",
       "      <td>5</td>\n",
       "      <td>1</td>\n",
       "      <td>Co</td>\n",
       "    </tr>\n",
       "    <tr>\n",
       "      <th>3</th>\n",
       "      <td>UniclassComplexCode</td>\n",
       "      <td>Legislative complexes</td>\n",
       "      <td>NaN</td>\n",
       "      <td>Co_20_10</td>\n",
       "      <td>Y</td>\n",
       "      <td>Y</td>\n",
       "      <td>8</td>\n",
       "      <td>2</td>\n",
       "      <td>Co_20</td>\n",
       "    </tr>\n",
       "    <tr>\n",
       "      <th>4</th>\n",
       "      <td>UniclassComplexCode</td>\n",
       "      <td>Governmental complexes</td>\n",
       "      <td>NaN</td>\n",
       "      <td>Co_20_10_60</td>\n",
       "      <td>Y</td>\n",
       "      <td>Y</td>\n",
       "      <td>11</td>\n",
       "      <td>3</td>\n",
       "      <td>Co_20_10</td>\n",
       "    </tr>\n",
       "    <tr>\n",
       "      <th>5</th>\n",
       "      <td>UniclassComplexCode</td>\n",
       "      <td>Administrative complexes</td>\n",
       "      <td>NaN</td>\n",
       "      <td>Co_20_15</td>\n",
       "      <td>Y</td>\n",
       "      <td>Y</td>\n",
       "      <td>8</td>\n",
       "      <td>2</td>\n",
       "      <td>Co_20</td>\n",
       "    </tr>\n",
       "    <tr>\n",
       "      <th>6</th>\n",
       "      <td>UniclassComplexCode</td>\n",
       "      <td>Business parks</td>\n",
       "      <td>NaN</td>\n",
       "      <td>Co_20_15_08</td>\n",
       "      <td>Y</td>\n",
       "      <td>Y</td>\n",
       "      <td>11</td>\n",
       "      <td>3</td>\n",
       "      <td>Co_20_15</td>\n",
       "    </tr>\n",
       "    <tr>\n",
       "      <th>...</th>\n",
       "      <td>...</td>\n",
       "      <td>...</td>\n",
       "      <td>...</td>\n",
       "      <td>...</td>\n",
       "      <td>...</td>\n",
       "      <td>...</td>\n",
       "      <td>...</td>\n",
       "      <td>...</td>\n",
       "      <td>...</td>\n",
       "    </tr>\n",
       "    <tr>\n",
       "      <th>377</th>\n",
       "      <td>UniclassComplexCode</td>\n",
       "      <td>Warehouses</td>\n",
       "      <td>NaN</td>\n",
       "      <td>Co_90_50_94</td>\n",
       "      <td>Y</td>\n",
       "      <td>Y</td>\n",
       "      <td>11</td>\n",
       "      <td>3</td>\n",
       "      <td>Co_90_50</td>\n",
       "    </tr>\n",
       "    <tr>\n",
       "      <th>378</th>\n",
       "      <td>UniclassComplexCode</td>\n",
       "      <td>Wastewater storage complexes</td>\n",
       "      <td>NaN</td>\n",
       "      <td>Co_90_50_95</td>\n",
       "      <td>Y</td>\n",
       "      <td>Y</td>\n",
       "      <td>11</td>\n",
       "      <td>3</td>\n",
       "      <td>Co_90_50</td>\n",
       "    </tr>\n",
       "    <tr>\n",
       "      <th>379</th>\n",
       "      <td>UniclassComplexCode</td>\n",
       "      <td>Water storage complexes</td>\n",
       "      <td>NaN</td>\n",
       "      <td>Co_90_50_96</td>\n",
       "      <td>Y</td>\n",
       "      <td>Y</td>\n",
       "      <td>11</td>\n",
       "      <td>3</td>\n",
       "      <td>Co_90_50</td>\n",
       "    </tr>\n",
       "    <tr>\n",
       "      <th>380</th>\n",
       "      <td>UniclassComplexCode</td>\n",
       "      <td>Plant and control complexes</td>\n",
       "      <td>NaN</td>\n",
       "      <td>Co_90_90</td>\n",
       "      <td>Y</td>\n",
       "      <td>NaN</td>\n",
       "      <td>8</td>\n",
       "      <td>2</td>\n",
       "      <td>Co_90</td>\n",
       "    </tr>\n",
       "    <tr>\n",
       "      <th>381</th>\n",
       "      <td>UniclassComplexCode</td>\n",
       "      <td>Multiple services plant and equipment complexes</td>\n",
       "      <td>NaN</td>\n",
       "      <td>Co_90_90_50</td>\n",
       "      <td>Y</td>\n",
       "      <td>NaN</td>\n",
       "      <td>11</td>\n",
       "      <td>3</td>\n",
       "      <td>Co_90_90</td>\n",
       "    </tr>\n",
       "  </tbody>\n",
       "</table>\n",
       "<p>380 rows × 9 columns</p>\n",
       "</div>"
      ],
      "text/plain": [
       "ColumnID            Code List  \\\n",
       "RowID                           \n",
       "2         UniclassComplexCode   \n",
       "3         UniclassComplexCode   \n",
       "4         UniclassComplexCode   \n",
       "5         UniclassComplexCode   \n",
       "6         UniclassComplexCode   \n",
       "...                       ...   \n",
       "377       UniclassComplexCode   \n",
       "378       UniclassComplexCode   \n",
       "379       UniclassComplexCode   \n",
       "380       UniclassComplexCode   \n",
       "381       UniclassComplexCode   \n",
       "\n",
       "ColumnID                                               Name Documentation  \\\n",
       "RowID                                                                       \n",
       "2         Administrative, commercial and protective serv...           NaN   \n",
       "3                                     Legislative complexes           NaN   \n",
       "4                                    Governmental complexes           NaN   \n",
       "5                                  Administrative complexes           NaN   \n",
       "6                                            Business parks           NaN   \n",
       "...                                                     ...           ...   \n",
       "377                                              Warehouses           NaN   \n",
       "378                            Wastewater storage complexes           NaN   \n",
       "379                                 Water storage complexes           NaN   \n",
       "380                             Plant and control complexes           NaN   \n",
       "381         Multiple services plant and equipment complexes           NaN   \n",
       "\n",
       "ColumnID         Code 1.1  1.7  Length  Level    Parent  \n",
       "RowID                                                    \n",
       "2               Co_20   Y    Y       5      1        Co  \n",
       "3            Co_20_10   Y    Y       8      2     Co_20  \n",
       "4         Co_20_10_60   Y    Y      11      3  Co_20_10  \n",
       "5            Co_20_15   Y    Y       8      2     Co_20  \n",
       "6         Co_20_15_08   Y    Y      11      3  Co_20_15  \n",
       "...               ...  ..  ...     ...    ...       ...  \n",
       "377       Co_90_50_94   Y    Y      11      3  Co_90_50  \n",
       "378       Co_90_50_95   Y    Y      11      3  Co_90_50  \n",
       "379       Co_90_50_96   Y    Y      11      3  Co_90_50  \n",
       "380          Co_90_90   Y  NaN       8      2     Co_90  \n",
       "381       Co_90_90_50   Y  NaN      11      3  Co_90_90  \n",
       "\n",
       "[380 rows x 9 columns]"
      ]
     },
     "execution_count": 105,
     "metadata": {},
     "output_type": "execute_result"
    }
   ],
   "source": [
    "Table"
   ]
  },
  {
   "cell_type": "code",
   "execution_count": 106,
   "id": "medium-sailing",
   "metadata": {},
   "outputs": [],
   "source": [
    "import networkx as nx\n",
    "import matplotlib.pyplot as plt\n",
    "%matplotlib inline"
   ]
  },
  {
   "cell_type": "code",
   "execution_count": 107,
   "id": "familiar-offset",
   "metadata": {},
   "outputs": [
    {
     "data": {
      "image/png": "[encoded data removed]",
      "text/plain": [
       "<Figure size 576x432 with 1 Axes>"
      ]
     },
     "metadata": {},
     "output_type": "display_data"
    }
   ],
   "source": [
    "g = nx.karate_club_graph()\n",
    "fig, ax = plt.subplots(1, 1, figsize=(8, 6));\n",
    "nx.draw_networkx(g, ax=ax)"
   ]
  },
  {
   "cell_type": "code",
   "execution_count": 114,
   "id": "searching-prairie",
   "metadata": {},
   "outputs": [
    {
     "data": {
      "text/plain": [
       "Node(tag=Company, identifier=Co, data=None)"
      ]
     },
     "execution_count": 114,
     "metadata": {},
     "output_type": "execute_result"
    }
   ],
   "source": [
    "from treelib import Node, Tree\n",
    "tree = Tree()\n",
    "tree.create_node('Company', 'Co')"
   ]
  },
  {
   "cell_type": "code",
   "execution_count": 115,
   "id": "moderate-jamaica",
   "metadata": {},
   "outputs": [],
   "source": [
    "for index, row in Table.iterrows():\n",
    "    #print row['c1'], row['c2']\n",
    "    tree.create_node(row['Name'], row['Code'],parent=row['Parent'])  # root node"
   ]
  },
  {
   "cell_type": "code",
   "execution_count": 116,
   "id": "direct-elimination",
   "metadata": {},
   "outputs": [
    {
     "name": "stdout",
     "output_type": "stream",
     "text": [
      "Company\n",
      "├── Administrative, commercial and protective service complexes\n",
      "│   ├── Administrative complexes\n",
      "│   │   ├── Business parks\n",
      "│   │   └── Office complexes\n",
      "│   ├── Commercial complexes\n",
      "│   │   ├── Auction complexes\n",
      "│   │   ├── Market complexes\n",
      "│   │   ├── Mixed use complexes\n",
      "│   │   ├── Parade of shops\n",
      "│   │   ├── Retail parks\n",
      "│   │   ├── Shopping complexes\n",
      "│   │   └── Vehicle sales complexes\n",
      "│   ├── Detention complexes\n",
      "│   │   ├── Immigrant detention complexes\n",
      "│   │   ├── Prison complexes\n",
      "│   │   └── Refugee detention complexes\n",
      "│   ├── Incident support complexes\n",
      "│   │   ├── Air and sea rescue complexes\n",
      "│   │   ├── Coastguard stations\n",
      "│   │   ├── Fire brigade complexes\n",
      "│   │   ├── Lifeboat stations\n",
      "│   │   └── Mountain rescue complexes\n",
      "│   ├── Judicial complexes\n",
      "│   │   ├── Court complexes\n",
      "│   │   └── Probation complexes\n",
      "│   ├── Law enforcement complexes\n",
      "│   │   └── Law enforcement agency complexes\n",
      "│   ├── Legislative complexes\n",
      "│   │   └── Governmental complexes\n",
      "│   ├── Military complexes\n",
      "│   │   ├── Air force complexes\n",
      "│   │   ├── Army complexes\n",
      "│   │   └── Navy complexes\n",
      "│   ├── Motor vehicle maintenance and fuelling complexes\n",
      "│   │   ├── Motor vehicle fuelling and charging stations\n",
      "│   │   └── Motor vehicle servicing complexes\n",
      "│   ├── Postal complexes\n",
      "│   │   └── Postal communications complexes\n",
      "│   ├── Secular representative complexes\n",
      "│   │   ├── Complexes for representatives of nation states abroad\n",
      "│   │   ├── Local government complexes\n",
      "│   │   ├── National government complexes\n",
      "│   │   └── Regional government complexes\n",
      "│   └── Weapons training complexes\n",
      "│       ├── Artillery firing range complexes\n",
      "│       └── Small arms firing range complexes\n",
      "├── Circulation and storage complexes\n",
      "│   ├── Plant and control complexes\n",
      "│   │   └── Multiple services plant and equipment complexes\n",
      "│   └── Storage complexes\n",
      "│       ├── Ambient food storage complexes\n",
      "│       ├── Arms storage complexes\n",
      "│       ├── Cold storage complexes\n",
      "│       ├── Complexes for the storage of human remains\n",
      "│       ├── Dry waste storage complexes\n",
      "│       ├── Gas storage complexes\n",
      "│       ├── Liquid fuel storage complexes\n",
      "│       ├── Military arsenals\n",
      "│       ├── Mineral storage complexes\n",
      "│       ├── Refrigerated food storage complexes\n",
      "│       ├── Secure storage complexes\n",
      "│       ├── Self-storage complexes\n",
      "│       ├── Solid fuel storage complexes\n",
      "│       ├── Warehouses\n",
      "│       ├── Wastewater storage complexes\n",
      "│       └── Water storage complexes\n",
      "├── Communications, security, safety and protection complexes\n",
      "│   └── Communications complexes\n",
      "│       ├── Broadcast communications complexes\n",
      "│       ├── Broadcast communications networks\n",
      "│       ├── Telecommunications complexes\n",
      "│       └── Telecommunications networks\n",
      "├── Cultural, educational, scientific and information complexes\n",
      "│   ├── Commemorative complexes\n",
      "│   ├── Educational complexes\n",
      "│   │   ├── Further education colleges\n",
      "│   │   ├── Infant schools\n",
      "│   │   ├── Kindergartens, nurseries and preschools\n",
      "│   │   ├── Primary schools\n",
      "│   │   ├── Secondary schools\n",
      "│   │   ├── Tertiary colleges\n",
      "│   │   └── Universities\n",
      "│   ├── Exhibition complexes\n",
      "│   │   ├── Art installations\n",
      "│   │   ├── Galleries\n",
      "│   │   ├── Gardens and arboretums\n",
      "│   │   ├── Memorial complexes\n",
      "│   │   ├── Monument complexes\n",
      "│   │   ├── Multi-purpose exhibition complexes\n",
      "│   │   ├── Museums\n",
      "│   │   ├── Open-air museums\n",
      "│   │   ├── Open-air sculpture parks\n",
      "│   │   └── Zoos\n",
      "│   ├── Information complexes\n",
      "│   │   ├── Conference complexes\n",
      "│   │   ├── Document archives\n",
      "│   │   ├── Film archives\n",
      "│   │   ├── Information centres\n",
      "│   │   └── Library complexes\n",
      "│   ├── Scientific complexes\n",
      "│   │   ├── Astronomical observatory complexes\n",
      "│   │   ├── Botanical gardens\n",
      "│   │   ├── Laboratory complexes\n",
      "│   │   └── Research complexes\n",
      "│   └── Worship complexes\n",
      "│       └── Faith worship complexes\n",
      "├── Electrical power generation and distribution complexes\n",
      "│   ├── Electrical power generation complexes\n",
      "│   │   ├── Biomass power generation complexes\n",
      "│   │   ├── Coal power generation complexes\n",
      "│   │   ├── Combined heat and power generation complexes\n",
      "│   │   ├── Gas power generation complexes\n",
      "│   │   ├── Geothermal power generation complexes\n",
      "│   │   ├── Hydroelectric power generation complexes\n",
      "│   │   ├── Nuclear power generation complexes\n",
      "│   │   ├── Offshore wind power generation complexes\n",
      "│   │   ├── Oil-fired power generation complexes\n",
      "│   │   ├── Onshore wind power generation complexes\n",
      "│   │   ├── Photovoltaic power generation complexes\n",
      "│   │   ├── Solar reflector power generation complexes\n",
      "│   │   ├── Tidal power generation complexes\n",
      "│   │   └── Wave power generation complexes\n",
      "│   └── Electricity distribution complexes\n",
      "│       ├── High voltage electricity networks\n",
      "│       ├── High voltage electricity substation complexes\n",
      "│       ├── Low  voltage electricity networks\n",
      "│       └── Low voltage electricity substation complexes\n",
      "├── Heating, cooling and refrigeration complexes\n",
      "│   ├── Cooling complexes\n",
      "│   │   └── District cooling complexes\n",
      "│   └── Heating complexes\n",
      "│       └── District heating complexes\n",
      "├── Industrial complexes\n",
      "│   ├── Animal and plant products processing complexes\n",
      "│   │   ├── Abattoirs\n",
      "│   │   ├── Animal product processing complexes\n",
      "│   │   ├── Arable crop processing complexes\n",
      "│   │   ├── Bakeries\n",
      "│   │   ├── Breweries\n",
      "│   │   ├── Canneries\n",
      "│   │   ├── Distilleries\n",
      "│   │   ├── Fish processing complexes\n",
      "│   │   ├── Horticultural crop processing complexes\n",
      "│   │   ├── Livestock processing complexes\n",
      "│   │   ├── Mills\n",
      "│   │   ├── Timber processing complexes\n",
      "│   │   └── Wineries\n",
      "│   ├── Cleaning and maintenance complexes\n",
      "│   │   ├── Commercial laundries\n",
      "│   │   └── Vehicle cleaning complexes\n",
      "│   ├── Manufacturing complexes\n",
      "│   │   ├── Heavy manufacturing complexes\n",
      "│   │   ├── Industrial parks\n",
      "│   │   ├── Light manufacturing complexes\n",
      "│   │   └── Ship and boat building yards\n",
      "│   ├── Marine and water maintenance complexes\n",
      "│   ├── Mechanical power generation complexes\n",
      "│   │   └── Kinetic power generation complexes\n",
      "│   ├── Mineral extraction complexes\n",
      "│   │   ├── Deep mines\n",
      "│   │   ├── Drift mines\n",
      "│   │   ├── Methane hydrates extraction complexes\n",
      "│   │   ├── Opencast mines\n",
      "│   │   ├── Quarries\n",
      "│   │   ├── Shale gas extraction complexes\n",
      "│   │   └── Shale oil extraction complexes\n",
      "│   ├── Mineral processing complexes\n",
      "│   │   ├── Gas processing complexes\n",
      "│   │   ├── Oil processing complexes\n",
      "│   │   └── Ore processing complexes\n",
      "│   ├── Nuclear and chemical management complexes\n",
      "│   │   ├── Surface radioactive waste management complexes\n",
      "│   │   └── Underground radioactive waste management complexes\n",
      "│   └── Warehousing and distribution complexes\n",
      "├── Medical, health, welfare and sanitary complexes\n",
      "│   ├── Animal complexes\n",
      "│   │   ├── Animal cage complexes\n",
      "│   │   ├── Animal pen complexes\n",
      "│   │   ├── Aquariums\n",
      "│   │   ├── Aviary complexes\n",
      "│   │   ├── Kennel complexes\n",
      "│   │   └── Stable complexes\n",
      "│   ├── Animal medical, health, welfare, funerary and sanitary complexes\n",
      "│   │   ├── Animal funerary complexes\n",
      "│   │   ├── Animal quarantine stations\n",
      "│   │   └── Veterinary hospitals\n",
      "│   ├── Funerary complexes\n",
      "│   │   ├── Cemeteries\n",
      "│   │   ├── Crematoriums\n",
      "│   │   └── Funeral complexes\n",
      "│   ├── Medical complexes\n",
      "│   │   ├── Air ambulance complexes\n",
      "│   │   ├── Ambulance complexes\n",
      "│   │   ├── Clinical complexes\n",
      "│   │   └── Hospital complexes\n",
      "│   └── Welfare complexes\n",
      "│       ├── Fitness and detox complexes\n",
      "│       ├── Hospices\n",
      "│       ├── Nursing homes\n",
      "│       ├── Quarantine stations\n",
      "│       ├── Spa complexes\n",
      "│       └── Turkish baths\n",
      "├── Piped supply complexes\n",
      "│   ├── Gas extraction and treatment complexes\n",
      "│   │   ├── Gas extraction complexes\n",
      "│   │   └── Gas treatment complexes\n",
      "│   ├── Gas supply complexes\n",
      "│   │   ├── Gas distribution complexes\n",
      "│   │   └── Gas distribution networks\n",
      "│   ├── Liquid fuel extraction and treatment complexes\n",
      "│   │   ├── Oil extraction complexes\n",
      "│   │   └── Oil treatment complexes\n",
      "│   ├── Liquid fuel supply complexes\n",
      "│   │   ├── Liquid fuel distribution complexes\n",
      "│   │   └── Liquid fuel distribution networks\n",
      "│   ├── Water extraction and treatment complexes\n",
      "│   │   ├── Water extraction complexes\n",
      "│   │   └── Water treatment complexes\n",
      "│   └── Water supply complexes\n",
      "│       ├── Water distribution complexes\n",
      "│       └── Water distribution networks\n",
      "├── Recreational complexes\n",
      "│   ├── Amusement complexes\n",
      "│   │   ├── Amphitheatres\n",
      "│   │   ├── Amusement parks\n",
      "│   │   ├── Fairground complexes\n",
      "│   │   ├── Pleasure piers\n",
      "│   │   └── Theme parks\n",
      "│   ├── Historic complexes\n",
      "│   │   ├── Battle sites\n",
      "│   │   ├── Historic sites\n",
      "│   │   ├── Sites of antiquity\n",
      "│   │   └── Visible earthworks\n",
      "│   ├── Performing arts complexes\n",
      "│   │   ├── Cinema complexes\n",
      "│   │   ├── Circuses\n",
      "│   │   ├── Concert hall complexes\n",
      "│   │   ├── Film and television studio complexes\n",
      "│   │   └── Theatre complexes\n",
      "│   └── Social recreation complexes\n",
      "│       ├── Community centres\n",
      "│       ├── Country parks\n",
      "│       ├── Public parks\n",
      "│       └── Recreation grounds\n",
      "├── Residential complexes\n",
      "│   └── Living complexes\n",
      "│       ├── Campsites\n",
      "│       ├── Caravan parks\n",
      "│       ├── Convents and monasteries\n",
      "│       ├── Emergency camps\n",
      "│       ├── Halls of residence\n",
      "│       ├── High-rise residential complexes\n",
      "│       ├── Hostels\n",
      "│       ├── Hotels\n",
      "│       ├── Houses in multiple occupation\n",
      "│       ├── Housing estates\n",
      "│       ├── Military camps\n",
      "│       ├── Motels\n",
      "│       ├── Religious retreats\n",
      "│       ├── Residential properties\n",
      "│       ├── Sheltered housing\n",
      "│       └── Youth group camps\n",
      "├── Sport and activity complexes\n",
      "│   ├── Indoor activity complexes\n",
      "│   │   ├── Indoor athletics stadiums\n",
      "│   │   └── Indoor sports complexes\n",
      "│   ├── Outdoor activity complexes\n",
      "│   │   ├── Golf courses\n",
      "│   │   ├── Outdoor athletics stadiums\n",
      "│   │   ├── Outdoor sports complexes\n",
      "│   │   ├── Racehorse gallops\n",
      "│   │   └── Winter sport complexes\n",
      "│   └── Swimming complexes\n",
      "│       ├── Indoor swimming pool complexes\n",
      "│       ├── Outdoor swimming pool complexes\n",
      "│       └── Water parks\n",
      "├── Transport complexes\n",
      "│   ├── Aerospace complexes\n",
      "│   │   ├── Airports and airfields\n",
      "│   │   ├── Heliports\n",
      "│   │   └── Spacecraft complexes\n",
      "│   ├── Cable transport complexes\n",
      "│   │   ├── Aerial tramway complexes\n",
      "│   │   ├── Cable railway complexes\n",
      "│   │   ├── Chairlift way complexes\n",
      "│   │   ├── Funicular railway complexes\n",
      "│   │   ├── Gondola lift way complexes\n",
      "│   │   ├── Surface lift way complexes\n",
      "│   │   └── Zip line way complexes\n",
      "│   ├── Marine and waterways transport complexes\n",
      "│   │   ├── Cable ferry complexes\n",
      "│   │   ├── Canal complexes\n",
      "│   │   ├── Container ports\n",
      "│   │   ├── Dry bulk ports\n",
      "│   │   ├── Fishing ports\n",
      "│   │   ├── Harbours\n",
      "│   │   ├── Liquid bulk ports\n",
      "│   │   ├── River ferry complexes\n",
      "│   │   ├── Roll-on/ roll-off ports\n",
      "│   │   ├── Sea cruise ports\n",
      "│   │   ├── Sea ferry ports\n",
      "│   │   └── Waterway ferry complexes\n",
      "│   ├── Railway complexes\n",
      "│   │   ├── Heavy rail complexes\n",
      "│   │   ├── High-speed rail complexes\n",
      "│   │   ├── Light rail complexes\n",
      "│   │   ├── Magnetic levitation ways\n",
      "│   │   ├── Monorail complexes\n",
      "│   │   ├── Narrow gauge rail complexes\n",
      "│   │   ├── Rack rail complexes\n",
      "│   │   └── Road-based light rail complexes\n",
      "│   ├── Road complexes\n",
      "│   │   ├── Bus route networks\n",
      "│   │   └── Road networks\n",
      "│   └── Transport interchange complexes\n",
      "├── Ventilation and air conditioning complexes\n",
      "├── Waste disposal complexes\n",
      "│   ├── Dry waste collection and distribution complexes\n",
      "│   │   ├── Dry waste collection complexes\n",
      "│   │   └── Dry waste distribution complexes\n",
      "│   ├── Dry waste treatment and disposal complexes\n",
      "│   │   ├── Dry waste disposal complexes\n",
      "│   │   └── Dry waste treatment complexes\n",
      "│   ├── Wet waste collection and distribution complexes\n",
      "│   │   ├── Drainage collection networks\n",
      "│   │   ├── Wastewater collection complexes\n",
      "│   │   └── Wastewater collection networks\n",
      "│   └── Wet waste treatment and disposal complexes\n",
      "│       ├── Drainage disposal networks\n",
      "│       └── Wastewater treatment complexes\n",
      "└── Water and land management complexes\n",
      "    ├── Agricultural and horticultural complexes\n",
      "    │   ├── Arable farms\n",
      "    │   ├── Crofts\n",
      "    │   ├── Fish farms\n",
      "    │   ├── Fish hatcheries\n",
      "    │   ├── Horticultural nurseries\n",
      "    │   ├── Livestock farms\n",
      "    │   ├── Managed forests\n",
      "    │   ├── Orchards\n",
      "    │   └── Vineyards\n",
      "    ├── Designated areas\n",
      "    │   ├── Areas of special architectural or historical interest\n",
      "    │   ├── Commons\n",
      "    │   ├── Designated archaeological sites\n",
      "    │   ├── Designated nature reserves\n",
      "    │   └── National parks\n",
      "    ├── Marine and water protection complexes\n",
      "    │   ├── Coastal protection complexes\n",
      "    │   ├── Erosion protection complexes\n",
      "    │   └── Flood protection complexes\n",
      "    ├── Marine ways and waterway complexes\n",
      "    │   ├── Causeways\n",
      "    │   ├── Lighthouse complexes\n",
      "    │   ├── Vessel berthing complexes\n",
      "    │   └── Vessel launching complexes\n",
      "    ├── Natural areas\n",
      "    │   ├── Aquifers\n",
      "    │   ├── Cliffs\n",
      "    │   ├── Coastal zones\n",
      "    │   ├── Deserts\n",
      "    │   ├── Estuaries\n",
      "    │   ├── Forests\n",
      "    │   ├── Hills\n",
      "    │   ├── Lakes\n",
      "    │   ├── Mountains\n",
      "    │   ├── Ponds\n",
      "    │   ├── Rivers\n",
      "    │   ├── Salt marshes\n",
      "    │   ├── Seasonal wetlands\n",
      "    │   ├── Springs\n",
      "    │   ├── Streams, brooks and burns\n",
      "    │   └── Woodlands\n",
      "    └── Water control and retaining complexes\n",
      "        ├── Lock complexes\n",
      "        ├── Reservoirs\n",
      "        ├── Tidal barriers\n",
      "        ├── Water control complexes\n",
      "        ├── Water level and flow monitoring complexes\n",
      "        └── Water pumping complexes\n",
      "\n"
     ]
    }
   ],
   "source": [
    "tree.show()"
   ]
  },
  {
   "cell_type": "code",
   "execution_count": 123,
   "id": "oriented-parker",
   "metadata": {},
   "outputs": [
    {
     "data": {
      "text/plain": [
       "['Co_20',\n",
       " 'Co_20_10',\n",
       " 'Co_20_10_60',\n",
       " 'Co_20_15',\n",
       " 'Co_20_15_08',\n",
       " 'Co_20_15_58',\n",
       " 'Co_20_20',\n",
       " 'Co_20_20_15',\n",
       " 'Co_20_20_40',\n",
       " 'Co_20_20_50',\n",
       " 'Co_20_20_70',\n",
       " 'Co_20_45',\n",
       " 'Co_20_45_50',\n",
       " 'Co_20_45_54',\n",
       " 'Co_20_50',\n",
       " 'Co_20_50_05',\n",
       " 'Co_20_50_50',\n",
       " 'Co_20_50_53',\n",
       " 'Co_20_50_60',\n",
       " 'Co_20_50_71',\n",
       " 'Co_20_50_78',\n",
       " 'Co_20_50_94',\n",
       " 'Co_20_55',\n",
       " 'Co_20_55_10',\n",
       " 'Co_20_60',\n",
       " 'Co_20_60_02',\n",
       " 'Co_20_60_10',\n",
       " 'Co_20_60_56',\n",
       " 'Co_20_65',\n",
       " 'Co_20_65_56',\n",
       " 'Co_20_70',\n",
       " 'Co_20_70_18',\n",
       " 'Co_20_70_65',\n",
       " 'Co_20_75',\n",
       " 'Co_20_75_42',\n",
       " 'Co_20_75_64',\n",
       " 'Co_20_75_71',\n",
       " 'Co_20_80',\n",
       " 'Co_20_80_04',\n",
       " 'Co_20_80_80',\n",
       " 'Co_20_90',\n",
       " 'Co_20_90_02',\n",
       " 'Co_20_90_16',\n",
       " 'Co_20_90_27',\n",
       " 'Co_20_90_47',\n",
       " 'Co_20_90_53',\n",
       " 'Co_25',\n",
       " 'Co_25_05',\n",
       " 'Co_25_10',\n",
       " 'Co_25_10_32',\n",
       " 'Co_25_10_41',\n",
       " 'Co_25_10_45',\n",
       " 'Co_25_10_66',\n",
       " 'Co_25_10_77',\n",
       " 'Co_25_10_88',\n",
       " 'Co_25_10_92',\n",
       " 'Co_25_30',\n",
       " 'Co_25_30_04',\n",
       " 'Co_25_30_08',\n",
       " 'Co_25_30_45',\n",
       " 'Co_25_30_70',\n",
       " 'Co_25_50',\n",
       " 'Co_25_50_03',\n",
       " 'Co_25_50_33',\n",
       " 'Co_25_50_34',\n",
       " 'Co_25_50_50',\n",
       " 'Co_25_50_52',\n",
       " 'Co_25_50_54',\n",
       " 'Co_25_50_55',\n",
       " 'Co_25_50_58',\n",
       " 'Co_25_50_59',\n",
       " 'Co_25_50_99',\n",
       " 'Co_25_70',\n",
       " 'Co_25_70_16',\n",
       " 'Co_25_70_23',\n",
       " 'Co_25_70_30',\n",
       " 'Co_25_70_41',\n",
       " 'Co_25_70_47',\n",
       " 'Co_25_90',\n",
       " 'Co_25_90_30',\n",
       " 'Co_30',\n",
       " 'Co_30_10',\n",
       " 'Co_30_10_22',\n",
       " 'Co_30_10_24',\n",
       " 'Co_30_10_51',\n",
       " 'Co_30_10_61',\n",
       " 'Co_30_10_69',\n",
       " 'Co_30_10_77',\n",
       " 'Co_30_10_78',\n",
       " 'Co_30_20',\n",
       " 'Co_30_20_80',\n",
       " 'Co_30_20_95',\n",
       " 'Co_30_30',\n",
       " 'Co_30_30_30',\n",
       " 'Co_30_30_50',\n",
       " 'Co_30_30_55',\n",
       " 'Co_30_40',\n",
       " 'Co_30_40_01',\n",
       " 'Co_30_40_03',\n",
       " 'Co_30_40_04',\n",
       " 'Co_30_40_06',\n",
       " 'Co_30_40_08',\n",
       " 'Co_30_40_11',\n",
       " 'Co_30_40_22',\n",
       " 'Co_30_40_30',\n",
       " 'Co_30_40_40',\n",
       " 'Co_30_40_55',\n",
       " 'Co_30_40_60',\n",
       " 'Co_30_40_90',\n",
       " 'Co_30_40_96',\n",
       " 'Co_30_50',\n",
       " 'Co_30_50_37',\n",
       " 'Co_30_50_41',\n",
       " 'Co_30_50_47',\n",
       " 'Co_30_50_77',\n",
       " 'Co_30_60',\n",
       " 'Co_30_60_15',\n",
       " 'Co_30_60_94',\n",
       " 'Co_30_80',\n",
       " 'Co_30_80_10',\n",
       " 'Co_30_85',\n",
       " 'Co_30_90',\n",
       " 'Co_32',\n",
       " 'Co_32_10',\n",
       " 'Co_32_10_02',\n",
       " 'Co_32_10_15',\n",
       " 'Co_32_10_28',\n",
       " 'Co_32_10_30',\n",
       " 'Co_32_10_39',\n",
       " 'Co_32_10_46',\n",
       " 'Co_32_10_50',\n",
       " 'Co_32_10_58',\n",
       " 'Co_32_10_94',\n",
       " 'Co_32_20',\n",
       " 'Co_32_20_04',\n",
       " 'Co_32_20_17',\n",
       " 'Co_32_20_22',\n",
       " 'Co_32_20_23',\n",
       " 'Co_32_20_57',\n",
       " 'Co_32_50',\n",
       " 'Co_32_50_11',\n",
       " 'Co_32_50_48',\n",
       " 'Co_32_50_94',\n",
       " 'Co_32_50_95',\n",
       " 'Co_32_55',\n",
       " 'Co_32_55_20',\n",
       " 'Co_32_55_27',\n",
       " 'Co_32_55_30',\n",
       " 'Co_32_65',\n",
       " 'Co_32_65_04',\n",
       " 'Co_32_65_15',\n",
       " 'Co_32_65_16',\n",
       " 'Co_32_65_22',\n",
       " 'Co_32_65_27',\n",
       " 'Co_32_65_30',\n",
       " 'Co_32_65_38',\n",
       " 'Co_32_65_46',\n",
       " 'Co_32_65_54',\n",
       " 'Co_32_65_64',\n",
       " 'Co_32_65_72',\n",
       " 'Co_32_65_75',\n",
       " 'Co_32_65_79',\n",
       " 'Co_32_65_82',\n",
       " 'Co_32_65_85',\n",
       " 'Co_32_65_96',\n",
       " 'Co_32_85',\n",
       " 'Co_32_85_50',\n",
       " 'Co_32_85_70',\n",
       " 'Co_32_85_88',\n",
       " 'Co_32_85_96',\n",
       " 'Co_32_85_97',\n",
       " 'Co_32_85_98',\n",
       " 'Co_35',\n",
       " 'Co_35_10',\n",
       " 'Co_35_10_02',\n",
       " 'Co_35_10_03',\n",
       " 'Co_35_10_15',\n",
       " 'Co_35_10_37',\n",
       " 'Co_35_50',\n",
       " 'Co_35_50_30',\n",
       " 'Co_35_50_37',\n",
       " 'Co_35_50_58',\n",
       " 'Co_35_50_69',\n",
       " 'Co_35_50_82',\n",
       " 'Co_35_50_90',\n",
       " 'Co_35_70',\n",
       " 'Co_35_70_13',\n",
       " 'Co_35_70_16',\n",
       " 'Co_35_70_32',\n",
       " 'Co_35_85',\n",
       " 'Co_35_85_02',\n",
       " 'Co_35_85_03',\n",
       " 'Co_35_85_04',\n",
       " 'Co_35_85_05',\n",
       " 'Co_35_85_45',\n",
       " 'Co_35_85_85',\n",
       " 'Co_35_90',\n",
       " 'Co_35_90_02',\n",
       " 'Co_35_90_03',\n",
       " 'Co_35_90_95',\n",
       " 'Co_40',\n",
       " 'Co_40_05',\n",
       " 'Co_40_05_02',\n",
       " 'Co_40_05_03',\n",
       " 'Co_40_05_30',\n",
       " 'Co_40_05_63',\n",
       " 'Co_40_05_89',\n",
       " 'Co_40_35',\n",
       " 'Co_40_35_06',\n",
       " 'Co_40_35_39',\n",
       " 'Co_40_35_78',\n",
       " 'Co_40_35_94',\n",
       " 'Co_40_60',\n",
       " 'Co_40_60_13',\n",
       " 'Co_40_60_14',\n",
       " 'Co_40_60_16',\n",
       " 'Co_40_60_30',\n",
       " 'Co_40_60_88',\n",
       " 'Co_40_75',\n",
       " 'Co_40_75_15',\n",
       " 'Co_40_75_17',\n",
       " 'Co_40_75_68',\n",
       " 'Co_40_75_71',\n",
       " 'Co_42',\n",
       " 'Co_42_40',\n",
       " 'Co_42_40_10',\n",
       " 'Co_42_40_40',\n",
       " 'Co_42_50',\n",
       " 'Co_42_50_10',\n",
       " 'Co_42_50_30',\n",
       " 'Co_42_50_60',\n",
       " 'Co_42_50_70',\n",
       " 'Co_42_50_95',\n",
       " 'Co_42_85',\n",
       " 'Co_42_85_40',\n",
       " 'Co_42_85_60',\n",
       " 'Co_42_85_96',\n",
       " 'Co_45',\n",
       " 'Co_45_10',\n",
       " 'Co_45_10_11',\n",
       " 'Co_45_10_12',\n",
       " 'Co_45_10_15',\n",
       " 'Co_45_10_27',\n",
       " 'Co_45_10_35',\n",
       " 'Co_45_10_36',\n",
       " 'Co_45_10_37',\n",
       " 'Co_45_10_38',\n",
       " 'Co_45_10_40',\n",
       " 'Co_45_10_41',\n",
       " 'Co_45_10_51',\n",
       " 'Co_45_10_54',\n",
       " 'Co_45_10_72',\n",
       " 'Co_45_10_74',\n",
       " 'Co_45_10_78',\n",
       " 'Co_45_10_98',\n",
       " 'Co_50',\n",
       " 'Co_50_20',\n",
       " 'Co_50_20_10',\n",
       " 'Co_50_20_20',\n",
       " 'Co_50_20_60',\n",
       " 'Co_50_40',\n",
       " 'Co_50_40_10',\n",
       " 'Co_50_40_50',\n",
       " 'Co_50_60',\n",
       " 'Co_50_60_40',\n",
       " 'Co_50_60_80',\n",
       " 'Co_50_80',\n",
       " 'Co_50_80_40',\n",
       " 'Co_50_80_70',\n",
       " 'Co_55',\n",
       " 'Co_55_05',\n",
       " 'Co_55_05_30',\n",
       " 'Co_55_05_70',\n",
       " 'Co_55_10',\n",
       " 'Co_55_10_40',\n",
       " 'Co_55_10_80',\n",
       " 'Co_55_15',\n",
       " 'Co_55_15_10',\n",
       " 'Co_55_15_50',\n",
       " 'Co_55_20',\n",
       " 'Co_55_20_50',\n",
       " 'Co_55_20_60',\n",
       " 'Co_55_50',\n",
       " 'Co_55_50_10',\n",
       " 'Co_55_50_50',\n",
       " 'Co_55_70',\n",
       " 'Co_55_70_20',\n",
       " 'Co_55_70_60',\n",
       " 'Co_60',\n",
       " 'Co_60_10',\n",
       " 'Co_60_10_10',\n",
       " 'Co_60_40',\n",
       " 'Co_60_40_10',\n",
       " 'Co_65',\n",
       " 'Co_70',\n",
       " 'Co_70_10',\n",
       " 'Co_70_10_08',\n",
       " 'Co_70_10_16',\n",
       " 'Co_70_10_17',\n",
       " 'Co_70_10_33',\n",
       " 'Co_70_10_34',\n",
       " 'Co_70_10_38',\n",
       " 'Co_70_10_57',\n",
       " 'Co_70_10_58',\n",
       " 'Co_70_10_59',\n",
       " 'Co_70_10_60',\n",
       " 'Co_70_10_63',\n",
       " 'Co_70_10_81',\n",
       " 'Co_70_10_88',\n",
       " 'Co_70_10_96',\n",
       " 'Co_70_30',\n",
       " 'Co_70_30_35',\n",
       " 'Co_70_30_40',\n",
       " 'Co_70_30_45',\n",
       " 'Co_70_30_50',\n",
       " 'Co_75',\n",
       " 'Co_75_10',\n",
       " 'Co_75_10_10',\n",
       " 'Co_75_10_20',\n",
       " 'Co_75_10_80',\n",
       " 'Co_75_10_90',\n",
       " 'Co_80',\n",
       " 'Co_80_05',\n",
       " 'Co_80_05_02',\n",
       " 'Co_80_05_38',\n",
       " 'Co_80_05_84',\n",
       " 'Co_80_20',\n",
       " 'Co_80_20_02',\n",
       " 'Co_80_20_10',\n",
       " 'Co_80_20_13',\n",
       " 'Co_80_20_32',\n",
       " 'Co_80_20_34',\n",
       " 'Co_80_20_84',\n",
       " 'Co_80_20_99',\n",
       " 'Co_80_35',\n",
       " 'Co_80_35_10',\n",
       " 'Co_80_35_75',\n",
       " 'Co_80_50',\n",
       " 'Co_80_50_35',\n",
       " 'Co_80_50_37',\n",
       " 'Co_80_50_45',\n",
       " 'Co_80_50_50',\n",
       " 'Co_80_50_53',\n",
       " 'Co_80_50_56',\n",
       " 'Co_80_50_69',\n",
       " 'Co_80_50_76',\n",
       " 'Co_80_70',\n",
       " 'Co_80_70_11',\n",
       " 'Co_80_70_13',\n",
       " 'Co_80_70_17',\n",
       " 'Co_80_70_23',\n",
       " 'Co_80_70_30',\n",
       " 'Co_80_70_36',\n",
       " 'Co_80_70_47',\n",
       " 'Co_80_70_70',\n",
       " 'Co_80_70_72',\n",
       " 'Co_80_70_77',\n",
       " 'Co_80_70_78',\n",
       " 'Co_80_70_96',\n",
       " 'Co_80_90',\n",
       " 'Co_90',\n",
       " 'Co_90_50',\n",
       " 'Co_90_50_03',\n",
       " 'Co_90_50_04',\n",
       " 'Co_90_50_15',\n",
       " 'Co_90_50_16',\n",
       " 'Co_90_50_24',\n",
       " 'Co_90_50_34',\n",
       " 'Co_90_50_45',\n",
       " 'Co_90_50_51',\n",
       " 'Co_90_50_52',\n",
       " 'Co_90_50_71',\n",
       " 'Co_90_50_77',\n",
       " 'Co_90_50_78',\n",
       " 'Co_90_50_80',\n",
       " 'Co_90_50_94',\n",
       " 'Co_90_50_95',\n",
       " 'Co_90_50_96',\n",
       " 'Co_90_90',\n",
       " 'Co_90_90_50']"
      ]
     },
     "execution_count": 123,
     "metadata": {},
     "output_type": "execute_result"
    }
   ],
   "source": [
    "codes_list = []\n",
    "parents_list = []\n",
    "for index, row in Table.iterrows():\n",
    "    codes_list.append(row['Code'])\n",
    "    parents_list.append(row['Parent'])\n",
    "codes_list"
   ]
  },
  {
   "cell_type": "code",
   "execution_count": 124,
   "id": "undefined-hopkins",
   "metadata": {},
   "outputs": [
    {
     "data": {
      "application/vnd.plotly.v1+json": {
       "config": {
        "plotlyServerURL": "https://plot.ly"
       },
       "data": [
        {
         "domain": {
          "x": [
           0,
           1
          ],
          "y": [
           0,
           1
          ]
         },
         "hovertemplate": "label=%{label}<br>parent=%{parent}<extra></extra>",
         "labels": [
          "Co_20",
          "Co_20_10",
          "Co_20_10_60",
          "Co_20_15",
          "Co_20_15_08",
          "Co_20_15_58",
          "Co_20_20",
          "Co_20_20_15",
          "Co_20_20_40",
          "Co_20_20_50",
          "Co_20_20_70",
          "Co_20_45",
          "Co_20_45_50",
          "Co_20_45_54",
          "Co_20_50",
          "Co_20_50_05",
          "Co_20_50_50",
          "Co_20_50_53",
          "Co_20_50_60",
          "Co_20_50_71",
          "Co_20_50_78",
          "Co_20_50_94",
          "Co_20_55",
          "Co_20_55_10",
          "Co_20_60",
          "Co_20_60_02",
          "Co_20_60_10",
          "Co_20_60_56",
          "Co_20_65",
          "Co_20_65_56",
          "Co_20_70",
          "Co_20_70_18",
          "Co_20_70_65",
          "Co_20_75",
          "Co_20_75_42",
          "Co_20_75_64",
          "Co_20_75_71",
          "Co_20_80",
          "Co_20_80_04",
          "Co_20_80_80",
          "Co_20_90",
          "Co_20_90_02",
          "Co_20_90_16",
          "Co_20_90_27",
          "Co_20_90_47",
          "Co_20_90_53",
          "Co_25",
          "Co_25_05",
          "Co_25_10",
          "Co_25_10_32",
          "Co_25_10_41",
          "Co_25_10_45",
          "Co_25_10_66",
          "Co_25_10_77",
          "Co_25_10_88",
          "Co_25_10_92",
          "Co_25_30",
          "Co_25_30_04",
          "Co_25_30_08",
          "Co_25_30_45",
          "Co_25_30_70",
          "Co_25_50",
          "Co_25_50_03",
          "Co_25_50_33",
          "Co_25_50_34",
          "Co_25_50_50",
          "Co_25_50_52",
          "Co_25_50_54",
          "Co_25_50_55",
          "Co_25_50_58",
          "Co_25_50_59",
          "Co_25_50_99",
          "Co_25_70",
          "Co_25_70_16",
          "Co_25_70_23",
          "Co_25_70_30",
          "Co_25_70_41",
          "Co_25_70_47",
          "Co_25_90",
          "Co_25_90_30",
          "Co_30",
          "Co_30_10",
          "Co_30_10_22",
          "Co_30_10_24",
          "Co_30_10_51",
          "Co_30_10_61",
          "Co_30_10_69",
          "Co_30_10_77",
          "Co_30_10_78",
          "Co_30_20",
          "Co_30_20_80",
          "Co_30_20_95",
          "Co_30_30",
          "Co_30_30_30",
          "Co_30_30_50",
          "Co_30_30_55",
          "Co_30_40",
          "Co_30_40_01",
          "Co_30_40_03",
          "Co_30_40_04",
          "Co_30_40_06",
          "Co_30_40_08",
          "Co_30_40_11",
          "Co_30_40_22",
          "Co_30_40_30",
          "Co_30_40_40",
          "Co_30_40_55",
          "Co_30_40_60",
          "Co_30_40_90",
          "Co_30_40_96",
          "Co_30_50",
          "Co_30_50_37",
          "Co_30_50_41",
          "Co_30_50_47",
          "Co_30_50_77",
          "Co_30_60",
          "Co_30_60_15",
          "Co_30_60_94",
          "Co_30_80",
          "Co_30_80_10",
          "Co_30_85",
          "Co_30_90",
          "Co_32",
          "Co_32_10",
          "Co_32_10_02",
          "Co_32_10_15",
          "Co_32_10_28",
          "Co_32_10_30",
          "Co_32_10_39",
          "Co_32_10_46",
          "Co_32_10_50",
          "Co_32_10_58",
          "Co_32_10_94",
          "Co_32_20",
          "Co_32_20_04",
          "Co_32_20_17",
          "Co_32_20_22",
          "Co_32_20_23",
          "Co_32_20_57",
          "Co_32_50",
          "Co_32_50_11",
          "Co_32_50_48",
          "Co_32_50_94",
          "Co_32_50_95",
          "Co_32_55",
          "Co_32_55_20",
          "Co_32_55_27",
          "Co_32_55_30",
          "Co_32_65",
          "Co_32_65_04",
          "Co_32_65_15",
          "Co_32_65_16",
          "Co_32_65_22",
          "Co_32_65_27",
          "Co_32_65_30",
          "Co_32_65_38",
          "Co_32_65_46",
          "Co_32_65_54",
          "Co_32_65_64",
          "Co_32_65_72",
          "Co_32_65_75",
          "Co_32_65_79",
          "Co_32_65_82",
          "Co_32_65_85",
          "Co_32_65_96",
          "Co_32_85",
          "Co_32_85_50",
          "Co_32_85_70",
          "Co_32_85_88",
          "Co_32_85_96",
          "Co_32_85_97",
          "Co_32_85_98",
          "Co_35",
          "Co_35_10",
          "Co_35_10_02",
          "Co_35_10_03",
          "Co_35_10_15",
          "Co_35_10_37",
          "Co_35_50",
          "Co_35_50_30",
          "Co_35_50_37",
          "Co_35_50_58",
          "Co_35_50_69",
          "Co_35_50_82",
          "Co_35_50_90",
          "Co_35_70",
          "Co_35_70_13",
          "Co_35_70_16",
          "Co_35_70_32",
          "Co_35_85",
          "Co_35_85_02",
          "Co_35_85_03",
          "Co_35_85_04",
          "Co_35_85_05",
          "Co_35_85_45",
          "Co_35_85_85",
          "Co_35_90",
          "Co_35_90_02",
          "Co_35_90_03",
          "Co_35_90_95",
          "Co_40",
          "Co_40_05",
          "Co_40_05_02",
          "Co_40_05_03",
          "Co_40_05_30",
          "Co_40_05_63",
          "Co_40_05_89",
          "Co_40_35",
          "Co_40_35_06",
          "Co_40_35_39",
          "Co_40_35_78",
          "Co_40_35_94",
          "Co_40_60",
          "Co_40_60_13",
          "Co_40_60_14",
          "Co_40_60_16",
          "Co_40_60_30",
          "Co_40_60_88",
          "Co_40_75",
          "Co_40_75_15",
          "Co_40_75_17",
          "Co_40_75_68",
          "Co_40_75_71",
          "Co_42",
          "Co_42_40",
          "Co_42_40_10",
          "Co_42_40_40",
          "Co_42_50",
          "Co_42_50_10",
          "Co_42_50_30",
          "Co_42_50_60",
          "Co_42_50_70",
          "Co_42_50_95",
          "Co_42_85",
          "Co_42_85_40",
          "Co_42_85_60",
          "Co_42_85_96",
          "Co_45",
          "Co_45_10",
          "Co_45_10_11",
          "Co_45_10_12",
          "Co_45_10_15",
          "Co_45_10_27",
          "Co_45_10_35",
          "Co_45_10_36",
          "Co_45_10_37",
          "Co_45_10_38",
          "Co_45_10_40",
          "Co_45_10_41",
          "Co_45_10_51",
          "Co_45_10_54",
          "Co_45_10_72",
          "Co_45_10_74",
          "Co_45_10_78",
          "Co_45_10_98",
          "Co_50",
          "Co_50_20",
          "Co_50_20_10",
          "Co_50_20_20",
          "Co_50_20_60",
          "Co_50_40",
          "Co_50_40_10",
          "Co_50_40_50",
          "Co_50_60",
          "Co_50_60_40",
          "Co_50_60_80",
          "Co_50_80",
          "Co_50_80_40",
          "Co_50_80_70",
          "Co_55",
          "Co_55_05",
          "Co_55_05_30",
          "Co_55_05_70",
          "Co_55_10",
          "Co_55_10_40",
          "Co_55_10_80",
          "Co_55_15",
          "Co_55_15_10",
          "Co_55_15_50",
          "Co_55_20",
          "Co_55_20_50",
          "Co_55_20_60",
          "Co_55_50",
          "Co_55_50_10",
          "Co_55_50_50",
          "Co_55_70",
          "Co_55_70_20",
          "Co_55_70_60",
          "Co_60",
          "Co_60_10",
          "Co_60_10_10",
          "Co_60_40",
          "Co_60_40_10",
          "Co_65",
          "Co_70",
          "Co_70_10",
          "Co_70_10_08",
          "Co_70_10_16",
          "Co_70_10_17",
          "Co_70_10_33",
          "Co_70_10_34",
          "Co_70_10_38",
          "Co_70_10_57",
          "Co_70_10_58",
          "Co_70_10_59",
          "Co_70_10_60",
          "Co_70_10_63",
          "Co_70_10_81",
          "Co_70_10_88",
          "Co_70_10_96",
          "Co_70_30",
          "Co_70_30_35",
          "Co_70_30_40",
          "Co_70_30_45",
          "Co_70_30_50",
          "Co_75",
          "Co_75_10",
          "Co_75_10_10",
          "Co_75_10_20",
          "Co_75_10_80",
          "Co_75_10_90",
          "Co_80",
          "Co_80_05",
          "Co_80_05_02",
          "Co_80_05_38",
          "Co_80_05_84",
          "Co_80_20",
          "Co_80_20_02",
          "Co_80_20_10",
          "Co_80_20_13",
          "Co_80_20_32",
          "Co_80_20_34",
          "Co_80_20_84",
          "Co_80_20_99",
          "Co_80_35",
          "Co_80_35_10",
          "Co_80_35_75",
          "Co_80_50",
          "Co_80_50_35",
          "Co_80_50_37",
          "Co_80_50_45",
          "Co_80_50_50",
          "Co_80_50_53",
          "Co_80_50_56",
          "Co_80_50_69",
          "Co_80_50_76",
          "Co_80_70",
          "Co_80_70_11",
          "Co_80_70_13",
          "Co_80_70_17",
          "Co_80_70_23",
          "Co_80_70_30",
          "Co_80_70_36",
          "Co_80_70_47",
          "Co_80_70_70",
          "Co_80_70_72",
          "Co_80_70_77",
          "Co_80_70_78",
          "Co_80_70_96",
          "Co_80_90",
          "Co_90",
          "Co_90_50",
          "Co_90_50_03",
          "Co_90_50_04",
          "Co_90_50_15",
          "Co_90_50_16",
          "Co_90_50_24",
          "Co_90_50_34",
          "Co_90_50_45",
          "Co_90_50_51",
          "Co_90_50_52",
          "Co_90_50_71",
          "Co_90_50_77",
          "Co_90_50_78",
          "Co_90_50_80",
          "Co_90_50_94",
          "Co_90_50_95",
          "Co_90_50_96",
          "Co_90_90",
          "Co_90_90_50"
         ],
         "name": "",
         "parents": [
          "Co",
          "Co_20",
          "Co_20_10",
          "Co_20",
          "Co_20_15",
          "Co_20_15",
          "Co_20",
          "Co_20_20",
          "Co_20_20",
          "Co_20_20",
          "Co_20_20",
          "Co_20",
          "Co_20_45",
          "Co_20_45",
          "Co_20",
          "Co_20_50",
          "Co_20_50",
          "Co_20_50",
          "Co_20_50",
          "Co_20_50",
          "Co_20_50",
          "Co_20_50",
          "Co_20",
          "Co_20_55",
          "Co_20",
          "Co_20_60",
          "Co_20_60",
          "Co_20_60",
          "Co_20",
          "Co_20_65",
          "Co_20",
          "Co_20_70",
          "Co_20_70",
          "Co_20",
          "Co_20_75",
          "Co_20_75",
          "Co_20_75",
          "Co_20",
          "Co_20_80",
          "Co_20_80",
          "Co_20",
          "Co_20_90",
          "Co_20_90",
          "Co_20_90",
          "Co_20_90",
          "Co_20_90",
          "Co",
          "Co_25",
          "Co_25",
          "Co_25_10",
          "Co_25_10",
          "Co_25_10",
          "Co_25_10",
          "Co_25_10",
          "Co_25_10",
          "Co_25_10",
          "Co_25",
          "Co_25_30",
          "Co_25_30",
          "Co_25_30",
          "Co_25_30",
          "Co_25",
          "Co_25_50",
          "Co_25_50",
          "Co_25_50",
          "Co_25_50",
          "Co_25_50",
          "Co_25_50",
          "Co_25_50",
          "Co_25_50",
          "Co_25_50",
          "Co_25_50",
          "Co_25",
          "Co_25_70",
          "Co_25_70",
          "Co_25_70",
          "Co_25_70",
          "Co_25_70",
          "Co_25",
          "Co_25_90",
          "Co",
          "Co_30",
          "Co_30_10",
          "Co_30_10",
          "Co_30_10",
          "Co_30_10",
          "Co_30_10",
          "Co_30_10",
          "Co_30_10",
          "Co_30",
          "Co_30_20",
          "Co_30_20",
          "Co_30",
          "Co_30_30",
          "Co_30_30",
          "Co_30_30",
          "Co_30",
          "Co_30_40",
          "Co_30_40",
          "Co_30_40",
          "Co_30_40",
          "Co_30_40",
          "Co_30_40",
          "Co_30_40",
          "Co_30_40",
          "Co_30_40",
          "Co_30_40",
          "Co_30_40",
          "Co_30_40",
          "Co_30_40",
          "Co_30",
          "Co_30_50",
          "Co_30_50",
          "Co_30_50",
          "Co_30_50",
          "Co_30",
          "Co_30_60",
          "Co_30_60",
          "Co_30",
          "Co_30_80",
          "Co_30",
          "Co_30",
          "Co",
          "Co_32",
          "Co_32_10",
          "Co_32_10",
          "Co_32_10",
          "Co_32_10",
          "Co_32_10",
          "Co_32_10",
          "Co_32_10",
          "Co_32_10",
          "Co_32_10",
          "Co_32",
          "Co_32_20",
          "Co_32_20",
          "Co_32_20",
          "Co_32_20",
          "Co_32_20",
          "Co_32",
          "Co_32_50",
          "Co_32_50",
          "Co_32_50",
          "Co_32_50",
          "Co_32",
          "Co_32_55",
          "Co_32_55",
          "Co_32_55",
          "Co_32",
          "Co_32_65",
          "Co_32_65",
          "Co_32_65",
          "Co_32_65",
          "Co_32_65",
          "Co_32_65",
          "Co_32_65",
          "Co_32_65",
          "Co_32_65",
          "Co_32_65",
          "Co_32_65",
          "Co_32_65",
          "Co_32_65",
          "Co_32_65",
          "Co_32_65",
          "Co_32_65",
          "Co_32",
          "Co_32_85",
          "Co_32_85",
          "Co_32_85",
          "Co_32_85",
          "Co_32_85",
          "Co_32_85",
          "Co",
          "Co_35",
          "Co_35_10",
          "Co_35_10",
          "Co_35_10",
          "Co_35_10",
          "Co_35",
          "Co_35_50",
          "Co_35_50",
          "Co_35_50",
          "Co_35_50",
          "Co_35_50",
          "Co_35_50",
          "Co_35",
          "Co_35_70",
          "Co_35_70",
          "Co_35_70",
          "Co_35",
          "Co_35_85",
          "Co_35_85",
          "Co_35_85",
          "Co_35_85",
          "Co_35_85",
          "Co_35_85",
          "Co_35",
          "Co_35_90",
          "Co_35_90",
          "Co_35_90",
          "Co",
          "Co_40",
          "Co_40_05",
          "Co_40_05",
          "Co_40_05",
          "Co_40_05",
          "Co_40_05",
          "Co_40",
          "Co_40_35",
          "Co_40_35",
          "Co_40_35",
          "Co_40_35",
          "Co_40",
          "Co_40_60",
          "Co_40_60",
          "Co_40_60",
          "Co_40_60",
          "Co_40_60",
          "Co_40",
          "Co_40_75",
          "Co_40_75",
          "Co_40_75",
          "Co_40_75",
          "Co",
          "Co_42",
          "Co_42_40",
          "Co_42_40",
          "Co_42",
          "Co_42_50",
          "Co_42_50",
          "Co_42_50",
          "Co_42_50",
          "Co_42_50",
          "Co_42",
          "Co_42_85",
          "Co_42_85",
          "Co_42_85",
          "Co",
          "Co_45",
          "Co_45_10",
          "Co_45_10",
          "Co_45_10",
          "Co_45_10",
          "Co_45_10",
          "Co_45_10",
          "Co_45_10",
          "Co_45_10",
          "Co_45_10",
          "Co_45_10",
          "Co_45_10",
          "Co_45_10",
          "Co_45_10",
          "Co_45_10",
          "Co_45_10",
          "Co_45_10",
          "Co",
          "Co_50",
          "Co_50_20",
          "Co_50_20",
          "Co_50_20",
          "Co_50",
          "Co_50_40",
          "Co_50_40",
          "Co_50",
          "Co_50_60",
          "Co_50_60",
          "Co_50",
          "Co_50_80",
          "Co_50_80",
          "Co",
          "Co_55",
          "Co_55_05",
          "Co_55_05",
          "Co_55",
          "Co_55_10",
          "Co_55_10",
          "Co_55",
          "Co_55_15",
          "Co_55_15",
          "Co_55",
          "Co_55_20",
          "Co_55_20",
          "Co_55",
          "Co_55_50",
          "Co_55_50",
          "Co_55",
          "Co_55_70",
          "Co_55_70",
          "Co",
          "Co_60",
          "Co_60_10",
          "Co_60",
          "Co_60_40",
          "Co",
          "Co",
          "Co_70",
          "Co_70_10",
          "Co_70_10",
          "Co_70_10",
          "Co_70_10",
          "Co_70_10",
          "Co_70_10",
          "Co_70_10",
          "Co_70_10",
          "Co_70_10",
          "Co_70_10",
          "Co_70_10",
          "Co_70_10",
          "Co_70_10",
          "Co_70_10",
          "Co_70",
          "Co_70_30",
          "Co_70_30",
          "Co_70_30",
          "Co_70_30",
          "Co",
          "Co_75",
          "Co_75_10",
          "Co_75_10",
          "Co_75_10",
          "Co_75_10",
          "Co",
          "Co_80",
          "Co_80_05",
          "Co_80_05",
          "Co_80_05",
          "Co_80",
          "Co_80_20",
          "Co_80_20",
          "Co_80_20",
          "Co_80_20",
          "Co_80_20",
          "Co_80_20",
          "Co_80_20",
          "Co_80",
          "Co_80_35",
          "Co_80_35",
          "Co_80",
          "Co_80_50",
          "Co_80_50",
          "Co_80_50",
          "Co_80_50",
          "Co_80_50",
          "Co_80_50",
          "Co_80_50",
          "Co_80_50",
          "Co_80",
          "Co_80_70",
          "Co_80_70",
          "Co_80_70",
          "Co_80_70",
          "Co_80_70",
          "Co_80_70",
          "Co_80_70",
          "Co_80_70",
          "Co_80_70",
          "Co_80_70",
          "Co_80_70",
          "Co_80_70",
          "Co_80",
          "Co",
          "Co_90",
          "Co_90_50",
          "Co_90_50",
          "Co_90_50",
          "Co_90_50",
          "Co_90_50",
          "Co_90_50",
          "Co_90_50",
          "Co_90_50",
          "Co_90_50",
          "Co_90_50",
          "Co_90_50",
          "Co_90_50",
          "Co_90_50",
          "Co_90_50",
          "Co_90_50",
          "Co_90_50",
          "Co_90",
          "Co_90_90"
         ],
         "type": "treemap"
        }
       ],
       "layout": {
        "legend": {
         "tracegroupgap": 0
        },
        "margin": {
         "t": 60
        },
        "template": {
         "data": {
          "bar": [
           {
            "error_x": {
             "color": "#2a3f5f"
            },
            "error_y": {
             "color": "#2a3f5f"
            },
            "marker": {
             "line": {
              "color": "#E5ECF6",
              "width": 0.5
             }
            },
            "type": "bar"
           }
          ],
          "barpolar": [
           {
            "marker": {
             "line": {
              "color": "#E5ECF6",
              "width": 0.5
             }
            },
            "type": "barpolar"
           }
          ],
          "carpet": [
           {
            "aaxis": {
             "endlinecolor": "#2a3f5f",
             "gridcolor": "white",
             "linecolor": "white",
             "minorgridcolor": "white",
             "startlinecolor": "#2a3f5f"
            },
            "baxis": {
             "endlinecolor": "#2a3f5f",
             "gridcolor": "white",
             "linecolor": "white",
             "minorgridcolor": "white",
             "startlinecolor": "#2a3f5f"
            },
            "type": "carpet"
           }
          ],
          "choropleth": [
           {
            "colorbar": {
             "outlinewidth": 0,
             "ticks": ""
            },
            "type": "choropleth"
           }
          ],
          "contour": [
           {
            "colorbar": {
             "outlinewidth": 0,
             "ticks": ""
            },
            "colorscale": [
             [
              0,
              "#0d0887"
             ],
             [
              0.1111111111111111,
              "#46039f"
             ],
             [
              0.2222222222222222,
              "#7201a8"
             ],
             [
              0.3333333333333333,
              "#9c179e"
             ],
             [
              0.4444444444444444,
              "#bd3786"
             ],
             [
              0.5555555555555556,
              "#d8576b"
             ],
             [
              0.6666666666666666,
              "#ed7953"
             ],
             [
              0.7777777777777778,
              "#fb9f3a"
             ],
             [
              0.8888888888888888,
              "#fdca26"
             ],
             [
              1,
              "#f0f921"
             ]
            ],
            "type": "contour"
           }
          ],
          "contourcarpet": [
           {
            "colorbar": {
             "outlinewidth": 0,
             "ticks": ""
            },
            "type": "contourcarpet"
           }
          ],
          "heatmap": [
           {
            "colorbar": {
             "outlinewidth": 0,
             "ticks": ""
            },
            "colorscale": [
             [
              0,
              "#0d0887"
             ],
             [
              0.1111111111111111,
              "#46039f"
             ],
             [
              0.2222222222222222,
              "#7201a8"
             ],
             [
              0.3333333333333333,
              "#9c179e"
             ],
             [
              0.4444444444444444,
              "#bd3786"
             ],
             [
              0.5555555555555556,
              "#d8576b"
             ],
             [
              0.6666666666666666,
              "#ed7953"
             ],
             [
              0.7777777777777778,
              "#fb9f3a"
             ],
             [
              0.8888888888888888,
              "#fdca26"
             ],
             [
              1,
              "#f0f921"
             ]
            ],
            "type": "heatmap"
           }
          ],
          "heatmapgl": [
           {
            "colorbar": {
             "outlinewidth": 0,
             "ticks": ""
            },
            "colorscale": [
             [
              0,
              "#0d0887"
             ],
             [
              0.1111111111111111,
              "#46039f"
             ],
             [
              0.2222222222222222,
              "#7201a8"
             ],
             [
              0.3333333333333333,
              "#9c179e"
             ],
             [
              0.4444444444444444,
              "#bd3786"
             ],
             [
              0.5555555555555556,
              "#d8576b"
             ],
             [
              0.6666666666666666,
              "#ed7953"
             ],
             [
              0.7777777777777778,
              "#fb9f3a"
             ],
             [
              0.8888888888888888,
              "#fdca26"
             ],
             [
              1,
              "#f0f921"
             ]
            ],
            "type": "heatmapgl"
           }
          ],
          "histogram": [
           {
            "marker": {
             "colorbar": {
              "outlinewidth": 0,
              "ticks": ""
             }
            },
            "type": "histogram"
           }
          ],
          "histogram2d": [
           {
            "colorbar": {
             "outlinewidth": 0,
             "ticks": ""
            },
            "colorscale": [
             [
              0,
              "#0d0887"
             ],
             [
              0.1111111111111111,
              "#46039f"
             ],
             [
              0.2222222222222222,
              "#7201a8"
             ],
             [
              0.3333333333333333,
              "#9c179e"
             ],
             [
              0.4444444444444444,
              "#bd3786"
             ],
             [
              0.5555555555555556,
              "#d8576b"
             ],
             [
              0.6666666666666666,
              "#ed7953"
             ],
             [
              0.7777777777777778,
              "#fb9f3a"
             ],
             [
              0.8888888888888888,
              "#fdca26"
             ],
             [
              1,
              "#f0f921"
             ]
            ],
            "type": "histogram2d"
           }
          ],
          "histogram2dcontour": [
           {
            "colorbar": {
             "outlinewidth": 0,
             "ticks": ""
            },
            "colorscale": [
             [
              0,
              "#0d0887"
             ],
             [
              0.1111111111111111,
              "#46039f"
             ],
             [
              0.2222222222222222,
              "#7201a8"
             ],
             [
              0.3333333333333333,
              "#9c179e"
             ],
             [
              0.4444444444444444,
              "#bd3786"
             ],
             [
              0.5555555555555556,
              "#d8576b"
             ],
             [
              0.6666666666666666,
              "#ed7953"
             ],
             [
              0.7777777777777778,
              "#fb9f3a"
             ],
             [
              0.8888888888888888,
              "#fdca26"
             ],
             [
              1,
              "#f0f921"
             ]
            ],
            "type": "histogram2dcontour"
           }
          ],
          "mesh3d": [
           {
            "colorbar": {
             "outlinewidth": 0,
             "ticks": ""
            },
            "type": "mesh3d"
           }
          ],
          "parcoords": [
           {
            "line": {
             "colorbar": {
              "outlinewidth": 0,
              "ticks": ""
             }
            },
            "type": "parcoords"
           }
          ],
          "pie": [
           {
            "automargin": true,
            "type": "pie"
           }
          ],
          "scatter": [
           {
            "marker": {
             "colorbar": {
              "outlinewidth": 0,
              "ticks": ""
             }
            },
            "type": "scatter"
           }
          ],
          "scatter3d": [
           {
            "line": {
             "colorbar": {
              "outlinewidth": 0,
              "ticks": ""
             }
            },
            "marker": {
             "colorbar": {
              "outlinewidth": 0,
              "ticks": ""
             }
            },
            "type": "scatter3d"
           }
          ],
          "scattercarpet": [
           {
            "marker": {
             "colorbar": {
              "outlinewidth": 0,
              "ticks": ""
             }
            },
            "type": "scattercarpet"
           }
          ],
          "scattergeo": [
           {
            "marker": {
             "colorbar": {
              "outlinewidth": 0,
              "ticks": ""
             }
            },
            "type": "scattergeo"
           }
          ],
          "scattergl": [
           {
            "marker": {
             "colorbar": {
              "outlinewidth": 0,
              "ticks": ""
             }
            },
            "type": "scattergl"
           }
          ],
          "scattermapbox": [
           {
            "marker": {
             "colorbar": {
              "outlinewidth": 0,
              "ticks": ""
             }
            },
            "type": "scattermapbox"
           }
          ],
          "scatterpolar": [
           {
            "marker": {
             "colorbar": {
              "outlinewidth": 0,
              "ticks": ""
             }
            },
            "type": "scatterpolar"
           }
          ],
          "scatterpolargl": [
           {
            "marker": {
             "colorbar": {
              "outlinewidth": 0,
              "ticks": ""
             }
            },
            "type": "scatterpolargl"
           }
          ],
          "scatterternary": [
           {
            "marker": {
             "colorbar": {
              "outlinewidth": 0,
              "ticks": ""
             }
            },
            "type": "scatterternary"
           }
          ],
          "surface": [
           {
            "colorbar": {
             "outlinewidth": 0,
             "ticks": ""
            },
            "colorscale": [
             [
              0,
              "#0d0887"
             ],
             [
              0.1111111111111111,
              "#46039f"
             ],
             [
              0.2222222222222222,
              "#7201a8"
             ],
             [
              0.3333333333333333,
              "#9c179e"
             ],
             [
              0.4444444444444444,
              "#bd3786"
             ],
             [
              0.5555555555555556,
              "#d8576b"
             ],
             [
              0.6666666666666666,
              "#ed7953"
             ],
             [
              0.7777777777777778,
              "#fb9f3a"
             ],
             [
              0.8888888888888888,
              "#fdca26"
             ],
             [
              1,
              "#f0f921"
             ]
            ],
            "type": "surface"
           }
          ],
          "table": [
           {
            "cells": {
             "fill": {
              "color": "#EBF0F8"
             },
             "line": {
              "color": "white"
             }
            },
            "header": {
             "fill": {
              "color": "#C8D4E3"
             },
             "line": {
              "color": "white"
             }
            },
            "type": "table"
           }
          ]
         },
         "layout": {
          "annotationdefaults": {
           "arrowcolor": "#2a3f5f",
           "arrowhead": 0,
           "arrowwidth": 1
          },
          "autotypenumbers": "strict",
          "coloraxis": {
           "colorbar": {
            "outlinewidth": 0,
            "ticks": ""
           }
          },
          "colorscale": {
           "diverging": [
            [
             0,
             "#8e0152"
            ],
            [
             0.1,
             "#c51b7d"
            ],
            [
             0.2,
             "#de77ae"
            ],
            [
             0.3,
             "#f1b6da"
            ],
            [
             0.4,
             "#fde0ef"
            ],
            [
             0.5,
             "#f7f7f7"
            ],
            [
             0.6,
             "#e6f5d0"
            ],
            [
             0.7,
             "#b8e186"
            ],
            [
             0.8,
             "#7fbc41"
            ],
            [
             0.9,
             "#4d9221"
            ],
            [
             1,
             "#276419"
            ]
           ],
           "sequential": [
            [
             0,
             "#0d0887"
            ],
            [
             0.1111111111111111,
             "#46039f"
            ],
            [
             0.2222222222222222,
             "#7201a8"
            ],
            [
             0.3333333333333333,
             "#9c179e"
            ],
            [
             0.4444444444444444,
             "#bd3786"
            ],
            [
             0.5555555555555556,
             "#d8576b"
            ],
            [
             0.6666666666666666,
             "#ed7953"
            ],
            [
             0.7777777777777778,
             "#fb9f3a"
            ],
            [
             0.8888888888888888,
             "#fdca26"
            ],
            [
             1,
             "#f0f921"
            ]
           ],
           "sequentialminus": [
            [
             0,
             "#0d0887"
            ],
            [
             0.1111111111111111,
             "#46039f"
            ],
            [
             0.2222222222222222,
             "#7201a8"
            ],
            [
             0.3333333333333333,
             "#9c179e"
            ],
            [
             0.4444444444444444,
             "#bd3786"
            ],
            [
             0.5555555555555556,
             "#d8576b"
            ],
            [
             0.6666666666666666,
             "#ed7953"
            ],
            [
             0.7777777777777778,
             "#fb9f3a"
            ],
            [
             0.8888888888888888,
             "#fdca26"
            ],
            [
             1,
             "#f0f921"
            ]
           ]
          },
          "colorway": [
           "#636efa",
           "#EF553B",
           "#00cc96",
           "#ab63fa",
           "#FFA15A",
           "#19d3f3",
           "#FF6692",
           "#B6E880",
           "#FF97FF",
           "#FECB52"
          ],
          "font": {
           "color": "#2a3f5f"
          },
          "geo": {
           "bgcolor": "white",
           "lakecolor": "white",
           "landcolor": "#E5ECF6",
           "showlakes": true,
           "showland": true,
           "subunitcolor": "white"
          },
          "hoverlabel": {
           "align": "left"
          },
          "hovermode": "closest",
          "mapbox": {
           "style": "light"
          },
          "paper_bgcolor": "white",
          "plot_bgcolor": "#E5ECF6",
          "polar": {
           "angularaxis": {
            "gridcolor": "white",
            "linecolor": "white",
            "ticks": ""
           },
           "bgcolor": "#E5ECF6",
           "radialaxis": {
            "gridcolor": "white",
            "linecolor": "white",
            "ticks": ""
           }
          },
          "scene": {
           "xaxis": {
            "backgroundcolor": "#E5ECF6",
            "gridcolor": "white",
            "gridwidth": 2,
            "linecolor": "white",
            "showbackground": true,
            "ticks": "",
            "zerolinecolor": "white"
           },
           "yaxis": {
            "backgroundcolor": "#E5ECF6",
            "gridcolor": "white",
            "gridwidth": 2,
            "linecolor": "white",
            "showbackground": true,
            "ticks": "",
            "zerolinecolor": "white"
           },
           "zaxis": {
            "backgroundcolor": "#E5ECF6",
            "gridcolor": "white",
            "gridwidth": 2,
            "linecolor": "white",
            "showbackground": true,
            "ticks": "",
            "zerolinecolor": "white"
           }
          },
          "shapedefaults": {
           "line": {
            "color": "#2a3f5f"
           }
          },
          "ternary": {
           "aaxis": {
            "gridcolor": "white",
            "linecolor": "white",
            "ticks": ""
           },
           "baxis": {
            "gridcolor": "white",
            "linecolor": "white",
            "ticks": ""
           },
           "bgcolor": "#E5ECF6",
           "caxis": {
            "gridcolor": "white",
            "linecolor": "white",
            "ticks": ""
           }
          },
          "title": {
           "x": 0.05
          },
          "xaxis": {
           "automargin": true,
           "gridcolor": "white",
           "linecolor": "white",
           "ticks": "",
           "title": {
            "standoff": 15
           },
           "zerolinecolor": "white",
           "zerolinewidth": 2
          },
          "yaxis": {
           "automargin": true,
           "gridcolor": "white",
           "linecolor": "white",
           "ticks": "",
           "title": {
            "standoff": 15
           },
           "zerolinecolor": "white",
           "zerolinewidth": 2
          }
         }
        }
       }
      },
      "text/html": [
       "<div>                            <div id=\"450515a9-acd7-4690-a803-2b982658a33f\" class=\"plotly-graph-div\" style=\"height:525px; width:100%;\"></div>            <script type=\"text/javascript\">                require([\"plotly\"], function(Plotly) {                    window.PLOTLYENV=window.PLOTLYENV || {};                                    if (document.getElementById(\"450515a9-acd7-4690-a803-2b982658a33f\")) {                    Plotly.newPlot(                        \"450515a9-acd7-4690-a803-2b982658a33f\",                        [{\"domain\": {\"x\": [0.0, 1.0], \"y\": [0.0, 1.0]}, \"hovertemplate\": \"label=%{label}<br>parent=%{parent}<extra></extra>\", \"labels\": [\"Co_20\", \"Co_20_10\", \"Co_20_10_60\", \"Co_20_15\", \"Co_20_15_08\", \"Co_20_15_58\", \"Co_20_20\", \"Co_20_20_15\", \"Co_20_20_40\", \"Co_20_20_50\", \"Co_20_20_70\", \"Co_20_45\", \"Co_20_45_50\", \"Co_20_45_54\", \"Co_20_50\", \"Co_20_50_05\", \"Co_20_50_50\", \"Co_20_50_53\", \"Co_20_50_60\", \"Co_20_50_71\", \"Co_20_50_78\", \"Co_20_50_94\", \"Co_20_55\", \"Co_20_55_10\", \"Co_20_60\", \"Co_20_60_02\", \"Co_20_60_10\", \"Co_20_60_56\", \"Co_20_65\", \"Co_20_65_56\", \"Co_20_70\", \"Co_20_70_18\", \"Co_20_70_65\", \"Co_20_75\", \"Co_20_75_42\", \"Co_20_75_64\", \"Co_20_75_71\", \"Co_20_80\", \"Co_20_80_04\", \"Co_20_80_80\", \"Co_20_90\", \"Co_20_90_02\", \"Co_20_90_16\", \"Co_20_90_27\", \"Co_20_90_47\", \"Co_20_90_53\", \"Co_25\", \"Co_25_05\", \"Co_25_10\", \"Co_25_10_32\", \"Co_25_10_41\", \"Co_25_10_45\", \"Co_25_10_66\", \"Co_25_10_77\", \"Co_25_10_88\", \"Co_25_10_92\", \"Co_25_30\", \"Co_25_30_04\", \"Co_25_30_08\", \"Co_25_30_45\", \"Co_25_30_70\", \"Co_25_50\", \"Co_25_50_03\", \"Co_25_50_33\", \"Co_25_50_34\", \"Co_25_50_50\", \"Co_25_50_52\", \"Co_25_50_54\", \"Co_25_50_55\", \"Co_25_50_58\", \"Co_25_50_59\", \"Co_25_50_99\", \"Co_25_70\", \"Co_25_70_16\", \"Co_25_70_23\", \"Co_25_70_30\", \"Co_25_70_41\", \"Co_25_70_47\", \"Co_25_90\", \"Co_25_90_30\", \"Co_30\", \"Co_30_10\", \"Co_30_10_22\", \"Co_30_10_24\", \"Co_30_10_51\", \"Co_30_10_61\", \"Co_30_10_69\", \"Co_30_10_77\", \"Co_30_10_78\", \"Co_30_20\", \"Co_30_20_80\", \"Co_30_20_95\", \"Co_30_30\", \"Co_30_30_30\", \"Co_30_30_50\", \"Co_30_30_55\", \"Co_30_40\", \"Co_30_40_01\", \"Co_30_40_03\", \"Co_30_40_04\", \"Co_30_40_06\", \"Co_30_40_08\", \"Co_30_40_11\", \"Co_30_40_22\", \"Co_30_40_30\", \"Co_30_40_40\", \"Co_30_40_55\", \"Co_30_40_60\", \"Co_30_40_90\", \"Co_30_40_96\", \"Co_30_50\", \"Co_30_50_37\", \"Co_30_50_41\", \"Co_30_50_47\", \"Co_30_50_77\", \"Co_30_60\", \"Co_30_60_15\", \"Co_30_60_94\", \"Co_30_80\", \"Co_30_80_10\", \"Co_30_85\", \"Co_30_90\", \"Co_32\", \"Co_32_10\", \"Co_32_10_02\", \"Co_32_10_15\", \"Co_32_10_28\", \"Co_32_10_30\", \"Co_32_10_39\", \"Co_32_10_46\", \"Co_32_10_50\", \"Co_32_10_58\", \"Co_32_10_94\", \"Co_32_20\", \"Co_32_20_04\", \"Co_32_20_17\", \"Co_32_20_22\", \"Co_32_20_23\", \"Co_32_20_57\", \"Co_32_50\", \"Co_32_50_11\", \"Co_32_50_48\", \"Co_32_50_94\", \"Co_32_50_95\", \"Co_32_55\", \"Co_32_55_20\", \"Co_32_55_27\", \"Co_32_55_30\", \"Co_32_65\", \"Co_32_65_04\", \"Co_32_65_15\", \"Co_32_65_16\", \"Co_32_65_22\", \"Co_32_65_27\", \"Co_32_65_30\", \"Co_32_65_38\", \"Co_32_65_46\", \"Co_32_65_54\", \"Co_32_65_64\", \"Co_32_65_72\", \"Co_32_65_75\", \"Co_32_65_79\", \"Co_32_65_82\", \"Co_32_65_85\", \"Co_32_65_96\", \"Co_32_85\", \"Co_32_85_50\", \"Co_32_85_70\", \"Co_32_85_88\", \"Co_32_85_96\", \"Co_32_85_97\", \"Co_32_85_98\", \"Co_35\", \"Co_35_10\", \"Co_35_10_02\", \"Co_35_10_03\", \"Co_35_10_15\", \"Co_35_10_37\", \"Co_35_50\", \"Co_35_50_30\", \"Co_35_50_37\", \"Co_35_50_58\", \"Co_35_50_69\", \"Co_35_50_82\", \"Co_35_50_90\", \"Co_35_70\", \"Co_35_70_13\", \"Co_35_70_16\", \"Co_35_70_32\", \"Co_35_85\", \"Co_35_85_02\", \"Co_35_85_03\", \"Co_35_85_04\", \"Co_35_85_05\", \"Co_35_85_45\", \"Co_35_85_85\", \"Co_35_90\", \"Co_35_90_02\", \"Co_35_90_03\", \"Co_35_90_95\", \"Co_40\", \"Co_40_05\", \"Co_40_05_02\", \"Co_40_05_03\", \"Co_40_05_30\", \"Co_40_05_63\", \"Co_40_05_89\", \"Co_40_35\", \"Co_40_35_06\", \"Co_40_35_39\", \"Co_40_35_78\", \"Co_40_35_94\", \"Co_40_60\", \"Co_40_60_13\", \"Co_40_60_14\", \"Co_40_60_16\", \"Co_40_60_30\", \"Co_40_60_88\", \"Co_40_75\", \"Co_40_75_15\", \"Co_40_75_17\", \"Co_40_75_68\", \"Co_40_75_71\", \"Co_42\", \"Co_42_40\", \"Co_42_40_10\", \"Co_42_40_40\", \"Co_42_50\", \"Co_42_50_10\", \"Co_42_50_30\", \"Co_42_50_60\", \"Co_42_50_70\", \"Co_42_50_95\", \"Co_42_85\", \"Co_42_85_40\", \"Co_42_85_60\", \"Co_42_85_96\", \"Co_45\", \"Co_45_10\", \"Co_45_10_11\", \"Co_45_10_12\", \"Co_45_10_15\", \"Co_45_10_27\", \"Co_45_10_35\", \"Co_45_10_36\", \"Co_45_10_37\", \"Co_45_10_38\", \"Co_45_10_40\", \"Co_45_10_41\", \"Co_45_10_51\", \"Co_45_10_54\", \"Co_45_10_72\", \"Co_45_10_74\", \"Co_45_10_78\", \"Co_45_10_98\", \"Co_50\", \"Co_50_20\", \"Co_50_20_10\", \"Co_50_20_20\", \"Co_50_20_60\", \"Co_50_40\", \"Co_50_40_10\", \"Co_50_40_50\", \"Co_50_60\", \"Co_50_60_40\", \"Co_50_60_80\", \"Co_50_80\", \"Co_50_80_40\", \"Co_50_80_70\", \"Co_55\", \"Co_55_05\", \"Co_55_05_30\", \"Co_55_05_70\", \"Co_55_10\", \"Co_55_10_40\", \"Co_55_10_80\", \"Co_55_15\", \"Co_55_15_10\", \"Co_55_15_50\", \"Co_55_20\", \"Co_55_20_50\", \"Co_55_20_60\", \"Co_55_50\", \"Co_55_50_10\", \"Co_55_50_50\", \"Co_55_70\", \"Co_55_70_20\", \"Co_55_70_60\", \"Co_60\", \"Co_60_10\", \"Co_60_10_10\", \"Co_60_40\", \"Co_60_40_10\", \"Co_65\", \"Co_70\", \"Co_70_10\", \"Co_70_10_08\", \"Co_70_10_16\", \"Co_70_10_17\", \"Co_70_10_33\", \"Co_70_10_34\", \"Co_70_10_38\", \"Co_70_10_57\", \"Co_70_10_58\", \"Co_70_10_59\", \"Co_70_10_60\", \"Co_70_10_63\", \"Co_70_10_81\", \"Co_70_10_88\", \"Co_70_10_96\", \"Co_70_30\", \"Co_70_30_35\", \"Co_70_30_40\", \"Co_70_30_45\", \"Co_70_30_50\", \"Co_75\", \"Co_75_10\", \"Co_75_10_10\", \"Co_75_10_20\", \"Co_75_10_80\", \"Co_75_10_90\", \"Co_80\", \"Co_80_05\", \"Co_80_05_02\", \"Co_80_05_38\", \"Co_80_05_84\", \"Co_80_20\", \"Co_80_20_02\", \"Co_80_20_10\", \"Co_80_20_13\", \"Co_80_20_32\", \"Co_80_20_34\", \"Co_80_20_84\", \"Co_80_20_99\", \"Co_80_35\", \"Co_80_35_10\", \"Co_80_35_75\", \"Co_80_50\", \"Co_80_50_35\", \"Co_80_50_37\", \"Co_80_50_45\", \"Co_80_50_50\", \"Co_80_50_53\", \"Co_80_50_56\", \"Co_80_50_69\", \"Co_80_50_76\", \"Co_80_70\", \"Co_80_70_11\", \"Co_80_70_13\", \"Co_80_70_17\", \"Co_80_70_23\", \"Co_80_70_30\", \"Co_80_70_36\", \"Co_80_70_47\", \"Co_80_70_70\", \"Co_80_70_72\", \"Co_80_70_77\", \"Co_80_70_78\", \"Co_80_70_96\", \"Co_80_90\", \"Co_90\", \"Co_90_50\", \"Co_90_50_03\", \"Co_90_50_04\", \"Co_90_50_15\", \"Co_90_50_16\", \"Co_90_50_24\", \"Co_90_50_34\", \"Co_90_50_45\", \"Co_90_50_51\", \"Co_90_50_52\", \"Co_90_50_71\", \"Co_90_50_77\", \"Co_90_50_78\", \"Co_90_50_80\", \"Co_90_50_94\", \"Co_90_50_95\", \"Co_90_50_96\", \"Co_90_90\", \"Co_90_90_50\"], \"name\": \"\", \"parents\": [\"Co\", \"Co_20\", \"Co_20_10\", \"Co_20\", \"Co_20_15\", \"Co_20_15\", \"Co_20\", \"Co_20_20\", \"Co_20_20\", \"Co_20_20\", \"Co_20_20\", \"Co_20\", \"Co_20_45\", \"Co_20_45\", \"Co_20\", \"Co_20_50\", \"Co_20_50\", \"Co_20_50\", \"Co_20_50\", \"Co_20_50\", \"Co_20_50\", \"Co_20_50\", \"Co_20\", \"Co_20_55\", \"Co_20\", \"Co_20_60\", \"Co_20_60\", \"Co_20_60\", \"Co_20\", \"Co_20_65\", \"Co_20\", \"Co_20_70\", \"Co_20_70\", \"Co_20\", \"Co_20_75\", \"Co_20_75\", \"Co_20_75\", \"Co_20\", \"Co_20_80\", \"Co_20_80\", \"Co_20\", \"Co_20_90\", \"Co_20_90\", \"Co_20_90\", \"Co_20_90\", \"Co_20_90\", \"Co\", \"Co_25\", \"Co_25\", \"Co_25_10\", \"Co_25_10\", \"Co_25_10\", \"Co_25_10\", \"Co_25_10\", \"Co_25_10\", \"Co_25_10\", \"Co_25\", \"Co_25_30\", \"Co_25_30\", \"Co_25_30\", \"Co_25_30\", \"Co_25\", \"Co_25_50\", \"Co_25_50\", \"Co_25_50\", \"Co_25_50\", \"Co_25_50\", \"Co_25_50\", \"Co_25_50\", \"Co_25_50\", \"Co_25_50\", \"Co_25_50\", \"Co_25\", \"Co_25_70\", \"Co_25_70\", \"Co_25_70\", \"Co_25_70\", \"Co_25_70\", \"Co_25\", \"Co_25_90\", \"Co\", \"Co_30\", \"Co_30_10\", \"Co_30_10\", \"Co_30_10\", \"Co_30_10\", \"Co_30_10\", \"Co_30_10\", \"Co_30_10\", \"Co_30\", \"Co_30_20\", \"Co_30_20\", \"Co_30\", \"Co_30_30\", \"Co_30_30\", \"Co_30_30\", \"Co_30\", \"Co_30_40\", \"Co_30_40\", \"Co_30_40\", \"Co_30_40\", \"Co_30_40\", \"Co_30_40\", \"Co_30_40\", \"Co_30_40\", \"Co_30_40\", \"Co_30_40\", \"Co_30_40\", \"Co_30_40\", \"Co_30_40\", \"Co_30\", \"Co_30_50\", \"Co_30_50\", \"Co_30_50\", \"Co_30_50\", \"Co_30\", \"Co_30_60\", \"Co_30_60\", \"Co_30\", \"Co_30_80\", \"Co_30\", \"Co_30\", \"Co\", \"Co_32\", \"Co_32_10\", \"Co_32_10\", \"Co_32_10\", \"Co_32_10\", \"Co_32_10\", \"Co_32_10\", \"Co_32_10\", \"Co_32_10\", \"Co_32_10\", \"Co_32\", \"Co_32_20\", \"Co_32_20\", \"Co_32_20\", \"Co_32_20\", \"Co_32_20\", \"Co_32\", \"Co_32_50\", \"Co_32_50\", \"Co_32_50\", \"Co_32_50\", \"Co_32\", \"Co_32_55\", \"Co_32_55\", \"Co_32_55\", \"Co_32\", \"Co_32_65\", \"Co_32_65\", \"Co_32_65\", \"Co_32_65\", \"Co_32_65\", \"Co_32_65\", \"Co_32_65\", \"Co_32_65\", \"Co_32_65\", \"Co_32_65\", \"Co_32_65\", \"Co_32_65\", \"Co_32_65\", \"Co_32_65\", \"Co_32_65\", \"Co_32_65\", \"Co_32\", \"Co_32_85\", \"Co_32_85\", \"Co_32_85\", \"Co_32_85\", \"Co_32_85\", \"Co_32_85\", \"Co\", \"Co_35\", \"Co_35_10\", \"Co_35_10\", \"Co_35_10\", \"Co_35_10\", \"Co_35\", \"Co_35_50\", \"Co_35_50\", \"Co_35_50\", \"Co_35_50\", \"Co_35_50\", \"Co_35_50\", \"Co_35\", \"Co_35_70\", \"Co_35_70\", \"Co_35_70\", \"Co_35\", \"Co_35_85\", \"Co_35_85\", \"Co_35_85\", \"Co_35_85\", \"Co_35_85\", \"Co_35_85\", \"Co_35\", \"Co_35_90\", \"Co_35_90\", \"Co_35_90\", \"Co\", \"Co_40\", \"Co_40_05\", \"Co_40_05\", \"Co_40_05\", \"Co_40_05\", \"Co_40_05\", \"Co_40\", \"Co_40_35\", \"Co_40_35\", \"Co_40_35\", \"Co_40_35\", \"Co_40\", \"Co_40_60\", \"Co_40_60\", \"Co_40_60\", \"Co_40_60\", \"Co_40_60\", \"Co_40\", \"Co_40_75\", \"Co_40_75\", \"Co_40_75\", \"Co_40_75\", \"Co\", \"Co_42\", \"Co_42_40\", \"Co_42_40\", \"Co_42\", \"Co_42_50\", \"Co_42_50\", \"Co_42_50\", \"Co_42_50\", \"Co_42_50\", \"Co_42\", \"Co_42_85\", \"Co_42_85\", \"Co_42_85\", \"Co\", \"Co_45\", \"Co_45_10\", \"Co_45_10\", \"Co_45_10\", \"Co_45_10\", \"Co_45_10\", \"Co_45_10\", \"Co_45_10\", \"Co_45_10\", \"Co_45_10\", \"Co_45_10\", \"Co_45_10\", \"Co_45_10\", \"Co_45_10\", \"Co_45_10\", \"Co_45_10\", \"Co_45_10\", \"Co\", \"Co_50\", \"Co_50_20\", \"Co_50_20\", \"Co_50_20\", \"Co_50\", \"Co_50_40\", \"Co_50_40\", \"Co_50\", \"Co_50_60\", \"Co_50_60\", \"Co_50\", \"Co_50_80\", \"Co_50_80\", \"Co\", \"Co_55\", \"Co_55_05\", \"Co_55_05\", \"Co_55\", \"Co_55_10\", \"Co_55_10\", \"Co_55\", \"Co_55_15\", \"Co_55_15\", \"Co_55\", \"Co_55_20\", \"Co_55_20\", \"Co_55\", \"Co_55_50\", \"Co_55_50\", \"Co_55\", \"Co_55_70\", \"Co_55_70\", \"Co\", \"Co_60\", \"Co_60_10\", \"Co_60\", \"Co_60_40\", \"Co\", \"Co\", \"Co_70\", \"Co_70_10\", \"Co_70_10\", \"Co_70_10\", \"Co_70_10\", \"Co_70_10\", \"Co_70_10\", \"Co_70_10\", \"Co_70_10\", \"Co_70_10\", \"Co_70_10\", \"Co_70_10\", \"Co_70_10\", \"Co_70_10\", \"Co_70_10\", \"Co_70\", \"Co_70_30\", \"Co_70_30\", \"Co_70_30\", \"Co_70_30\", \"Co\", \"Co_75\", \"Co_75_10\", \"Co_75_10\", \"Co_75_10\", \"Co_75_10\", \"Co\", \"Co_80\", \"Co_80_05\", \"Co_80_05\", \"Co_80_05\", \"Co_80\", \"Co_80_20\", \"Co_80_20\", \"Co_80_20\", \"Co_80_20\", \"Co_80_20\", \"Co_80_20\", \"Co_80_20\", \"Co_80\", \"Co_80_35\", \"Co_80_35\", \"Co_80\", \"Co_80_50\", \"Co_80_50\", \"Co_80_50\", \"Co_80_50\", \"Co_80_50\", \"Co_80_50\", \"Co_80_50\", \"Co_80_50\", \"Co_80\", \"Co_80_70\", \"Co_80_70\", \"Co_80_70\", \"Co_80_70\", \"Co_80_70\", \"Co_80_70\", \"Co_80_70\", \"Co_80_70\", \"Co_80_70\", \"Co_80_70\", \"Co_80_70\", \"Co_80_70\", \"Co_80\", \"Co\", \"Co_90\", \"Co_90_50\", \"Co_90_50\", \"Co_90_50\", \"Co_90_50\", \"Co_90_50\", \"Co_90_50\", \"Co_90_50\", \"Co_90_50\", \"Co_90_50\", \"Co_90_50\", \"Co_90_50\", \"Co_90_50\", \"Co_90_50\", \"Co_90_50\", \"Co_90_50\", \"Co_90_50\", \"Co_90\", \"Co_90_90\"], \"type\": \"treemap\"}],                        {\"legend\": {\"tracegroupgap\": 0}, \"margin\": {\"t\": 60}, \"template\": {\"data\": {\"bar\": [{\"error_x\": {\"color\": \"#2a3f5f\"}, \"error_y\": {\"color\": \"#2a3f5f\"}, \"marker\": {\"line\": {\"color\": \"#E5ECF6\", \"width\": 0.5}}, \"type\": \"bar\"}], \"barpolar\": [{\"marker\": {\"line\": {\"color\": \"#E5ECF6\", \"width\": 0.5}}, \"type\": \"barpolar\"}], \"carpet\": [{\"aaxis\": {\"endlinecolor\": \"#2a3f5f\", \"gridcolor\": \"white\", \"linecolor\": \"white\", \"minorgridcolor\": \"white\", \"startlinecolor\": \"#2a3f5f\"}, \"baxis\": {\"endlinecolor\": \"#2a3f5f\", \"gridcolor\": \"white\", \"linecolor\": \"white\", \"minorgridcolor\": \"white\", \"startlinecolor\": \"#2a3f5f\"}, \"type\": \"carpet\"}], \"choropleth\": [{\"colorbar\": {\"outlinewidth\": 0, \"ticks\": \"\"}, \"type\": \"choropleth\"}], \"contour\": [{\"colorbar\": {\"outlinewidth\": 0, \"ticks\": \"\"}, \"colorscale\": [[0.0, \"#0d0887\"], [0.1111111111111111, \"#46039f\"], [0.2222222222222222, \"#7201a8\"], [0.3333333333333333, \"#9c179e\"], [0.4444444444444444, \"#bd3786\"], [0.5555555555555556, \"#d8576b\"], [0.6666666666666666, \"#ed7953\"], [0.7777777777777778, \"#fb9f3a\"], [0.8888888888888888, \"#fdca26\"], [1.0, \"#f0f921\"]], \"type\": \"contour\"}], \"contourcarpet\": [{\"colorbar\": {\"outlinewidth\": 0, \"ticks\": \"\"}, \"type\": \"contourcarpet\"}], \"heatmap\": [{\"colorbar\": {\"outlinewidth\": 0, \"ticks\": \"\"}, \"colorscale\": [[0.0, \"#0d0887\"], [0.1111111111111111, \"#46039f\"], [0.2222222222222222, \"#7201a8\"], [0.3333333333333333, \"#9c179e\"], [0.4444444444444444, \"#bd3786\"], [0.5555555555555556, \"#d8576b\"], [0.6666666666666666, \"#ed7953\"], [0.7777777777777778, \"#fb9f3a\"], [0.8888888888888888, \"#fdca26\"], [1.0, \"#f0f921\"]], \"type\": \"heatmap\"}], \"heatmapgl\": [{\"colorbar\": {\"outlinewidth\": 0, \"ticks\": \"\"}, \"colorscale\": [[0.0, \"#0d0887\"], [0.1111111111111111, \"#46039f\"], [0.2222222222222222, \"#7201a8\"], [0.3333333333333333, \"#9c179e\"], [0.4444444444444444, \"#bd3786\"], [0.5555555555555556, \"#d8576b\"], [0.6666666666666666, \"#ed7953\"], [0.7777777777777778, \"#fb9f3a\"], [0.8888888888888888, \"#fdca26\"], [1.0, \"#f0f921\"]], \"type\": \"heatmapgl\"}], \"histogram\": [{\"marker\": {\"colorbar\": {\"outlinewidth\": 0, \"ticks\": \"\"}}, \"type\": \"histogram\"}], \"histogram2d\": [{\"colorbar\": {\"outlinewidth\": 0, \"ticks\": \"\"}, \"colorscale\": [[0.0, \"#0d0887\"], [0.1111111111111111, \"#46039f\"], [0.2222222222222222, \"#7201a8\"], [0.3333333333333333, \"#9c179e\"], [0.4444444444444444, \"#bd3786\"], [0.5555555555555556, \"#d8576b\"], [0.6666666666666666, \"#ed7953\"], [0.7777777777777778, \"#fb9f3a\"], [0.8888888888888888, \"#fdca26\"], [1.0, \"#f0f921\"]], \"type\": \"histogram2d\"}], \"histogram2dcontour\": [{\"colorbar\": {\"outlinewidth\": 0, \"ticks\": \"\"}, \"colorscale\": [[0.0, \"#0d0887\"], [0.1111111111111111, \"#46039f\"], [0.2222222222222222, \"#7201a8\"], [0.3333333333333333, \"#9c179e\"], [0.4444444444444444, \"#bd3786\"], [0.5555555555555556, \"#d8576b\"], [0.6666666666666666, \"#ed7953\"], [0.7777777777777778, \"#fb9f3a\"], [0.8888888888888888, \"#fdca26\"], [1.0, \"#f0f921\"]], \"type\": \"histogram2dcontour\"}], \"mesh3d\": [{\"colorbar\": {\"outlinewidth\": 0, \"ticks\": \"\"}, \"type\": \"mesh3d\"}], \"parcoords\": [{\"line\": {\"colorbar\": {\"outlinewidth\": 0, \"ticks\": \"\"}}, \"type\": \"parcoords\"}], \"pie\": [{\"automargin\": true, \"type\": \"pie\"}], \"scatter\": [{\"marker\": {\"colorbar\": {\"outlinewidth\": 0, \"ticks\": \"\"}}, \"type\": \"scatter\"}], \"scatter3d\": [{\"line\": {\"colorbar\": {\"outlinewidth\": 0, \"ticks\": \"\"}}, \"marker\": {\"colorbar\": {\"outlinewidth\": 0, \"ticks\": \"\"}}, \"type\": \"scatter3d\"}], \"scattercarpet\": [{\"marker\": {\"colorbar\": {\"outlinewidth\": 0, \"ticks\": \"\"}}, \"type\": \"scattercarpet\"}], \"scattergeo\": [{\"marker\": {\"colorbar\": {\"outlinewidth\": 0, \"ticks\": \"\"}}, \"type\": \"scattergeo\"}], \"scattergl\": [{\"marker\": {\"colorbar\": {\"outlinewidth\": 0, \"ticks\": \"\"}}, \"type\": \"scattergl\"}], \"scattermapbox\": [{\"marker\": {\"colorbar\": {\"outlinewidth\": 0, \"ticks\": \"\"}}, \"type\": \"scattermapbox\"}], \"scatterpolar\": [{\"marker\": {\"colorbar\": {\"outlinewidth\": 0, \"ticks\": \"\"}}, \"type\": \"scatterpolar\"}], \"scatterpolargl\": [{\"marker\": {\"colorbar\": {\"outlinewidth\": 0, \"ticks\": \"\"}}, \"type\": \"scatterpolargl\"}], \"scatterternary\": [{\"marker\": {\"colorbar\": {\"outlinewidth\": 0, \"ticks\": \"\"}}, \"type\": \"scatterternary\"}], \"surface\": [{\"colorbar\": {\"outlinewidth\": 0, \"ticks\": \"\"}, \"colorscale\": [[0.0, \"#0d0887\"], [0.1111111111111111, \"#46039f\"], [0.2222222222222222, \"#7201a8\"], [0.3333333333333333, \"#9c179e\"], [0.4444444444444444, \"#bd3786\"], [0.5555555555555556, \"#d8576b\"], [0.6666666666666666, \"#ed7953\"], [0.7777777777777778, \"#fb9f3a\"], [0.8888888888888888, \"#fdca26\"], [1.0, \"#f0f921\"]], \"type\": \"surface\"}], \"table\": [{\"cells\": {\"fill\": {\"color\": \"#EBF0F8\"}, \"line\": {\"color\": \"white\"}}, \"header\": {\"fill\": {\"color\": \"#C8D4E3\"}, \"line\": {\"color\": \"white\"}}, \"type\": \"table\"}]}, \"layout\": {\"annotationdefaults\": {\"arrowcolor\": \"#2a3f5f\", \"arrowhead\": 0, \"arrowwidth\": 1}, \"autotypenumbers\": \"strict\", \"coloraxis\": {\"colorbar\": {\"outlinewidth\": 0, \"ticks\": \"\"}}, \"colorscale\": {\"diverging\": [[0, \"#8e0152\"], [0.1, \"#c51b7d\"], [0.2, \"#de77ae\"], [0.3, \"#f1b6da\"], [0.4, \"#fde0ef\"], [0.5, \"#f7f7f7\"], [0.6, \"#e6f5d0\"], [0.7, \"#b8e186\"], [0.8, \"#7fbc41\"], [0.9, \"#4d9221\"], [1, \"#276419\"]], \"sequential\": [[0.0, \"#0d0887\"], [0.1111111111111111, \"#46039f\"], [0.2222222222222222, \"#7201a8\"], [0.3333333333333333, \"#9c179e\"], [0.4444444444444444, \"#bd3786\"], [0.5555555555555556, \"#d8576b\"], [0.6666666666666666, \"#ed7953\"], [0.7777777777777778, \"#fb9f3a\"], [0.8888888888888888, \"#fdca26\"], [1.0, \"#f0f921\"]], \"sequentialminus\": [[0.0, \"#0d0887\"], [0.1111111111111111, \"#46039f\"], [0.2222222222222222, \"#7201a8\"], [0.3333333333333333, \"#9c179e\"], [0.4444444444444444, \"#bd3786\"], [0.5555555555555556, \"#d8576b\"], [0.6666666666666666, \"#ed7953\"], [0.7777777777777778, \"#fb9f3a\"], [0.8888888888888888, \"#fdca26\"], [1.0, \"#f0f921\"]]}, \"colorway\": [\"#636efa\", \"#EF553B\", \"#00cc96\", \"#ab63fa\", \"#FFA15A\", \"#19d3f3\", \"#FF6692\", \"#B6E880\", \"#FF97FF\", \"#FECB52\"], \"font\": {\"color\": \"#2a3f5f\"}, \"geo\": {\"bgcolor\": \"white\", \"lakecolor\": \"white\", \"landcolor\": \"#E5ECF6\", \"showlakes\": true, \"showland\": true, \"subunitcolor\": \"white\"}, \"hoverlabel\": {\"align\": \"left\"}, \"hovermode\": \"closest\", \"mapbox\": {\"style\": \"light\"}, \"paper_bgcolor\": \"white\", \"plot_bgcolor\": \"#E5ECF6\", \"polar\": {\"angularaxis\": {\"gridcolor\": \"white\", \"linecolor\": \"white\", \"ticks\": \"\"}, \"bgcolor\": \"#E5ECF6\", \"radialaxis\": {\"gridcolor\": \"white\", \"linecolor\": \"white\", \"ticks\": \"\"}}, \"scene\": {\"xaxis\": {\"backgroundcolor\": \"#E5ECF6\", \"gridcolor\": \"white\", \"gridwidth\": 2, \"linecolor\": \"white\", \"showbackground\": true, \"ticks\": \"\", \"zerolinecolor\": \"white\"}, \"yaxis\": {\"backgroundcolor\": \"#E5ECF6\", \"gridcolor\": \"white\", \"gridwidth\": 2, \"linecolor\": \"white\", \"showbackground\": true, \"ticks\": \"\", \"zerolinecolor\": \"white\"}, \"zaxis\": {\"backgroundcolor\": \"#E5ECF6\", \"gridcolor\": \"white\", \"gridwidth\": 2, \"linecolor\": \"white\", \"showbackground\": true, \"ticks\": \"\", \"zerolinecolor\": \"white\"}}, \"shapedefaults\": {\"line\": {\"color\": \"#2a3f5f\"}}, \"ternary\": {\"aaxis\": {\"gridcolor\": \"white\", \"linecolor\": \"white\", \"ticks\": \"\"}, \"baxis\": {\"gridcolor\": \"white\", \"linecolor\": \"white\", \"ticks\": \"\"}, \"bgcolor\": \"#E5ECF6\", \"caxis\": {\"gridcolor\": \"white\", \"linecolor\": \"white\", \"ticks\": \"\"}}, \"title\": {\"x\": 0.05}, \"xaxis\": {\"automargin\": true, \"gridcolor\": \"white\", \"linecolor\": \"white\", \"ticks\": \"\", \"title\": {\"standoff\": 15}, \"zerolinecolor\": \"white\", \"zerolinewidth\": 2}, \"yaxis\": {\"automargin\": true, \"gridcolor\": \"white\", \"linecolor\": \"white\", \"ticks\": \"\", \"title\": {\"standoff\": 15}, \"zerolinecolor\": \"white\", \"zerolinewidth\": 2}}}},                        {\"responsive\": true}                    ).then(function(){\n",
       "                            \n",
       "var gd = document.getElementById('450515a9-acd7-4690-a803-2b982658a33f');\n",
       "var x = new MutationObserver(function (mutations, observer) {{\n",
       "        var display = window.getComputedStyle(gd).display;\n",
       "        if (!display || display === 'none') {{\n",
       "            console.log([gd, 'removed!']);\n",
       "            Plotly.purge(gd);\n",
       "            observer.disconnect();\n",
       "        }}\n",
       "}});\n",
       "\n",
       "// Listen for the removal of the full notebook cells\n",
       "var notebookContainer = gd.closest('#notebook-container');\n",
       "if (notebookContainer) {{\n",
       "    x.observe(notebookContainer, {childList: true});\n",
       "}}\n",
       "\n",
       "// Listen for the clearing of the current output cell\n",
       "var outputEl = gd.closest('.output');\n",
       "if (outputEl) {{\n",
       "    x.observe(outputEl, {childList: true});\n",
       "}}\n",
       "\n",
       "                        })                };                });            </script>        </div>"
      ]
     },
     "metadata": {},
     "output_type": "display_data"
    }
   ],
   "source": [
    "import plotly.express as px\n",
    "fig = px.treemap(\n",
    "    names = codes_list,\n",
    "    parents = parents_list\n",
    ")\n",
    "fig.show()"
   ]
  },
  {
   "cell_type": "code",
   "execution_count": null,
   "id": "affected-vision",
   "metadata": {},
   "outputs": [],
   "source": []
  }
 ],
 "metadata": {
  "kernelspec": {
   "display_name": "env",
   "language": "python",
   "name": "env"
  },
  "language_info": {
   "codemirror_mode": {
    "name": "ipython",
    "version": 3
   },
   "file_extension": ".py",
   "mimetype": "text/x-python",
   "name": "python",
   "nbconvert_exporter": "python",
   "pygments_lexer": "ipython3",
   "version": "3.6.9"
  }
 },
 "nbformat": 4,
 "nbformat_minor": 5
}

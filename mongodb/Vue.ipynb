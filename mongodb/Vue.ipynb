{
 "cells": [
  {
   "cell_type": "code",
   "execution_count": 19,
   "id": "provincial-madison",
   "metadata": {},
   "outputs": [
    {
     "data": {
      "text/html": [
       "\n",
       "        <script src=\"/static/components/requirejs/require.js\"></script>\n",
       "            "
      ],
      "text/plain": [
       "<IPython.core.display.HTML object>"
      ]
     },
     "metadata": {},
     "output_type": "display_data"
    }
   ],
   "source": [
    "from IPython.core.display import HTML\n",
    "\n",
    "display(HTML('''\n",
    "        <script src=\"/static/components/requirejs/require.js\"></script>\n",
    "            '''))\n"
   ]
  },
  {
   "cell_type": "code",
   "execution_count": 20,
   "id": "superb-cliff",
   "metadata": {},
   "outputs": [
    {
     "data": {
      "application/javascript": [
       "requirejs([\"https://cdn.jsdelivr.net/npm/vue@2.6.0\"], function(Vue) {\n",
       "    window.Vue = Vue;\n",
       "});\n"
      ],
      "text/plain": [
       "<IPython.core.display.Javascript object>"
      ]
     },
     "metadata": {},
     "output_type": "display_data"
    }
   ],
   "source": [
    "%%javascript\n",
    "requirejs([\"https://cdn.jsdelivr.net/npm/vue@2.6.0\"], function(Vue) {\n",
    "    window.Vue = Vue;\n",
    "});"
   ]
  },
  {
   "cell_type": "code",
   "execution_count": 21,
   "id": "authorized-promotion",
   "metadata": {},
   "outputs": [
    {
     "data": {
      "text/html": [
       "  <h1>Vue Demo #1</h1>\n",
       "  <div id=\"vapp1\">\n",
       "      <colored-box class=\"red\" v-show=\"display == 'redbox'\"></colored-box>\n",
       "      <colored-box class=\"green\" v-show=\"display == 'greenbox'\"></colored-box>\n",
       "  </div>\n",
       "<!-- Our View App goes at the end of the document -->\n",
       "\n",
       "  <style type=\"text/css\">\n",
       "    .box {\n",
       "      height: 200px;\n",
       "      width: 200px; \n",
       "      text-align: center;\n",
       "    }\n",
       "    .red {\n",
       "      background-color: red;\n",
       "    }\n",
       "    .green {\n",
       "      background-color: green;\n",
       "    }\n",
       "  </style>  \n",
       "\n",
       "\n"
      ],
      "text/plain": [
       "<IPython.core.display.HTML object>"
      ]
     },
     "metadata": {},
     "output_type": "display_data"
    }
   ],
   "source": [
    "%%html\n",
    "  <h1>Vue Demo #1</h1>\n",
    "  <div id=\"vapp1\">\n",
    "      <colored-box class=\"red\" v-show=\"display == 'redbox'\"></colored-box>\n",
    "      <colored-box class=\"green\" v-show=\"display == 'greenbox'\"></colored-box>\n",
    "  </div>\n",
    "<!-- Our View App goes at the end of the document -->\n",
    "\n",
    "  <style type=\"text/css\">\n",
    "    .box {\n",
    "      height: 200px;\n",
    "      width: 200px; \n",
    "      text-align: center;\n",
    "    }\n",
    "    .red {\n",
    "      background-color: red;\n",
    "    }\n",
    "    .green {\n",
    "      background-color: green;\n",
    "    }\n",
    "  </style>  \n",
    "\n",
    "\n"
   ]
  },
  {
   "cell_type": "code",
   "execution_count": 22,
   "id": "focal-daughter",
   "metadata": {},
   "outputs": [
    {
     "data": {
      "application/javascript": [
       "Vue.component('ColoredBox', {\n",
       "  template: \"<div class=\\\"box\\\"><button v-on:click=\\\"toggleMe()\\\">Toggle Now</button></div>\",\n",
       "  methods: {\n",
       "    toggleMe() {\n",
       "      this.$root.toggleBox()\n",
       "    }\n",
       "  }\n",
       "})\n",
       "\n",
       "const vueApp = new Vue({\n",
       "  el: '#vapp1',\n",
       "  data: { \n",
       "   display: 'redbox' \n",
       "  },\n",
       "  methods: {\n",
       "    toggleBox() {\n",
       "      this.display == 'redbox' ? this.display = 'greenbox' : this.display = 'redbox'\n",
       "    }\n",
       "  }\n",
       "})\n"
      ],
      "text/plain": [
       "<IPython.core.display.Javascript object>"
      ]
     },
     "metadata": {},
     "output_type": "display_data"
    }
   ],
   "source": [
    "%%javascript\n",
    "Vue.component('ColoredBox', {\n",
    "  template: \"<div class=\\\"box\\\"><button v-on:click=\\\"toggleMe()\\\">Toggle Now</button></div>\",\n",
    "  methods: {\n",
    "    toggleMe() {\n",
    "      this.$root.toggleBox()\n",
    "    }\n",
    "  }\n",
    "})\n",
    "\n",
    "const vueApp = new Vue({\n",
    "  el: '#vapp1',\n",
    "  data: { \n",
    "   display: 'redbox' \n",
    "  },\n",
    "  methods: {\n",
    "    toggleBox() {\n",
    "      this.display == 'redbox' ? this.display = 'greenbox' : this.display = 'redbox'\n",
    "    }\n",
    "  }\n",
    "})"
   ]
  },
  {
   "cell_type": "code",
   "execution_count": null,
   "id": "conditional-scene",
   "metadata": {},
   "outputs": [],
   "source": []
  },
  {
   "cell_type": "code",
   "execution_count": 23,
   "id": "cross-aviation",
   "metadata": {},
   "outputs": [],
   "source": [
    "import ipywidgets as widget\n",
    "\n",
    "img =  widget.HTML('<div id=\"img\" style=\"float:left\">'\n",
    "                    '<img style=\"vertical-align:middle\" src=\"Getty.jpg\" alt=\"\">'                       \n",
    "                    '</div>')\n",
    "#img"
   ]
  },
  {
   "cell_type": "code",
   "execution_count": 24,
   "id": "impaired-inquiry",
   "metadata": {},
   "outputs": [
    {
     "data": {
      "application/vnd.jupyter.widget-view+json": {
       "model_id": "60af8bbe33dd4b058018681b8e0b9749",
       "version_major": 2,
       "version_minor": 0
      },
      "text/plain": [
       "HTML(value='<h1>Vue Demo #1</h1>\\n  <div id=\"vapp1\">\\n      <colored-box class=\"red\" v-show=\"display == \\'redb…"
      ]
     },
     "metadata": {},
     "output_type": "display_data"
    }
   ],
   "source": [
    "app1 =  widget.HTML(\"\"\"<h1>Vue Demo #1</h1>\n",
    "  <div id=\"vapp1\">\n",
    "      <colored-box class=\"red\" v-show=\"display == 'redbox'\"></colored-box>\n",
    "      <colored-box class=\"green\" v-show=\"display == 'greenbox'\"></colored-box>\n",
    "  </div>\n",
    "<!-- Our View App goes at the end of the document -->\n",
    "  <style type=\"text/css\">\n",
    "    .box {\n",
    "      height: 200px;\n",
    "      width: 200px; \n",
    "      text-align: center;\n",
    "    }\n",
    "    .red {\n",
    "      background-color: red;\n",
    "    }\n",
    "    .green {\n",
    "      background-color: green;\n",
    "    }\n",
    "  </style>\"\"\")  \n",
    "\n",
    "app1"
   ]
  },
  {
   "cell_type": "code",
   "execution_count": null,
   "id": "answering-handling",
   "metadata": {},
   "outputs": [],
   "source": []
  }
 ],
 "metadata": {
  "kernelspec": {
   "display_name": "env",
   "language": "python",
   "name": "env"
  },
  "language_info": {
   "codemirror_mode": {
    "name": "ipython",
    "version": 3
   },
   "file_extension": ".py",
   "mimetype": "text/x-python",
   "name": "python",
   "nbconvert_exporter": "python",
   "pygments_lexer": "ipython3",
   "version": "3.6.9"
  }
 },
 "nbformat": 4,
 "nbformat_minor": 5
}

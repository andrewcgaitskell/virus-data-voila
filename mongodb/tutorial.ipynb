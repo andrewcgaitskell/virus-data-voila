{
 "cells": [
  {
   "cell_type": "code",
   "execution_count": 2,
   "id": "settled-jason",
   "metadata": {},
   "outputs": [],
   "source": [
    "import pymongo"
   ]
  },
  {
   "cell_type": "code",
   "execution_count": 3,
   "id": "novel-ordinary",
   "metadata": {},
   "outputs": [],
   "source": [
    "myclient = pymongo.MongoClient(\"mongodb://localhost:27017/\")\n",
    "\n",
    "mydb = myclient[\"mydatabase\"]"
   ]
  },
  {
   "cell_type": "code",
   "execution_count": 4,
   "id": "married-optimization",
   "metadata": {},
   "outputs": [
    {
     "name": "stdout",
     "output_type": "stream",
     "text": [
      "['admin', 'config', 'local']\n"
     ]
    }
   ],
   "source": [
    "print(myclient.list_database_names())"
   ]
  },
  {
   "cell_type": "code",
   "execution_count": 5,
   "id": "hired-attendance",
   "metadata": {},
   "outputs": [],
   "source": [
    "mycol = mydb[\"customers\"]"
   ]
  },
  {
   "cell_type": "code",
   "execution_count": 7,
   "id": "faced-laser",
   "metadata": {},
   "outputs": [],
   "source": [
    "mydict = { \"name\": \"John\", \"address\": \"Highway 37\" }\n",
    "\n",
    "x = mycol.insert_one(mydict)"
   ]
  },
  {
   "cell_type": "code",
   "execution_count": 8,
   "id": "liberal-section",
   "metadata": {},
   "outputs": [
    {
     "name": "stdout",
     "output_type": "stream",
     "text": [
      "['customers']\n"
     ]
    }
   ],
   "source": [
    "print(mydb.list_collection_names())"
   ]
  },
  {
   "cell_type": "code",
   "execution_count": 9,
   "id": "dying-excitement",
   "metadata": {},
   "outputs": [],
   "source": [
    "mylist = [\n",
    "  { \"name\": \"Amy\", \"address\": \"Apple st 652\"},\n",
    "  { \"name\": \"Hannah\", \"address\": \"Mountain 21\"},\n",
    "  { \"name\": \"Michael\", \"address\": \"Valley 345\"},\n",
    "  { \"name\": \"Sandy\", \"address\": \"Ocean blvd 2\"},\n",
    "  { \"name\": \"Betty\", \"address\": \"Green Grass 1\"},\n",
    "  { \"name\": \"Richard\", \"address\": \"Sky st 331\"},\n",
    "  { \"name\": \"Susan\", \"address\": \"One way 98\"},\n",
    "  { \"name\": \"Vicky\", \"address\": \"Yellow Garden 2\"},\n",
    "  { \"name\": \"Ben\", \"address\": \"Park Lane 38\"},\n",
    "  { \"name\": \"William\", \"address\": \"Central st 954\"},\n",
    "  { \"name\": \"Chuck\", \"address\": \"Main Road 989\"},\n",
    "  { \"name\": \"Viola\", \"address\": \"Sideway 1633\"}\n",
    "]\n",
    "\n"
   ]
  },
  {
   "cell_type": "code",
   "execution_count": 10,
   "id": "persistent-month",
   "metadata": {},
   "outputs": [
    {
     "name": "stdout",
     "output_type": "stream",
     "text": [
      "[ObjectId('601ba1de670addc33c46982d'), ObjectId('601ba1de670addc33c46982e'), ObjectId('601ba1de670addc33c46982f'), ObjectId('601ba1de670addc33c469830'), ObjectId('601ba1de670addc33c469831'), ObjectId('601ba1de670addc33c469832'), ObjectId('601ba1de670addc33c469833'), ObjectId('601ba1de670addc33c469834'), ObjectId('601ba1de670addc33c469835'), ObjectId('601ba1de670addc33c469836'), ObjectId('601ba1de670addc33c469837'), ObjectId('601ba1de670addc33c469838')]\n"
     ]
    }
   ],
   "source": [
    "x = mycol.insert_many(mylist)\n",
    "\n",
    "#print list of the _id values of the inserted documents:\n",
    "print(x.inserted_ids)"
   ]
  },
  {
   "cell_type": "code",
   "execution_count": 11,
   "id": "stretch-marshall",
   "metadata": {},
   "outputs": [
    {
     "name": "stdout",
     "output_type": "stream",
     "text": [
      "{'_id': ObjectId('601ba09f670addc33c46982c'), 'name': 'John', 'address': 'Highway 37'}\n"
     ]
    }
   ],
   "source": [
    "x = mycol.find_one()\n",
    "\n",
    "print(x)"
   ]
  },
  {
   "cell_type": "code",
   "execution_count": 12,
   "id": "pregnant-reach",
   "metadata": {},
   "outputs": [
    {
     "name": "stdout",
     "output_type": "stream",
     "text": [
      "{'_id': ObjectId('601ba09f670addc33c46982c'), 'name': 'John', 'address': 'Highway 37'}\n",
      "{'_id': ObjectId('601ba1de670addc33c46982d'), 'name': 'Amy', 'address': 'Apple st 652'}\n",
      "{'_id': ObjectId('601ba1de670addc33c46982e'), 'name': 'Hannah', 'address': 'Mountain 21'}\n",
      "{'_id': ObjectId('601ba1de670addc33c46982f'), 'name': 'Michael', 'address': 'Valley 345'}\n",
      "{'_id': ObjectId('601ba1de670addc33c469830'), 'name': 'Sandy', 'address': 'Ocean blvd 2'}\n",
      "{'_id': ObjectId('601ba1de670addc33c469831'), 'name': 'Betty', 'address': 'Green Grass 1'}\n",
      "{'_id': ObjectId('601ba1de670addc33c469832'), 'name': 'Richard', 'address': 'Sky st 331'}\n",
      "{'_id': ObjectId('601ba1de670addc33c469833'), 'name': 'Susan', 'address': 'One way 98'}\n",
      "{'_id': ObjectId('601ba1de670addc33c469834'), 'name': 'Vicky', 'address': 'Yellow Garden 2'}\n",
      "{'_id': ObjectId('601ba1de670addc33c469835'), 'name': 'Ben', 'address': 'Park Lane 38'}\n",
      "{'_id': ObjectId('601ba1de670addc33c469836'), 'name': 'William', 'address': 'Central st 954'}\n",
      "{'_id': ObjectId('601ba1de670addc33c469837'), 'name': 'Chuck', 'address': 'Main Road 989'}\n",
      "{'_id': ObjectId('601ba1de670addc33c469838'), 'name': 'Viola', 'address': 'Sideway 1633'}\n"
     ]
    }
   ],
   "source": [
    "for x in mycol.find():\n",
    "  print(x)"
   ]
  },
  {
   "cell_type": "code",
   "execution_count": 13,
   "id": "collected-cream",
   "metadata": {},
   "outputs": [
    {
     "name": "stdout",
     "output_type": "stream",
     "text": [
      "{'name': 'John', 'address': 'Highway 37'}\n",
      "{'name': 'Amy', 'address': 'Apple st 652'}\n",
      "{'name': 'Hannah', 'address': 'Mountain 21'}\n",
      "{'name': 'Michael', 'address': 'Valley 345'}\n",
      "{'name': 'Sandy', 'address': 'Ocean blvd 2'}\n",
      "{'name': 'Betty', 'address': 'Green Grass 1'}\n",
      "{'name': 'Richard', 'address': 'Sky st 331'}\n",
      "{'name': 'Susan', 'address': 'One way 98'}\n",
      "{'name': 'Vicky', 'address': 'Yellow Garden 2'}\n",
      "{'name': 'Ben', 'address': 'Park Lane 38'}\n",
      "{'name': 'William', 'address': 'Central st 954'}\n",
      "{'name': 'Chuck', 'address': 'Main Road 989'}\n",
      "{'name': 'Viola', 'address': 'Sideway 1633'}\n"
     ]
    }
   ],
   "source": [
    "for x in mycol.find({},{ \"_id\": 0, \"name\": 1, \"address\": 1 }): ## 0 suppresses/ can just suppress columns - see below\n",
    "  print(x)"
   ]
  },
  {
   "cell_type": "code",
   "execution_count": 14,
   "id": "ordered-character",
   "metadata": {},
   "outputs": [
    {
     "name": "stdout",
     "output_type": "stream",
     "text": [
      "{'_id': ObjectId('601ba09f670addc33c46982c'), 'name': 'John'}\n",
      "{'_id': ObjectId('601ba1de670addc33c46982d'), 'name': 'Amy'}\n",
      "{'_id': ObjectId('601ba1de670addc33c46982e'), 'name': 'Hannah'}\n",
      "{'_id': ObjectId('601ba1de670addc33c46982f'), 'name': 'Michael'}\n",
      "{'_id': ObjectId('601ba1de670addc33c469830'), 'name': 'Sandy'}\n",
      "{'_id': ObjectId('601ba1de670addc33c469831'), 'name': 'Betty'}\n",
      "{'_id': ObjectId('601ba1de670addc33c469832'), 'name': 'Richard'}\n",
      "{'_id': ObjectId('601ba1de670addc33c469833'), 'name': 'Susan'}\n",
      "{'_id': ObjectId('601ba1de670addc33c469834'), 'name': 'Vicky'}\n",
      "{'_id': ObjectId('601ba1de670addc33c469835'), 'name': 'Ben'}\n",
      "{'_id': ObjectId('601ba1de670addc33c469836'), 'name': 'William'}\n",
      "{'_id': ObjectId('601ba1de670addc33c469837'), 'name': 'Chuck'}\n",
      "{'_id': ObjectId('601ba1de670addc33c469838'), 'name': 'Viola'}\n"
     ]
    }
   ],
   "source": [
    "for x in mycol.find({},{ \"address\": 0 }):\n",
    "  print(x)"
   ]
  },
  {
   "cell_type": "code",
   "execution_count": 15,
   "id": "dirty-channel",
   "metadata": {},
   "outputs": [
    {
     "name": "stdout",
     "output_type": "stream",
     "text": [
      "{'_id': ObjectId('601ba1de670addc33c469835'), 'name': 'Ben', 'address': 'Park Lane 38'}\n"
     ]
    }
   ],
   "source": [
    "myquery = { \"address\": \"Park Lane 38\" }\n",
    "\n",
    "mydoc = mycol.find(myquery)\n",
    "\n",
    "for x in mydoc:\n",
    "  print(x)"
   ]
  },
  {
   "cell_type": "code",
   "execution_count": 16,
   "id": "pending-incentive",
   "metadata": {},
   "outputs": [
    {
     "data": {
      "text/plain": [
       "<pymongo.cursor.Cursor at 0x7f89a22a55c0>"
      ]
     },
     "execution_count": 16,
     "metadata": {},
     "output_type": "execute_result"
    }
   ],
   "source": [
    "mydoc"
   ]
  },
  {
   "cell_type": "code",
   "execution_count": 17,
   "id": "requested-benefit",
   "metadata": {},
   "outputs": [
    {
     "name": "stdout",
     "output_type": "stream",
     "text": [
      "{'_id': ObjectId('601ba1de670addc33c46982f'), 'name': 'Michael', 'address': 'Valley 345'}\n",
      "{'_id': ObjectId('601ba1de670addc33c469832'), 'name': 'Richard', 'address': 'Sky st 331'}\n",
      "{'_id': ObjectId('601ba1de670addc33c469834'), 'name': 'Vicky', 'address': 'Yellow Garden 2'}\n",
      "{'_id': ObjectId('601ba1de670addc33c469838'), 'name': 'Viola', 'address': 'Sideway 1633'}\n"
     ]
    }
   ],
   "source": [
    "myquery = { \"address\": { \"$gt\": \"S\" } } ## modifier - need more examples\n",
    "\n",
    "mydoc = mycol.find(myquery)\n",
    "\n",
    "for x in mydoc:\n",
    "  print(x)"
   ]
  },
  {
   "cell_type": "code",
   "execution_count": 18,
   "id": "integrated-worker",
   "metadata": {},
   "outputs": [
    {
     "name": "stdout",
     "output_type": "stream",
     "text": [
      "{'_id': ObjectId('601ba1de670addc33c469832'), 'name': 'Richard', 'address': 'Sky st 331'}\n",
      "{'_id': ObjectId('601ba1de670addc33c469838'), 'name': 'Viola', 'address': 'Sideway 1633'}\n"
     ]
    }
   ],
   "source": [
    "myquery = { \"address\": { \"$regex\": \"^S\" } }  ## regex - I need to find out more about regex\n",
    "\n",
    "mydoc = mycol.find(myquery)\n",
    "\n",
    "for x in mydoc:\n",
    "  print(x)"
   ]
  },
  {
   "cell_type": "code",
   "execution_count": 19,
   "id": "usual-found",
   "metadata": {},
   "outputs": [
    {
     "name": "stdout",
     "output_type": "stream",
     "text": [
      "{'_id': ObjectId('601ba1de670addc33c46982d'), 'name': 'Amy', 'address': 'Apple st 652'}\n",
      "{'_id': ObjectId('601ba1de670addc33c469835'), 'name': 'Ben', 'address': 'Park Lane 38'}\n",
      "{'_id': ObjectId('601ba1de670addc33c469831'), 'name': 'Betty', 'address': 'Green Grass 1'}\n",
      "{'_id': ObjectId('601ba1de670addc33c469837'), 'name': 'Chuck', 'address': 'Main Road 989'}\n",
      "{'_id': ObjectId('601ba1de670addc33c46982e'), 'name': 'Hannah', 'address': 'Mountain 21'}\n",
      "{'_id': ObjectId('601ba09f670addc33c46982c'), 'name': 'John', 'address': 'Highway 37'}\n",
      "{'_id': ObjectId('601ba1de670addc33c46982f'), 'name': 'Michael', 'address': 'Valley 345'}\n",
      "{'_id': ObjectId('601ba1de670addc33c469832'), 'name': 'Richard', 'address': 'Sky st 331'}\n",
      "{'_id': ObjectId('601ba1de670addc33c469830'), 'name': 'Sandy', 'address': 'Ocean blvd 2'}\n",
      "{'_id': ObjectId('601ba1de670addc33c469833'), 'name': 'Susan', 'address': 'One way 98'}\n",
      "{'_id': ObjectId('601ba1de670addc33c469834'), 'name': 'Vicky', 'address': 'Yellow Garden 2'}\n",
      "{'_id': ObjectId('601ba1de670addc33c469838'), 'name': 'Viola', 'address': 'Sideway 1633'}\n",
      "{'_id': ObjectId('601ba1de670addc33c469836'), 'name': 'William', 'address': 'Central st 954'}\n"
     ]
    }
   ],
   "source": [
    "mydoc = mycol.find().sort(\"name\")  ## default is ascending\n",
    "\n",
    "for x in mydoc:\n",
    "  print(x)"
   ]
  },
  {
   "cell_type": "code",
   "execution_count": 20,
   "id": "interim-buddy",
   "metadata": {},
   "outputs": [
    {
     "name": "stdout",
     "output_type": "stream",
     "text": [
      "{'_id': ObjectId('601ba1de670addc33c469836'), 'name': 'William', 'address': 'Central st 954'}\n",
      "{'_id': ObjectId('601ba1de670addc33c469838'), 'name': 'Viola', 'address': 'Sideway 1633'}\n",
      "{'_id': ObjectId('601ba1de670addc33c469834'), 'name': 'Vicky', 'address': 'Yellow Garden 2'}\n",
      "{'_id': ObjectId('601ba1de670addc33c469833'), 'name': 'Susan', 'address': 'One way 98'}\n",
      "{'_id': ObjectId('601ba1de670addc33c469830'), 'name': 'Sandy', 'address': 'Ocean blvd 2'}\n",
      "{'_id': ObjectId('601ba1de670addc33c469832'), 'name': 'Richard', 'address': 'Sky st 331'}\n",
      "{'_id': ObjectId('601ba1de670addc33c46982f'), 'name': 'Michael', 'address': 'Valley 345'}\n",
      "{'_id': ObjectId('601ba09f670addc33c46982c'), 'name': 'John', 'address': 'Highway 37'}\n",
      "{'_id': ObjectId('601ba1de670addc33c46982e'), 'name': 'Hannah', 'address': 'Mountain 21'}\n",
      "{'_id': ObjectId('601ba1de670addc33c469837'), 'name': 'Chuck', 'address': 'Main Road 989'}\n",
      "{'_id': ObjectId('601ba1de670addc33c469831'), 'name': 'Betty', 'address': 'Green Grass 1'}\n",
      "{'_id': ObjectId('601ba1de670addc33c469835'), 'name': 'Ben', 'address': 'Park Lane 38'}\n",
      "{'_id': ObjectId('601ba1de670addc33c46982d'), 'name': 'Amy', 'address': 'Apple st 652'}\n"
     ]
    }
   ],
   "source": [
    "mydoc = mycol.find().sort(\"name\", -1) ## -1 is flag to sort descending\n",
    "\n",
    "for x in mydoc:\n",
    "  print(x)"
   ]
  },
  {
   "cell_type": "code",
   "execution_count": 21,
   "id": "tough-proposition",
   "metadata": {},
   "outputs": [
    {
     "data": {
      "text/plain": [
       "<pymongo.results.DeleteResult at 0x7f89a22bbd48>"
      ]
     },
     "execution_count": 21,
     "metadata": {},
     "output_type": "execute_result"
    }
   ],
   "source": [
    "myquery = { \"address\": \"Mountain 21\" }\n",
    "\n",
    "mycol.delete_one(myquery) ## delete based on above criteria"
   ]
  },
  {
   "cell_type": "code",
   "execution_count": 22,
   "id": "brazilian-study",
   "metadata": {},
   "outputs": [
    {
     "name": "stdout",
     "output_type": "stream",
     "text": [
      "{'_id': ObjectId('601ba1de670addc33c469836'), 'name': 'William', 'address': 'Central st 954'}\n",
      "{'_id': ObjectId('601ba1de670addc33c469838'), 'name': 'Viola', 'address': 'Sideway 1633'}\n",
      "{'_id': ObjectId('601ba1de670addc33c469834'), 'name': 'Vicky', 'address': 'Yellow Garden 2'}\n",
      "{'_id': ObjectId('601ba1de670addc33c469833'), 'name': 'Susan', 'address': 'One way 98'}\n",
      "{'_id': ObjectId('601ba1de670addc33c469830'), 'name': 'Sandy', 'address': 'Ocean blvd 2'}\n",
      "{'_id': ObjectId('601ba1de670addc33c469832'), 'name': 'Richard', 'address': 'Sky st 331'}\n",
      "{'_id': ObjectId('601ba1de670addc33c46982f'), 'name': 'Michael', 'address': 'Valley 345'}\n",
      "{'_id': ObjectId('601ba09f670addc33c46982c'), 'name': 'John', 'address': 'Highway 37'}\n",
      "{'_id': ObjectId('601ba1de670addc33c469837'), 'name': 'Chuck', 'address': 'Main Road 989'}\n",
      "{'_id': ObjectId('601ba1de670addc33c469831'), 'name': 'Betty', 'address': 'Green Grass 1'}\n",
      "{'_id': ObjectId('601ba1de670addc33c469835'), 'name': 'Ben', 'address': 'Park Lane 38'}\n",
      "{'_id': ObjectId('601ba1de670addc33c46982d'), 'name': 'Amy', 'address': 'Apple st 652'}\n"
     ]
    }
   ],
   "source": [
    "mydoc = mycol.find().sort(\"name\", -1) ## -1 is flag to sort descending\n",
    "\n",
    "for x in mydoc:\n",
    "  print(x)"
   ]
  },
  {
   "cell_type": "code",
   "execution_count": 23,
   "id": "sharp-spank",
   "metadata": {},
   "outputs": [
    {
     "name": "stdout",
     "output_type": "stream",
     "text": [
      "2  documents deleted.\n"
     ]
    }
   ],
   "source": [
    "myquery = { \"address\": {\"$regex\": \"^S\"} }  ## delete many documents based on Regex\n",
    "\n",
    "x = mycol.delete_many(myquery)\n",
    "\n",
    "print(x.deleted_count, \" documents deleted.\")"
   ]
  },
  {
   "cell_type": "code",
   "execution_count": 24,
   "id": "north-postage",
   "metadata": {},
   "outputs": [
    {
     "name": "stdout",
     "output_type": "stream",
     "text": [
      "10  documents deleted.\n"
     ]
    }
   ],
   "source": [
    "x = mycol.delete_many({}) ## no criteria - all\n",
    "\n",
    "print(x.deleted_count, \" documents deleted.\")"
   ]
  },
  {
   "cell_type": "code",
   "execution_count": 25,
   "id": "thrown-belly",
   "metadata": {},
   "outputs": [],
   "source": [
    "mycol.drop() ## drop collection"
   ]
  },
  {
   "cell_type": "code",
   "execution_count": null,
   "id": "fancy-booth",
   "metadata": {},
   "outputs": [],
   "source": [
    "myquery = { \"address\": \"Valley 345\" }\n",
    "newvalues = { \"$set\": { \"address\": \"Canyon 123\" } }\n",
    "\n",
    "mycol.update_one(myquery, newvalues)\n",
    "\n",
    "#print \"customers\" after the update:\n",
    "for x in mycol.find():\n",
    "  print(x)"
   ]
  },
  {
   "cell_type": "code",
   "execution_count": null,
   "id": "extensive-sunrise",
   "metadata": {},
   "outputs": [],
   "source": [
    "myquery = { \"address\": { \"$regex\": \"^S\" } }\n",
    "newvalues = { \"$set\": { \"name\": \"Minnie\" } }\n",
    "\n",
    "x = mycol.update_many(myquery, newvalues)\n",
    "\n",
    "print(x.modified_count, \"documents updated.\")"
   ]
  },
  {
   "cell_type": "code",
   "execution_count": null,
   "id": "clear-bible",
   "metadata": {},
   "outputs": [],
   "source": [
    "myresult = mycol.find().limit(5)\n",
    "\n",
    "#print the result:\n",
    "for x in myresult:\n",
    "  print(x)"
   ]
  }
 ],
 "metadata": {
  "kernelspec": {
   "display_name": "env",
   "language": "python",
   "name": "env"
  },
  "language_info": {
   "codemirror_mode": {
    "name": "ipython",
    "version": 3
   },
   "file_extension": ".py",
   "mimetype": "text/x-python",
   "name": "python",
   "nbconvert_exporter": "python",
   "pygments_lexer": "ipython3",
   "version": "3.6.9"
  }
 },
 "nbformat": 4,
 "nbformat_minor": 5
}

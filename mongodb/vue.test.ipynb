{
 "cells": [
  {
   "cell_type": "code",
   "execution_count": 9,
   "metadata": {},
   "outputs": [
    {
     "data": {
      "application/vnd.jupyter.widget-view+json": {
       "model_id": "5d913a9df3ee4e4eb8c6e49079380664",
       "version_major": 2,
       "version_minor": 0
      },
      "text/plain": [
       "Label(value='The values of range1 and range2 are synchronized')"
      ]
     },
     "metadata": {},
     "output_type": "display_data"
    },
    {
     "data": {
      "application/vnd.jupyter.widget-view+json": {
       "model_id": "33ffa33c290342a8a9ebc3f5a3ddecf2",
       "version_major": 2,
       "version_minor": 0
      },
      "text/plain": [
       "IntSlider(value=0, description='Range 1')"
      ]
     },
     "metadata": {},
     "output_type": "display_data"
    },
    {
     "data": {
      "application/vnd.jupyter.widget-view+json": {
       "model_id": "bafd61f3643f49fd8a1ebbd2a56bf0da",
       "version_major": 2,
       "version_minor": 0
      },
      "text/plain": [
       "IntSlider(value=0, description='Range 2')"
      ]
     },
     "metadata": {},
     "output_type": "display_data"
    }
   ],
   "source": [
    "import ipywidgets as widgets\n",
    "\n",
    "caption = widgets.Label(value='The values of range1 and range2 are synchronized')\n",
    "range1, range2 = widgets.IntSlider(description='Range 1'),\\\n",
    "                 widgets.IntSlider(description='Range 2')\n",
    "l = widgets.jslink((range1, 'value'), (range2, 'value'))\n",
    "display(caption, range1, range2)"
   ]
  },
  {
   "cell_type": "code",
   "execution_count": 10,
   "metadata": {},
   "outputs": [
    {
     "data": {
      "application/javascript": [
       "console.log(\"Javascript works\")\n"
      ],
      "text/plain": [
       "<IPython.core.display.Javascript object>"
      ]
     },
     "metadata": {},
     "output_type": "display_data"
    }
   ],
   "source": [
    "%%javascript\n",
    "console.log(\"Javascript works\")"
   ]
  },
  {
   "cell_type": "code",
   "execution_count": 11,
   "metadata": {},
   "outputs": [
    {
     "data": {
      "application/javascript": [
       "function loadScript(url, callback){\n",
       "\n",
       "    var script = document.createElement(\"script\")\n",
       "    script.type = \"text/javascript\";\n",
       "\n",
       "    if (script.readyState){  //IE\n",
       "        script.onreadystatechange = function(){\n",
       "            if (script.readyState == \"loaded\" ||\n",
       "                    script.readyState == \"complete\"){\n",
       "                script.onreadystatechange = null;\n",
       "                callback();\n",
       "            }\n",
       "        };\n",
       "    } else {  //Others\n",
       "        script.onload = function(){\n",
       "            callback();\n",
       "        };\n",
       "    }\n",
       "\n",
       "    script.src = url;\n",
       "    document.getElementsByTagName(\"head\")[0].appendChild(script);\n",
       "}\n",
       "\n",
       "!window.Vue ? loadScript(\"https://cdn.jsdelivr.net/npm/vue@2.6.0\", function(){return console.log(\"vue loaded\")}) : console.log(\"vue already loaded -> skipping\");\n"
      ],
      "text/plain": [
       "<IPython.core.display.Javascript object>"
      ]
     },
     "metadata": {},
     "output_type": "display_data"
    }
   ],
   "source": [
    "%%javascript\n",
    "function loadScript(url, callback){\n",
    "\n",
    "    var script = document.createElement(\"script\")\n",
    "    script.type = \"text/javascript\";\n",
    "\n",
    "    if (script.readyState){  //IE\n",
    "        script.onreadystatechange = function(){\n",
    "            if (script.readyState == \"loaded\" ||\n",
    "                    script.readyState == \"complete\"){\n",
    "                script.onreadystatechange = null;\n",
    "                callback();\n",
    "            }\n",
    "        };\n",
    "    } else {  //Others\n",
    "        script.onload = function(){\n",
    "            callback();\n",
    "        };\n",
    "    }\n",
    "\n",
    "    script.src = url;\n",
    "    document.getElementsByTagName(\"head\")[0].appendChild(script);\n",
    "}\n",
    "\n",
    "!window.Vue ? loadScript(\"https://cdn.jsdelivr.net/npm/vue@2.6.0\", function(){return console.log(\"vue loaded\")}) : console.log(\"vue already loaded -> skipping\");"
   ]
  },
  {
   "cell_type": "code",
   "execution_count": 12,
   "metadata": {},
   "outputs": [
    {
     "data": {
      "text/html": [
       "  <h1>Vue Demo #1</h1>\n",
       "  <div id=\"vapp\">\n",
       "      <colored-box class=\"red\" v-show=\"display == 'redbox'\"></colored-box>\n",
       "      <colored-box class=\"green\" v-show=\"display == 'greenbox'\"></colored-box>\n",
       "  </div>\n",
       "<!-- Our View App goes at the end of the document -->\n",
       "\n",
       "  <style type=\"text/css\">\n",
       "    .box {\n",
       "      height: 200px;\n",
       "      width: 200px; \n",
       "      text-align: center;\n",
       "    }\n",
       "    .red {\n",
       "      background-color: red;\n",
       "    }\n",
       "    .green {\n",
       "      background-color: green;\n",
       "    }\n",
       "  </style>  \n"
      ],
      "text/plain": [
       "<IPython.core.display.HTML object>"
      ]
     },
     "metadata": {},
     "output_type": "display_data"
    }
   ],
   "source": [
    "%%html\n",
    "  <h1>Vue Demo #1</h1>\n",
    "  <div id=\"vapp\">\n",
    "      <colored-box class=\"red\" v-show=\"display == 'redbox'\"></colored-box>\n",
    "      <colored-box class=\"green\" v-show=\"display == 'greenbox'\"></colored-box>\n",
    "  </div>\n",
    "<!-- Our View App goes at the end of the document -->\n",
    "\n",
    "  <style type=\"text/css\">\n",
    "    .box {\n",
    "      height: 200px;\n",
    "      width: 200px; \n",
    "      text-align: center;\n",
    "    }\n",
    "    .red {\n",
    "      background-color: red;\n",
    "    }\n",
    "    .green {\n",
    "      background-color: green;\n",
    "    }\n",
    "  </style>  "
   ]
  },
  {
   "cell_type": "code",
   "execution_count": 13,
   "metadata": {},
   "outputs": [
    {
     "data": {
      "application/javascript": [
       "\n",
       "requirejs(['https://cdn.jsdelivr.net/npm/vue@2'], (Vue) => {\n",
       "    \n",
       "    Vue.component('ColoredBox', {\n",
       "      template: \"<div class=\\\"box\\\"><button v-on:click=\\\"toggleMe()\\\">Toggle Now</button></div>\",\n",
       "      methods: {\n",
       "        toggleMe() {\n",
       "          this.$root.toggleBox()\n",
       "        }\n",
       "      }\n",
       "    })\n",
       "\n",
       "    const vueApp = new Vue({\n",
       "      el: '#vapp',\n",
       "      data: { \n",
       "       display: 'redbox' \n",
       "      },\n",
       "      methods: {\n",
       "        toggleBox() {\n",
       "          this.display == 'redbox' ? this.display = 'greenbox' : this.display = 'redbox'\n",
       "        }\n",
       "      }\n",
       "    })    \n",
       "})\n"
      ],
      "text/plain": [
       "<IPython.core.display.Javascript object>"
      ]
     },
     "metadata": {},
     "output_type": "display_data"
    }
   ],
   "source": [
    "%%javascript\n",
    "\n",
    "requirejs(['https://cdn.jsdelivr.net/npm/vue@2'], (Vue) => {\n",
    "    \n",
    "    Vue.component('ColoredBox', {\n",
    "      template: \"<div class=\\\"box\\\"><button v-on:click=\\\"toggleMe()\\\">Toggle Now</button></div>\",\n",
    "      methods: {\n",
    "        toggleMe() {\n",
    "          this.$root.toggleBox()\n",
    "        }\n",
    "      }\n",
    "    })\n",
    "\n",
    "    const vueApp = new Vue({\n",
    "      el: '#vapp',\n",
    "      data: { \n",
    "       display: 'redbox' \n",
    "      },\n",
    "      methods: {\n",
    "        toggleBox() {\n",
    "          this.display == 'redbox' ? this.display = 'greenbox' : this.display = 'redbox'\n",
    "        }\n",
    "      }\n",
    "    })    \n",
    "})"
   ]
  },
  {
   "cell_type": "code",
   "execution_count": null,
   "metadata": {},
   "outputs": [],
   "source": []
  }
 ],
 "metadata": {
  "kernelspec": {
   "display_name": "Python 3",
   "language": "python",
   "name": "python3"
  },
  "language_info": {
   "codemirror_mode": {
    "name": "ipython",
    "version": 3
   },
   "file_extension": ".py",
   "mimetype": "text/x-python",
   "name": "python",
   "nbconvert_exporter": "python",
   "pygments_lexer": "ipython3",
   "version": "3.6.9"
  },
  "widgets": {
   "application/vnd.jupyter.widget-state+json": {
    "state": {
     "0693359df9764ca19379a6f65f490e43": {
      "model_module": "@jupyter-widgets/controls",
      "model_module_version": "1.5.0",
      "model_name": "SliderStyleModel",
      "state": {
       "description_width": ""
      }
     },
     "086e8520aeed4d8fbba7652142852643": {
      "model_module": "@jupyter-widgets/base",
      "model_module_version": "1.2.0",
      "model_name": "LayoutModel",
      "state": {}
     },
     "0cbc027efc5842c8af1622745245fe64": {
      "model_module": "@jupyter-widgets/controls",
      "model_module_version": "1.5.0",
      "model_name": "IntSliderModel",
      "state": {
       "description": "Range 2",
       "layout": "IPY_MODEL_b8bf43f97ce948e8a813678975884bb4",
       "style": "IPY_MODEL_c22210a42b7d4cf5a41b15f005be30df",
       "value": 57
      }
     },
     "0dc46b2f557d46fca121ac40d7f75954": {
      "model_module": "@jupyter-widgets/controls",
      "model_module_version": "1.5.0",
      "model_name": "IntSliderModel",
      "state": {
       "description": "Range 1",
       "layout": "IPY_MODEL_67b0405e1d49498f8be3960c57613062",
       "style": "IPY_MODEL_1cb17608ea094b50ba1d6bef620caff2",
       "value": 53
      }
     },
     "0fb18a8dfb9e43a08d832933f035c4aa": {
      "model_module": "@jupyter-widgets/controls",
      "model_module_version": "1.5.0",
      "model_name": "LabelModel",
      "state": {
       "layout": "IPY_MODEL_61cda883df9648bd8f01ee4d0ad1628d",
       "style": "IPY_MODEL_6972be6108bd4571bb9dda6d51087a54",
       "value": "The values of range1 and range2 are synchronized"
      }
     },
     "1911e70e54ec46298a3b9e64b4f06798": {
      "model_module": "@jupyter-widgets/controls",
      "model_module_version": "1.5.0",
      "model_name": "SliderStyleModel",
      "state": {
       "description_width": ""
      }
     },
     "1cb17608ea094b50ba1d6bef620caff2": {
      "model_module": "@jupyter-widgets/controls",
      "model_module_version": "1.5.0",
      "model_name": "SliderStyleModel",
      "state": {
       "description_width": ""
      }
     },
     "2622992d10604e0b8d87729a2c698276": {
      "model_module": "@jupyter-widgets/base",
      "model_module_version": "1.2.0",
      "model_name": "LayoutModel",
      "state": {}
     },
     "2629ae0d0ea24e6bb99d9835c09c5fef": {
      "model_module": "@jupyter-widgets/base",
      "model_module_version": "1.2.0",
      "model_name": "LayoutModel",
      "state": {}
     },
     "2b3b920d018c4639be181572afeb76bf": {
      "model_module": "@jupyter-widgets/controls",
      "model_module_version": "1.5.0",
      "model_name": "IntSliderModel",
      "state": {
       "description": "Range 2",
       "layout": "IPY_MODEL_6197da84429145d185c21148ebd70ec4",
       "style": "IPY_MODEL_a72dae9bf8c3429b9d7f8ff7f7a346b7",
       "value": 53
      }
     },
     "346ecee720d84734939d13591775f934": {
      "model_module": "@jupyter-widgets/controls",
      "model_module_version": "1.5.0",
      "model_name": "SliderStyleModel",
      "state": {
       "description_width": ""
      }
     },
     "358ed92f324c47fca486306d55cc4e10": {
      "model_module": "@jupyter-widgets/controls",
      "model_module_version": "1.5.0",
      "model_name": "DescriptionStyleModel",
      "state": {
       "description_width": ""
      }
     },
     "36e774893f28473d8642000fcee22db3": {
      "model_module": "@jupyter-widgets/base",
      "model_module_version": "1.2.0",
      "model_name": "LayoutModel",
      "state": {}
     },
     "38166ac226004f788b910407ba7878c5": {
      "model_module": "@jupyter-widgets/controls",
      "model_module_version": "1.5.0",
      "model_name": "SliderStyleModel",
      "state": {
       "description_width": ""
      }
     },
     "3b9fa4fac0b2434abc40e8c58fde9314": {
      "model_module": "@jupyter-widgets/controls",
      "model_module_version": "1.5.0",
      "model_name": "IntSliderModel",
      "state": {
       "description": "Range 2",
       "layout": "IPY_MODEL_601fd7a902554c17a4645300fc188537",
       "style": "IPY_MODEL_346ecee720d84734939d13591775f934"
      }
     },
     "3d558e019b8f49ec9ff8c285e5ece1a5": {
      "model_module": "@jupyter-widgets/controls",
      "model_module_version": "1.5.0",
      "model_name": "SliderStyleModel",
      "state": {
       "description_width": ""
      }
     },
     "3f0962dd355b447abfc9652ce86d718c": {
      "model_module": "@jupyter-widgets/controls",
      "model_module_version": "1.5.0",
      "model_name": "SliderStyleModel",
      "state": {
       "description_width": ""
      }
     },
     "3f3986cb3dff4b1b80d6c7d4a9cb6fef": {
      "model_module": "@jupyter-widgets/controls",
      "model_module_version": "1.5.0",
      "model_name": "IntSliderModel",
      "state": {
       "description": "Range 1",
       "layout": "IPY_MODEL_2629ae0d0ea24e6bb99d9835c09c5fef",
       "style": "IPY_MODEL_cdd9a719a97e44529bf193322f072e7a",
       "value": 57
      }
     },
     "439343ec84d44647af6153ef368814b4": {
      "model_module": "@jupyter-widgets/controls",
      "model_module_version": "1.5.0",
      "model_name": "LabelModel",
      "state": {
       "layout": "IPY_MODEL_76c8f1102f0c4c4ab931ac584f01ee60",
       "style": "IPY_MODEL_f5ef1abf0528460d9838927eee1abf89",
       "value": "The values of range1 and range2 are synchronized"
      }
     },
     "4ca30e772f1a4f84aa18269b223f76c7": {
      "model_module": "@jupyter-widgets/base",
      "model_module_version": "1.2.0",
      "model_name": "LayoutModel",
      "state": {}
     },
     "51588e682a824678a5383f9703555e4d": {
      "model_module": "@jupyter-widgets/controls",
      "model_module_version": "1.5.0",
      "model_name": "IntSliderModel",
      "state": {
       "description": "Range 1",
       "layout": "IPY_MODEL_91f7feab03914bb4973d08fb5fe21192",
       "style": "IPY_MODEL_5ec48cf9ba334ecfa52ed700c4df80af",
       "value": 100
      }
     },
     "5d961cdb472f489bbd8104f95f789a40": {
      "model_module": "@jupyter-widgets/controls",
      "model_module_version": "1.5.0",
      "model_name": "LinkModel",
      "state": {
       "source": [
        "IPY_MODEL_8dfd7b7943334d37be767891e69d80df",
        "value"
       ],
       "target": [
        "IPY_MODEL_f5007c898a1a488bbe603d21bb066f1b",
        "value"
       ]
      }
     },
     "5ec48cf9ba334ecfa52ed700c4df80af": {
      "model_module": "@jupyter-widgets/controls",
      "model_module_version": "1.5.0",
      "model_name": "SliderStyleModel",
      "state": {
       "description_width": ""
      }
     },
     "5fd7547b4ff74dbdbbf8276168e3fa4e": {
      "model_module": "@jupyter-widgets/controls",
      "model_module_version": "1.5.0",
      "model_name": "LinkModel",
      "state": {
       "source": [
        "IPY_MODEL_0dc46b2f557d46fca121ac40d7f75954",
        "value"
       ],
       "target": [
        "IPY_MODEL_2b3b920d018c4639be181572afeb76bf",
        "value"
       ]
      }
     },
     "601fd7a902554c17a4645300fc188537": {
      "model_module": "@jupyter-widgets/base",
      "model_module_version": "1.2.0",
      "model_name": "LayoutModel",
      "state": {}
     },
     "6197da84429145d185c21148ebd70ec4": {
      "model_module": "@jupyter-widgets/base",
      "model_module_version": "1.2.0",
      "model_name": "LayoutModel",
      "state": {}
     },
     "61b61573d9af4468b5bf37cd08e1aaa6": {
      "model_module": "@jupyter-widgets/base",
      "model_module_version": "1.2.0",
      "model_name": "LayoutModel",
      "state": {}
     },
     "61cda883df9648bd8f01ee4d0ad1628d": {
      "model_module": "@jupyter-widgets/base",
      "model_module_version": "1.2.0",
      "model_name": "LayoutModel",
      "state": {}
     },
     "67b0405e1d49498f8be3960c57613062": {
      "model_module": "@jupyter-widgets/base",
      "model_module_version": "1.2.0",
      "model_name": "LayoutModel",
      "state": {}
     },
     "6972be6108bd4571bb9dda6d51087a54": {
      "model_module": "@jupyter-widgets/controls",
      "model_module_version": "1.5.0",
      "model_name": "DescriptionStyleModel",
      "state": {
       "description_width": ""
      }
     },
     "711ddfa69a9747428c8248273983d537": {
      "model_module": "@jupyter-widgets/controls",
      "model_module_version": "1.5.0",
      "model_name": "LinkModel",
      "state": {
       "source": [
        "IPY_MODEL_51588e682a824678a5383f9703555e4d",
        "value"
       ],
       "target": [
        "IPY_MODEL_d2dd8031a689430fb4c2d5d28b79d85d",
        "value"
       ]
      }
     },
     "76c8f1102f0c4c4ab931ac584f01ee60": {
      "model_module": "@jupyter-widgets/base",
      "model_module_version": "1.2.0",
      "model_name": "LayoutModel",
      "state": {}
     },
     "7a598c2ca4e7496f8630be15c6638a98": {
      "model_module": "@jupyter-widgets/controls",
      "model_module_version": "1.5.0",
      "model_name": "SliderStyleModel",
      "state": {
       "description_width": ""
      }
     },
     "7c457d666a1b4a8c9ccb0bbd5307c06a": {
      "model_module": "@jupyter-widgets/controls",
      "model_module_version": "1.5.0",
      "model_name": "IntSliderModel",
      "state": {
       "description": "Range 1",
       "layout": "IPY_MODEL_8072a101c4424e288817c74b252e396d",
       "style": "IPY_MODEL_0693359df9764ca19379a6f65f490e43"
      }
     },
     "8072a101c4424e288817c74b252e396d": {
      "model_module": "@jupyter-widgets/base",
      "model_module_version": "1.2.0",
      "model_name": "LayoutModel",
      "state": {}
     },
     "827b713ec11f4977a0c11abf4d7fa5d2": {
      "model_module": "@jupyter-widgets/controls",
      "model_module_version": "1.5.0",
      "model_name": "DescriptionStyleModel",
      "state": {
       "description_width": ""
      }
     },
     "853b8ca9731f4a5f90a516a8a6db32c6": {
      "model_module": "@jupyter-widgets/controls",
      "model_module_version": "1.5.0",
      "model_name": "LabelModel",
      "state": {
       "layout": "IPY_MODEL_b1aa7c36b9fa455fa6e37e67b3fff771",
       "style": "IPY_MODEL_358ed92f324c47fca486306d55cc4e10",
       "value": "The values of range1 and range2 are synchronized"
      }
     },
     "8900641169a9407489a04a3453b259c4": {
      "model_module": "@jupyter-widgets/controls",
      "model_module_version": "1.5.0",
      "model_name": "LinkModel",
      "state": {
       "source": [
        "IPY_MODEL_3f3986cb3dff4b1b80d6c7d4a9cb6fef",
        "value"
       ],
       "target": [
        "IPY_MODEL_0cbc027efc5842c8af1622745245fe64",
        "value"
       ]
      }
     },
     "89a4e89b990f4d83af7deb56c4375730": {
      "model_module": "@jupyter-widgets/controls",
      "model_module_version": "1.5.0",
      "model_name": "DescriptionStyleModel",
      "state": {
       "description_width": ""
      }
     },
     "8af24ef8f42f4beda8d919d06ee52638": {
      "model_module": "@jupyter-widgets/controls",
      "model_module_version": "1.5.0",
      "model_name": "LabelModel",
      "state": {
       "layout": "IPY_MODEL_c682e82951a54727ba96c73f057eab18",
       "style": "IPY_MODEL_d2b69dd2a19b4d81a67aa50a7894924a",
       "value": "The values of range1 and range2 are synchronized"
      }
     },
     "8dfd7b7943334d37be767891e69d80df": {
      "model_module": "@jupyter-widgets/controls",
      "model_module_version": "1.5.0",
      "model_name": "IntSliderModel",
      "state": {
       "description": "Range 1",
       "layout": "IPY_MODEL_ff16c5fa98ac4ddc87b766df93198cfb",
       "style": "IPY_MODEL_3d558e019b8f49ec9ff8c285e5ece1a5"
      }
     },
     "8f26f6e435684dcaaa0e2b4f433b1452": {
      "model_module": "@jupyter-widgets/controls",
      "model_module_version": "1.5.0",
      "model_name": "LinkModel",
      "state": {
       "source": [
        "IPY_MODEL_7c457d666a1b4a8c9ccb0bbd5307c06a",
        "value"
       ],
       "target": [
        "IPY_MODEL_9643342d24a443ed882a3972d5512f3f",
        "value"
       ]
      }
     },
     "906a4b403f9e463badf1841b0bfbb8d0": {
      "model_module": "@jupyter-widgets/base",
      "model_module_version": "1.2.0",
      "model_name": "LayoutModel",
      "state": {}
     },
     "91f7feab03914bb4973d08fb5fe21192": {
      "model_module": "@jupyter-widgets/base",
      "model_module_version": "1.2.0",
      "model_name": "LayoutModel",
      "state": {}
     },
     "963bfc33564e4e9ab8efd1906867f40f": {
      "model_module": "@jupyter-widgets/controls",
      "model_module_version": "1.5.0",
      "model_name": "IntSliderModel",
      "state": {
       "description": "Range 1",
       "layout": "IPY_MODEL_2622992d10604e0b8d87729a2c698276",
       "style": "IPY_MODEL_a3ed835fd26e4cd0b3cbee7ec1edad8d"
      }
     },
     "9643342d24a443ed882a3972d5512f3f": {
      "model_module": "@jupyter-widgets/controls",
      "model_module_version": "1.5.0",
      "model_name": "IntSliderModel",
      "state": {
       "description": "Range 2",
       "layout": "IPY_MODEL_cacdfd7adc9a4661956d365943bde32a",
       "style": "IPY_MODEL_baa8700cd70343beae1aa87c6a7bfed9"
      }
     },
     "a3ed835fd26e4cd0b3cbee7ec1edad8d": {
      "model_module": "@jupyter-widgets/controls",
      "model_module_version": "1.5.0",
      "model_name": "SliderStyleModel",
      "state": {
       "description_width": ""
      }
     },
     "a72dae9bf8c3429b9d7f8ff7f7a346b7": {
      "model_module": "@jupyter-widgets/controls",
      "model_module_version": "1.5.0",
      "model_name": "SliderStyleModel",
      "state": {
       "description_width": ""
      }
     },
     "b14bc31294fb4d9297e9e0dd87b8810c": {
      "model_module": "@jupyter-widgets/controls",
      "model_module_version": "1.5.0",
      "model_name": "LabelModel",
      "state": {
       "layout": "IPY_MODEL_36e774893f28473d8642000fcee22db3",
       "style": "IPY_MODEL_b1f550d4caa4428582ccc0ee3ff5ed97",
       "value": "The values of range1 and range2 are synchronized"
      }
     },
     "b1aa7c36b9fa455fa6e37e67b3fff771": {
      "model_module": "@jupyter-widgets/base",
      "model_module_version": "1.2.0",
      "model_name": "LayoutModel",
      "state": {}
     },
     "b1f550d4caa4428582ccc0ee3ff5ed97": {
      "model_module": "@jupyter-widgets/controls",
      "model_module_version": "1.5.0",
      "model_name": "DescriptionStyleModel",
      "state": {
       "description_width": ""
      }
     },
     "b8bf43f97ce948e8a813678975884bb4": {
      "model_module": "@jupyter-widgets/base",
      "model_module_version": "1.2.0",
      "model_name": "LayoutModel",
      "state": {}
     },
     "baa8700cd70343beae1aa87c6a7bfed9": {
      "model_module": "@jupyter-widgets/controls",
      "model_module_version": "1.5.0",
      "model_name": "SliderStyleModel",
      "state": {
       "description_width": ""
      }
     },
     "c22210a42b7d4cf5a41b15f005be30df": {
      "model_module": "@jupyter-widgets/controls",
      "model_module_version": "1.5.0",
      "model_name": "SliderStyleModel",
      "state": {
       "description_width": ""
      }
     },
     "c682e82951a54727ba96c73f057eab18": {
      "model_module": "@jupyter-widgets/base",
      "model_module_version": "1.2.0",
      "model_name": "LayoutModel",
      "state": {}
     },
     "cacdfd7adc9a4661956d365943bde32a": {
      "model_module": "@jupyter-widgets/base",
      "model_module_version": "1.2.0",
      "model_name": "LayoutModel",
      "state": {}
     },
     "cdd9a719a97e44529bf193322f072e7a": {
      "model_module": "@jupyter-widgets/controls",
      "model_module_version": "1.5.0",
      "model_name": "SliderStyleModel",
      "state": {
       "description_width": ""
      }
     },
     "d080d1bbbf50421192692a99be9ac962": {
      "model_module": "@jupyter-widgets/base",
      "model_module_version": "1.2.0",
      "model_name": "LayoutModel",
      "state": {}
     },
     "d1daa4a9a9794296bf10f5fcbd355e49": {
      "model_module": "@jupyter-widgets/controls",
      "model_module_version": "1.5.0",
      "model_name": "IntSliderModel",
      "state": {
       "description": "Range 2",
       "layout": "IPY_MODEL_906a4b403f9e463badf1841b0bfbb8d0",
       "style": "IPY_MODEL_7a598c2ca4e7496f8630be15c6638a98"
      }
     },
     "d2b69dd2a19b4d81a67aa50a7894924a": {
      "model_module": "@jupyter-widgets/controls",
      "model_module_version": "1.5.0",
      "model_name": "DescriptionStyleModel",
      "state": {
       "description_width": ""
      }
     },
     "d2dd8031a689430fb4c2d5d28b79d85d": {
      "model_module": "@jupyter-widgets/controls",
      "model_module_version": "1.5.0",
      "model_name": "IntSliderModel",
      "state": {
       "description": "Range 2",
       "layout": "IPY_MODEL_4ca30e772f1a4f84aa18269b223f76c7",
       "style": "IPY_MODEL_38166ac226004f788b910407ba7878c5",
       "value": 100
      }
     },
     "d7acd3910a6c47d292d42dc9ba322173": {
      "model_module": "@jupyter-widgets/controls",
      "model_module_version": "1.5.0",
      "model_name": "IntSliderModel",
      "state": {
       "description": "Range 1",
       "layout": "IPY_MODEL_d080d1bbbf50421192692a99be9ac962",
       "style": "IPY_MODEL_3f0962dd355b447abfc9652ce86d718c"
      }
     },
     "dc97e67e37c941da8d881201ba483538": {
      "model_module": "@jupyter-widgets/controls",
      "model_module_version": "1.5.0",
      "model_name": "LabelModel",
      "state": {
       "layout": "IPY_MODEL_f9263f27bbc84df1a9e574e7721a1313",
       "style": "IPY_MODEL_827b713ec11f4977a0c11abf4d7fa5d2",
       "value": "The values of range1 and range2 are synchronized"
      }
     },
     "e033cb8337c04a20916e62e61ddc2698": {
      "model_module": "@jupyter-widgets/controls",
      "model_module_version": "1.5.0",
      "model_name": "LinkModel",
      "state": {
       "source": [
        "IPY_MODEL_d7acd3910a6c47d292d42dc9ba322173",
        "value"
       ],
       "target": [
        "IPY_MODEL_d1daa4a9a9794296bf10f5fcbd355e49",
        "value"
       ]
      }
     },
     "e4fac61babec455cb05ecd26922f02fc": {
      "model_module": "@jupyter-widgets/controls",
      "model_module_version": "1.5.0",
      "model_name": "LinkModel",
      "state": {
       "source": [
        "IPY_MODEL_963bfc33564e4e9ab8efd1906867f40f",
        "value"
       ],
       "target": [
        "IPY_MODEL_3b9fa4fac0b2434abc40e8c58fde9314",
        "value"
       ]
      }
     },
     "f0cfee7596914bf38d715d69d7001af0": {
      "model_module": "@jupyter-widgets/controls",
      "model_module_version": "1.5.0",
      "model_name": "LabelModel",
      "state": {
       "layout": "IPY_MODEL_086e8520aeed4d8fbba7652142852643",
       "style": "IPY_MODEL_89a4e89b990f4d83af7deb56c4375730",
       "value": "The values of range1 and range2 are synchronized"
      }
     },
     "f5007c898a1a488bbe603d21bb066f1b": {
      "model_module": "@jupyter-widgets/controls",
      "model_module_version": "1.5.0",
      "model_name": "IntSliderModel",
      "state": {
       "description": "Range 2",
       "layout": "IPY_MODEL_61b61573d9af4468b5bf37cd08e1aaa6",
       "style": "IPY_MODEL_1911e70e54ec46298a3b9e64b4f06798"
      }
     },
     "f5ef1abf0528460d9838927eee1abf89": {
      "model_module": "@jupyter-widgets/controls",
      "model_module_version": "1.5.0",
      "model_name": "DescriptionStyleModel",
      "state": {
       "description_width": ""
      }
     },
     "f9263f27bbc84df1a9e574e7721a1313": {
      "model_module": "@jupyter-widgets/base",
      "model_module_version": "1.2.0",
      "model_name": "LayoutModel",
      "state": {}
     },
     "ff16c5fa98ac4ddc87b766df93198cfb": {
      "model_module": "@jupyter-widgets/base",
      "model_module_version": "1.2.0",
      "model_name": "LayoutModel",
      "state": {}
     }
    },
    "version_major": 2,
    "version_minor": 0
   }
  }
 },
 "nbformat": 4,
 "nbformat_minor": 4
}

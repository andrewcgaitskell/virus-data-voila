{
 "cells": [
  {
   "cell_type": "code",
   "execution_count": 1,
   "metadata": {},
   "outputs": [],
   "source": [
    "from requests import get\n",
    "from json import dumps\n",
    "\n"
   ]
  },
  {
   "cell_type": "markdown",
   "metadata": {},
   "source": [
    "\n",
    "ENDPOINT = \"https://api.coronavirus.data.gov.uk/v1/data\"\n",
    "AREA_TYPE = \"nation\"\n",
    "AREA_NAME = \"england\"\n",
    "\n",
    "filters = [\n",
    "    f\"areaType={ AREA_TYPE }\",\n",
    "    f\"areaName={ AREA_NAME }\"\n",
    "]\n",
    "\n",
    "structure = {\n",
    "    \"date\": \"date\",\n",
    "    \"name\": \"areaName\",\n",
    "    \"code\": \"areaCode\",\n",
    "    \"dailyCases\": \"newCasesByPublishDate\",\n",
    "}\n",
    "\n",
    "\n",
    "api_params = {\n",
    "    \"filters\": str.join(\";\", filters),\n",
    "    \"structure\": dumps(structure, separators=(\",\", \":\")),\n",
    "    \"latestBy\": \"cumCasesByPublishDate\"\n",
    "}\n",
    "\n",
    "\n",
    "formats = [\n",
    "    \"json\",\n",
    "    \"xml\",\n",
    "    \"csv\"\n",
    "]\n",
    "\n"
   ]
  },
  {
   "cell_type": "code",
   "execution_count": 3,
   "metadata": {},
   "outputs": [
    {
     "name": "stdout",
     "output_type": "stream",
     "text": [
      "json data:\n",
      "{\"length\":1,\"maxPageLimit\":1,\"data\":[{\"date\":\"2020-10-07\",\"name\":\"England\",\"code\":\"E92000001\",\"dailyCases\":11528}],\"pagination\":{\"current\":\"/v1/data?filters=areaType%3Dnation%3BareaName%3Dengland&structure=%7B%22date%22%3A%22date%22%2C%22name%22%3A%22areaName%22%2C%22code%22%3A%22areaCode%22%2C%22dailyCases%22%3A%22newCasesByPublishDate%22%7D&latestBy=cumCasesByPublishDate&format=json&page=1\",\"next\":null,\"previous\":null,\"first\":\"/v1/data?filters=areaType%3Dnation%3BareaName%3Dengland&structure=%7B%22date%22%3A%22date%22%2C%22name%22%3A%22areaName%22%2C%22code%22%3A%22areaCode%22%2C%22dailyCases%22%3A%22newCasesByPublishDate%22%7D&latestBy=cumCasesByPublishDate&format=json&page=1\",\"last\":\"/v1/data?filters=areaType%3Dnation%3BareaName%3Dengland&structure=%7B%22date%22%3A%22date%22%2C%22name%22%3A%22areaName%22%2C%22code%22%3A%22areaCode%22%2C%22dailyCases%22%3A%22newCasesByPublishDate%22%7D&latestBy=cumCasesByPublishDate&format=json&page=1\"}}\n",
      "xml data:\n",
      "﻿<Document><length>1</length><maxPageLimit>1</maxPageLimit><data><date>2020-10-07</date><name>England</name><code>E92000001</code><dailyCases>11528</dailyCases></data><pagination><current>/v1/data?filters=areaType%3Dnation%3BareaName%3Dengland&amp;structure=%7B%22date%22%3A%22date%22%2C%22name%22%3A%22areaName%22%2C%22code%22%3A%22areaCode%22%2C%22dailyCases%22%3A%22newCasesByPublishDate%22%7D&amp;latestBy=cumCasesByPublishDate&amp;format=xml&amp;page=1</current><next xsi:nil=\"true\" xmlns:xsi=\"http://www.w3.org/2001/XMLSchema-instance\" /><previous xsi:nil=\"true\" xmlns:xsi=\"http://www.w3.org/2001/XMLSchema-instance\" /><first>/v1/data?filters=areaType%3Dnation%3BareaName%3Dengland&amp;structure=%7B%22date%22%3A%22date%22%2C%22name%22%3A%22areaName%22%2C%22code%22%3A%22areaCode%22%2C%22dailyCases%22%3A%22newCasesByPublishDate%22%7D&amp;latestBy=cumCasesByPublishDate&amp;format=xml&amp;page=1</first><last>/v1/data?filters=areaType%3Dnation%3BareaName%3Dengland&amp;structure=%7B%22date%22%3A%22date%22%2C%22name%22%3A%22areaName%22%2C%22code%22%3A%22areaCode%22%2C%22dailyCases%22%3A%22newCasesByPublishDate%22%7D&amp;latestBy=cumCasesByPublishDate&amp;format=xml&amp;page=1</last></pagination></Document>\n",
      "csv data:\n",
      "date,name,code,dailyCases\n",
      "2020-10-07,England,E92000001,11528\n",
      "\n"
     ]
    }
   ],
   "source": [
    "for fmt in formats:\n",
    "    api_params[\"format\"] = fmt\n",
    "    response = get(ENDPOINT, params=api_params, timeout=10)\n",
    "    assert response.status_code == 200, f\"Failed request for {fmt}: {response.text}\"\n",
    "    print(f\"{fmt} data:\")\n",
    "    print(response.content.decode())"
   ]
  },
  {
   "cell_type": "code",
   "execution_count": null,
   "metadata": {},
   "outputs": [],
   "source": [
    "data/LSOAs_latest.csv"
   ]
  }
 ],
 "metadata": {
  "kernelspec": {
   "display_name": "Python 3",
   "language": "python",
   "name": "python3"
  },
  "language_info": {
   "codemirror_mode": {
    "name": "ipython",
    "version": 3
   },
   "file_extension": ".py",
   "mimetype": "text/x-python",
   "name": "python",
   "nbconvert_exporter": "python",
   "pygments_lexer": "ipython3",
   "version": "3.6.9"
  }
 },
 "nbformat": 4,
 "nbformat_minor": 4
}

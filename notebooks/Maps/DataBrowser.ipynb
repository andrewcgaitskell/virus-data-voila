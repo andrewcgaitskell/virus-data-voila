{
 "cells": [
  {
   "cell_type": "code",
   "execution_count": 16,
   "metadata": {},
   "outputs": [],
   "source": [
    "import numpy as np\n",
    "import matplotlib.pyplot as plt\n",
    "import ipympl\n",
    "%matplotlib widget\n",
    "##%matplotlib notebook"
   ]
  },
  {
   "cell_type": "code",
   "execution_count": 17,
   "metadata": {},
   "outputs": [],
   "source": [
    "class PointBrowser(object):\n",
    "    \"\"\"\n",
    "    Click on a point to select and highlight it -- the data that\n",
    "    generated the point will be shown in the lower axes.  Use the 'n'\n",
    "    and 'p' keys to browse through the next and previous points\n",
    "    \"\"\"\n",
    "\n",
    "    def __init__(self):\n",
    "        self.lastind = 0\n",
    "\n",
    "        self.text = ax.text(0.05, 0.95, 'selected: none',\n",
    "                            transform=ax.transAxes, va='top')\n",
    "        self.selected, = ax.plot([xs[0]], [ys[0]], 'o', ms=12, alpha=0.4,\n",
    "                                 color='yellow', visible=False)\n",
    "\n",
    "    def onpress(self, event):\n",
    "        if self.lastind is None:\n",
    "            return\n",
    "        if event.key not in ('n', 'p'):\n",
    "            return\n",
    "        if event.key == 'n':\n",
    "            inc = 1\n",
    "        else:\n",
    "            inc = -1\n",
    "\n",
    "        self.lastind += inc\n",
    "        self.lastind = np.clip(self.lastind, 0, len(xs) - 1)\n",
    "        self.update()\n",
    "\n",
    "    def onpick(self, event):\n",
    "\n",
    "        if event.artist != line:\n",
    "            return True\n",
    "\n",
    "        N = len(event.ind)\n",
    "        if not N:\n",
    "            return True\n",
    "\n",
    "        # the click locations\n",
    "        x = event.mouseevent.xdata\n",
    "        y = event.mouseevent.ydata\n",
    "\n",
    "        distances = np.hypot(x - xs[event.ind], y - ys[event.ind])\n",
    "        indmin = distances.argmin()\n",
    "        dataind = event.ind[indmin]\n",
    "\n",
    "        self.lastind = dataind\n",
    "        self.update()\n",
    "\n",
    "    def update(self):\n",
    "        if self.lastind is None:\n",
    "            return\n",
    "\n",
    "        dataind = self.lastind\n",
    "\n",
    "        ax2.cla()\n",
    "        ax2.plot(X[dataind])\n",
    "\n",
    "        ax2.text(0.05, 0.9, 'mu=%1.3f\\nsigma=%1.3f' % (xs[dataind], ys[dataind]),\n",
    "                 transform=ax2.transAxes, va='top')\n",
    "        ax2.set_ylim(-0.5, 1.5)\n",
    "        self.selected.set_visible(True)\n",
    "        self.selected.set_data(xs[dataind], ys[dataind])\n",
    "\n",
    "        self.text.set_text('selected: %d' % dataind)\n",
    "        fig.canvas.draw()"
   ]
  },
  {
   "cell_type": "code",
   "execution_count": 18,
   "metadata": {},
   "outputs": [
    {
     "data": {
      "application/vnd.jupyter.widget-view+json": {
       "model_id": "7245c06624bb4acfbb07aba77545df3d",
       "version_major": 2,
       "version_minor": 0
      },
      "text/plain": [
       "Canvas(toolbar=Toolbar(toolitems=[('Home', 'Reset original view', 'home', 'home'), ('Back', 'Back to previous …"
      ]
     },
     "metadata": {},
     "output_type": "display_data"
    },
    {
     "name": "stderr",
     "output_type": "stream",
     "text": [
      "/home/jupyterlab/env/lib/python3.6/site-packages/ipykernel_launcher.py:10: MatplotlibDeprecationWarning: Setting the line's pick radius via set_picker is deprecated since 3.3 and will be removed two minor releases later; use set_pickradius instead.\n",
      "  # Remove the CWD from sys.path while we load stuff.\n"
     ]
    }
   ],
   "source": [
    "if __name__ == '__main__':\n",
    "    import matplotlib.pyplot as plt\n",
    "\n",
    "    X = np.random.rand(100, 200)\n",
    "    xs = np.mean(X, axis=1)\n",
    "    ys = np.std(X, axis=1)\n",
    "\n",
    "    fig, (ax, ax2) = plt.subplots(2, 1)\n",
    "    ax.set_title('click on point to plot time series')\n",
    "    line, = ax.plot(xs, ys, 'o', picker=5)  # 5 points tolerance\n",
    "\n",
    "    browser = PointBrowser()\n",
    "\n",
    "    fig.canvas.mpl_connect('pick_event', browser.onpick)\n",
    "    fig.canvas.mpl_connect('key_press_event', browser.onpress)\n",
    "\n",
    "    plt.show()"
   ]
  },
  {
   "cell_type": "code",
   "execution_count": 19,
   "metadata": {},
   "outputs": [
    {
     "data": {
      "application/vnd.jupyter.widget-view+json": {
       "model_id": "acdbdcd16b3e414785605c211f9b9ef6",
       "version_major": 2,
       "version_minor": 0
      },
      "text/plain": [
       "Canvas(toolbar=Toolbar(toolitems=[('Home', 'Reset original view', 'home', 'home'), ('Back', 'Back to previous …"
      ]
     },
     "metadata": {},
     "output_type": "display_data"
    },
    {
     "name": "stderr",
     "output_type": "stream",
     "text": [
      "/home/jupyterlab/env/lib/python3.6/site-packages/ipykernel_launcher.py:7: MatplotlibDeprecationWarning: Setting the line's pick radius via set_picker is deprecated since 3.3 and will be removed two minor releases later; use set_pickradius instead.\n",
      "  import sys\n"
     ]
    }
   ],
   "source": [
    "X = np.random.rand(100, 1000)\n",
    "xs = np.mean(X, axis=1)\n",
    "ys = np.std(X, axis=1)\n",
    "\n",
    "fig, ax = plt.subplots()\n",
    "ax.set_title('click on point to plot time series')\n",
    "line, = ax.plot(xs, ys, 'o', picker=5)  # 5 points tolerance\n",
    "\n",
    "\n",
    "def onpick(event):\n",
    "\n",
    "    if event.artist != line:\n",
    "        return True\n",
    "\n",
    "    N = len(event.ind)\n",
    "    if not N:\n",
    "        return True\n",
    "\n",
    "    figi, axs = plt.subplots(N, squeeze=False)\n",
    "    for ax, dataind in zip(axs.flat, event.ind):\n",
    "        ax.plot(X[dataind])\n",
    "        ax.text(.05, .9, 'mu=%1.3f\\nsigma=%1.3f' % (xs[dataind], ys[dataind]),\n",
    "                transform=ax.transAxes, va='top')\n",
    "        ax.set_ylim(-0.5, 1.5)\n",
    "    figi.show()\n",
    "    return True\n",
    "\n",
    "fig.canvas.mpl_connect('pick_event', onpick)\n",
    "\n",
    "plt.show()"
   ]
  },
  {
   "cell_type": "code",
   "execution_count": 31,
   "metadata": {},
   "outputs": [
    {
     "data": {
      "application/vnd.jupyter.widget-view+json": {
       "model_id": "04267775effc43b6b8491b82b921d3cc",
       "version_major": 2,
       "version_minor": 0
      },
      "text/plain": [
       "Canvas(toolbar=Toolbar(toolitems=[('Home', 'Reset original view', 'home', 'home'), ('Back', 'Back to previous …"
      ]
     },
     "metadata": {},
     "output_type": "display_data"
    }
   ],
   "source": [
    "from matplotlib import pyplot as plt\n",
    "\n",
    "class LineBuilder:\n",
    "    def __init__(self, line):\n",
    "        self.line = line\n",
    "        self.xs = list(line.get_xdata())\n",
    "        self.ys = list(line.get_ydata())\n",
    "        self.cid = line.figure.canvas.mpl_connect('button_press_event', self)\n",
    "\n",
    "    def __call__(self, event):\n",
    "        print('click', event)\n",
    "        if event.inaxes!=self.line.axes: return\n",
    "        ex = event.xdata\n",
    "        ey = event.ydata\n",
    "        self.xs.append(ex)\n",
    "        self.ys.append(ey)\n",
    "        self.line.set_data(self.xs, self.ys)\n",
    "        self.line.figure.canvas.draw()\n",
    "        exs = str(ex)\n",
    "        eys = str(ey)\n",
    "        ax.set_title(exs + ' - ' + eys)\n",
    "\n",
    "fig = plt.figure()\n",
    "ax = fig.add_subplot(111)\n",
    "ax.set_title('click to build line segments')\n",
    "line, = ax.plot([0], [0])  # empty line\n",
    "linebuilder = LineBuilder(line)\n",
    "\n",
    "plt.show()"
   ]
  },
  {
   "cell_type": "code",
   "execution_count": 33,
   "metadata": {},
   "outputs": [
    {
     "data": {
      "text/plain": [
       "[0,\n",
       " -0.01770381804435485,\n",
       " -0.0077239793346774305,\n",
       " -0.0024013986895161377,\n",
       " -0.00018365675403227144,\n",
       " 0.003586504536290322,\n",
       " 0.010905052923387087]"
      ]
     },
     "execution_count": 33,
     "metadata": {},
     "output_type": "execute_result"
    }
   ],
   "source": [
    "linebuilder.xs"
   ]
  },
  {
   "cell_type": "code",
   "execution_count": 37,
   "metadata": {},
   "outputs": [
    {
     "data": {
      "application/vnd.jupyter.widget-view+json": {
       "model_id": "273049fda9cc4e8d877788a89a8584ff",
       "version_major": 2,
       "version_minor": 0
      },
      "text/plain": [
       "Canvas(toolbar=Toolbar(toolitems=[('Home', 'Reset original view', 'home', 'home'), ('Back', 'Back to previous …"
      ]
     },
     "metadata": {},
     "output_type": "display_data"
    }
   ],
   "source": [
    "from matplotlib import pyplot as plt\n",
    "\n",
    "class GetPosn:\n",
    "    def __init__(self, startposn):\n",
    "        self.startposn = startposn\n",
    "        self.xs = list(startposn.get_xdata())\n",
    "        self.ys = list(startposn.get_ydata())\n",
    "        self.cid = startposn.figure.canvas.mpl_connect('button_press_event', self)\n",
    "\n",
    "    def __call__(self, event):\n",
    "        print('click', event)\n",
    "        if event.inaxes!=self.startposn.axes: return\n",
    "        ex = event.xdata\n",
    "        ey = event.ydata\n",
    "        exs = str(ex)\n",
    "        eys = str(ey)\n",
    "        ax.set_title(exs + ' - ' + eys)\n",
    "\n",
    "fig = plt.figure()\n",
    "ax = fig.add_subplot(111)\n",
    "ax.set_title('click to build line segments')\n",
    "startposn, = ax.plot([0], [0])  # empty line\n",
    "posn = GetPosn(startposn)\n",
    "\n",
    "plt.show()"
   ]
  },
  {
   "cell_type": "code",
   "execution_count": null,
   "metadata": {},
   "outputs": [],
   "source": []
  }
 ],
 "metadata": {
  "kernelspec": {
   "display_name": "env",
   "language": "python",
   "name": "env"
  },
  "language_info": {
   "codemirror_mode": {
    "name": "ipython",
    "version": 3
   },
   "file_extension": ".py",
   "mimetype": "text/x-python",
   "name": "python",
   "nbconvert_exporter": "python",
   "pygments_lexer": "ipython3",
   "version": "3.6.9"
  }
 },
 "nbformat": 4,
 "nbformat_minor": 4
}

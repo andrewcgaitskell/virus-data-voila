{
 "cells": [
  {
   "cell_type": "code",
   "execution_count": 42,
   "metadata": {},
   "outputs": [],
   "source": [
    "from datetime import datetime\n",
    "import geopandas as gpd\n",
    "import pandas as pd\n",
    "\n",
    "import ipywidgets as widgets\n",
    "from ipywidgets import interact, interactive, fixed, interact_manual,interactive_output, VBox, HBox \n"
   ]
  },
  {
   "cell_type": "code",
   "execution_count": 43,
   "metadata": {},
   "outputs": [
    {
     "name": "stdout",
     "output_type": "stream",
     "text": [
      "date and time = 11/10/2020 18:13:48\n"
     ]
    }
   ],
   "source": [
    "now = datetime.now()\n",
    "dt_string = now.strftime(\"%d/%m/%Y %H:%M:%S\")\n",
    "print(\"date and time =\", dt_string)\t"
   ]
  },
  {
   "cell_type": "code",
   "execution_count": 44,
   "metadata": {},
   "outputs": [],
   "source": [
    "fp = '/home/jupyterlab/data/Lower_Layer_Super_Output_Areas__December_2011__Boundaries_EW_BFC_v3.shp'"
   ]
  },
  {
   "cell_type": "code",
   "execution_count": 45,
   "metadata": {},
   "outputs": [],
   "source": [
    "map_df = gpd.read_file(fp)"
   ]
  },
  {
   "cell_type": "code",
   "execution_count": 46,
   "metadata": {},
   "outputs": [
    {
     "name": "stdout",
     "output_type": "stream",
     "text": [
      "date and time = 11/10/2020 18:13:58\n"
     ]
    }
   ],
   "source": [
    "now = datetime.now()\n",
    "dt_string = now.strftime(\"%d/%m/%Y %H:%M:%S\")\n",
    "print(\"date and time =\", dt_string)\t"
   ]
  },
  {
   "cell_type": "code",
   "execution_count": 47,
   "metadata": {},
   "outputs": [
    {
     "data": {
      "text/plain": [
       "Index(['OBJECTID', 'LSOA11CD', 'LSOA11NM', 'LSOA11NMW', 'Shape__Are',\n",
       "       'Shape__Len', 'geometry'],\n",
       "      dtype='object')"
      ]
     },
     "execution_count": 47,
     "metadata": {},
     "output_type": "execute_result"
    }
   ],
   "source": [
    "map_df.columns"
   ]
  },
  {
   "cell_type": "code",
   "execution_count": 48,
   "metadata": {},
   "outputs": [
    {
     "data": {
      "text/html": [
       "<div>\n",
       "<style scoped>\n",
       "    .dataframe tbody tr th:only-of-type {\n",
       "        vertical-align: middle;\n",
       "    }\n",
       "\n",
       "    .dataframe tbody tr th {\n",
       "        vertical-align: top;\n",
       "    }\n",
       "\n",
       "    .dataframe thead th {\n",
       "        text-align: right;\n",
       "    }\n",
       "</style>\n",
       "<table border=\"1\" class=\"dataframe\">\n",
       "  <thead>\n",
       "    <tr style=\"text-align: right;\">\n",
       "      <th></th>\n",
       "      <th>OBJECTID</th>\n",
       "      <th>LSOA11CD</th>\n",
       "      <th>LSOA11NM</th>\n",
       "      <th>LSOA11NMW</th>\n",
       "      <th>Shape__Are</th>\n",
       "      <th>Shape__Len</th>\n",
       "      <th>geometry</th>\n",
       "    </tr>\n",
       "  </thead>\n",
       "  <tbody>\n",
       "    <tr>\n",
       "      <th>0</th>\n",
       "      <td>1</td>\n",
       "      <td>E01000001</td>\n",
       "      <td>City of London 001A</td>\n",
       "      <td>City of London 001A</td>\n",
       "      <td>129865.337669</td>\n",
       "      <td>2635.781429</td>\n",
       "      <td>POLYGON ((532095.563 181577.351, 532095.125 18...</td>\n",
       "    </tr>\n",
       "    <tr>\n",
       "      <th>1</th>\n",
       "      <td>2</td>\n",
       "      <td>E01000002</td>\n",
       "      <td>City of London 001B</td>\n",
       "      <td>City of London 001B</td>\n",
       "      <td>228419.333099</td>\n",
       "      <td>2708.052040</td>\n",
       "      <td>POLYGON ((532267.728 181643.781, 532262.875 18...</td>\n",
       "    </tr>\n",
       "    <tr>\n",
       "      <th>2</th>\n",
       "      <td>3</td>\n",
       "      <td>E01000003</td>\n",
       "      <td>City of London 001C</td>\n",
       "      <td>City of London 001C</td>\n",
       "      <td>59054.013168</td>\n",
       "      <td>1224.770897</td>\n",
       "      <td>POLYGON ((532105.312 182010.574, 532104.872 18...</td>\n",
       "    </tr>\n",
       "    <tr>\n",
       "      <th>3</th>\n",
       "      <td>4</td>\n",
       "      <td>E01000005</td>\n",
       "      <td>City of London 001E</td>\n",
       "      <td>City of London 001E</td>\n",
       "      <td>189577.165154</td>\n",
       "      <td>2275.832056</td>\n",
       "      <td>POLYGON ((533610.974 181410.968, 533615.622 18...</td>\n",
       "    </tr>\n",
       "    <tr>\n",
       "      <th>4</th>\n",
       "      <td>5</td>\n",
       "      <td>E01000006</td>\n",
       "      <td>Barking and Dagenham 016A</td>\n",
       "      <td>Barking and Dagenham 016A</td>\n",
       "      <td>146536.520470</td>\n",
       "      <td>1966.162225</td>\n",
       "      <td>POLYGON ((544817.826 184346.261, 544815.791 18...</td>\n",
       "    </tr>\n",
       "  </tbody>\n",
       "</table>\n",
       "</div>"
      ],
      "text/plain": [
       "   OBJECTID   LSOA11CD                   LSOA11NM                  LSOA11NMW  \\\n",
       "0         1  E01000001        City of London 001A        City of London 001A   \n",
       "1         2  E01000002        City of London 001B        City of London 001B   \n",
       "2         3  E01000003        City of London 001C        City of London 001C   \n",
       "3         4  E01000005        City of London 001E        City of London 001E   \n",
       "4         5  E01000006  Barking and Dagenham 016A  Barking and Dagenham 016A   \n",
       "\n",
       "      Shape__Are   Shape__Len  \\\n",
       "0  129865.337669  2635.781429   \n",
       "1  228419.333099  2708.052040   \n",
       "2   59054.013168  1224.770897   \n",
       "3  189577.165154  2275.832056   \n",
       "4  146536.520470  1966.162225   \n",
       "\n",
       "                                            geometry  \n",
       "0  POLYGON ((532095.563 181577.351, 532095.125 18...  \n",
       "1  POLYGON ((532267.728 181643.781, 532262.875 18...  \n",
       "2  POLYGON ((532105.312 182010.574, 532104.872 18...  \n",
       "3  POLYGON ((533610.974 181410.968, 533615.622 18...  \n",
       "4  POLYGON ((544817.826 184346.261, 544815.791 18...  "
      ]
     },
     "execution_count": 48,
     "metadata": {},
     "output_type": "execute_result"
    }
   ],
   "source": [
    "map_df.head()"
   ]
  },
  {
   "cell_type": "code",
   "execution_count": 49,
   "metadata": {},
   "outputs": [],
   "source": [
    "path2file = '/home/jupyterlab/data/Output_Area_to_LSOA_to_MSOA_to_Local_Authority_District__December_2017__Lookup_with_Area_Classifications_in_Great_Britain.csv'"
   ]
  },
  {
   "cell_type": "code",
   "execution_count": 50,
   "metadata": {},
   "outputs": [],
   "source": [
    "oa_lookup_df = pd.read_csv(path2file)"
   ]
  },
  {
   "cell_type": "code",
   "execution_count": 51,
   "metadata": {},
   "outputs": [],
   "source": [
    "lsoa_lookup_columns = oa_lookup_df[['LSOA11CD', 'LSOA11NM',\n",
    "        'MSOA11CD', 'MSOA11NM', 'LAD17CD', 'LAD17NM', 'LACCD',\n",
    "       'LACNM', 'RGN11CD', 'RGN11NM', 'CTRY11CD', 'CTRY11NM']]"
   ]
  },
  {
   "cell_type": "code",
   "execution_count": 52,
   "metadata": {},
   "outputs": [],
   "source": [
    "lsoa_lookup_df = lsoa_lookup_columns.drop_duplicates()"
   ]
  },
  {
   "cell_type": "code",
   "execution_count": 53,
   "metadata": {},
   "outputs": [],
   "source": [
    "shapewithregion_df = map_df.merge(lsoa_lookup_df, left_on='LSOA11CD', right_on='LSOA11CD')"
   ]
  },
  {
   "cell_type": "code",
   "execution_count": 54,
   "metadata": {},
   "outputs": [
    {
     "data": {
      "text/html": [
       "<div>\n",
       "<style scoped>\n",
       "    .dataframe tbody tr th:only-of-type {\n",
       "        vertical-align: middle;\n",
       "    }\n",
       "\n",
       "    .dataframe tbody tr th {\n",
       "        vertical-align: top;\n",
       "    }\n",
       "\n",
       "    .dataframe thead th {\n",
       "        text-align: right;\n",
       "    }\n",
       "</style>\n",
       "<table border=\"1\" class=\"dataframe\">\n",
       "  <thead>\n",
       "    <tr style=\"text-align: right;\">\n",
       "      <th></th>\n",
       "      <th>OBJECTID</th>\n",
       "      <th>LSOA11CD</th>\n",
       "      <th>LSOA11NM_x</th>\n",
       "      <th>LSOA11NMW</th>\n",
       "      <th>Shape__Are</th>\n",
       "      <th>Shape__Len</th>\n",
       "      <th>geometry</th>\n",
       "      <th>LSOA11NM_y</th>\n",
       "      <th>MSOA11CD</th>\n",
       "      <th>MSOA11NM</th>\n",
       "      <th>LAD17CD</th>\n",
       "      <th>LAD17NM</th>\n",
       "      <th>LACCD</th>\n",
       "      <th>LACNM</th>\n",
       "      <th>RGN11CD</th>\n",
       "      <th>RGN11NM</th>\n",
       "      <th>CTRY11CD</th>\n",
       "      <th>CTRY11NM</th>\n",
       "    </tr>\n",
       "  </thead>\n",
       "  <tbody>\n",
       "    <tr>\n",
       "      <th>0</th>\n",
       "      <td>1</td>\n",
       "      <td>E01000001</td>\n",
       "      <td>City of London 001A</td>\n",
       "      <td>City of London 001A</td>\n",
       "      <td>129865.337669</td>\n",
       "      <td>2635.781429</td>\n",
       "      <td>POLYGON ((532095.563 181577.351, 532095.125 18...</td>\n",
       "      <td>City of London 001A</td>\n",
       "      <td>E02000001</td>\n",
       "      <td>City of London 001</td>\n",
       "      <td>E09000001</td>\n",
       "      <td>City of London</td>\n",
       "      <td>5a1r</td>\n",
       "      <td>London Cosmopolitan</td>\n",
       "      <td>E12000007</td>\n",
       "      <td>London</td>\n",
       "      <td>E92000001</td>\n",
       "      <td>England</td>\n",
       "    </tr>\n",
       "    <tr>\n",
       "      <th>1</th>\n",
       "      <td>2</td>\n",
       "      <td>E01000002</td>\n",
       "      <td>City of London 001B</td>\n",
       "      <td>City of London 001B</td>\n",
       "      <td>228419.333099</td>\n",
       "      <td>2708.052040</td>\n",
       "      <td>POLYGON ((532267.728 181643.781, 532262.875 18...</td>\n",
       "      <td>City of London 001B</td>\n",
       "      <td>E02000001</td>\n",
       "      <td>City of London 001</td>\n",
       "      <td>E09000001</td>\n",
       "      <td>City of London</td>\n",
       "      <td>5a1r</td>\n",
       "      <td>London Cosmopolitan</td>\n",
       "      <td>E12000007</td>\n",
       "      <td>London</td>\n",
       "      <td>E92000001</td>\n",
       "      <td>England</td>\n",
       "    </tr>\n",
       "    <tr>\n",
       "      <th>2</th>\n",
       "      <td>3</td>\n",
       "      <td>E01000003</td>\n",
       "      <td>City of London 001C</td>\n",
       "      <td>City of London 001C</td>\n",
       "      <td>59054.013168</td>\n",
       "      <td>1224.770897</td>\n",
       "      <td>POLYGON ((532105.312 182010.574, 532104.872 18...</td>\n",
       "      <td>City of London 001C</td>\n",
       "      <td>E02000001</td>\n",
       "      <td>City of London 001</td>\n",
       "      <td>E09000001</td>\n",
       "      <td>City of London</td>\n",
       "      <td>5a1r</td>\n",
       "      <td>London Cosmopolitan</td>\n",
       "      <td>E12000007</td>\n",
       "      <td>London</td>\n",
       "      <td>E92000001</td>\n",
       "      <td>England</td>\n",
       "    </tr>\n",
       "    <tr>\n",
       "      <th>3</th>\n",
       "      <td>4</td>\n",
       "      <td>E01000005</td>\n",
       "      <td>City of London 001E</td>\n",
       "      <td>City of London 001E</td>\n",
       "      <td>189577.165154</td>\n",
       "      <td>2275.832056</td>\n",
       "      <td>POLYGON ((533610.974 181410.968, 533615.622 18...</td>\n",
       "      <td>City of London 001E</td>\n",
       "      <td>E02000001</td>\n",
       "      <td>City of London 001</td>\n",
       "      <td>E09000001</td>\n",
       "      <td>City of London</td>\n",
       "      <td>5a1r</td>\n",
       "      <td>London Cosmopolitan</td>\n",
       "      <td>E12000007</td>\n",
       "      <td>London</td>\n",
       "      <td>E92000001</td>\n",
       "      <td>England</td>\n",
       "    </tr>\n",
       "    <tr>\n",
       "      <th>4</th>\n",
       "      <td>5</td>\n",
       "      <td>E01000006</td>\n",
       "      <td>Barking and Dagenham 016A</td>\n",
       "      <td>Barking and Dagenham 016A</td>\n",
       "      <td>146536.520470</td>\n",
       "      <td>1966.162225</td>\n",
       "      <td>POLYGON ((544817.826 184346.261, 544815.791 18...</td>\n",
       "      <td>Barking and Dagenham 016A</td>\n",
       "      <td>E02000017</td>\n",
       "      <td>Barking and Dagenham 016</td>\n",
       "      <td>E09000002</td>\n",
       "      <td>Barking and Dagenham</td>\n",
       "      <td>4a1r</td>\n",
       "      <td>Ethnically Diverse Metropolitan  Living</td>\n",
       "      <td>E12000007</td>\n",
       "      <td>London</td>\n",
       "      <td>E92000001</td>\n",
       "      <td>England</td>\n",
       "    </tr>\n",
       "  </tbody>\n",
       "</table>\n",
       "</div>"
      ],
      "text/plain": [
       "   OBJECTID   LSOA11CD                 LSOA11NM_x                  LSOA11NMW  \\\n",
       "0         1  E01000001        City of London 001A        City of London 001A   \n",
       "1         2  E01000002        City of London 001B        City of London 001B   \n",
       "2         3  E01000003        City of London 001C        City of London 001C   \n",
       "3         4  E01000005        City of London 001E        City of London 001E   \n",
       "4         5  E01000006  Barking and Dagenham 016A  Barking and Dagenham 016A   \n",
       "\n",
       "      Shape__Are   Shape__Len  \\\n",
       "0  129865.337669  2635.781429   \n",
       "1  228419.333099  2708.052040   \n",
       "2   59054.013168  1224.770897   \n",
       "3  189577.165154  2275.832056   \n",
       "4  146536.520470  1966.162225   \n",
       "\n",
       "                                            geometry  \\\n",
       "0  POLYGON ((532095.563 181577.351, 532095.125 18...   \n",
       "1  POLYGON ((532267.728 181643.781, 532262.875 18...   \n",
       "2  POLYGON ((532105.312 182010.574, 532104.872 18...   \n",
       "3  POLYGON ((533610.974 181410.968, 533615.622 18...   \n",
       "4  POLYGON ((544817.826 184346.261, 544815.791 18...   \n",
       "\n",
       "                  LSOA11NM_y   MSOA11CD                  MSOA11NM    LAD17CD  \\\n",
       "0        City of London 001A  E02000001        City of London 001  E09000001   \n",
       "1        City of London 001B  E02000001        City of London 001  E09000001   \n",
       "2        City of London 001C  E02000001        City of London 001  E09000001   \n",
       "3        City of London 001E  E02000001        City of London 001  E09000001   \n",
       "4  Barking and Dagenham 016A  E02000017  Barking and Dagenham 016  E09000002   \n",
       "\n",
       "                LAD17NM LACCD                                    LACNM  \\\n",
       "0        City of London  5a1r                      London Cosmopolitan   \n",
       "1        City of London  5a1r                      London Cosmopolitan   \n",
       "2        City of London  5a1r                      London Cosmopolitan   \n",
       "3        City of London  5a1r                      London Cosmopolitan   \n",
       "4  Barking and Dagenham  4a1r  Ethnically Diverse Metropolitan  Living   \n",
       "\n",
       "     RGN11CD RGN11NM   CTRY11CD CTRY11NM  \n",
       "0  E12000007  London  E92000001  England  \n",
       "1  E12000007  London  E92000001  England  \n",
       "2  E12000007  London  E92000001  England  \n",
       "3  E12000007  London  E92000001  England  \n",
       "4  E12000007  London  E92000001  England  "
      ]
     },
     "execution_count": 54,
     "metadata": {},
     "output_type": "execute_result"
    }
   ],
   "source": [
    "shapewithregion_df.head()"
   ]
  },
  {
   "cell_type": "code",
   "execution_count": 55,
   "metadata": {},
   "outputs": [
    {
     "data": {
      "text/html": [
       "<div>\n",
       "<style scoped>\n",
       "    .dataframe tbody tr th:only-of-type {\n",
       "        vertical-align: middle;\n",
       "    }\n",
       "\n",
       "    .dataframe tbody tr th {\n",
       "        vertical-align: top;\n",
       "    }\n",
       "\n",
       "    .dataframe thead th {\n",
       "        text-align: right;\n",
       "    }\n",
       "</style>\n",
       "<table border=\"1\" class=\"dataframe\">\n",
       "  <thead>\n",
       "    <tr style=\"text-align: right;\">\n",
       "      <th></th>\n",
       "      <th>OBJECTID</th>\n",
       "      <th>LSOA11CD</th>\n",
       "      <th>LSOA11NM_x</th>\n",
       "      <th>LSOA11NMW</th>\n",
       "      <th>Shape__Are</th>\n",
       "      <th>Shape__Len</th>\n",
       "      <th>geometry</th>\n",
       "      <th>MSOA11NM</th>\n",
       "      <th>LAD17NM</th>\n",
       "      <th>LACNM</th>\n",
       "      <th>RGN11NM</th>\n",
       "      <th>CTRY11NM</th>\n",
       "    </tr>\n",
       "  </thead>\n",
       "  <tbody>\n",
       "    <tr>\n",
       "      <th>0</th>\n",
       "      <td>1</td>\n",
       "      <td>E01000001</td>\n",
       "      <td>City of London 001A</td>\n",
       "      <td>City of London 001A</td>\n",
       "      <td>129865.337669</td>\n",
       "      <td>2635.781429</td>\n",
       "      <td>POLYGON ((532095.563 181577.351, 532095.125 18...</td>\n",
       "      <td>City of London 001</td>\n",
       "      <td>City of London</td>\n",
       "      <td>London Cosmopolitan</td>\n",
       "      <td>London</td>\n",
       "      <td>England</td>\n",
       "    </tr>\n",
       "    <tr>\n",
       "      <th>1</th>\n",
       "      <td>2</td>\n",
       "      <td>E01000002</td>\n",
       "      <td>City of London 001B</td>\n",
       "      <td>City of London 001B</td>\n",
       "      <td>228419.333099</td>\n",
       "      <td>2708.052040</td>\n",
       "      <td>POLYGON ((532267.728 181643.781, 532262.875 18...</td>\n",
       "      <td>City of London 001</td>\n",
       "      <td>City of London</td>\n",
       "      <td>London Cosmopolitan</td>\n",
       "      <td>London</td>\n",
       "      <td>England</td>\n",
       "    </tr>\n",
       "    <tr>\n",
       "      <th>2</th>\n",
       "      <td>3</td>\n",
       "      <td>E01000003</td>\n",
       "      <td>City of London 001C</td>\n",
       "      <td>City of London 001C</td>\n",
       "      <td>59054.013168</td>\n",
       "      <td>1224.770897</td>\n",
       "      <td>POLYGON ((532105.312 182010.574, 532104.872 18...</td>\n",
       "      <td>City of London 001</td>\n",
       "      <td>City of London</td>\n",
       "      <td>London Cosmopolitan</td>\n",
       "      <td>London</td>\n",
       "      <td>England</td>\n",
       "    </tr>\n",
       "    <tr>\n",
       "      <th>3</th>\n",
       "      <td>4</td>\n",
       "      <td>E01000005</td>\n",
       "      <td>City of London 001E</td>\n",
       "      <td>City of London 001E</td>\n",
       "      <td>189577.165154</td>\n",
       "      <td>2275.832056</td>\n",
       "      <td>POLYGON ((533610.974 181410.968, 533615.622 18...</td>\n",
       "      <td>City of London 001</td>\n",
       "      <td>City of London</td>\n",
       "      <td>London Cosmopolitan</td>\n",
       "      <td>London</td>\n",
       "      <td>England</td>\n",
       "    </tr>\n",
       "    <tr>\n",
       "      <th>4</th>\n",
       "      <td>5</td>\n",
       "      <td>E01000006</td>\n",
       "      <td>Barking and Dagenham 016A</td>\n",
       "      <td>Barking and Dagenham 016A</td>\n",
       "      <td>146536.520470</td>\n",
       "      <td>1966.162225</td>\n",
       "      <td>POLYGON ((544817.826 184346.261, 544815.791 18...</td>\n",
       "      <td>Barking and Dagenham 016</td>\n",
       "      <td>Barking and Dagenham</td>\n",
       "      <td>Ethnically Diverse Metropolitan  Living</td>\n",
       "      <td>London</td>\n",
       "      <td>England</td>\n",
       "    </tr>\n",
       "  </tbody>\n",
       "</table>\n",
       "</div>"
      ],
      "text/plain": [
       "   OBJECTID   LSOA11CD                 LSOA11NM_x                  LSOA11NMW  \\\n",
       "0         1  E01000001        City of London 001A        City of London 001A   \n",
       "1         2  E01000002        City of London 001B        City of London 001B   \n",
       "2         3  E01000003        City of London 001C        City of London 001C   \n",
       "3         4  E01000005        City of London 001E        City of London 001E   \n",
       "4         5  E01000006  Barking and Dagenham 016A  Barking and Dagenham 016A   \n",
       "\n",
       "      Shape__Are   Shape__Len  \\\n",
       "0  129865.337669  2635.781429   \n",
       "1  228419.333099  2708.052040   \n",
       "2   59054.013168  1224.770897   \n",
       "3  189577.165154  2275.832056   \n",
       "4  146536.520470  1966.162225   \n",
       "\n",
       "                                            geometry  \\\n",
       "0  POLYGON ((532095.563 181577.351, 532095.125 18...   \n",
       "1  POLYGON ((532267.728 181643.781, 532262.875 18...   \n",
       "2  POLYGON ((532105.312 182010.574, 532104.872 18...   \n",
       "3  POLYGON ((533610.974 181410.968, 533615.622 18...   \n",
       "4  POLYGON ((544817.826 184346.261, 544815.791 18...   \n",
       "\n",
       "                   MSOA11NM               LAD17NM  \\\n",
       "0        City of London 001        City of London   \n",
       "1        City of London 001        City of London   \n",
       "2        City of London 001        City of London   \n",
       "3        City of London 001        City of London   \n",
       "4  Barking and Dagenham 016  Barking and Dagenham   \n",
       "\n",
       "                                     LACNM RGN11NM CTRY11NM  \n",
       "0                      London Cosmopolitan  London  England  \n",
       "1                      London Cosmopolitan  London  England  \n",
       "2                      London Cosmopolitan  London  England  \n",
       "3                      London Cosmopolitan  London  England  \n",
       "4  Ethnically Diverse Metropolitan  Living  London  England  "
      ]
     },
     "execution_count": 55,
     "metadata": {},
     "output_type": "execute_result"
    }
   ],
   "source": [
    "#['OBJECTID', 'LSOA11CD', 'LSOA11NM_x', 'LSOA11NMW', 'Shape__Are',\n",
    "#       'Shape__Len', 'geometry', 'LSOA11NM_y', 'MSOA11CD', 'MSOA11NM',\n",
    "#       'LAD17CD', 'LAD17NM', 'LACCD', 'LACNM', 'RGN11CD', 'RGN11NM',\n",
    "#       'CTRY11CD', 'CTRY11NM']\n",
    "shapewithnames_df = shapewithregion_df[['OBJECTID', 'LSOA11CD', 'LSOA11NM_x', 'LSOA11NMW',\n",
    "                   'Shape__Are','Shape__Len', 'geometry', 'MSOA11NM',\n",
    "                   'LAD17NM', 'LACNM', 'RGN11NM', 'CTRY11NM']]\n",
    "shapewithnames_df.head(5)"
   ]
  },
  {
   "cell_type": "code",
   "execution_count": 56,
   "metadata": {},
   "outputs": [
    {
     "data": {
      "text/plain": [
       "['London',\n",
       " 'North West',\n",
       " 'Yorkshire and The Humber',\n",
       " 'North East',\n",
       " 'West Midlands',\n",
       " 'East Midlands',\n",
       " 'South West',\n",
       " 'East of England',\n",
       " 'South East',\n",
       " 'Wales']"
      ]
     },
     "execution_count": 56,
     "metadata": {},
     "output_type": "execute_result"
    }
   ],
   "source": [
    "region_list = shapewithnames_df['RGN11NM'].unique().tolist()\n",
    "region_list"
   ]
  },
  {
   "cell_type": "code",
   "execution_count": 64,
   "metadata": {},
   "outputs": [],
   "source": [
    "def filterregion(region_in):\n",
    "    shaperegion_out = shapewithnames_df[shapewithnames_df['RGN11NM'].isin(region_in)]\n",
    "    return shaperegion_out\n",
    "shaperegion_df = filterregion(('London',))"
   ]
  },
  {
   "cell_type": "code",
   "execution_count": null,
   "metadata": {},
   "outputs": [],
   "source": [
    "def filterweek(region_in):\n",
    "    regionweek_out = shapewithnames_df[shapewithnames_df['RGN11NM'].isin(region_in)]\n",
    "    return shaperegion_out"
   ]
  },
  {
   "cell_type": "code",
   "execution_count": 65,
   "metadata": {},
   "outputs": [],
   "source": [
    "regionwidget = widgets.SelectMultiple(\n",
    "    options=region_list,\n",
    "    value=['London'],\n",
    "    #rows=10,\n",
    "    description='RegionIn',\n",
    "    disabled=False\n",
    ")"
   ]
  },
  {
   "cell_type": "code",
   "execution_count": 66,
   "metadata": {},
   "outputs": [
    {
     "data": {
      "application/vnd.jupyter.widget-view+json": {
       "model_id": "a1e0e5667b684770892fb8c09080322b",
       "version_major": 2,
       "version_minor": 0
      },
      "text/plain": [
       "Output()"
      ]
     },
     "metadata": {},
     "output_type": "display_data"
    },
    {
     "data": {
      "application/vnd.jupyter.widget-view+json": {
       "model_id": "9697e7b363eb4f1687061ebba066428d",
       "version_major": 2,
       "version_minor": 0
      },
      "text/plain": [
       "VBox(children=(HBox(children=(SelectMultiple(description='RegionIn', index=(0,), options=('London', 'North Wes…"
      ]
     },
     "metadata": {},
     "output_type": "display_data"
    }
   ],
   "source": [
    "def plotthegraph1(RegionIn):\n",
    "    #data2plot = filterframe1(WeekIn,Region)\n",
    "    shape_region = filterregion(RegionIn)\n",
    "    data_week = \n",
    "    shape_region.plot()\n",
    "\n",
    "w = interactive_output(plotthegraph1,{\"RegionIn\":regionwidget})\n",
    "\n",
    "hbox1 = HBox([regionwidget])\n",
    "#hbox2 = HBox([measurewidget,indexwidget, activitywidget])\n",
    "vbox =  VBox([hbox1])\n",
    "\n",
    "display(w,vbox)"
   ]
  },
  {
   "cell_type": "code",
   "execution_count": null,
   "metadata": {},
   "outputs": [],
   "source": []
  }
 ],
 "metadata": {
  "kernelspec": {
   "display_name": "Python 3",
   "language": "python",
   "name": "python3"
  },
  "language_info": {
   "codemirror_mode": {
    "name": "ipython",
    "version": 3
   },
   "file_extension": ".py",
   "mimetype": "text/x-python",
   "name": "python",
   "nbconvert_exporter": "python",
   "pygments_lexer": "ipython3",
   "version": "3.6.9"
  }
 },
 "nbformat": 4,
 "nbformat_minor": 4
}

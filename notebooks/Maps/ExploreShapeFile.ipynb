{
 "cells": [
  {
   "cell_type": "code",
   "execution_count": null,
   "metadata": {},
   "outputs": [],
   "source": [
    "from datetime import datetime\n",
    "import geopandas as gpd\n",
    "import pandas as pd\n",
    "\n",
    "import ipywidgets as widgets\n",
    "from ipywidgets import interact, interactive, fixed, interact_manual,interactive_output, VBox, HBox \n"
   ]
  },
  {
   "cell_type": "code",
   "execution_count": null,
   "metadata": {},
   "outputs": [],
   "source": [
    "now = datetime.now()\n",
    "dt_string = now.strftime(\"%d/%m/%Y %H:%M:%S\")\n",
    "print(\"date and time =\", dt_string)\t"
   ]
  },
  {
   "cell_type": "code",
   "execution_count": null,
   "metadata": {},
   "outputs": [],
   "source": [
    "fp = '/home/jupyterlab/data/Lower_Layer_Super_Output_Areas__December_2011__Boundaries_EW_BFC_v3.shp'"
   ]
  },
  {
   "cell_type": "code",
   "execution_count": null,
   "metadata": {},
   "outputs": [],
   "source": [
    "map_df = gpd.read_file(fp)"
   ]
  },
  {
   "cell_type": "code",
   "execution_count": null,
   "metadata": {},
   "outputs": [],
   "source": [
    "now = datetime.now()\n",
    "dt_string = now.strftime(\"%d/%m/%Y %H:%M:%S\")\n",
    "print(\"date and time =\", dt_string)\t"
   ]
  },
  {
   "cell_type": "code",
   "execution_count": null,
   "metadata": {},
   "outputs": [],
   "source": [
    "map_df.columns"
   ]
  },
  {
   "cell_type": "code",
   "execution_count": null,
   "metadata": {},
   "outputs": [],
   "source": [
    "map_df.head()"
   ]
  },
  {
   "cell_type": "code",
   "execution_count": null,
   "metadata": {},
   "outputs": [],
   "source": [
    "path2file = '/home/jupyterlab/data/Output_Area_to_LSOA_to_MSOA_to_Local_Authority_District__December_2017__Lookup_with_Area_Classifications_in_Great_Britain.csv'"
   ]
  },
  {
   "cell_type": "code",
   "execution_count": null,
   "metadata": {},
   "outputs": [],
   "source": [
    "oa_lookup_df = pd.read_csv(path2file)"
   ]
  },
  {
   "cell_type": "code",
   "execution_count": null,
   "metadata": {},
   "outputs": [],
   "source": [
    "lsoa_lookup_columns = oa_lookup_df[['LSOA11CD', 'LSOA11NM',\n",
    "        'MSOA11CD', 'MSOA11NM', 'LAD17CD', 'LAD17NM', 'LACCD',\n",
    "       'LACNM', 'RGN11CD', 'RGN11NM', 'CTRY11CD', 'CTRY11NM']]"
   ]
  },
  {
   "cell_type": "code",
   "execution_count": null,
   "metadata": {},
   "outputs": [],
   "source": [
    "lsoa_lookup_df = lsoa_lookup_columns.drop_duplicates()"
   ]
  },
  {
   "cell_type": "code",
   "execution_count": null,
   "metadata": {},
   "outputs": [],
   "source": [
    "shapewithregion_df = map_df.merge(lsoa_lookup_df, left_on='LSOA11CD', right_on='LSOA11CD')"
   ]
  },
  {
   "cell_type": "code",
   "execution_count": null,
   "metadata": {},
   "outputs": [],
   "source": [
    "shapewithregion_df.head()"
   ]
  },
  {
   "cell_type": "code",
   "execution_count": null,
   "metadata": {},
   "outputs": [],
   "source": [
    "#['OBJECTID', 'LSOA11CD', 'LSOA11NM_x', 'LSOA11NMW', 'Shape__Are',\n",
    "#       'Shape__Len', 'geometry', 'LSOA11NM_y', 'MSOA11CD', 'MSOA11NM',\n",
    "#       'LAD17CD', 'LAD17NM', 'LACCD', 'LACNM', 'RGN11CD', 'RGN11NM',\n",
    "#       'CTRY11CD', 'CTRY11NM']\n",
    "shapewithnames_df = shapewithregion_df[['OBJECTID', 'LSOA11CD', 'LSOA11NM_x', 'LSOA11NMW',\n",
    "                   'Shape__Are','Shape__Len', 'geometry', 'MSOA11NM',\n",
    "                   'LAD17NM', 'LACNM', 'RGN11NM', 'CTRY11NM']]\n",
    "shapewithnames_df.head(5)"
   ]
  },
  {
   "cell_type": "code",
   "execution_count": null,
   "metadata": {},
   "outputs": [],
   "source": [
    "region_list = shapewithnames_df['RGN11NM'].unique().tolist()\n",
    "region_list"
   ]
  },
  {
   "cell_type": "code",
   "execution_count": null,
   "metadata": {},
   "outputs": [],
   "source": [
    "def filterregion(region_in):\n",
    "    shaperegion_out = shapewithnames_df[shapewithnames_df['RGN11NM'].isin(region_in)]\n",
    "    return shaperegion_out\n",
    "shaperegion_df = filterregion(('London',))"
   ]
  },
  {
   "cell_type": "code",
   "execution_count": null,
   "metadata": {},
   "outputs": [],
   "source": [
    "def filterweek(region_in):\n",
    "    regionweek_out = shapewithnames_df[shapewithnames_df['RGN11NM'].isin(region_in)]\n",
    "    return shaperegion_out"
   ]
  },
  {
   "cell_type": "code",
   "execution_count": null,
   "metadata": {},
   "outputs": [],
   "source": [
    "regionwidget = widgets.SelectMultiple(\n",
    "    options=region_list,\n",
    "    value=['London'],\n",
    "    #rows=10,\n",
    "    description='RegionIn',\n",
    "    disabled=False\n",
    ")"
   ]
  },
  {
   "cell_type": "code",
   "execution_count": null,
   "metadata": {},
   "outputs": [],
   "source": [
    "def plotthegraph1(RegionIn):\n",
    "    #data2plot = filterframe1(WeekIn,Region)\n",
    "    shape_region = filterregion(RegionIn)\n",
    "    data_week = \n",
    "    shape_region.plot()\n",
    "\n",
    "w = interactive_output(plotthegraph1,{\"RegionIn\":regionwidget})\n",
    "\n",
    "hbox1 = HBox([regionwidget])\n",
    "#hbox2 = HBox([measurewidget,indexwidget, activitywidget])\n",
    "vbox =  VBox([hbox1])\n",
    "\n",
    "display(w,vbox)"
   ]
  },
  {
   "cell_type": "code",
   "execution_count": null,
   "metadata": {},
   "outputs": [],
   "source": []
  }
 ],
 "metadata": {
  "kernelspec": {
   "display_name": "Python 3",
   "language": "python",
   "name": "python3"
  },
  "language_info": {
   "codemirror_mode": {
    "name": "ipython",
    "version": 3
   },
   "file_extension": ".py",
   "mimetype": "text/x-python",
   "name": "python",
   "nbconvert_exporter": "python",
   "pygments_lexer": "ipython3",
   "version": "3.6.9"
  }
 },
 "nbformat": 4,
 "nbformat_minor": 4
}

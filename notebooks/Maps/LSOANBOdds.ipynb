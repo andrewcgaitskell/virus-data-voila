{
 "cells": [
  {
   "cell_type": "code",
   "execution_count": null,
   "metadata": {},
   "outputs": [],
   "source": [
    "'''class GetPosn:\n",
    "        def __init__(self, startposn, data2plot_in):\n",
    "            self.startposn = startposn\n",
    "            self.xs = list(startposn.get_xdata())\n",
    "            self.ys = list(startposn.get_ydata())\n",
    "            self.cid = startposn.figure.canvas.mpl_connect('button_press_event', self)\n",
    "            self.data2plot = data2plot_in\n",
    "            #self.points_df = gpd.GeoDataFrame([[0, 0]], columns=list('xy'))\n",
    "\n",
    "        def __call__(self, event):\n",
    "            print('click', event)\n",
    "            if event.inaxes!=self.startposn.axes: return\n",
    "            ex = event.xdata\n",
    "            ey = event.ydata\n",
    "            df = gpd.GeoDataFrame([[ex, ey]], columns=list('xy'))\n",
    "            df['point'] = gpd.points_from_xy(df['x'],df['y']) #(df.Longitude, df.Latitude))\n",
    "            point = gpd.GeoDataFrame(df, geometry='point')\n",
    "            pointInPolys = sjoin(point, self.data2plot , how='inner')\n",
    "            exs = str(ex)\n",
    "            eys = str(ey)\n",
    "            dfs = df.to_string()\n",
    "            #prds = self.poly_rgn_described['name'].to_string()\n",
    "            pip = pointInPolys['name'].to_string(index=False)\n",
    "\n",
    "            #ax.annotate(text=pip, xy=(ex,ey) ,horizontalalignment='center')\n",
    "            #set_title\n",
    "            axs.set_title(pip)\n",
    "    \n",
    "    #startposn, = ax.plot([0], [0])  # empty line\n",
    "    #posn = GetPosn(startposn,data2plot)(exs + ' - ' + eys)'''\n",
    "            "
   ]
  },
  {
   "cell_type": "code",
   "execution_count": null,
   "metadata": {},
   "outputs": [],
   "source": [
    "'''a = widgets.IntSlider()\n",
    "b = widgets.IntSlider()\n",
    "c = widgets.IntSlider()\n",
    "\n",
    "lvl = widgets.SelectMultiple(\n",
    "    options=lod_list,\n",
    "    value=['Country'],\n",
    "    #rows=10,\n",
    "    description='LevelIn',\n",
    "    disabled=False\n",
    ")\n",
    "\n",
    "fw = widgets.SelectMultiple(\n",
    "    options= listwithlevel,\n",
    "    value=['England'],\n",
    "    #rows=10,\n",
    "    description='Focus',\n",
    "    disabled=False\n",
    ")\n",
    "\n",
    "ui = widgets.HBox([a, b, c,lvl, fw])\n",
    "def f(a, b, c,lvl, fw):\n",
    "    fws = ''.join(fw) \n",
    "    print((a, b, c, len(fw)))\n",
    "\n",
    "out = widgets.interactive_output(f, {'a': a, 'b': b, 'c': c, 'lvl' : lvl,'fw' : fw})\n",
    "\n",
    "display(ui, out)'''"
   ]
  },
  {
   "cell_type": "code",
   "execution_count": null,
   "metadata": {},
   "outputs": [],
   "source": [
    "'''fig, ax = plt.subplots(1, 1, figsize=(15, 10))\n",
    "\n",
    "def init():\n",
    "    data2plot = filterframe(5,'London')\n",
    "    #plt.plot(data2plot,ax=ax, legend=True)\n",
    "    #ax = custom_plot(data2plot)\n",
    "    ax_r = plotting.plot_dataframe(lsoa_region_week,ax=ax)\n",
    "    return ax_r\n",
    "\n",
    "def update(frame):\n",
    "    data2plot = filterframe(Frame,'London')\n",
    "    #ax = custom_plot(data2plot)\n",
    "    ax_r = plotting.plot_dataframe(lsoa_region_week,ax=ax)\n",
    "    return ax_r\n",
    "\n",
    "ani = FuncAnimation(fig, update, frames=np.linspace(1, 40, 40),\n",
    "                    init_func=init)\n",
    "plt.show()'''"
   ]
  }
 ],
 "metadata": {
  "kernelspec": {
   "display_name": "env",
   "language": "python",
   "name": "env"
  },
  "language_info": {
   "codemirror_mode": {
    "name": "ipython",
    "version": 3
   },
   "file_extension": ".py",
   "mimetype": "text/x-python",
   "name": "python",
   "nbconvert_exporter": "python",
   "pygments_lexer": "ipython3",
   "version": "3.6.9"
  }
 },
 "nbformat": 4,
 "nbformat_minor": 4
}

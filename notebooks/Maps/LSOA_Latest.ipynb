{
 "cells": [
  {
   "cell_type": "code",
   "execution_count": null,
   "metadata": {},
   "outputs": [],
   "source": [
    "import pandas as pd\n",
    "import numpy as np\n",
    "import os\n",
    "import geopandas as gpd\n",
    "from geopandas import plotting\n",
    "##from geopandas import GeoDataFrame\n",
    "import matplotlib.pyplot as plt\n",
    "from matplotlib.widgets import Slider, Button, RadioButtons\n",
    "from matplotlib.animation import FuncAnimation\n",
    "\n",
    "import ipywidgets as widgets\n",
    "from ipywidgets import interact, interactive, fixed, interact_manual,interactive_output, VBox, HBox "
   ]
  },
  {
   "cell_type": "code",
   "execution_count": null,
   "metadata": {},
   "outputs": [],
   "source": [
    "os.getcwd()"
   ]
  },
  {
   "cell_type": "code",
   "execution_count": null,
   "metadata": {},
   "outputs": [],
   "source": [
    "path2file = '/home/jupyterlab/data/LSOAs_latest.csv'"
   ]
  },
  {
   "cell_type": "code",
   "execution_count": null,
   "metadata": {},
   "outputs": [],
   "source": [
    "lsoa_latest_df = pd.read_csv(path2file)"
   ]
  },
  {
   "cell_type": "code",
   "execution_count": null,
   "metadata": {},
   "outputs": [],
   "source": [
    "lsoa_latest_df"
   ]
  },
  {
   "cell_type": "code",
   "execution_count": null,
   "metadata": {},
   "outputs": [],
   "source": [
    "all_columns_list = list(lsoa_latest_df.columns)"
   ]
  },
  {
   "cell_type": "code",
   "execution_count": null,
   "metadata": {},
   "outputs": [],
   "source": [
    "id_vars_list = ['lsoa11_cd','lsoa11_nm']\n",
    "for x in id_vars_list:\n",
    "    all_columns_list.remove(x)"
   ]
  },
  {
   "cell_type": "code",
   "execution_count": null,
   "metadata": {},
   "outputs": [],
   "source": [
    "all_columns_list"
   ]
  },
  {
   "cell_type": "code",
   "execution_count": null,
   "metadata": {},
   "outputs": [],
   "source": [
    "lsoa_data = pd.melt(lsoa_latest_df, id_vars=id_vars_list, value_vars=all_columns_list)"
   ]
  },
  {
   "cell_type": "code",
   "execution_count": null,
   "metadata": {},
   "outputs": [],
   "source": [
    "lsoa_data"
   ]
  },
  {
   "cell_type": "code",
   "execution_count": null,
   "metadata": {},
   "outputs": [],
   "source": [
    "lsoa_trend_data = lsoa_data.replace(-99,0)\n",
    "lsoa_trend_data['weekasnumber'] = lsoa_trend_data['variable'].str[3:5].astype(int)"
   ]
  },
  {
   "cell_type": "code",
   "execution_count": null,
   "metadata": {},
   "outputs": [],
   "source": [
    "lsoa_southwark = lsoa_trend_data[lsoa_trend_data.lsoa11_nm.str.contains('Southwark')]\n",
    "lsoa_lookup_southwark_wk5 = lsoa_southwark[lsoa_southwark['weekasnumber']==15]\n",
    "lsoa_lookup_southwark_wk5.head(5)"
   ]
  },
  {
   "cell_type": "code",
   "execution_count": null,
   "metadata": {},
   "outputs": [],
   "source": [
    "lsoa_plot = lsoa_southwark.pivot(index='weekasnumber', columns='lsoa11_nm', values='value')\n",
    "#lsoa_plot.plot()"
   ]
  },
  {
   "cell_type": "code",
   "execution_count": null,
   "metadata": {},
   "outputs": [],
   "source": [
    "import datetime\n",
    "datetime.date(2020, 10, 8).isocalendar()[1]"
   ]
  },
  {
   "cell_type": "code",
   "execution_count": null,
   "metadata": {},
   "outputs": [],
   "source": [
    "path2file = '/home/jupyterlab/data/Output_Area_to_LSOA_to_MSOA_to_Local_Authority_District__December_2017__Lookup_with_Area_Classifications_in_Great_Britain.csv'"
   ]
  },
  {
   "cell_type": "code",
   "execution_count": null,
   "metadata": {},
   "outputs": [],
   "source": [
    "oa_lookup_df = pd.read_csv(path2file)"
   ]
  },
  {
   "cell_type": "code",
   "execution_count": null,
   "metadata": {},
   "outputs": [],
   "source": [
    "oa_lookup_df.head(5)"
   ]
  },
  {
   "cell_type": "code",
   "execution_count": null,
   "metadata": {},
   "outputs": [],
   "source": [
    "localauthority_list = list(oa_lookup_df['LAD17NM'].unique())\n",
    "localauthority_list.sort()\n",
    "localauthority_list"
   ]
  },
  {
   "cell_type": "code",
   "execution_count": null,
   "metadata": {},
   "outputs": [],
   "source": [
    "region_list = list(oa_lookup_df['RGN11NM'].unique())\n",
    "region_list.sort()\n",
    "region_list"
   ]
  },
  {
   "cell_type": "code",
   "execution_count": null,
   "metadata": {},
   "outputs": [],
   "source": [
    "oa_lookup_df.columns"
   ]
  },
  {
   "cell_type": "code",
   "execution_count": null,
   "metadata": {},
   "outputs": [],
   "source": [
    "lsoa_lookup_columns = oa_lookup_df[['LSOA11CD', 'LSOA11NM',\n",
    "        'MSOA11CD', 'MSOA11NM', 'LAD17CD', 'LAD17NM', 'LACCD',\n",
    "       'LACNM', 'RGN11CD', 'RGN11NM', 'CTRY11CD', 'CTRY11NM']]"
   ]
  },
  {
   "cell_type": "code",
   "execution_count": null,
   "metadata": {},
   "outputs": [],
   "source": [
    "lsoa_lookup_columns.shape"
   ]
  },
  {
   "cell_type": "code",
   "execution_count": null,
   "metadata": {},
   "outputs": [],
   "source": [
    "lsoa_lookup_df = lsoa_lookup_columns.drop_duplicates()"
   ]
  },
  {
   "cell_type": "code",
   "execution_count": null,
   "metadata": {},
   "outputs": [],
   "source": [
    "lsoa_lookup_df.shape"
   ]
  },
  {
   "cell_type": "code",
   "execution_count": null,
   "metadata": {},
   "outputs": [],
   "source": [
    "lsoa_lookup_df.head(5)"
   ]
  },
  {
   "cell_type": "code",
   "execution_count": null,
   "metadata": {},
   "outputs": [],
   "source": [
    "fp = '/home/jupyterlab/data/Lower_Layer_Super_Output_Areas__December_2011__Boundaries_EW_BFC_v3.shp'"
   ]
  },
  {
   "cell_type": "code",
   "execution_count": null,
   "metadata": {},
   "outputs": [],
   "source": [
    "map_df = gpd.read_file(fp)\n",
    "# check data type so we can see that this is not a normal dataframe, but a GEOdataframe\n",
    "map_df.head()"
   ]
  },
  {
   "cell_type": "code",
   "execution_count": null,
   "metadata": {},
   "outputs": [],
   "source": [
    "##data2plot1_df = lsoa_lookup_southwark_wk5.merge(lsoa_lookup_df, left_on='lsoa11_cd', right_on='LSOA11CD')\n",
    "data2plot1_df = lsoa_trend_data.merge(lsoa_lookup_df, left_on='lsoa11_cd', right_on='LSOA11CD')\n"
   ]
  },
  {
   "cell_type": "code",
   "execution_count": null,
   "metadata": {},
   "outputs": [],
   "source": [
    "data2plot2_df = map_df.merge(data2plot1_df,right_on='lsoa11_cd', left_on='LSOA11CD')"
   ]
  },
  {
   "cell_type": "code",
   "execution_count": null,
   "metadata": {},
   "outputs": [],
   "source": [
    "\n",
    "#['lsoa11_cd', 'lsoa11_nm', 'variable', 'value', 'weekasnumber','Shape__Are', 'Shape__Len', 'geometry']\n",
    "data2plot_df = data2plot2_df[['lsoa11_cd', 'lsoa11_nm','LAD17NM','RGN11NM','Shape__Are', 'Shape__Len', 'geometry','weekasnumber','value']].copy()\n",
    "data2plot_df['OBJECTID'] = data2plot_df.index\n",
    "data2plot_df['cumulative_value'] = data2plot_df.groupby(['lsoa11_nm','weekasnumber'])['value'].apply(lambda x: x.cumsum())\n",
    "data2plot_df.head(5)"
   ]
  },
  {
   "cell_type": "code",
   "execution_count": null,
   "metadata": {},
   "outputs": [],
   "source": [
    "def filterframe(WeekIn,RegionIn):\n",
    "    #region_in = 'London'\n",
    "    lsoa_region = data2plot_df[data2plot_df['RGN11NM'] == RegionIn]\n",
    "    lsoa_region_week = lsoa_region[lsoa_region['weekasnumber']==WeekIn]\n",
    "    return lsoa_region_week\n",
    "#sw_df = filterframe(5,'London')\n",
    "#sw_df\n"
   ]
  },
  {
   "cell_type": "code",
   "execution_count": null,
   "metadata": {},
   "outputs": [],
   "source": [
    "#interact(filterframe, WeekIn=widgets.IntSlider(min=5, max=40, step=1, value=25));"
   ]
  },
  {
   "cell_type": "code",
   "execution_count": null,
   "metadata": {},
   "outputs": [],
   "source": [
    "#gdf = GeoDataFrame(data2plot_df)\n",
    "\n",
    "#data2plot_df.plot(column='value')\n"
   ]
  },
  {
   "cell_type": "code",
   "execution_count": null,
   "metadata": {},
   "outputs": [],
   "source": [
    "def f(x):\n",
    "    return x"
   ]
  },
  {
   "cell_type": "code",
   "execution_count": null,
   "metadata": {},
   "outputs": [],
   "source": [
    "interact(f, x=10);"
   ]
  },
  {
   "cell_type": "code",
   "execution_count": null,
   "metadata": {},
   "outputs": [],
   "source": [
    "def plotthegraph(WeekIn,RegionIn):\n",
    "    data2plot = filterframe(WeekIn,RegionIn)\n",
    "    fig, ax = plt.subplots(1, 1, figsize=(15, 10))\n",
    "    ax.set_title(WeekIn)\n",
    "\n",
    "    data2plot.plot(column='cumulative_value', ax=ax, legend=True)\n",
    "#plotthegraph(5,'London')"
   ]
  },
  {
   "cell_type": "code",
   "execution_count": null,
   "metadata": {},
   "outputs": [],
   "source": [
    "a = widgets.IntSlider()\n",
    "b = widgets.IntSlider()\n",
    "c = widgets.IntSlider()\n",
    "ui = widgets.HBox([a, b, c])\n",
    "def f(a, b, c):\n",
    "    print((a, b, c))\n",
    "\n",
    "out = widgets.interactive_output(f, {'a': a, 'b': b, 'c': c})\n",
    "\n",
    "display(ui, out)"
   ]
  },
  {
   "cell_type": "code",
   "execution_count": null,
   "metadata": {},
   "outputs": [],
   "source": [
    "#weekinwidget = widgets.IntSlider(min=5, max=40, step=1, value=25,description='WeekIn')\n",
    "\n",
    "\n",
    "regionwidget = widgets.SelectMultiple(\n",
    "    options=region_list,\n",
    "    value=['London'],\n",
    "    #rows=10,\n",
    "    description='RegionIn',\n",
    "    disabled=False\n",
    ")\n",
    "\n",
    "playwidget = widgets.Play(\n",
    "    value=25,\n",
    "    min=0,\n",
    "    max=35,\n",
    "    step=1,\n",
    "    interval=100,\n",
    "    description=\"Press play\",\n",
    "    disabled=False\n",
    ")\n",
    "\n",
    "#widgets.jslink((play, 'value'), (slider, 'value'))\n",
    "#widgets.HBox([play, slider])"
   ]
  },
  {
   "cell_type": "raw",
   "metadata": {},
   "source": [
    "localauthoritywidget = widgets.SelectMultiple(\n",
    "    options=localauthority_list,\n",
    "    value=['Southwark'],\n",
    "    #rows=10,\n",
    "    description='Local Authority',\n",
    "    disabled=False\n",
    ")"
   ]
  },
  {
   "cell_type": "raw",
   "metadata": {},
   "source": [
    "def filterframe1(WeekIn,Region):\n",
    "    region_in = 'London'\n",
    "    lsoa_region = data2plot_df[data2plot_df['RGN11NM'] == Region]\n",
    "    lsoa_region_week = lsoa_region[lsoa_region['weekasnumber']==WeekIn]\n",
    "    return lsoa_region_week"
   ]
  },
  {
   "cell_type": "code",
   "execution_count": null,
   "metadata": {},
   "outputs": [],
   "source": [
    "previousdf = []"
   ]
  },
  {
   "cell_type": "code",
   "execution_count": null,
   "metadata": {},
   "outputs": [],
   "source": [
    "\n",
    "\n",
    "def plotthegraph1(WeekIn,RegionIn):\n",
    "    #data2plot = filterframe1(WeekIn,Region)\n",
    "    lsoa_region = data2plot_df[data2plot_df['RGN11NM'].isin(RegionIn)]\n",
    "    lsoa_region_week = lsoa_region[lsoa_region['weekasnumber']==WeekIn]\n",
    "    #fig, ax = plt.subplots(1, 1, figsize=(15, 10))\n",
    "    #lsoa_region_week.plot(column='value', ax=ax, legend=True)\n",
    "    #lsoa_region_week.plot(df=lsoa_region_week,column='value', ax=ax, legend=True)\n",
    "    #custom_plot(lsoa_region_week)\n",
    "    \n",
    "    #if lsoa_region_week.empty:\n",
    "    #    plotting.plot_dataframe(previousdf,column='value',\n",
    "    #                        legend=True,figsize=(10,10), vmin=0, vmax=30,aspect='equal')\n",
    "    #else:\n",
    "    \n",
    "    plotting.plot_dataframe(lsoa_region_week,column='cumulative_value',\n",
    "                            legend=True,figsize=(10,10), vmin=0, vmax=20,aspect='equal')\n",
    "    #previousdf = lsoa_region_week\n",
    "\n",
    "def f(WeekIn,RegionIn):\n",
    "    print((WeekIn,RegionIn))\n",
    "    #plotthegraph(5,'London')\n",
    "\n",
    "w = interactive_output(plotthegraph1,{\"WeekIn\":playwidget,\"RegionIn\":regionwidget})\n",
    "\n",
    "hbox1 = HBox([playwidget,regionwidget])\n",
    "#hbox2 = HBox([measurewidget,indexwidget, activitywidget])\n",
    "vbox =  VBox([hbox1])\n",
    "\n",
    "display(w,vbox)\n",
    "\n",
    "#out = widgets.interactive_output(f, {\"WeekIn\":weekinwidget,\"RegionIn\":regionwidget})\n",
    "\n",
    "#display(ui, out)"
   ]
  },
  {
   "cell_type": "code",
   "execution_count": null,
   "metadata": {},
   "outputs": [],
   "source": [
    "#np.linspace(1, 40, 40).tolist()"
   ]
  },
  {
   "cell_type": "code",
   "execution_count": null,
   "metadata": {},
   "outputs": [],
   "source": [
    "fig, ax = plt.subplots(1, 1, figsize=(15, 10))\n",
    "\n",
    "def init():\n",
    "    data2plot = filterframe(5,'London')\n",
    "    #plt.plot(data2plot,ax=ax, legend=True)\n",
    "    #ax = custom_plot(data2plot)\n",
    "    ax_r = plotting.plot_dataframe(lsoa_region_week,ax=ax)\n",
    "    return ax_r\n",
    "\n",
    "def update(frame):\n",
    "    data2plot = filterframe(Frame,'London')\n",
    "    #ax = custom_plot(data2plot)\n",
    "    ax_r = plotting.plot_dataframe(lsoa_region_week,ax=ax)\n",
    "    return ax_r\n",
    "\n",
    "ani = FuncAnimation(fig, update, frames=np.linspace(1, 40, 40),\n",
    "                    init_func=init)\n",
    "plt.show()"
   ]
  },
  {
   "cell_type": "code",
   "execution_count": null,
   "metadata": {},
   "outputs": [],
   "source": []
  },
  {
   "cell_type": "code",
   "execution_count": null,
   "metadata": {},
   "outputs": [],
   "source": []
  }
 ],
 "metadata": {
  "kernelspec": {
   "display_name": "Python 3",
   "language": "python",
   "name": "python3"
  },
  "language_info": {
   "codemirror_mode": {
    "name": "ipython",
    "version": 3
   },
   "file_extension": ".py",
   "mimetype": "text/x-python",
   "name": "python",
   "nbconvert_exporter": "python",
   "pygments_lexer": "ipython3",
   "version": "3.6.9"
  }
 },
 "nbformat": 4,
 "nbformat_minor": 4
}

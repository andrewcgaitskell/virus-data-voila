{
 "cells": [
  {
   "cell_type": "code",
   "execution_count": 1,
   "metadata": {},
   "outputs": [
    {
     "data": {
      "application/vnd.jupyter.widget-view+json": {
       "model_id": "0bbfdcbc6e5b4c45a47c89502646322c",
       "version_major": 2,
       "version_minor": 0
      },
      "text/plain": [
       "Button(description='check_support', style=ButtonStyle())"
      ]
     },
     "metadata": {},
     "output_type": "display_data"
    },
    {
     "data": {
      "application/vnd.jupyter.widget-view+json": {
       "model_id": "1cbec9987f82410db104d7860aaeea63",
       "version_major": 2,
       "version_minor": 0
      },
      "text/plain": [
       "VBox(children=(FloatSlider(value=4.0, description='$x$'), FloatText(value=0.0, description='$x^2$', disabled=T…"
      ]
     },
     "metadata": {},
     "output_type": "display_data"
    },
    {
     "data": {
      "application/vnd.jupyter.widget-view+json": {
       "model_id": "82b77054ec6e4faf8320adf3333b048d",
       "version_major": 2,
       "version_minor": 0
      },
      "text/plain": [
       "Output()"
      ]
     },
     "metadata": {},
     "output_type": "display_data"
    }
   ],
   "source": [
    "import ipywidgets as widgets\n",
    "\n",
    "slider = widgets.FloatSlider(description=\"$x$\", value=4)\n",
    "text = widgets.FloatText(disabled=True, description=\"$x^2$\")\n",
    "out = widgets.Output()\n",
    "\n",
    "\n",
    "def compute(*ignore):\n",
    "    text.value = str(slider.value ** 2)\n",
    "\n",
    "\n",
    "slider.observe(compute, \"value\")\n",
    "\n",
    "@out.capture()\n",
    "def check_support(*ignore):\n",
    "    test_text = widgets.Text()\n",
    "    #     not showing\n",
    "    display(test_text)\n",
    "    text.value = \"0.1\"\n",
    "\n",
    "\n",
    "check_btn = widgets.Button(description=\"check_support\")\n",
    "display(check_btn)\n",
    "\n",
    "check_btn.on_click(check_support)\n",
    "\n",
    "display(widgets.VBox([slider, text]))\n",
    "out"
   ]
  },
  {
   "cell_type": "code",
   "execution_count": null,
   "metadata": {},
   "outputs": [],
   "source": []
  }
 ],
 "metadata": {
  "kernelspec": {
   "display_name": "env",
   "language": "python",
   "name": "env"
  },
  "language_info": {
   "codemirror_mode": {
    "name": "ipython",
    "version": 3
   },
   "file_extension": ".py",
   "mimetype": "text/x-python",
   "name": "python",
   "nbconvert_exporter": "python",
   "pygments_lexer": "ipython3",
   "version": "3.6.9"
  }
 },
 "nbformat": 4,
 "nbformat_minor": 4
}

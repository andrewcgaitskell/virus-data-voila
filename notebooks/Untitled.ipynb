{
 "cells": [
  {
   "cell_type": "code",
   "execution_count": 4,
   "metadata": {},
   "outputs": [],
   "source": [
    "import os"
   ]
  },
  {
   "cell_type": "code",
   "execution_count": 5,
   "metadata": {},
   "outputs": [],
   "source": [
    "x = os.environ"
   ]
  },
  {
   "cell_type": "code",
   "execution_count": 6,
   "metadata": {},
   "outputs": [
    {
     "name": "stdout",
     "output_type": "stream",
     "text": [
      "environ({'PROJ_LIB': '/Users/andrewgaitskell/Software/anaconda3/envs/env_voila/share/proj', 'TERM_PROGRAM': 'Apple_Terminal', 'SHELL': '/bin/bash', 'TERM': 'xterm-color', 'TMPDIR': '/var/folders/vs/j8f2w_ns5kz661v8zn6lqzl00000gn/T/', 'CONDA_SHLVL': '1', 'Apple_PubSub_Socket_Render': '/private/tmp/com.apple.launchd.6A2K4Y04bO/Render', 'CONDA_PROMPT_MODIFIER': '(env_voila) ', 'TERM_PROGRAM_VERSION': '421.2', 'GSETTINGS_SCHEMA_DIR_CONDA_BACKUP': '', 'OLDPWD': '/Users/andrewgaitskell', 'TERM_SESSION_ID': '2F98BAC1-57E7-40C9-B2C0-60430515FAFE', 'USER': 'andrewgaitskell', 'CONDA_EXE': '/Users/andrewgaitskell/Software/anaconda3/bin/conda', 'SSH_AUTH_SOCK': '/private/tmp/com.apple.launchd.c0KYgBMLCF/Listeners', '_CE_CONDA': '', 'CPL_ZIP_ENCODING': 'UTF-8', 'PATH': '/Users/andrewgaitskell/Software/anaconda3/envs/env_voila/bin:/Users/andrewgaitskell/Software/anaconda3/condabin:/Library/Frameworks/Python.framework/Versions/3.8/bin:/usr/local/bin:/usr/bin:/bin:/usr/sbin:/sbin:/Applications/Postgres.app/Contents/Versions/latest/bin', 'PROJ_NETWORK': 'ON', 'GSETTINGS_SCHEMA_DIR': '/Users/andrewgaitskell/Software/anaconda3/envs/env_voila/share/glib-2.0/schemas', 'CONDA_PREFIX': '/Users/andrewgaitskell/Software/anaconda3/envs/env_voila', 'PWD': '/Users/andrewgaitskell/Documents/Dashboards/voila', 'LANG': 'en_GB.UTF-8', 'XPC_FLAGS': '0x0', 'GDAL_DATA': '/Users/andrewgaitskell/Software/anaconda3/envs/env_voila/share/gdal', '_CE_M': '', 'XPC_SERVICE_NAME': '0', 'SHLVL': '1', 'HOME': '/Users/andrewgaitskell', 'CONDA_PYTHON_EXE': '/Users/andrewgaitskell/Software/anaconda3/bin/python', 'LOGNAME': 'andrewgaitskell', 'CONDA_DEFAULT_ENV': 'env_voila', '_': '/Users/andrewgaitskell/Software/anaconda3/envs/env_voila/bin/jupyter', 'KERNEL_LAUNCH_TIMEOUT': '40', 'JPY_PARENT_PID': '7301', 'CLICOLOR': '1', 'PAGER': 'cat', 'GIT_PAGER': 'cat', 'MPLBACKEND': 'module://ipykernel.pylab.backend_inline'})\n"
     ]
    }
   ],
   "source": [
    "print(x)"
   ]
  }
 ],
 "metadata": {
  "kernelspec": {
   "display_name": "Python 3",
   "language": "python",
   "name": "python3"
  },
  "language_info": {
   "codemirror_mode": {
    "name": "ipython",
    "version": 3
   },
   "file_extension": ".py",
   "mimetype": "text/x-python",
   "name": "python",
   "nbconvert_exporter": "python",
   "pygments_lexer": "ipython3",
   "version": "3.7.6"
  }
 },
 "nbformat": 4,
 "nbformat_minor": 4
}

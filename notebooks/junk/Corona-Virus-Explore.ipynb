{
 "cells": [
  {
   "cell_type": "markdown",
   "metadata": {
    "colab_type": "text",
    "id": "view-in-github"
   },
   "source": [
    "<a href=\"https://colab.research.google.com/github/andrewcgaitskell/voila/blob/master/notebooks/Corona-Virus-Explore.ipynb\" target=\"_parent\"><img src=\"https://colab.research.google.com/assets/colab-badge.svg\" alt=\"Open In Colab\"/></a>"
   ]
  },
  {
   "cell_type": "code",
   "execution_count": 1,
   "metadata": {
    "colab": {},
    "colab_type": "code",
    "id": "hsJ9nvEOmT2_"
   },
   "outputs": [],
   "source": [
    "import numpy as np # linear algebra\n",
    "import pandas as pd # data processing, CSV file I/O (e.g. pd.read_csv)\n",
    "import matplotlib"
   ]
  },
  {
   "cell_type": "code",
   "execution_count": 2,
   "metadata": {
    "colab": {
     "base_uri": "https://localhost:8080/",
     "height": 34
    },
    "colab_type": "code",
    "id": "A5nK_IdDmDyC",
    "outputId": "8c27f96d-7146-4185-b010-6ae72035e966"
   },
   "outputs": [
    {
     "name": "stdout",
     "output_type": "stream",
     "text": [
      "/Users/andrewgaitskell/Documents/Dashboards/voila/notebooks/Data/\n"
     ]
    }
   ],
   "source": [
    "try:\n",
    "    from google.colab import drive\n",
    "    drive.mount('/content/drive')\n",
    "    drivepath = \"/content/drive/My Drive/\"\n",
    "    datafolder = \"DashboardData/\"\n",
    "    path2datafolder = drivepath + datafolder\n",
    "except:\n",
    "    import os\n",
    "    cwd = os.getcwd()\n",
    "    #print(cwd)\n",
    "    drivepath = cwd + \"/\"\n",
    "    datafolder = \"Data/\"\n",
    "    path2datafolder = drivepath + datafolder\n",
    "    print(path2datafolder)\n",
    "    "
   ]
  },
  {
   "cell_type": "code",
   "execution_count": null,
   "metadata": {
    "_cell_guid": "b1076dfc-b9ad-4769-8c92-a6c4dae69d19",
    "_uuid": "8f2839f25d086af736a60e9eeb907d3b93b6e0e5",
    "colab": {},
    "colab_type": "code",
    "id": "P1PEWk6LlT41"
   },
   "outputs": [],
   "source": []
  },
  {
   "cell_type": "code",
   "execution_count": null,
   "metadata": {
    "_cell_guid": "79c7e3d0-c299-4dcb-8224-4455121ee9b0",
    "_uuid": "d629ff2d2480ee46fbb7e2d37f6b5fab8052498a",
    "colab": {},
    "colab_type": "code",
    "id": "9m2A-cVblT5D"
   },
   "outputs": [],
   "source": []
  },
  {
   "cell_type": "code",
   "execution_count": 3,
   "metadata": {
    "_cell_guid": "",
    "_uuid": "",
    "colab": {},
    "colab_type": "code",
    "id": "QVjEvoR2lT5P"
   },
   "outputs": [],
   "source": [
    "#import pandas as pd\n",
    "#line_list_data = pd.read_csv(\"../input/novel-corona-virus-2019-dataset/COVID19_line_list_data.csv\")\n",
    "#open_line_list = pd.read_csv(\"../input/novel-corona-virus-2019-dataset/COVID19_open_line_list.csv\")\n",
    "#data = pd.read_csv(\"../input/novel-corona-virus-2019-dataset/covid_19_data.csv\")\n",
    "data = pd.read_csv(path2datafolder + 'Novel Corona Virus 2019 Dataset/covid_19_data.csv',parse_dates=['Last Update','ObservationDate'])\n",
    "#time_series_confirmed = pd.read_csv(\"../input/novel-corona-virus-2019-dataset/time_series_covid_19_confirmed.csv\")\n",
    "#time_series_deaths = pd.read_csv(\"../input/novel-corona-virus-2019-dataset/time_series_covid_19_deaths.csv\")\n",
    "#time_series_recovered = pd.read_csv(\"../input/novel-corona-virus-2019-dataset/time_series_covid_19_recovered.csv\")"
   ]
  },
  {
   "cell_type": "code",
   "execution_count": 4,
   "metadata": {
    "colab": {},
    "colab_type": "code",
    "id": "WFe4u91qlT5W"
   },
   "outputs": [],
   "source": [
    "data.rename(columns={'ObservationDate':'Date', 'Country/Region':'Country'}, inplace=True)"
   ]
  },
  {
   "cell_type": "code",
   "execution_count": 5,
   "metadata": {
    "colab": {
     "base_uri": "https://localhost:8080/",
     "height": 69
    },
    "colab_type": "code",
    "id": "yk9j4NmOlT5e",
    "outputId": "53957166-b1be-4309-b1bc-1faf61a34624"
   },
   "outputs": [
    {
     "data": {
      "text/plain": [
       "Index(['SNo', 'Date', 'Province/State', 'Country', 'Last Update', 'Confirmed',\n",
       "       'Deaths', 'Recovered'],\n",
       "      dtype='object')"
      ]
     },
     "execution_count": 5,
     "metadata": {},
     "output_type": "execute_result"
    }
   ],
   "source": [
    "data.columns"
   ]
  },
  {
   "cell_type": "code",
   "execution_count": 6,
   "metadata": {
    "colab": {
     "base_uri": "https://localhost:8080/",
     "height": 363
    },
    "colab_type": "code",
    "id": "pqw60vsvlT5l",
    "outputId": "0727ab66-fddd-41ae-9bbf-40986ffe2171"
   },
   "outputs": [
    {
     "data": {
      "text/html": [
       "<div>\n",
       "<style scoped>\n",
       "    .dataframe tbody tr th:only-of-type {\n",
       "        vertical-align: middle;\n",
       "    }\n",
       "\n",
       "    .dataframe tbody tr th {\n",
       "        vertical-align: top;\n",
       "    }\n",
       "\n",
       "    .dataframe thead th {\n",
       "        text-align: right;\n",
       "    }\n",
       "</style>\n",
       "<table border=\"1\" class=\"dataframe\">\n",
       "  <thead>\n",
       "    <tr style=\"text-align: right;\">\n",
       "      <th></th>\n",
       "      <th>SNo</th>\n",
       "      <th>Date</th>\n",
       "      <th>Province/State</th>\n",
       "      <th>Country</th>\n",
       "      <th>Last Update</th>\n",
       "      <th>Confirmed</th>\n",
       "      <th>Deaths</th>\n",
       "      <th>Recovered</th>\n",
       "    </tr>\n",
       "  </thead>\n",
       "  <tbody>\n",
       "    <tr>\n",
       "      <th>0</th>\n",
       "      <td>1</td>\n",
       "      <td>2020-01-22</td>\n",
       "      <td>Anhui</td>\n",
       "      <td>Mainland China</td>\n",
       "      <td>2020-01-22 17:00:00</td>\n",
       "      <td>1.0</td>\n",
       "      <td>0.0</td>\n",
       "      <td>0.0</td>\n",
       "    </tr>\n",
       "    <tr>\n",
       "      <th>1</th>\n",
       "      <td>2</td>\n",
       "      <td>2020-01-22</td>\n",
       "      <td>Beijing</td>\n",
       "      <td>Mainland China</td>\n",
       "      <td>2020-01-22 17:00:00</td>\n",
       "      <td>14.0</td>\n",
       "      <td>0.0</td>\n",
       "      <td>0.0</td>\n",
       "    </tr>\n",
       "    <tr>\n",
       "      <th>2</th>\n",
       "      <td>3</td>\n",
       "      <td>2020-01-22</td>\n",
       "      <td>Chongqing</td>\n",
       "      <td>Mainland China</td>\n",
       "      <td>2020-01-22 17:00:00</td>\n",
       "      <td>6.0</td>\n",
       "      <td>0.0</td>\n",
       "      <td>0.0</td>\n",
       "    </tr>\n",
       "    <tr>\n",
       "      <th>3</th>\n",
       "      <td>4</td>\n",
       "      <td>2020-01-22</td>\n",
       "      <td>Fujian</td>\n",
       "      <td>Mainland China</td>\n",
       "      <td>2020-01-22 17:00:00</td>\n",
       "      <td>1.0</td>\n",
       "      <td>0.0</td>\n",
       "      <td>0.0</td>\n",
       "    </tr>\n",
       "    <tr>\n",
       "      <th>4</th>\n",
       "      <td>5</td>\n",
       "      <td>2020-01-22</td>\n",
       "      <td>Gansu</td>\n",
       "      <td>Mainland China</td>\n",
       "      <td>2020-01-22 17:00:00</td>\n",
       "      <td>0.0</td>\n",
       "      <td>0.0</td>\n",
       "      <td>0.0</td>\n",
       "    </tr>\n",
       "    <tr>\n",
       "      <th>5</th>\n",
       "      <td>6</td>\n",
       "      <td>2020-01-22</td>\n",
       "      <td>Guangdong</td>\n",
       "      <td>Mainland China</td>\n",
       "      <td>2020-01-22 17:00:00</td>\n",
       "      <td>26.0</td>\n",
       "      <td>0.0</td>\n",
       "      <td>0.0</td>\n",
       "    </tr>\n",
       "    <tr>\n",
       "      <th>6</th>\n",
       "      <td>7</td>\n",
       "      <td>2020-01-22</td>\n",
       "      <td>Guangxi</td>\n",
       "      <td>Mainland China</td>\n",
       "      <td>2020-01-22 17:00:00</td>\n",
       "      <td>2.0</td>\n",
       "      <td>0.0</td>\n",
       "      <td>0.0</td>\n",
       "    </tr>\n",
       "    <tr>\n",
       "      <th>7</th>\n",
       "      <td>8</td>\n",
       "      <td>2020-01-22</td>\n",
       "      <td>Guizhou</td>\n",
       "      <td>Mainland China</td>\n",
       "      <td>2020-01-22 17:00:00</td>\n",
       "      <td>1.0</td>\n",
       "      <td>0.0</td>\n",
       "      <td>0.0</td>\n",
       "    </tr>\n",
       "    <tr>\n",
       "      <th>8</th>\n",
       "      <td>9</td>\n",
       "      <td>2020-01-22</td>\n",
       "      <td>Hainan</td>\n",
       "      <td>Mainland China</td>\n",
       "      <td>2020-01-22 17:00:00</td>\n",
       "      <td>4.0</td>\n",
       "      <td>0.0</td>\n",
       "      <td>0.0</td>\n",
       "    </tr>\n",
       "    <tr>\n",
       "      <th>9</th>\n",
       "      <td>10</td>\n",
       "      <td>2020-01-22</td>\n",
       "      <td>Hebei</td>\n",
       "      <td>Mainland China</td>\n",
       "      <td>2020-01-22 17:00:00</td>\n",
       "      <td>1.0</td>\n",
       "      <td>0.0</td>\n",
       "      <td>0.0</td>\n",
       "    </tr>\n",
       "  </tbody>\n",
       "</table>\n",
       "</div>"
      ],
      "text/plain": [
       "   SNo       Date Province/State         Country         Last Update  \\\n",
       "0    1 2020-01-22          Anhui  Mainland China 2020-01-22 17:00:00   \n",
       "1    2 2020-01-22        Beijing  Mainland China 2020-01-22 17:00:00   \n",
       "2    3 2020-01-22      Chongqing  Mainland China 2020-01-22 17:00:00   \n",
       "3    4 2020-01-22         Fujian  Mainland China 2020-01-22 17:00:00   \n",
       "4    5 2020-01-22          Gansu  Mainland China 2020-01-22 17:00:00   \n",
       "5    6 2020-01-22      Guangdong  Mainland China 2020-01-22 17:00:00   \n",
       "6    7 2020-01-22        Guangxi  Mainland China 2020-01-22 17:00:00   \n",
       "7    8 2020-01-22        Guizhou  Mainland China 2020-01-22 17:00:00   \n",
       "8    9 2020-01-22         Hainan  Mainland China 2020-01-22 17:00:00   \n",
       "9   10 2020-01-22          Hebei  Mainland China 2020-01-22 17:00:00   \n",
       "\n",
       "   Confirmed  Deaths  Recovered  \n",
       "0        1.0     0.0        0.0  \n",
       "1       14.0     0.0        0.0  \n",
       "2        6.0     0.0        0.0  \n",
       "3        1.0     0.0        0.0  \n",
       "4        0.0     0.0        0.0  \n",
       "5       26.0     0.0        0.0  \n",
       "6        2.0     0.0        0.0  \n",
       "7        1.0     0.0        0.0  \n",
       "8        4.0     0.0        0.0  \n",
       "9        1.0     0.0        0.0  "
      ]
     },
     "execution_count": 6,
     "metadata": {},
     "output_type": "execute_result"
    }
   ],
   "source": [
    "data.head(10)"
   ]
  },
  {
   "cell_type": "code",
   "execution_count": 7,
   "metadata": {
    "colab": {
     "base_uri": "https://localhost:8080/",
     "height": 833
    },
    "colab_type": "code",
    "id": "voESkD_qlT5t",
    "outputId": "c0a9c681-acd8-4312-ab24-d9aab6a9e199"
   },
   "outputs": [
    {
     "data": {
      "text/plain": [
       "array(['Mainland China', 'Hong Kong', 'Macau', 'Taiwan', 'US', 'Japan',\n",
       "       'Thailand', 'South Korea', 'Singapore', 'Philippines', 'Malaysia',\n",
       "       'Vietnam', 'Australia', 'Mexico', 'Brazil', 'Colombia', 'France',\n",
       "       'Nepal', 'Canada', 'Cambodia', 'Sri Lanka', 'Ivory Coast',\n",
       "       'Germany', 'Finland', 'United Arab Emirates', 'India', 'Italy',\n",
       "       'UK', 'Russia', 'Sweden', 'Spain', 'Belgium', 'Others', 'Egypt',\n",
       "       'Iran', 'Israel', 'Lebanon', 'Iraq', 'Oman', 'Afghanistan',\n",
       "       'Bahrain', 'Kuwait', 'Austria', 'Algeria', 'Croatia',\n",
       "       'Switzerland', 'Pakistan', 'Georgia', 'Greece', 'North Macedonia',\n",
       "       'Norway', 'Romania', 'Denmark', 'Estonia', 'Netherlands',\n",
       "       'San Marino', ' Azerbaijan', 'Belarus', 'Iceland', 'Lithuania',\n",
       "       'New Zealand', 'Nigeria', 'North Ireland', 'Ireland', 'Luxembourg',\n",
       "       'Monaco', 'Qatar', 'Ecuador', 'Azerbaijan', 'Czech Republic',\n",
       "       'Armenia', 'Dominican Republic', 'Indonesia', 'Portugal',\n",
       "       'Andorra', 'Latvia', 'Morocco', 'Saudi Arabia', 'Senegal',\n",
       "       'Argentina', 'Chile', 'Jordan', 'Ukraine', 'Saint Barthelemy',\n",
       "       'Hungary', 'Faroe Islands', 'Gibraltar', 'Liechtenstein', 'Poland',\n",
       "       'Tunisia', 'Palestine', 'Bosnia and Herzegovina', 'Slovenia',\n",
       "       'South Africa', 'Bhutan', 'Cameroon', 'Costa Rica', 'Peru',\n",
       "       'Serbia', 'Slovakia', 'Togo', 'Vatican City', 'French Guiana',\n",
       "       'Malta', 'Martinique', 'Republic of Ireland', 'Bulgaria',\n",
       "       'Maldives', 'Bangladesh', 'Moldova', 'Paraguay', 'Albania',\n",
       "       'Cyprus', 'St. Martin', 'Brunei', 'occupied Palestinian territory',\n",
       "       \"('St. Martin',)\", 'Burkina Faso', 'Channel Islands', 'Holy See',\n",
       "       'Mongolia', 'Panama', 'Bolivia', 'Honduras', 'Congo (Kinshasa)',\n",
       "       'Jamaica', 'Reunion', 'Turkey', 'Cuba', 'Guyana', 'Kazakhstan',\n",
       "       'Cayman Islands', 'Guadeloupe', 'Ethiopia', 'Sudan', 'Guinea',\n",
       "       'Antigua and Barbuda', 'Aruba', 'Kenya', 'Uruguay', 'Ghana',\n",
       "       'Jersey', 'Namibia', 'Seychelles', 'Trinidad and Tobago',\n",
       "       'Venezuela', 'Curacao', 'Eswatini', 'Gabon', 'Guatemala',\n",
       "       'Guernsey', 'Mauritania', 'Rwanda', 'Saint Lucia',\n",
       "       'Saint Vincent and the Grenadines', 'Suriname', 'Kosovo',\n",
       "       'Central African Republic', 'Congo (Brazzaville)',\n",
       "       'Equatorial Guinea', 'Uzbekistan', 'Guam', 'Puerto Rico', 'Benin',\n",
       "       'Greenland', 'Liberia', 'Mayotte', 'Republic of the Congo',\n",
       "       'Somalia', 'Tanzania', 'The Bahamas', 'Barbados', 'Montenegro',\n",
       "       'The Gambia', 'Kyrgyzstan', 'Mauritius', 'Zambia', 'Djibouti',\n",
       "       'Gambia, The', 'Bahamas, The', 'Chad', 'El Salvador', 'Fiji',\n",
       "       'Nicaragua', 'Madagascar', 'Haiti', 'Angola', 'Cabo Verde',\n",
       "       'Niger', 'Papua New Guinea', 'Zimbabwe', 'Cape Verde',\n",
       "       'East Timor', 'Eritrea', 'Uganda', 'Bahamas', 'Dominica', 'Gambia',\n",
       "       'Grenada', 'Mozambique', 'Syria', 'Timor-Leste', 'Belize', 'Laos',\n",
       "       'Libya', 'Diamond Princess', 'Guinea-Bissau', 'Mali',\n",
       "       'Saint Kitts and Nevis', 'West Bank and Gaza', 'Burma',\n",
       "       'MS Zaandam', 'Botswana', 'Burundi', 'Sierra Leone', 'Malawi',\n",
       "       'South Sudan', 'Western Sahara', 'Sao Tome and Principe', 'Yemen',\n",
       "       'Comoros', 'Tajikistan', 'Lesotho'], dtype=object)"
      ]
     },
     "execution_count": 7,
     "metadata": {},
     "output_type": "execute_result"
    }
   ],
   "source": [
    "data.Country.unique() #list of countries"
   ]
  },
  {
   "cell_type": "code",
   "execution_count": 8,
   "metadata": {
    "colab": {},
    "colab_type": "code",
    "id": "aO0jTCThlT5z"
   },
   "outputs": [],
   "source": [
    "data_summary_by_country = data.query('Country==\"UK\"').groupby([\"Date\",\"Last Update\",\"Country\"])[['Confirmed', 'Deaths', 'Recovered']].sum().reset_index() # multiple columns required []"
   ]
  },
  {
   "cell_type": "code",
   "execution_count": 9,
   "metadata": {
    "colab": {},
    "colab_type": "code",
    "id": "Lib20wxBlT53"
   },
   "outputs": [],
   "source": [
    "df_latestupdate = data.query('Country==\"UK\"').groupby([\"Date\",\"Country\"])[[\"Last Update\"]].max().reset_index() # find latest update date for country date combo"
   ]
  },
  {
   "cell_type": "code",
   "execution_count": 10,
   "metadata": {
    "colab": {},
    "colab_type": "code",
    "id": "u7bHTJuylT5-"
   },
   "outputs": [],
   "source": [
    "latest_data = data_summary_by_country.merge(df_latestupdate,how = 'inner',  left_on=['Last Update','Date','Country'], right_on=['Last Update','Date','Country'], suffixes = ['_l','_r'])"
   ]
  },
  {
   "cell_type": "code",
   "execution_count": 11,
   "metadata": {
    "colab": {
     "base_uri": "https://localhost:8080/",
     "height": 206
    },
    "colab_type": "code",
    "id": "ud-rOZ4ulT6F",
    "outputId": "1463b86f-f511-4e92-82f0-73bdf1e6ca22"
   },
   "outputs": [
    {
     "data": {
      "text/html": [
       "<div>\n",
       "<style scoped>\n",
       "    .dataframe tbody tr th:only-of-type {\n",
       "        vertical-align: middle;\n",
       "    }\n",
       "\n",
       "    .dataframe tbody tr th {\n",
       "        vertical-align: top;\n",
       "    }\n",
       "\n",
       "    .dataframe thead th {\n",
       "        text-align: right;\n",
       "    }\n",
       "</style>\n",
       "<table border=\"1\" class=\"dataframe\">\n",
       "  <thead>\n",
       "    <tr style=\"text-align: right;\">\n",
       "      <th></th>\n",
       "      <th>Date</th>\n",
       "      <th>Last Update</th>\n",
       "      <th>Country</th>\n",
       "      <th>Confirmed</th>\n",
       "      <th>Deaths</th>\n",
       "      <th>Recovered</th>\n",
       "    </tr>\n",
       "  </thead>\n",
       "  <tbody>\n",
       "    <tr>\n",
       "      <th>0</th>\n",
       "      <td>2020-01-31</td>\n",
       "      <td>2020-01-31 23:59:00</td>\n",
       "      <td>UK</td>\n",
       "      <td>2.0</td>\n",
       "      <td>0.0</td>\n",
       "      <td>0.0</td>\n",
       "    </tr>\n",
       "    <tr>\n",
       "      <th>1</th>\n",
       "      <td>2020-02-01</td>\n",
       "      <td>2020-02-01 01:52:00</td>\n",
       "      <td>UK</td>\n",
       "      <td>2.0</td>\n",
       "      <td>0.0</td>\n",
       "      <td>0.0</td>\n",
       "    </tr>\n",
       "    <tr>\n",
       "      <th>2</th>\n",
       "      <td>2020-02-02</td>\n",
       "      <td>2020-02-01 01:52:40</td>\n",
       "      <td>UK</td>\n",
       "      <td>2.0</td>\n",
       "      <td>0.0</td>\n",
       "      <td>0.0</td>\n",
       "    </tr>\n",
       "    <tr>\n",
       "      <th>3</th>\n",
       "      <td>2020-02-03</td>\n",
       "      <td>2020-02-01 01:52:40</td>\n",
       "      <td>UK</td>\n",
       "      <td>2.0</td>\n",
       "      <td>0.0</td>\n",
       "      <td>0.0</td>\n",
       "    </tr>\n",
       "    <tr>\n",
       "      <th>4</th>\n",
       "      <td>2020-02-04</td>\n",
       "      <td>2020-02-01 01:52:40</td>\n",
       "      <td>UK</td>\n",
       "      <td>2.0</td>\n",
       "      <td>0.0</td>\n",
       "      <td>0.0</td>\n",
       "    </tr>\n",
       "  </tbody>\n",
       "</table>\n",
       "</div>"
      ],
      "text/plain": [
       "        Date         Last Update Country  Confirmed  Deaths  Recovered\n",
       "0 2020-01-31 2020-01-31 23:59:00      UK        2.0     0.0        0.0\n",
       "1 2020-02-01 2020-02-01 01:52:00      UK        2.0     0.0        0.0\n",
       "2 2020-02-02 2020-02-01 01:52:40      UK        2.0     0.0        0.0\n",
       "3 2020-02-03 2020-02-01 01:52:40      UK        2.0     0.0        0.0\n",
       "4 2020-02-04 2020-02-01 01:52:40      UK        2.0     0.0        0.0"
      ]
     },
     "execution_count": 11,
     "metadata": {},
     "output_type": "execute_result"
    }
   ],
   "source": [
    "latest_data.head(5)"
   ]
  },
  {
   "cell_type": "code",
   "execution_count": 12,
   "metadata": {
    "colab": {
     "base_uri": "https://localhost:8080/",
     "height": 81
    },
    "colab_type": "code",
    "id": "0Y_8FBQYlT6M",
    "outputId": "554b46df-d805-48f2-d689-c3a6215bb4f5"
   },
   "outputs": [
    {
     "data": {
      "text/html": [
       "<div>\n",
       "<style scoped>\n",
       "    .dataframe tbody tr th:only-of-type {\n",
       "        vertical-align: middle;\n",
       "    }\n",
       "\n",
       "    .dataframe tbody tr th {\n",
       "        vertical-align: top;\n",
       "    }\n",
       "\n",
       "    .dataframe thead th {\n",
       "        text-align: right;\n",
       "    }\n",
       "</style>\n",
       "<table border=\"1\" class=\"dataframe\">\n",
       "  <thead>\n",
       "    <tr style=\"text-align: right;\">\n",
       "      <th></th>\n",
       "      <th>Country</th>\n",
       "      <th>EarliestConfirmedDate</th>\n",
       "    </tr>\n",
       "  </thead>\n",
       "  <tbody>\n",
       "    <tr>\n",
       "      <th>0</th>\n",
       "      <td>UK</td>\n",
       "      <td>2020-01-31</td>\n",
       "    </tr>\n",
       "  </tbody>\n",
       "</table>\n",
       "</div>"
      ],
      "text/plain": [
       "  Country EarliestConfirmedDate\n",
       "0      UK            2020-01-31"
      ]
     },
     "execution_count": 12,
     "metadata": {},
     "output_type": "execute_result"
    }
   ],
   "source": [
    "df_earliest = latest_data.query('Country==\"UK\" & Confirmed > 0').groupby([\"Country\"])[[\"Date\"]].min().reset_index()\n",
    "\n",
    "df_earliest.rename(columns={'Date':'EarliestConfirmedDate'}, inplace=True)\n",
    "\n",
    "df_earliest.head(6)"
   ]
  },
  {
   "cell_type": "code",
   "execution_count": 13,
   "metadata": {
    "colab": {
     "base_uri": "https://localhost:8080/",
     "height": 206
    },
    "colab_type": "code",
    "id": "vNh72GN_lT6R",
    "outputId": "05c78ccb-3c0f-49e1-d19b-ba9a65dd5eeb"
   },
   "outputs": [
    {
     "data": {
      "text/html": [
       "<div>\n",
       "<style scoped>\n",
       "    .dataframe tbody tr th:only-of-type {\n",
       "        vertical-align: middle;\n",
       "    }\n",
       "\n",
       "    .dataframe tbody tr th {\n",
       "        vertical-align: top;\n",
       "    }\n",
       "\n",
       "    .dataframe thead th {\n",
       "        text-align: right;\n",
       "    }\n",
       "</style>\n",
       "<table border=\"1\" class=\"dataframe\">\n",
       "  <thead>\n",
       "    <tr style=\"text-align: right;\">\n",
       "      <th></th>\n",
       "      <th>Date</th>\n",
       "      <th>Last Update</th>\n",
       "      <th>Country</th>\n",
       "      <th>Confirmed</th>\n",
       "      <th>Deaths</th>\n",
       "      <th>Recovered</th>\n",
       "      <th>EarliestConfirmedDate</th>\n",
       "      <th>DaysFromStart</th>\n",
       "    </tr>\n",
       "  </thead>\n",
       "  <tbody>\n",
       "    <tr>\n",
       "      <th>0</th>\n",
       "      <td>2020-01-31</td>\n",
       "      <td>2020-01-31 23:59:00</td>\n",
       "      <td>UK</td>\n",
       "      <td>2.0</td>\n",
       "      <td>0.0</td>\n",
       "      <td>0.0</td>\n",
       "      <td>2020-01-31</td>\n",
       "      <td>0</td>\n",
       "    </tr>\n",
       "    <tr>\n",
       "      <th>1</th>\n",
       "      <td>2020-02-01</td>\n",
       "      <td>2020-02-01 01:52:00</td>\n",
       "      <td>UK</td>\n",
       "      <td>2.0</td>\n",
       "      <td>0.0</td>\n",
       "      <td>0.0</td>\n",
       "      <td>2020-01-31</td>\n",
       "      <td>1</td>\n",
       "    </tr>\n",
       "    <tr>\n",
       "      <th>2</th>\n",
       "      <td>2020-02-02</td>\n",
       "      <td>2020-02-01 01:52:40</td>\n",
       "      <td>UK</td>\n",
       "      <td>2.0</td>\n",
       "      <td>0.0</td>\n",
       "      <td>0.0</td>\n",
       "      <td>2020-01-31</td>\n",
       "      <td>2</td>\n",
       "    </tr>\n",
       "    <tr>\n",
       "      <th>3</th>\n",
       "      <td>2020-02-03</td>\n",
       "      <td>2020-02-01 01:52:40</td>\n",
       "      <td>UK</td>\n",
       "      <td>2.0</td>\n",
       "      <td>0.0</td>\n",
       "      <td>0.0</td>\n",
       "      <td>2020-01-31</td>\n",
       "      <td>3</td>\n",
       "    </tr>\n",
       "    <tr>\n",
       "      <th>4</th>\n",
       "      <td>2020-02-04</td>\n",
       "      <td>2020-02-01 01:52:40</td>\n",
       "      <td>UK</td>\n",
       "      <td>2.0</td>\n",
       "      <td>0.0</td>\n",
       "      <td>0.0</td>\n",
       "      <td>2020-01-31</td>\n",
       "      <td>4</td>\n",
       "    </tr>\n",
       "  </tbody>\n",
       "</table>\n",
       "</div>"
      ],
      "text/plain": [
       "        Date         Last Update Country  Confirmed  Deaths  Recovered  \\\n",
       "0 2020-01-31 2020-01-31 23:59:00      UK        2.0     0.0        0.0   \n",
       "1 2020-02-01 2020-02-01 01:52:00      UK        2.0     0.0        0.0   \n",
       "2 2020-02-02 2020-02-01 01:52:40      UK        2.0     0.0        0.0   \n",
       "3 2020-02-03 2020-02-01 01:52:40      UK        2.0     0.0        0.0   \n",
       "4 2020-02-04 2020-02-01 01:52:40      UK        2.0     0.0        0.0   \n",
       "\n",
       "  EarliestConfirmedDate  DaysFromStart  \n",
       "0            2020-01-31              0  \n",
       "1            2020-01-31              1  \n",
       "2            2020-01-31              2  \n",
       "3            2020-01-31              3  \n",
       "4            2020-01-31              4  "
      ]
     },
     "execution_count": 13,
     "metadata": {},
     "output_type": "execute_result"
    }
   ],
   "source": [
    "data_withearliest = latest_data.merge(df_earliest,how = 'inner',  left_on=['Country'], right_on=['Country'], suffixes = ['_l','_r'])\n",
    "data_withearliest['DaysFromStart'] = (data_withearliest['Date'] - data_withearliest['EarliestConfirmedDate']).dt.days\n",
    "data_withearliest.head(5)"
   ]
  },
  {
   "cell_type": "code",
   "execution_count": 14,
   "metadata": {
    "colab": {
     "base_uri": "https://localhost:8080/",
     "height": 279
    },
    "colab_type": "code",
    "id": "M9RA32dvlT6Y",
    "outputId": "687da3af-a452-4e71-fe00-5e7e6c0a2410"
   },
   "outputs": [
    {
     "data": {
      "image/png": "[encoded data removed]",
      "text/plain": [
       "<Figure size 432x288 with 1 Axes>"
      ]
     },
     "metadata": {
      "needs_background": "light"
     },
     "output_type": "display_data"
    }
   ],
   "source": [
    "lines = data_withearliest.plot.line(x='DaysFromStart', y='Confirmed').legend(title='Country')"
   ]
  },
  {
   "cell_type": "code",
   "execution_count": 15,
   "metadata": {
    "colab": {
     "base_uri": "https://localhost:8080/",
     "height": 296
    },
    "colab_type": "code",
    "id": "Y4GtyqQ2lT6e",
    "outputId": "3badb6a0-e4b6-4625-f90e-cbf4fd99bb34"
   },
   "outputs": [
    {
     "data": {
      "text/plain": [
       "<matplotlib.axes._subplots.AxesSubplot at 0x11e4bb3d0>"
      ]
     },
     "execution_count": 15,
     "metadata": {},
     "output_type": "execute_result"
    },
    {
     "data": {
      "image/png": "[encoded data removed]",
      "text/plain": [
       "<Figure size 432x288 with 1 Axes>"
      ]
     },
     "metadata": {
      "needs_background": "light"
     },
     "output_type": "display_data"
    }
   ],
   "source": [
    "pivoted_df = data_withearliest.pivot(index='DaysFromStart', columns='Country', values='Confirmed')\n",
    "pivoted_df.plot()"
   ]
  },
  {
   "cell_type": "code",
   "execution_count": 16,
   "metadata": {
    "colab": {
     "base_uri": "https://localhost:8080/",
     "height": 206
    },
    "colab_type": "code",
    "id": "wzOnzB4XlT6j",
    "outputId": "1ebf95c7-8012-48b0-9475-0da76ce5d1ec"
   },
   "outputs": [
    {
     "data": {
      "text/html": [
       "<div>\n",
       "<style scoped>\n",
       "    .dataframe tbody tr th:only-of-type {\n",
       "        vertical-align: middle;\n",
       "    }\n",
       "\n",
       "    .dataframe tbody tr th {\n",
       "        vertical-align: top;\n",
       "    }\n",
       "\n",
       "    .dataframe thead th {\n",
       "        text-align: right;\n",
       "    }\n",
       "</style>\n",
       "<table border=\"1\" class=\"dataframe\">\n",
       "  <thead>\n",
       "    <tr style=\"text-align: right;\">\n",
       "      <th></th>\n",
       "      <th>Date</th>\n",
       "      <th>Last Update</th>\n",
       "      <th>Country</th>\n",
       "      <th>Confirmed</th>\n",
       "      <th>Deaths</th>\n",
       "      <th>Recovered</th>\n",
       "      <th>EarliestConfirmedDate</th>\n",
       "      <th>DaysFromStart</th>\n",
       "    </tr>\n",
       "  </thead>\n",
       "  <tbody>\n",
       "    <tr>\n",
       "      <th>0</th>\n",
       "      <td>2020-01-22</td>\n",
       "      <td>2020-01-22 17:00:00</td>\n",
       "      <td>Hong Kong</td>\n",
       "      <td>0.0</td>\n",
       "      <td>0.0</td>\n",
       "      <td>0.0</td>\n",
       "      <td>2020-01-22</td>\n",
       "      <td>0</td>\n",
       "    </tr>\n",
       "    <tr>\n",
       "      <th>1</th>\n",
       "      <td>2020-01-23</td>\n",
       "      <td>2020-01-23 17:00:00</td>\n",
       "      <td>Hong Kong</td>\n",
       "      <td>2.0</td>\n",
       "      <td>0.0</td>\n",
       "      <td>0.0</td>\n",
       "      <td>2020-01-22</td>\n",
       "      <td>1</td>\n",
       "    </tr>\n",
       "    <tr>\n",
       "      <th>2</th>\n",
       "      <td>2020-01-24</td>\n",
       "      <td>2020-01-24 17:00:00</td>\n",
       "      <td>Hong Kong</td>\n",
       "      <td>2.0</td>\n",
       "      <td>0.0</td>\n",
       "      <td>0.0</td>\n",
       "      <td>2020-01-22</td>\n",
       "      <td>2</td>\n",
       "    </tr>\n",
       "    <tr>\n",
       "      <th>3</th>\n",
       "      <td>2020-01-25</td>\n",
       "      <td>2020-01-25 17:00:00</td>\n",
       "      <td>Hong Kong</td>\n",
       "      <td>5.0</td>\n",
       "      <td>0.0</td>\n",
       "      <td>0.0</td>\n",
       "      <td>2020-01-22</td>\n",
       "      <td>3</td>\n",
       "    </tr>\n",
       "    <tr>\n",
       "      <th>4</th>\n",
       "      <td>2020-01-26</td>\n",
       "      <td>2020-01-26 16:00:00</td>\n",
       "      <td>Hong Kong</td>\n",
       "      <td>8.0</td>\n",
       "      <td>0.0</td>\n",
       "      <td>0.0</td>\n",
       "      <td>2020-01-22</td>\n",
       "      <td>4</td>\n",
       "    </tr>\n",
       "  </tbody>\n",
       "</table>\n",
       "</div>"
      ],
      "text/plain": [
       "        Date         Last Update    Country  Confirmed  Deaths  Recovered  \\\n",
       "0 2020-01-22 2020-01-22 17:00:00  Hong Kong        0.0     0.0        0.0   \n",
       "1 2020-01-23 2020-01-23 17:00:00  Hong Kong        2.0     0.0        0.0   \n",
       "2 2020-01-24 2020-01-24 17:00:00  Hong Kong        2.0     0.0        0.0   \n",
       "3 2020-01-25 2020-01-25 17:00:00  Hong Kong        5.0     0.0        0.0   \n",
       "4 2020-01-26 2020-01-26 16:00:00  Hong Kong        8.0     0.0        0.0   \n",
       "\n",
       "  EarliestConfirmedDate  DaysFromStart  \n",
       "0            2020-01-22              0  \n",
       "1            2020-01-22              1  \n",
       "2            2020-01-22              2  \n",
       "3            2020-01-22              3  \n",
       "4            2020-01-22              4  "
      ]
     },
     "execution_count": 16,
     "metadata": {},
     "output_type": "execute_result"
    }
   ],
   "source": [
    "alldata_summary_by_country = data.groupby([\"Date\",\"Last Update\",\"Country\"])[['Confirmed', 'Deaths', 'Recovered']].sum().reset_index()\n",
    "alldata_summary_by_country.head()\n",
    "alldata_latestupdate = data.groupby([\"Date\",\"Country\"])[[\"Last Update\"]].max().reset_index()\n",
    "\n",
    "alldata_latest = alldata_summary_by_country.merge(alldata_latestupdate,how = 'inner',  left_on=['Last Update','Date','Country'], right_on=['Last Update','Date','Country'], suffixes = ['_l','_r'])\n",
    "\n",
    "alldata_earliest = alldata_latest.groupby([\"Country\"])[[\"Date\"]].min().reset_index()\n",
    "\n",
    "alldata_earliest.rename(columns={'Date':'EarliestConfirmedDate'}, inplace=True)\n",
    "alldata_withearliest = alldata_latest.merge(alldata_earliest,how = 'inner',  left_on=['Country'], right_on=['Country'], suffixes = ['_l','_r'])\n",
    "alldata_withearliest['DaysFromStart'] = (alldata_withearliest['Date'] - alldata_withearliest['EarliestConfirmedDate']).dt.days\n",
    "alldata_withearliest.head(5)\n",
    "\n"
   ]
  },
  {
   "cell_type": "code",
   "execution_count": 17,
   "metadata": {
    "colab": {
     "base_uri": "https://localhost:8080/",
     "height": 206
    },
    "colab_type": "code",
    "id": "2yN61BGrlT6n",
    "outputId": "a26e6e41-ef36-47f0-e0d4-722aed2477b2"
   },
   "outputs": [
    {
     "data": {
      "text/html": [
       "<div>\n",
       "<style scoped>\n",
       "    .dataframe tbody tr th:only-of-type {\n",
       "        vertical-align: middle;\n",
       "    }\n",
       "\n",
       "    .dataframe tbody tr th {\n",
       "        vertical-align: top;\n",
       "    }\n",
       "\n",
       "    .dataframe thead th {\n",
       "        text-align: right;\n",
       "    }\n",
       "</style>\n",
       "<table border=\"1\" class=\"dataframe\">\n",
       "  <thead>\n",
       "    <tr style=\"text-align: right;\">\n",
       "      <th></th>\n",
       "      <th>Country</th>\n",
       "      <th>MaximumConfirmed</th>\n",
       "    </tr>\n",
       "  </thead>\n",
       "  <tbody>\n",
       "    <tr>\n",
       "      <th>208</th>\n",
       "      <td>US</td>\n",
       "      <td>1721753.0</td>\n",
       "    </tr>\n",
       "    <tr>\n",
       "      <th>27</th>\n",
       "      <td>Brazil</td>\n",
       "      <td>438238.0</td>\n",
       "    </tr>\n",
       "    <tr>\n",
       "      <th>168</th>\n",
       "      <td>Russia</td>\n",
       "      <td>379051.0</td>\n",
       "    </tr>\n",
       "    <tr>\n",
       "      <th>207</th>\n",
       "      <td>UK</td>\n",
       "      <td>270508.0</td>\n",
       "    </tr>\n",
       "    <tr>\n",
       "      <th>188</th>\n",
       "      <td>Spain</td>\n",
       "      <td>237906.0</td>\n",
       "    </tr>\n",
       "  </tbody>\n",
       "</table>\n",
       "</div>"
      ],
      "text/plain": [
       "    Country  MaximumConfirmed\n",
       "208      US         1721753.0\n",
       "27   Brazil          438238.0\n",
       "168  Russia          379051.0\n",
       "207      UK          270508.0\n",
       "188   Spain          237906.0"
      ]
     },
     "execution_count": 17,
     "metadata": {},
     "output_type": "execute_result"
    }
   ],
   "source": [
    "significantcountries = alldata_withearliest.groupby([\"Country\"])[['Confirmed']].max().reset_index()\n",
    "significantcountries.rename(columns={'Confirmed':'MaximumConfirmed'}, inplace=True)\n",
    "significantcountries.sort_values('MaximumConfirmed',ascending=False, inplace=True)\n",
    "significantcountries.head()"
   ]
  },
  {
   "cell_type": "code",
   "execution_count": 18,
   "metadata": {
    "colab": {},
    "colab_type": "code",
    "id": "-Q5Ab1A7lT6u"
   },
   "outputs": [],
   "source": [
    "significantcountries['country_rank'] = significantcountries['MaximumConfirmed'].rank(ascending=False)\n",
    "\n",
    "#rankprofiles = significantcountries.groupby([\"country_rank\"]).count().reset_index()\n",
    "\n",
    "significantcountries.sort_values('MaximumConfirmed',ascending=False, inplace=True)\n",
    "#significantcountries.head(25)"
   ]
  },
  {
   "cell_type": "code",
   "execution_count": 19,
   "metadata": {
    "colab": {},
    "colab_type": "code",
    "id": "1Fydzt7jlT6x"
   },
   "outputs": [],
   "source": [
    "alldata_significantcountries = alldata_withearliest.merge(significantcountries,how = 'inner',  left_on=['Country'], right_on=['Country'], suffixes = ['_l','_r'])\n",
    "#alldata_justsignificantcountries = alldata_significantcountries.query('country_rank<25 & country_rank>3').reset_index()\n",
    "alldata_justsignificantcountries = alldata_significantcountries.query('country_rank<25').reset_index()"
   ]
  },
  {
   "cell_type": "code",
   "execution_count": 20,
   "metadata": {
    "colab": {
     "base_uri": "https://localhost:8080/",
     "height": 565
    },
    "colab_type": "code",
    "id": "h4F7cSWVlT62",
    "outputId": "987ca2e4-5e6f-48a9-8ef3-b333b6c0b39a"
   },
   "outputs": [
    {
     "data": {
      "image/png": "[encoded data removed]",
      "text/plain": [
       "<Figure size 720x720 with 25 Axes>"
      ]
     },
     "metadata": {
      "needs_background": "light"
     },
     "output_type": "display_data"
    }
   ],
   "source": [
    "alldata_pivoted_df = alldata_justsignificantcountries.pivot(index='DaysFromStart', columns='Country', values='Confirmed')\n",
    "alldata_pivoted_df.plot(figsize = (10,10), layout=(5,5), subplots=True, logy = True );"
   ]
  },
  {
   "cell_type": "code",
   "execution_count": 21,
   "metadata": {
    "colab": {
     "base_uri": "https://localhost:8080/",
     "height": 206
    },
    "colab_type": "code",
    "id": "NPq7E98PlT65",
    "outputId": "dccbc23b-07e7-4229-ff92-cce7d237ba0b"
   },
   "outputs": [
    {
     "data": {
      "text/html": [
       "<div>\n",
       "<style scoped>\n",
       "    .dataframe tbody tr th:only-of-type {\n",
       "        vertical-align: middle;\n",
       "    }\n",
       "\n",
       "    .dataframe tbody tr th {\n",
       "        vertical-align: top;\n",
       "    }\n",
       "\n",
       "    .dataframe thead th {\n",
       "        text-align: right;\n",
       "    }\n",
       "</style>\n",
       "<table border=\"1\" class=\"dataframe\">\n",
       "  <thead>\n",
       "    <tr style=\"text-align: right;\">\n",
       "      <th></th>\n",
       "      <th>Date</th>\n",
       "      <th>Last Update</th>\n",
       "      <th>Country</th>\n",
       "      <th>Confirmed</th>\n",
       "      <th>Deaths</th>\n",
       "      <th>Recovered</th>\n",
       "    </tr>\n",
       "  </thead>\n",
       "  <tbody>\n",
       "    <tr>\n",
       "      <th>0</th>\n",
       "      <td>2020-01-22</td>\n",
       "      <td>2020-01-22 17:00:00</td>\n",
       "      <td>Hong Kong</td>\n",
       "      <td>0.0</td>\n",
       "      <td>0.0</td>\n",
       "      <td>0.0</td>\n",
       "    </tr>\n",
       "    <tr>\n",
       "      <th>1</th>\n",
       "      <td>2020-01-22</td>\n",
       "      <td>2020-01-22 17:00:00</td>\n",
       "      <td>Japan</td>\n",
       "      <td>2.0</td>\n",
       "      <td>0.0</td>\n",
       "      <td>0.0</td>\n",
       "    </tr>\n",
       "    <tr>\n",
       "      <th>2</th>\n",
       "      <td>2020-01-22</td>\n",
       "      <td>2020-01-22 17:00:00</td>\n",
       "      <td>Macau</td>\n",
       "      <td>1.0</td>\n",
       "      <td>0.0</td>\n",
       "      <td>0.0</td>\n",
       "    </tr>\n",
       "    <tr>\n",
       "      <th>3</th>\n",
       "      <td>2020-01-22</td>\n",
       "      <td>2020-01-22 17:00:00</td>\n",
       "      <td>Mainland China</td>\n",
       "      <td>547.0</td>\n",
       "      <td>17.0</td>\n",
       "      <td>28.0</td>\n",
       "    </tr>\n",
       "    <tr>\n",
       "      <th>4</th>\n",
       "      <td>2020-01-22</td>\n",
       "      <td>2020-01-22 17:00:00</td>\n",
       "      <td>South Korea</td>\n",
       "      <td>1.0</td>\n",
       "      <td>0.0</td>\n",
       "      <td>0.0</td>\n",
       "    </tr>\n",
       "  </tbody>\n",
       "</table>\n",
       "</div>"
      ],
      "text/plain": [
       "        Date         Last Update         Country  Confirmed  Deaths  Recovered\n",
       "0 2020-01-22 2020-01-22 17:00:00       Hong Kong        0.0     0.0        0.0\n",
       "1 2020-01-22 2020-01-22 17:00:00           Japan        2.0     0.0        0.0\n",
       "2 2020-01-22 2020-01-22 17:00:00           Macau        1.0     0.0        0.0\n",
       "3 2020-01-22 2020-01-22 17:00:00  Mainland China      547.0    17.0       28.0\n",
       "4 2020-01-22 2020-01-22 17:00:00     South Korea        1.0     0.0        0.0"
      ]
     },
     "execution_count": 21,
     "metadata": {},
     "output_type": "execute_result"
    }
   ],
   "source": [
    "alldata_latest.head(5)"
   ]
  },
  {
   "cell_type": "code",
   "execution_count": 22,
   "metadata": {
    "_cell_guid": "",
    "_uuid": "",
    "colab": {},
    "colab_type": "code",
    "id": "4XhYEw_OlT7B"
   },
   "outputs": [],
   "source": [
    "#import pandas as pd\n",
    "#world_population_wb = pd.read_csv(\"../input/world-population/API_EN.POP.DNST_DS2_en_csv_v2.csv\")"
   ]
  },
  {
   "cell_type": "code",
   "execution_count": 23,
   "metadata": {
    "_cell_guid": "",
    "_uuid": "",
    "colab": {},
    "colab_type": "code",
    "id": "zeiFWMtHlT7H"
   },
   "outputs": [],
   "source": [
    "#import pandas as pd\n",
    "countries_data = pd.read_csv(path2datafolder + \"countries of the world.csv\")"
   ]
  },
  {
   "cell_type": "code",
   "execution_count": 24,
   "metadata": {
    "colab": {
     "base_uri": "https://localhost:8080/",
     "height": 139
    },
    "colab_type": "code",
    "id": "DZaV0_iQlT7K",
    "outputId": "04ea7b0a-f4f2-41c8-a7e4-e45e53f6affa"
   },
   "outputs": [
    {
     "data": {
      "text/plain": [
       "Index(['Country', 'Region', 'Population', 'Area (sq. mi.)',\n",
       "       'Pop. Density (per sq. mi.)', 'Coastline (coast/area ratio)',\n",
       "       'Net migration', 'Infant mortality (per 1000 births)',\n",
       "       'GDP ($ per capita)', 'Literacy (%)', 'Phones (per 1000)', 'Arable (%)',\n",
       "       'Crops (%)', 'Other (%)', 'Climate', 'Birthrate', 'Deathrate',\n",
       "       'Agriculture', 'Industry', 'Service'],\n",
       "      dtype='object')"
      ]
     },
     "execution_count": 24,
     "metadata": {},
     "output_type": "execute_result"
    }
   ],
   "source": [
    "countries_data.columns"
   ]
  },
  {
   "cell_type": "code",
   "execution_count": 25,
   "metadata": {
    "_cell_guid": "",
    "_uuid": "",
    "colab": {},
    "colab_type": "code",
    "id": "v_6sUQd-lT7Q"
   },
   "outputs": [],
   "source": [
    "#import pandas as pd\n",
    "PovStatsCountry_Series = pd.read_csv(path2datafolder + \"Poverty_Stats/PovStatsCountry-Series.csv\")\n",
    "PovStatsCountry = pd.read_csv(path2datafolder + \"Poverty_Stats/PovStatsCountry.csv\")\n",
    "PovStatsData = pd.read_csv(path2datafolder + \"Poverty_Stats/PovStatsData.csv\")\n",
    "#PovStatsFootNote = pd.read_csv(\"/Poverty_Stats/PovStatsFootNote.csv\")\n",
    "PovStatsSeries = pd.read_csv(path2datafolder + \"Poverty_Stats/PovStatsSeries.csv\")"
   ]
  },
  {
   "cell_type": "code",
   "execution_count": 26,
   "metadata": {
    "colab": {
     "base_uri": "https://localhost:8080/",
     "height": 206
    },
    "colab_type": "code",
    "id": "rn9EamrHlT7U",
    "outputId": "acec1e3b-ef73-445e-c525-3238064e78a2"
   },
   "outputs": [
    {
     "data": {
      "text/html": [
       "<div>\n",
       "<style scoped>\n",
       "    .dataframe tbody tr th:only-of-type {\n",
       "        vertical-align: middle;\n",
       "    }\n",
       "\n",
       "    .dataframe tbody tr th {\n",
       "        vertical-align: top;\n",
       "    }\n",
       "\n",
       "    .dataframe thead th {\n",
       "        text-align: right;\n",
       "    }\n",
       "</style>\n",
       "<table border=\"1\" class=\"dataframe\">\n",
       "  <thead>\n",
       "    <tr style=\"text-align: right;\">\n",
       "      <th></th>\n",
       "      <th>CountryCode</th>\n",
       "      <th>SeriesCode</th>\n",
       "      <th>DESCRIPTION</th>\n",
       "      <th>Unnamed: 3</th>\n",
       "    </tr>\n",
       "  </thead>\n",
       "  <tbody>\n",
       "    <tr>\n",
       "      <th>0</th>\n",
       "      <td>AFG</td>\n",
       "      <td>SP.POP.TOTL</td>\n",
       "      <td>Data sources : United Nations World Population...</td>\n",
       "      <td>NaN</td>\n",
       "    </tr>\n",
       "    <tr>\n",
       "      <th>1</th>\n",
       "      <td>AGO</td>\n",
       "      <td>SP.POP.TOTL</td>\n",
       "      <td>Data sources : United Nations World Population...</td>\n",
       "      <td>NaN</td>\n",
       "    </tr>\n",
       "    <tr>\n",
       "      <th>2</th>\n",
       "      <td>ALB</td>\n",
       "      <td>SP.POP.TOTL</td>\n",
       "      <td>Data sources : Institute of Statistics, Eurostat</td>\n",
       "      <td>NaN</td>\n",
       "    </tr>\n",
       "    <tr>\n",
       "      <th>3</th>\n",
       "      <td>ARG</td>\n",
       "      <td>SP.POP.TOTL</td>\n",
       "      <td>Data sources : United Nations World Population...</td>\n",
       "      <td>NaN</td>\n",
       "    </tr>\n",
       "    <tr>\n",
       "      <th>4</th>\n",
       "      <td>ARM</td>\n",
       "      <td>SP.POP.TOTL</td>\n",
       "      <td>Data sources : United Nations World Population...</td>\n",
       "      <td>NaN</td>\n",
       "    </tr>\n",
       "  </tbody>\n",
       "</table>\n",
       "</div>"
      ],
      "text/plain": [
       "  CountryCode   SeriesCode                                        DESCRIPTION  \\\n",
       "0         AFG  SP.POP.TOTL  Data sources : United Nations World Population...   \n",
       "1         AGO  SP.POP.TOTL  Data sources : United Nations World Population...   \n",
       "2         ALB  SP.POP.TOTL   Data sources : Institute of Statistics, Eurostat   \n",
       "3         ARG  SP.POP.TOTL  Data sources : United Nations World Population...   \n",
       "4         ARM  SP.POP.TOTL  Data sources : United Nations World Population...   \n",
       "\n",
       "   Unnamed: 3  \n",
       "0         NaN  \n",
       "1         NaN  \n",
       "2         NaN  \n",
       "3         NaN  \n",
       "4         NaN  "
      ]
     },
     "execution_count": 26,
     "metadata": {},
     "output_type": "execute_result"
    }
   ],
   "source": [
    "PovStatsCountry_Series.head(5)"
   ]
  },
  {
   "cell_type": "code",
   "execution_count": 27,
   "metadata": {
    "colab": {
     "base_uri": "https://localhost:8080/",
     "height": 626
    },
    "colab_type": "code",
    "id": "dszJoQqrlT7Y",
    "outputId": "701e54b0-7b93-4186-85a0-92666270c75d"
   },
   "outputs": [
    {
     "data": {
      "text/html": [
       "<div>\n",
       "<style scoped>\n",
       "    .dataframe tbody tr th:only-of-type {\n",
       "        vertical-align: middle;\n",
       "    }\n",
       "\n",
       "    .dataframe tbody tr th {\n",
       "        vertical-align: top;\n",
       "    }\n",
       "\n",
       "    .dataframe thead th {\n",
       "        text-align: right;\n",
       "    }\n",
       "</style>\n",
       "<table border=\"1\" class=\"dataframe\">\n",
       "  <thead>\n",
       "    <tr style=\"text-align: right;\">\n",
       "      <th></th>\n",
       "      <th>Series Code</th>\n",
       "      <th>Topic</th>\n",
       "      <th>Indicator Name</th>\n",
       "      <th>Short definition</th>\n",
       "      <th>Long definition</th>\n",
       "      <th>Unit of measure</th>\n",
       "      <th>Periodicity</th>\n",
       "      <th>Base Period</th>\n",
       "      <th>Other notes</th>\n",
       "      <th>Aggregation method</th>\n",
       "      <th>...</th>\n",
       "      <th>Notes from original source</th>\n",
       "      <th>General comments</th>\n",
       "      <th>Source</th>\n",
       "      <th>Statistical concept and methodology</th>\n",
       "      <th>Development relevance</th>\n",
       "      <th>Related source links</th>\n",
       "      <th>Other web links</th>\n",
       "      <th>Related indicators</th>\n",
       "      <th>License Type</th>\n",
       "      <th>Unnamed: 20</th>\n",
       "    </tr>\n",
       "  </thead>\n",
       "  <tbody>\n",
       "    <tr>\n",
       "      <th>0</th>\n",
       "      <td>SI.DST.02ND.20</td>\n",
       "      <td>Poverty: Income distribution</td>\n",
       "      <td>Income share held by second 20%</td>\n",
       "      <td>NaN</td>\n",
       "      <td>Percentage share of income or consumption is t...</td>\n",
       "      <td>%</td>\n",
       "      <td>Annual</td>\n",
       "      <td>NaN</td>\n",
       "      <td>NaN</td>\n",
       "      <td>NaN</td>\n",
       "      <td>...</td>\n",
       "      <td>NaN</td>\n",
       "      <td>The World Bank’s internationally comparable po...</td>\n",
       "      <td>World Bank, Development Research Group. Data a...</td>\n",
       "      <td>Inequality in the distribution of income is re...</td>\n",
       "      <td>The World Bank Group's goal of promoting share...</td>\n",
       "      <td>NaN</td>\n",
       "      <td>NaN</td>\n",
       "      <td>NaN</td>\n",
       "      <td>CC BY-4.0</td>\n",
       "      <td>NaN</td>\n",
       "    </tr>\n",
       "    <tr>\n",
       "      <th>1</th>\n",
       "      <td>SI.DST.03RD.20</td>\n",
       "      <td>Poverty: Income distribution</td>\n",
       "      <td>Income share held by third 20%</td>\n",
       "      <td>NaN</td>\n",
       "      <td>Percentage share of income or consumption is t...</td>\n",
       "      <td>%</td>\n",
       "      <td>Annual</td>\n",
       "      <td>NaN</td>\n",
       "      <td>NaN</td>\n",
       "      <td>NaN</td>\n",
       "      <td>...</td>\n",
       "      <td>NaN</td>\n",
       "      <td>The World Bank’s internationally comparable po...</td>\n",
       "      <td>World Bank, Development Research Group. Data a...</td>\n",
       "      <td>Inequality in the distribution of income is re...</td>\n",
       "      <td>The World Bank Group's goal of promoting share...</td>\n",
       "      <td>NaN</td>\n",
       "      <td>NaN</td>\n",
       "      <td>NaN</td>\n",
       "      <td>CC BY-4.0</td>\n",
       "      <td>NaN</td>\n",
       "    </tr>\n",
       "    <tr>\n",
       "      <th>2</th>\n",
       "      <td>SI.DST.04TH.20</td>\n",
       "      <td>Poverty: Income distribution</td>\n",
       "      <td>Income share held by fourth 20%</td>\n",
       "      <td>NaN</td>\n",
       "      <td>Percentage share of income or consumption is t...</td>\n",
       "      <td>%</td>\n",
       "      <td>Annual</td>\n",
       "      <td>NaN</td>\n",
       "      <td>NaN</td>\n",
       "      <td>NaN</td>\n",
       "      <td>...</td>\n",
       "      <td>NaN</td>\n",
       "      <td>The World Bank’s internationally comparable po...</td>\n",
       "      <td>World Bank, Development Research Group. Data a...</td>\n",
       "      <td>Inequality in the distribution of income is re...</td>\n",
       "      <td>The World Bank Group’s goal of promoting share...</td>\n",
       "      <td>NaN</td>\n",
       "      <td>NaN</td>\n",
       "      <td>NaN</td>\n",
       "      <td>CC BY-4.0</td>\n",
       "      <td>NaN</td>\n",
       "    </tr>\n",
       "    <tr>\n",
       "      <th>3</th>\n",
       "      <td>SI.DST.05TH.20</td>\n",
       "      <td>Poverty: Income distribution</td>\n",
       "      <td>Income share held by highest 20%</td>\n",
       "      <td>NaN</td>\n",
       "      <td>Percentage share of income or consumption is t...</td>\n",
       "      <td>%</td>\n",
       "      <td>Annual</td>\n",
       "      <td>NaN</td>\n",
       "      <td>NaN</td>\n",
       "      <td>NaN</td>\n",
       "      <td>...</td>\n",
       "      <td>NaN</td>\n",
       "      <td>The World Bank’s internationally comparable po...</td>\n",
       "      <td>World Bank, Development Research Group. Data a...</td>\n",
       "      <td>Inequality in the distribution of income is re...</td>\n",
       "      <td>The World Bank Group’s goal of promoting share...</td>\n",
       "      <td>NaN</td>\n",
       "      <td>NaN</td>\n",
       "      <td>NaN</td>\n",
       "      <td>CC BY-4.0</td>\n",
       "      <td>NaN</td>\n",
       "    </tr>\n",
       "    <tr>\n",
       "      <th>4</th>\n",
       "      <td>SI.DST.10TH.10</td>\n",
       "      <td>Poverty: Income distribution</td>\n",
       "      <td>Income share held by highest 10%</td>\n",
       "      <td>NaN</td>\n",
       "      <td>Percentage share of income or consumption is t...</td>\n",
       "      <td>%</td>\n",
       "      <td>Annual</td>\n",
       "      <td>NaN</td>\n",
       "      <td>NaN</td>\n",
       "      <td>NaN</td>\n",
       "      <td>...</td>\n",
       "      <td>NaN</td>\n",
       "      <td>The World Bank’s internationally comparable po...</td>\n",
       "      <td>World Bank, Development Research Group. Data a...</td>\n",
       "      <td>Inequality in the distribution of income is re...</td>\n",
       "      <td>The World Bank Group’s goal of promoting share...</td>\n",
       "      <td>NaN</td>\n",
       "      <td>NaN</td>\n",
       "      <td>NaN</td>\n",
       "      <td>CC BY-4.0</td>\n",
       "      <td>NaN</td>\n",
       "    </tr>\n",
       "  </tbody>\n",
       "</table>\n",
       "<p>5 rows × 21 columns</p>\n",
       "</div>"
      ],
      "text/plain": [
       "      Series Code                         Topic  \\\n",
       "0  SI.DST.02ND.20  Poverty: Income distribution   \n",
       "1  SI.DST.03RD.20  Poverty: Income distribution   \n",
       "2  SI.DST.04TH.20  Poverty: Income distribution   \n",
       "3  SI.DST.05TH.20  Poverty: Income distribution   \n",
       "4  SI.DST.10TH.10  Poverty: Income distribution   \n",
       "\n",
       "                     Indicator Name Short definition  \\\n",
       "0   Income share held by second 20%              NaN   \n",
       "1    Income share held by third 20%              NaN   \n",
       "2   Income share held by fourth 20%              NaN   \n",
       "3  Income share held by highest 20%              NaN   \n",
       "4  Income share held by highest 10%              NaN   \n",
       "\n",
       "                                     Long definition Unit of measure  \\\n",
       "0  Percentage share of income or consumption is t...               %   \n",
       "1  Percentage share of income or consumption is t...               %   \n",
       "2  Percentage share of income or consumption is t...               %   \n",
       "3  Percentage share of income or consumption is t...               %   \n",
       "4  Percentage share of income or consumption is t...               %   \n",
       "\n",
       "  Periodicity  Base Period  Other notes Aggregation method  ...  \\\n",
       "0      Annual          NaN          NaN                NaN  ...   \n",
       "1      Annual          NaN          NaN                NaN  ...   \n",
       "2      Annual          NaN          NaN                NaN  ...   \n",
       "3      Annual          NaN          NaN                NaN  ...   \n",
       "4      Annual          NaN          NaN                NaN  ...   \n",
       "\n",
       "  Notes from original source  \\\n",
       "0                        NaN   \n",
       "1                        NaN   \n",
       "2                        NaN   \n",
       "3                        NaN   \n",
       "4                        NaN   \n",
       "\n",
       "                                    General comments  \\\n",
       "0  The World Bank’s internationally comparable po...   \n",
       "1  The World Bank’s internationally comparable po...   \n",
       "2  The World Bank’s internationally comparable po...   \n",
       "3  The World Bank’s internationally comparable po...   \n",
       "4  The World Bank’s internationally comparable po...   \n",
       "\n",
       "                                              Source  \\\n",
       "0  World Bank, Development Research Group. Data a...   \n",
       "1  World Bank, Development Research Group. Data a...   \n",
       "2  World Bank, Development Research Group. Data a...   \n",
       "3  World Bank, Development Research Group. Data a...   \n",
       "4  World Bank, Development Research Group. Data a...   \n",
       "\n",
       "                 Statistical concept and methodology  \\\n",
       "0  Inequality in the distribution of income is re...   \n",
       "1  Inequality in the distribution of income is re...   \n",
       "2  Inequality in the distribution of income is re...   \n",
       "3  Inequality in the distribution of income is re...   \n",
       "4  Inequality in the distribution of income is re...   \n",
       "\n",
       "                               Development relevance Related source links  \\\n",
       "0  The World Bank Group's goal of promoting share...                  NaN   \n",
       "1  The World Bank Group's goal of promoting share...                  NaN   \n",
       "2  The World Bank Group’s goal of promoting share...                  NaN   \n",
       "3  The World Bank Group’s goal of promoting share...                  NaN   \n",
       "4  The World Bank Group’s goal of promoting share...                  NaN   \n",
       "\n",
       "  Other web links  Related indicators  License Type Unnamed: 20  \n",
       "0             NaN                 NaN     CC BY-4.0         NaN  \n",
       "1             NaN                 NaN     CC BY-4.0         NaN  \n",
       "2             NaN                 NaN     CC BY-4.0         NaN  \n",
       "3             NaN                 NaN     CC BY-4.0         NaN  \n",
       "4             NaN                 NaN     CC BY-4.0         NaN  \n",
       "\n",
       "[5 rows x 21 columns]"
      ]
     },
     "execution_count": 27,
     "metadata": {},
     "output_type": "execute_result"
    }
   ],
   "source": [
    "PovStatsSeries.head(5)"
   ]
  },
  {
   "cell_type": "code",
   "execution_count": 28,
   "metadata": {
    "colab": {
     "base_uri": "https://localhost:8080/",
     "height": 574
    },
    "colab_type": "code",
    "id": "hq7HPbpplT7c",
    "outputId": "977e2add-5b48-4b5d-d7e4-0029643e525a"
   },
   "outputs": [
    {
     "data": {
      "text/html": [
       "<div>\n",
       "<style scoped>\n",
       "    .dataframe tbody tr th:only-of-type {\n",
       "        vertical-align: middle;\n",
       "    }\n",
       "\n",
       "    .dataframe tbody tr th {\n",
       "        vertical-align: top;\n",
       "    }\n",
       "\n",
       "    .dataframe thead th {\n",
       "        text-align: right;\n",
       "    }\n",
       "</style>\n",
       "<table border=\"1\" class=\"dataframe\">\n",
       "  <thead>\n",
       "    <tr style=\"text-align: right;\">\n",
       "      <th></th>\n",
       "      <th>Country Name</th>\n",
       "      <th>Country Code</th>\n",
       "      <th>Indicator Name</th>\n",
       "      <th>Indicator Code</th>\n",
       "      <th>1974</th>\n",
       "      <th>1975</th>\n",
       "      <th>1976</th>\n",
       "      <th>1977</th>\n",
       "      <th>1978</th>\n",
       "      <th>1979</th>\n",
       "      <th>...</th>\n",
       "      <th>2010</th>\n",
       "      <th>2011</th>\n",
       "      <th>2012</th>\n",
       "      <th>2013</th>\n",
       "      <th>2014</th>\n",
       "      <th>2015</th>\n",
       "      <th>2016</th>\n",
       "      <th>2017</th>\n",
       "      <th>2018</th>\n",
       "      <th>Unnamed: 49</th>\n",
       "    </tr>\n",
       "  </thead>\n",
       "  <tbody>\n",
       "    <tr>\n",
       "      <th>0</th>\n",
       "      <td>East Asia &amp; Pacific</td>\n",
       "      <td>EAS</td>\n",
       "      <td>Annualized growth in per capita real survey me...</td>\n",
       "      <td>SI.SPR.PC40.ZG</td>\n",
       "      <td>NaN</td>\n",
       "      <td>NaN</td>\n",
       "      <td>NaN</td>\n",
       "      <td>NaN</td>\n",
       "      <td>NaN</td>\n",
       "      <td>NaN</td>\n",
       "      <td>...</td>\n",
       "      <td>NaN</td>\n",
       "      <td>NaN</td>\n",
       "      <td>NaN</td>\n",
       "      <td>NaN</td>\n",
       "      <td>NaN</td>\n",
       "      <td>NaN</td>\n",
       "      <td>NaN</td>\n",
       "      <td>NaN</td>\n",
       "      <td>NaN</td>\n",
       "      <td>NaN</td>\n",
       "    </tr>\n",
       "    <tr>\n",
       "      <th>1</th>\n",
       "      <td>East Asia &amp; Pacific</td>\n",
       "      <td>EAS</td>\n",
       "      <td>Annualized growth in per capita real survey me...</td>\n",
       "      <td>SI.SPR.PT10.ZG</td>\n",
       "      <td>NaN</td>\n",
       "      <td>NaN</td>\n",
       "      <td>NaN</td>\n",
       "      <td>NaN</td>\n",
       "      <td>NaN</td>\n",
       "      <td>NaN</td>\n",
       "      <td>...</td>\n",
       "      <td>NaN</td>\n",
       "      <td>NaN</td>\n",
       "      <td>NaN</td>\n",
       "      <td>NaN</td>\n",
       "      <td>NaN</td>\n",
       "      <td>NaN</td>\n",
       "      <td>NaN</td>\n",
       "      <td>NaN</td>\n",
       "      <td>NaN</td>\n",
       "      <td>NaN</td>\n",
       "    </tr>\n",
       "    <tr>\n",
       "      <th>2</th>\n",
       "      <td>East Asia &amp; Pacific</td>\n",
       "      <td>EAS</td>\n",
       "      <td>Annualized growth in per capita real survey me...</td>\n",
       "      <td>SI.SPR.PT60.ZG</td>\n",
       "      <td>NaN</td>\n",
       "      <td>NaN</td>\n",
       "      <td>NaN</td>\n",
       "      <td>NaN</td>\n",
       "      <td>NaN</td>\n",
       "      <td>NaN</td>\n",
       "      <td>...</td>\n",
       "      <td>NaN</td>\n",
       "      <td>NaN</td>\n",
       "      <td>NaN</td>\n",
       "      <td>NaN</td>\n",
       "      <td>NaN</td>\n",
       "      <td>NaN</td>\n",
       "      <td>NaN</td>\n",
       "      <td>NaN</td>\n",
       "      <td>NaN</td>\n",
       "      <td>NaN</td>\n",
       "    </tr>\n",
       "    <tr>\n",
       "      <th>3</th>\n",
       "      <td>East Asia &amp; Pacific</td>\n",
       "      <td>EAS</td>\n",
       "      <td>Annualized growth in per capita real survey me...</td>\n",
       "      <td>SI.SPR.PCAP.ZG</td>\n",
       "      <td>NaN</td>\n",
       "      <td>NaN</td>\n",
       "      <td>NaN</td>\n",
       "      <td>NaN</td>\n",
       "      <td>NaN</td>\n",
       "      <td>NaN</td>\n",
       "      <td>...</td>\n",
       "      <td>NaN</td>\n",
       "      <td>NaN</td>\n",
       "      <td>NaN</td>\n",
       "      <td>NaN</td>\n",
       "      <td>NaN</td>\n",
       "      <td>NaN</td>\n",
       "      <td>NaN</td>\n",
       "      <td>NaN</td>\n",
       "      <td>NaN</td>\n",
       "      <td>NaN</td>\n",
       "    </tr>\n",
       "    <tr>\n",
       "      <th>4</th>\n",
       "      <td>East Asia &amp; Pacific</td>\n",
       "      <td>EAS</td>\n",
       "      <td>GINI index (World Bank estimate)</td>\n",
       "      <td>SI.POV.GINI</td>\n",
       "      <td>NaN</td>\n",
       "      <td>NaN</td>\n",
       "      <td>NaN</td>\n",
       "      <td>NaN</td>\n",
       "      <td>NaN</td>\n",
       "      <td>NaN</td>\n",
       "      <td>...</td>\n",
       "      <td>NaN</td>\n",
       "      <td>NaN</td>\n",
       "      <td>NaN</td>\n",
       "      <td>NaN</td>\n",
       "      <td>NaN</td>\n",
       "      <td>NaN</td>\n",
       "      <td>NaN</td>\n",
       "      <td>NaN</td>\n",
       "      <td>NaN</td>\n",
       "      <td>NaN</td>\n",
       "    </tr>\n",
       "  </tbody>\n",
       "</table>\n",
       "<p>5 rows × 50 columns</p>\n",
       "</div>"
      ],
      "text/plain": [
       "          Country Name Country Code  \\\n",
       "0  East Asia & Pacific          EAS   \n",
       "1  East Asia & Pacific          EAS   \n",
       "2  East Asia & Pacific          EAS   \n",
       "3  East Asia & Pacific          EAS   \n",
       "4  East Asia & Pacific          EAS   \n",
       "\n",
       "                                      Indicator Name  Indicator Code  1974  \\\n",
       "0  Annualized growth in per capita real survey me...  SI.SPR.PC40.ZG   NaN   \n",
       "1  Annualized growth in per capita real survey me...  SI.SPR.PT10.ZG   NaN   \n",
       "2  Annualized growth in per capita real survey me...  SI.SPR.PT60.ZG   NaN   \n",
       "3  Annualized growth in per capita real survey me...  SI.SPR.PCAP.ZG   NaN   \n",
       "4                   GINI index (World Bank estimate)     SI.POV.GINI   NaN   \n",
       "\n",
       "   1975  1976  1977  1978  1979  ...  2010  2011  2012  2013  2014  2015  \\\n",
       "0   NaN   NaN   NaN   NaN   NaN  ...   NaN   NaN   NaN   NaN   NaN   NaN   \n",
       "1   NaN   NaN   NaN   NaN   NaN  ...   NaN   NaN   NaN   NaN   NaN   NaN   \n",
       "2   NaN   NaN   NaN   NaN   NaN  ...   NaN   NaN   NaN   NaN   NaN   NaN   \n",
       "3   NaN   NaN   NaN   NaN   NaN  ...   NaN   NaN   NaN   NaN   NaN   NaN   \n",
       "4   NaN   NaN   NaN   NaN   NaN  ...   NaN   NaN   NaN   NaN   NaN   NaN   \n",
       "\n",
       "   2016  2017  2018  Unnamed: 49  \n",
       "0   NaN   NaN   NaN          NaN  \n",
       "1   NaN   NaN   NaN          NaN  \n",
       "2   NaN   NaN   NaN          NaN  \n",
       "3   NaN   NaN   NaN          NaN  \n",
       "4   NaN   NaN   NaN          NaN  \n",
       "\n",
       "[5 rows x 50 columns]"
      ]
     },
     "execution_count": 28,
     "metadata": {},
     "output_type": "execute_result"
    }
   ],
   "source": [
    "PovStatsData.head(5)"
   ]
  },
  {
   "cell_type": "code",
   "execution_count": 29,
   "metadata": {
    "colab": {
     "base_uri": "https://localhost:8080/",
     "height": 243
    },
    "colab_type": "code",
    "id": "6eDkmAW0lT7i",
    "outputId": "0a2bf6f7-fa41-4923-d747-d979cf07d629"
   },
   "outputs": [
    {
     "data": {
      "text/plain": [
       "Index(['Country Code', 'Short Name', 'Table Name', 'Long Name', '2-alpha code',\n",
       "       'Currency Unit', 'Special Notes', 'Region', 'Income Group', 'WB-2 code',\n",
       "       'National accounts base year', 'National accounts reference year',\n",
       "       'SNA price valuation', 'Lending category', 'Other groups',\n",
       "       'System of National Accounts', 'Alternative conversion factor',\n",
       "       'PPP survey year', 'Balance of Payments Manual in use',\n",
       "       'External debt Reporting status', 'System of trade',\n",
       "       'Government Accounting concept', 'IMF data dissemination standard',\n",
       "       'Latest population census', 'Latest household survey',\n",
       "       'Source of most recent Income and expenditure data',\n",
       "       'Vital registration complete', 'Latest agricultural census',\n",
       "       'Latest industrial data', 'Latest trade data', 'Unnamed: 30'],\n",
       "      dtype='object')"
      ]
     },
     "execution_count": 29,
     "metadata": {},
     "output_type": "execute_result"
    }
   ],
   "source": [
    "PovStatsCountry.head(5)\n",
    "PovStatsCountry.columns"
   ]
  },
  {
   "cell_type": "code",
   "execution_count": 30,
   "metadata": {
    "colab": {
     "base_uri": "https://localhost:8080/",
     "height": 156
    },
    "colab_type": "code",
    "id": "9nddOxPZlT7m",
    "outputId": "7ed9cdeb-6a85-4f9c-eee6-76c00fd7f28d"
   },
   "outputs": [
    {
     "data": {
      "text/plain": [
       "Index(['Series Code', 'Topic', 'Indicator Name', 'Short definition',\n",
       "       'Long definition', 'Unit of measure', 'Periodicity', 'Base Period',\n",
       "       'Other notes', 'Aggregation method', 'Limitations and exceptions',\n",
       "       'Notes from original source', 'General comments', 'Source',\n",
       "       'Statistical concept and methodology', 'Development relevance',\n",
       "       'Related source links', 'Other web links', 'Related indicators',\n",
       "       'License Type', 'Unnamed: 20'],\n",
       "      dtype='object')"
      ]
     },
     "execution_count": 30,
     "metadata": {},
     "output_type": "execute_result"
    }
   ],
   "source": [
    "PovStatsSeries.columns"
   ]
  }
 ],
 "metadata": {
  "colab": {
   "include_colab_link": true,
   "name": "Corona-Virus-Explore.ipynb",
   "provenance": []
  },
  "kernelspec": {
   "display_name": "Python 3",
   "language": "python",
   "name": "python3"
  },
  "language_info": {
   "codemirror_mode": {
    "name": "ipython",
    "version": 3
   },
   "file_extension": ".py",
   "mimetype": "text/x-python",
   "name": "python",
   "nbconvert_exporter": "python",
   "pygments_lexer": "ipython3",
   "version": "3.8.2"
  }
 },
 "nbformat": 4,
 "nbformat_minor": 1
}

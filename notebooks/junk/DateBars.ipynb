{
 "cells": [
  {
   "cell_type": "code",
   "execution_count": 1,
   "metadata": {},
   "outputs": [
    {
     "data": {
      "image/png": "[encoded data removed]",
      "text/plain": [
       "<Figure size 432x288 with 1 Axes>"
      ]
     },
     "metadata": {
      "needs_background": "light"
     },
     "output_type": "display_data"
    }
   ],
   "source": [
    "import datetime as dt\n",
    "import matplotlib.pyplot as plt\n",
    "import matplotlib.dates as mdates\n",
    "\n",
    "def drange(start, end, interval=dt.timedelta(days=1)):\n",
    "    output = []\n",
    "    while start <= end:\n",
    "        output.append(start)\n",
    "        start += interval\n",
    "    return output\n",
    "\n",
    "# Generate a series of dates for plotting...\n",
    "edate = drange(dt.datetime(2012, 2, 1), dt.datetime(2012, 6, 15), \n",
    "                      dt.timedelta(days=5))\n",
    "bdate = drange(dt.datetime(2012, 1, 1), dt.datetime(2012, 5, 15), \n",
    "                      dt.timedelta(days=5))\n",
    "\n",
    "# Now convert them to matplotlib's internal format...\n",
    "edate, bdate = [mdates.date2num(item) for item in (edate, bdate)]\n",
    "\n",
    "ypos = range(len(edate))\n",
    "fig, ax = plt.subplots()\n",
    "\n",
    "# Plot the data\n",
    "ax.barh(ypos, edate - bdate, left=bdate, height=0.8, align='center')\n",
    "ax.axis('tight')\n",
    "\n",
    "# We need to tell matplotlib that these are dates...\n",
    "ax.xaxis_date()\n",
    "\n",
    "plt.show()"
   ]
  },
  {
   "cell_type": "code",
   "execution_count": null,
   "metadata": {},
   "outputs": [],
   "source": []
  }
 ],
 "metadata": {
  "kernelspec": {
   "display_name": "Python 3",
   "language": "python",
   "name": "python3"
  },
  "language_info": {
   "codemirror_mode": {
    "name": "ipython",
    "version": 3
   },
   "file_extension": ".py",
   "mimetype": "text/x-python",
   "name": "python",
   "nbconvert_exporter": "python",
   "pygments_lexer": "ipython3",
   "version": "3.8.2"
  }
 },
 "nbformat": 4,
 "nbformat_minor": 4
}

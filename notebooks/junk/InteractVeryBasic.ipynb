{
<<<<<<< HEAD
 "cells": [
  {
   "cell_type": "code",
   "execution_count": 1,
   "metadata": {},
   "outputs": [],
   "source": [
    "import numpy as np\n",
    "import matplotlib as mpl\n",
    "import matplotlib.pyplot as plt\n",
    "\n",
    "import matplotlib.gridspec as gridspec\n",
    "\n",
    "from ipywidgets import interact, interactive, fixed, interact_manual\n",
    "plt.style.use('seaborn-whitegrid')\n"
   ]
  },
  {
   "cell_type": "code",
   "execution_count": 2,
   "metadata": {},
   "outputs": [],
   "source": [
    "%matplotlib inline\n",
    "plt.rcParams['figure.figsize'] = (6,4)\n",
    "plt.rcParams['figure.dpi'] = 150"
   ]
  },
  {
   "cell_type": "code",
   "execution_count": 3,
   "metadata": {},
   "outputs": [
    {
     "data": {
      "text/plain": [
       "array([0, 1, 2, 3, 4, 5, 6, 7, 8, 9])"
      ]
     },
     "execution_count": 3,
     "metadata": {},
     "output_type": "execute_result"
=======
  "nbformat": 4,
  "nbformat_minor": 0,
  "metadata": {
    "kernelspec": {
      "display_name": "Python 3",
      "language": "python",
      "name": "python3"
    },
    "language_info": {
      "codemirror_mode": {
        "name": "ipython",
        "version": 3
      },
      "file_extension": ".py",
      "mimetype": "text/x-python",
      "name": "python",
      "nbconvert_exporter": "python",
      "pygments_lexer": "ipython3",
      "version": "3.8.2"
    },
    "colab": {
      "name": "InteractVeryBasic.ipynb",
      "provenance": [],
      "include_colab_link": true
    },
    "widgets": {
      "application/vnd.jupyter.widget-state+json": {
        "227a3cd3ba73476495671e2ab987e305": {
          "model_module": "@jupyter-widgets/controls",
          "model_name": "VBoxModel",
          "state": {
            "_view_name": "VBoxView",
            "_dom_classes": [
              "widget-interact"
            ],
            "_model_name": "VBoxModel",
            "_view_module": "@jupyter-widgets/controls",
            "_model_module_version": "1.5.0",
            "_view_count": null,
            "_view_module_version": "1.5.0",
            "box_style": "",
            "layout": "IPY_MODEL_b242477761a64c608dca095f320eece3",
            "_model_module": "@jupyter-widgets/controls",
            "children": [
              "IPY_MODEL_e54bb18cfe5244bda10c3f06a1b4864b",
              "IPY_MODEL_b75eca69dab540a7991922505c1b19af"
            ]
          }
        },
        "b242477761a64c608dca095f320eece3": {
          "model_module": "@jupyter-widgets/base",
          "model_name": "LayoutModel",
          "state": {
            "_view_name": "LayoutView",
            "grid_template_rows": null,
            "right": null,
            "justify_content": null,
            "_view_module": "@jupyter-widgets/base",
            "overflow": null,
            "_model_module_version": "1.2.0",
            "_view_count": null,
            "flex_flow": null,
            "width": null,
            "min_width": null,
            "border": null,
            "align_items": null,
            "bottom": null,
            "_model_module": "@jupyter-widgets/base",
            "top": null,
            "grid_column": null,
            "overflow_y": null,
            "overflow_x": null,
            "grid_auto_flow": null,
            "grid_area": null,
            "grid_template_columns": null,
            "flex": null,
            "_model_name": "LayoutModel",
            "justify_items": null,
            "grid_row": null,
            "max_height": null,
            "align_content": null,
            "visibility": null,
            "align_self": null,
            "height": null,
            "min_height": null,
            "padding": null,
            "grid_auto_rows": null,
            "grid_gap": null,
            "max_width": null,
            "order": null,
            "_view_module_version": "1.2.0",
            "grid_template_areas": null,
            "object_position": null,
            "object_fit": null,
            "grid_auto_columns": null,
            "margin": null,
            "display": null,
            "left": null
          }
        },
        "e54bb18cfe5244bda10c3f06a1b4864b": {
          "model_module": "@jupyter-widgets/controls",
          "model_name": "IntSliderModel",
          "state": {
            "_view_name": "IntSliderView",
            "style": "IPY_MODEL_3260424f5d4c41c7ab9abf5e51d25b51",
            "_dom_classes": [],
            "description": "x",
            "step": 1,
            "_model_name": "IntSliderModel",
            "orientation": "horizontal",
            "max": 30,
            "_view_module": "@jupyter-widgets/controls",
            "_model_module_version": "1.5.0",
            "value": 10,
            "_view_count": null,
            "disabled": false,
            "_view_module_version": "1.5.0",
            "min": -10,
            "continuous_update": true,
            "readout_format": "d",
            "description_tooltip": null,
            "readout": true,
            "_model_module": "@jupyter-widgets/controls",
            "layout": "IPY_MODEL_eaa57331fa7d4abea4e4ce4cee890ee2"
          }
        },
        "b75eca69dab540a7991922505c1b19af": {
          "model_module": "@jupyter-widgets/output",
          "model_name": "OutputModel",
          "state": {
            "_view_name": "OutputView",
            "msg_id": "",
            "_dom_classes": [],
            "_model_name": "OutputModel",
            "outputs": [
              {
                "output_type": "display_data",
                "metadata": {
                  "tags": [],
                  "needs_background": "light"
                },
                "image/png": "iVBORw0KGgoAAAANSUhEUgAAAwIAAAIECAYAAACqkpkRAAAABHNCSVQICAgIfAhkiAAAAAlwSFlzAAAXEQAAFxEByibzPwAAADh0RVh0U29mdHdhcmUAbWF0cGxvdGxpYiB2ZXJzaW9uMy4yLjEsIGh0dHA6Ly9tYXRwbG90bGliLm9yZy+j8jraAAAgAElEQVR4nOzdeZhU5YG28bu6m31TBCJgZDO+EESJQKOZb1yymZhFMzPGJIIgkLjly4xbFs2iTuJk0yzfxCVhESEmxsRoEidqotG4JDSgKCK+iqKICrLIIi0N3V3fH1Vd6TjdQkt3nao+9++6uA7ve05XPV4eoJ46WyabzSJJkiQpXSqSDiBJkiSp+CwCkiRJUgpZBCRJkqQUsghIkiRJKWQRkCRJklLIIiBJkiSlkEVAkiRJSiGLgCRJkpRCFgFJkiQphSwCkiRJUgpZBCRJkqQUsghIkiRJKWQRkCRJklLIIiBJkiSlkEVAkiRJSqGqpN44hDAcOA84ATgYqAdWAAuA62KMDc22HQF8HXg/MBDYCNwFXBpjfK6owSVJkqROIJPNZov+piGEccCfga7AtcByYAAwC3gnsCDGeHp+25HA34DuwA+AJ4F3AOcDrwOTY4zPF/u/QZIkSSpnSRWBB4B/Ao6JMd7fbL4vuQ/6g4F3xBhXhRBuBU4CPhBj/GOzbd9P7qjAr2KMpxT1P0CSJEkqc0kVgc8D3WKM321h3c3AvwHvI3ek4CVgZYxxXAvbPg4E4MAY46aOTS1JkiR1HolcIxBj/FFL8yGECnKn/ewGVgKTgErgoVZe6kFgbH67O1raYOnSpRlypx0B1L711JIkSVJJ6ZlfbpwwYUKbv91P7GLhJiGEPkAPYDTwBeAw4PwY40shhH/Nb7amlR9vmh/1Jm8xAHilPbJKkiRJJWgQsKGtP5R4EQDuB47I/34FcEKM8e78uE9+uaOVn22a79tB2SRJkqROqRSKwCygPzASmALcGUL4VozxK8CeDnFk9uL1C6cDjRs3jsrKyrcc9K1auXIlAGPGjCn6e6s8uc/k1O6qZ8b1S3hs7dbC3BdOCEz/p+HJhSpB7i9qK/cZtZX7TOlpaGhg+fLlTcO3dPp74kUgxrik6fchhJ8CvwIuCSEsAbblV/Vu5cebjhhsbWX9P6isrEykCGQymcL7S3vDfQZ27m7grJ89wuLntxTmPnf8Icw85s3OBEwn9xe1lfuM2sp9pnMqqScL5x8iNjs/PBFYlf/9sFZ+ZETTj3ZkLknFVd/QyOd//ggPrvr7zcBOP3oYF3zg0ARTSZLUuRT9iEAI4WBy1wU8E2N8Twub7J9fVgA1wC7gmFZe7hhgJ7C4vXNKSkZjY5Yv/no5dz2xvjB38vghXPrRsYVvpCRJ0r4r+hGBGOMaoBE4NoTwf5qvCyFkgOn54V9ijK8CNwOHhhBOesO2/0buuoKfxRi3IansZbNZ/vP2J/j1w2sLc+8bM4jvnnIEFRWWAEmS2lNS1wicBdwG3BVCuBZ4FOgHfAo4itzzAW7Mb3sRuW/+bwwhXEXu+QJjgfOAZ4AvFTe6pI7yw7ufZt6DzxXGk0f0578/fSRdKkvqLEZJkjqFRP51jTHeCUwkd2HwKcBPgf8CugMXA++LMdbnt32ZXDlYCJwBXA9MBeYC744xbix2fkntb+4Dq/nBn54ujA8/qB+zp02kexcvTJMkqSMkdtegGOPjwOl7ue1LwJkdm0hSUn61dC2X//6JwviQQb25/oxq+nTvkmAqSZI6N4+3S0rUnSvW8cVfP1YYD92vBwtmVtO/V9cEU0mS1PlZBCQl5qFVG/m/Nz5CQ2Pu2YEDendj4azJDO7XI+FkkiR1fhYBSYlY9sIWZt2whF0NjQD07V7FDTOqGTGgV8LJJElKB4uApKKL67YzfV4NtbsaAOjRpZJ5Z0zinUP6JpxMkqT0sAhIKqo1m2qZOmcRW2p3A9ClMsO1UycwYVj/hJNJkpQuFgFJRfPKtp1MmbOIV7bXAVCRgR9+8l0ce+jAhJNJkpQ+FgFJRbGldhdT59SwZnNtYe6//mUcJ44bnGAqSZLSyyIgqcPtqKtn+rzFxPXbC3OXnDiGUycdnGAqSZLSzSIgqUPt3N3AZxcsYdkLWwpznzv+ED5zzMgEU0mSJIuApA5T39DI53/+CA+u2lSYm3rUMC74wKEJppIkSWARkNRBGhuzfOmW5dz1xPrC3Enjh3DZx8aSyWQSTCZJksAiIKkDZLNZvnH7Sn61dG1h7r2jB/G9U46gosISIElSKbAISGp3P7p7FXMfXF0YTx7Rnx+fdiRdKv0rR5KkUuG/ypLa1bwHV/P9Pz1VGI8b2o/Z0ybSvUtlgqkkSdIbWQQktZtfL13LZb97ojAeNbAX82dU06d7lwRTSZKkllgEJLWLu1as4wu/fqwwHrpfDxbOmkz/Xl0TTCVJklpjEZC0zx5atZHP3fgIDY1ZAAb07sbCWZMZ3K9HwskkSVJrLAKS9smyF7Yw64Yl7GpoBKBv9ypumFHNiAG9Ek4mSZLejEVA0lsW121n+rwaanc1ANC9SwXzzpjEO4f0TTiZJEnaE4uApLdkzaZaps5ZxJba3QB0qcxw3dSJTBjWP+FkkiRpb1gEJLXZK9t2MmXOIl7ZXgdARQZ+cOq7OPbQgQknkyRJe8siIKlNttTuYuqcGtZsri3MXfHxcXz48MEJppIkSW1lEZC013bU1TN93mLi+u2FuYtPHM0nqw9OMJUkSXorLAKS9kpdfQOfXbCEZS9sKcyde/woPnvMqARTSZKkt8oiIGmP6hsa+fzPH+HBVZsKc1OPGsaFHwgJppIkSfvCIiDpTTU2ZvnSLcu5c8X6wtxJ44dw2cfGkslkEkwmSZL2hUVAUquy2SzfuH0lv1q6tjD33tGD+N4pR1BRYQmQJKmcWQQktepHd69i7oOrC+PqEf358WlH0qXSvzokSSp3/msuqUXzHlzN9//0VGF82NC+zJk2ke5dKhNMJUmS2otFQNL/csvDa7nsd08UxqMG9mL+GdX06d4lwVSSJKk9WQQk/YO7Vqzjol89VhgP3a8HC2ZO5oDe3RJMJUmS2ptFQFLBQ89s5HM/f4SGxiwAA3p3ZeGsyQzZr0fCySRJUnuzCEgCYNkLW/jM/CXsqm8EoE/3Km6YMZkRA3olnEySJHUEi4Aknlq/nenzatixqwGA7l0qmDd9Eu8c0jfhZJIkqaNYBKSUe2FzLVPnLGJL7W4AulRmuG7qRCYO759wMkmS1JEsAlKKvbJtJ6fNXsT6bXUAVGTgB6e+i2MPHZhwMkmS1NEsAlJKbandxdQ5NazZXFuYu+Lj4/jw4YMTTCVJkorFIiCl0I66eqbPW0xcv70w9+UPjeaT1QcnmEqSJBWTRUBKmbr6Bj67YAnLXthSmDvnuFGceeyoBFNJkqRiswhIKVLf0Mi//3wZD67aVJibctTBXHRCSDCVJElKgkVASonGxixfvmU5d6xYV5j72BFDuPxjh5HJZBJMJkmSkmARkFIgm83yzf9Zyc1L1xbm3jN6EFd+4ggqKiwBkiSlkUVASoH/d88q5jywujCuHtGfq087ki6V/hUgSVJa+SlA6uSuf3A1V/3xqcL4sKF9mTNtIt27VCaYSpIkJc0iIHVitzy8lkt/90RhPGpgL+afUU2f7l0STCVJkkqBRUDqpO5asY6LfvVYYTx0vx4smDmZA3p3SzCVJEkqFRYBqRN66JmNfO7nj9DQmAVgQO+uLJhZzZD9eiScTJIklQqLgNTJLHthC5+Zv4Rd9Y0A9OlexfwZ1Ywc2DvhZJIkqZRYBKRO5Kn125k+r4YduxoA6N6lgnnTJzF2SL+Ek0mSpFJjEZA6iRc21zJ1ziK21O4GoEtlhmunTGDi8P4JJ5MkSaXIIiB1Aq9s28mUOYtYv60OgEwGvn/qeI4LgxJOJkmSSpVFQCpzW2p3cfrcGp7fVFuYu+Lj4/jI4UMSTCVJkkqdRUAqYzvq6jnj+sU8uW57Ye7LHxrNp6oPTjCVJEkqBxYBqUzV1Tdw1sKlPLJmS2HunONGceaxoxJMJUmSyoVFQCpD9Q2N/PvPl3H/0xsLc6dNPpiLTggJppIkSeXEIiCVmcbGLF++ZTl3rFhXmPvoEUO4/KTDyGQyCSaTJEnlxCIglZFsNss3/2clNy9dW5g7Pgzkqk8cQWWFJUCSJO09i4BURv7fPauY88Dqwrh6eH+uPm0CXSr9oyxJktrGTw9Smbj+wdVc9cenCuPDhvZl9vSJ9OhamWAqSZJUriwCUhn4zSNrufR3TxTGIwf2Yv4Z1fTt3iXBVJIkqZxZBKQS98cn1nPhzY8VxkP368HCmZM5oHe3BFNJkqRyV5XEm4YQ+gFfAE4FDgbqgMeB2cDcGGP2DdsfAXwVOAbYD3gJ+C1weYxxI1In9dAzGzn3xodpaMz9kRjQuysLZlYzZL8eCSeTJEnlruhFIIQwFHgIGALcANxP7sP9meSKwBjgwmbbTwbuAbYDVwFrgHcBnwdOCCFMijFuK+Z/g1QMT22s4yt3L2FXfSMAfbpXMX9GNSMH9k44mSRJ6gySOCLwVXJHAf49xvijpskQwvVABP4jhPCdGOMr+VXXAl2B98QYm06SvjGE8BTwk/zrXVSs8FIxrNmyi6/dvZ4du3IloHuXCuZNn8TYIf0STiZJkjqLJK4ReBn4NTCn+WSMcQvwIFAJjAMIIRwJjAfuaFYCmswDtgDTQwhe66BO44XNtXzlT+vZni8BXSozXDtlAhOH9084mSRJ6kyKfkQgxnjZm6xu+rpza355dH75UAuvUx9CqAE+ABwKPLmn9165cmUiT16tq6sDYMWKFUV/b5WXzbX1fOGudWx6vQGADHD+uwcwsH4DK1ZsSDacSpZ/x6it3GfUVu4zpSebze55oz0omW/SQwjjgGOBFcDD+emR+eWaVn6saX5UB0aTimJ7XQNfvXs9L2+vL8x97qgDOGZ4rwRTSZKkziqRuwa9UQjh7cCtQANwdoyxMb+qT365o5UfbZrvuzfvM2bMGCori//wpab2PHbs2KK/t8rDjrp6psxZxHNbdhfmzjhyfy44+agEU6lc+HeM2sp9Rm3lPlN6GhoaWLZs2T69RuJHBPJ3BaoBDgI+HWO8v9nqPR3zKP55PlI7q6tv4KyFS3lkzZbC3Clj+/FvY70wWJIkdZxEjwiEEE4jd8vQWuCEGOO9b9ik6bagrd0vsemIwdZW1kslrb6hkf/4xTLuf/rvj8M4bfLBfOoddlxJktSxEjsiEEK4EFgIrAImtVACyK8DGNbKy4zIL2P7ppM6Xjab5eLfLOcPj68rzH30iCFcftJhiVzULkmS0iWRIhBCOBf4LrkHhf1TjPHZVjZ9IL88toXX6AFUAy8Crf28VJKy2SzfvH0lv1yytjB3fBjIVZ84gsoKS4AkSep4RS8CIYR3Az8kd0vQj7zZU4FjjCvIPVvgvflnCjR3LtATuDbGuO/3T5KK6L/vWcXsB1YXxtXD+3P1aRPoUpn4ZTuSJCklkrhG4IfkHhp2O/DhEEJL2zzR7AFiZwH3A3eGEK4kd8vQo4GzyV1k/N0OTyy1o/kPPceVf3yqMB47pC+zp0+kR9fi39FKkiSlVxJFYGJ++c032eYy4FKAGOPj+TsLXQqcD+wHPA98B7gixljXYUmldvabR9by9d/+/WEsIwf0Yv6Mavp275JgKkmSlEZJPFm4zSdAxxifAj7dAXGkovnjE+u58ObHCuMh/bqzYNZkBvTulmAqSZKUVp6QLBXBQ89s5NwbH6ahMXc5ywG9urJw1mSG7tcj4WSSJCmtLAJSB3ts7RY+M38Ju+pzD8zu062K+TOqGTmwtcdjSJIkdTyLgNSBnl6/nWlza9ixqwGA7l0qmHvGJA4b6lODJUlSsiwCUgd5YXMtU+fU8GrtbgCqKjJcM2UCk4b3TziZJEmSRUDqEK9s38mUOYtYt20nAJkMfP/U8RwfBiWcTJIkKcciILWzrbW7OX1ODc9vqi3MffPkcXz0iCEJppIkSfpHFgGpHdXuqueM62t4ct32wtwXPziaT08+OMFUkiRJ/5tFQGondfUNnLlgKQ+v2VKYO+vYUZx93KgEU0mSJLXMIiC1g/qGRv7jF8u4/+mNhblPTz6YL34wJJhKkiSpdRYBaR9ls1ku/s1y/vD4usLcRw4fzH+edBiZTJsfpC1JklQUFgFpH2SzWb55+0p+uWRtYe64MJCrPjGeygpLgCRJKl0WAWkf/PjPq5j9wOrCuHp4f645bQJdq/yjJUmSSpufVqS36Ia/Psf37nqqMB47pC+zp0+kR9fK5EJJkiTtJYuA9Bbc+siLfO22FYXxyAG9mD+jmr7duySYSpIkae9ZBKQ2+tMT67ng5kcL4yH9urNg1mQG9O6WYCpJkqS2sQhIbfDXZzZxzo0P09CYBeCAXl1ZMGsyQ/frkXAySZKktrEISHvpsbVbmDV/MbvqGwHo062K+TOqGTWwd8LJJEmS2s4iIO2Fp9dvZ9rcGnbsagCgW1UFc6ZP4rCh/RJOJkmS9NZYBKQ9eGFzLVPn1PBq7W4AqioyXDtlAtUj+iecTJIk6a2zCEhv4pXtO5k6ZxHrtu0EIJOB7586nuNHD0o4mSRJ0r6xCEit2Fq7m9Pn1PDcptrC3DdPHsdHjxiSYCpJkqT2YRGQWlC7q54zrq/hyXXbC3Nf/OBoPj354ARTSZIktR+LgPQGdfUNnLlgKQ+v2VKYO+vYUZx93KgEU0mSJLUvi4DUTENjlvNuWsb9T28szH2q+mC++MGQYCpJkqT2ZxGQ8rLZLBffspz/Wb6uMPeRwwfzjZMPI5PJJJhMkiSp/VkEJHIl4Ir/WclNS14ozB0XBnLVJ8ZTWWEJkCRJnY9FQAJ+/OdV/PT+1YXxpOH7c81pE+ha5R8RSZLUOfkpR6l3w1+f43t3PVUYv3NwX2ZPm0SPrpXJhZIkSepgFgGl2q2PvMjXbltRGI8c0IsbZlbTr0eXBFNJkiR1PIuAUuvuleu54OZHC+Mh/bqzYNZkBvTulmAqSZKk4rAIKJX+9uwmzvnZwzQ0ZgE4oFdXFsyazND9eiScTJIkqTgsAkqdx9ZuYdb8JdTVNwLQp1sV82dUM2pg74STSZIkFY9FQKmy6pXtTJtbw2t19QB0q6pgzvRJHDa0X8LJJEmSissioNR4YXMtU2bX8GrtbgCqKjJcO2UC1SP6J5xMkiSp+CwCSoVXtu9k6pxFrNu2E4BMBq46dTzHjx6UcDJJkqRkWATU6W2t3c3pc2p4blNtYe4bJx/Gx44YkmAqSZKkZFkE1KnV7qrnjOtreHLd9sLcFz4YOG3ysARTSZIkJc8ioE6rrr6BMxcs5eE1WwpzZx47knOOOyTBVJIkSaXBIqBOqaExy/k3Pcr9T28szH2q+mC+9MHRCaaSJEkqHRYBdTrZbJaLb1nO7ctfLsx95PDBfOPkw8hkMgkmkyRJKh0WAXUq2WyW//rDk9y05IXC3HFhIFd9YjyVFZYASZKkJhYBdSpX3/sMP/nLs4XxxGH7c81pE+ha5a4uSZLUnJ+O1Gks+NvzfPfOWBi/c3Bf5kyfRI+ulQmmkiRJKk0WAXUKty17ka/d9nhhPGJAL+bPqKZfjy4JppIkSSpdFgGVvbtXruf8Xz5KNpsbD+7XnYWzJjOwT7dkg0mSJJUwi4DK2t+e3cQ5P3uYhsZcC+jfqysLZk5m6H49Ek4mSZJU2iwCKlvL125l1vwl1NU3AtCnWxU3zKjmkEG9E04mSZJU+iwCKkurXnmNafNqeK2uHoBuVRXMnjaRw4b2SziZJElSebAIqOysfbWWqXMWsXnHLgCqKjJcO2UCk0cekHAySZKk8mERUFnZsL2OKbMX8fLWnQBkMnDVqeM5fvSghJNJkiSVF4uAysbW13dz+twanttUW5j7z5MO42NHDEkwlSRJUnmyCKgs1O6qZ8b1i1n58rbC3EUnBKYcNSzBVJIkSeXLIqCSt6u+kbMWPszS518tzJ15zEjOOW5UgqkkSZLKm0VAJa2hMct5Ny3jL09tKMx9qvrtfOlDo8lkMgkmkyRJKm8WAZWsbDbLJb9Zzu3LXy7MffjwwXzj5HGWAEmSpH1kEVBJymazfOsPT/KLxS8U5o49dCDf/8R4KissAZIkSfvKIqCSdPW9z3DdX54tjCcO259rp0yga5W7rCRJUnvwU5VKzoK/Pc9374yF8TsH92XO9En06FqZYCpJkqTOxSKgknLbshf52m2PF8YjBvRi/oxq+vXokmAqSZKkzscioJJxz5PrueCXj5LN5saD+3VnwcxqBvbplmwwSZKkTqgq6QAhhOnAD4G+wIgY43MtbDMC+DrwfmAgsBG4C7i0pe1Vfv727CbOXvgw9Y25FtC/V1cWzJzMQfv3TDiZJElS55RYEQghDAKuA04Cat9ku5HA34DuwA+AJ4F3AOcDHwwhTI4xPt/xidVRlq/dyqz5S6irbwSgd7cq5p9RzSGDeiecTJIkqfNK8ojAYqAr8CHgy8CxrWx3FbmjAB+IMf6xaTKE8BC5owLfA07p2KjqKKteeY1p82p4ra4egG5VFcyZNpFxB/VLOJkkSVLnluQ1An8FDo8x3tnaBvmjBh8BHm9eAgDy4xXAySGEAzo0qTrE2ldrmTpnEZt37AKgqiLDNVOOZPJI/3dKkiR1tMSOCMQYP7kXm00CKoGHWln/IDA2v90d7RRNRbBhex1T59Tw8tadAGQycOUnjuA9o9+WcDJJkqR0SPxi4T0YmV+uaWV90/yovXmxlStXkskU/6m0dXV1AKxYsaLo712KXtvVwJfuWsfqV3cX5s6p7s8hXbawYsWWBJOVDvcZtYX7i9rKfUZt5T5TerJNt1ncB6V++9A++eWOVtY3zfctQha1g531jVx2zyv/UAKmjd+PEw/1f6EkSVIxlfoRgT1VnTZ9vT9mzBgqK4v/dNqm9jx27Niiv3cp2VXfyGduWMITG+oKc2ceM5IvfWh0IkdqSpn7jNrC/UVt5T6jtnKfKT0NDQ0sW7Zsn16j1I8IbMsvW7uPZNMRg61FyKJ90NCY5byblnHfUxsKc5+c9HZLgCRJUkJKvQisyi+HtbJ+RH4Zi5BFb1E2m+WS3yzn9uUvF+Y+PG4w3/z4OEuAJElSQkq9CNQAu4BjWll/DLCT3DMJVIKy2Szf+sOT/GLxC4W5Yw4dyPdPHU9lhSVAkiQpKSVdBGKMrwI3A4eGEE5qvi6E8G/k7ir0sxjjtpZ+Xsm7+t5nuO4vzxbGE4ftz7VTjqRrVUnvepIkSZ1eIhcLhxCGkbv3f5OB+eWHQghNJ5E/F2NcAlxE7pv/G0MIVwEryT074DzgGeBLxUmttlr4t+f57p1/P2trzOC+zJk+iZ5dS/0adUmSpM4vqU9kxwPzWpi/utnv5wPTY4wvhxCOAr4OnAEMAtYBc4HLY4wbOzqs2u62ZS/y1dseL4xHDOjFDTOq6dejS4KpJEmS1CSRIhBjvB64vg3bvwSc2VF51L7ueXI9F/zyUZqeczG4X3cWzKxmYJ9uyQaTJElSgSdqq10tenYTZy98mPrGXAvo36srC2ZO5qD9eyacTJIkSc1ZBNRuHn9xK7PmL6GuvhGA3t2qmH9GNYcMau0xEJIkSUqKRUDtYtUrr3H63Bq219UD0K2qgjnTJjLuoH4JJ5MkSVJLLALaZ2tfrWXqnEVs3rELgKqKDNdMOZLJIw9IOJkkSZJaYxHQPtmwvY6pc2p4eetOADIZuPITR/Ce0W9LOJkkSZLejEVAb9nW13dz+twaVm/cUZi7/KTDOGn80ARTSZIkaW9YBPSWvL6rgZnXL2bly39/qPNFJwSmHjUswVSSJEnaWxYBtdmu+kbOWriUJc+/Wpj77DEjOee4UQmmkiRJUltYBNQmDY1ZzvvlMu57akNh7pOT3s6XPzSaTCaTYDJJkiS1hUVAey2bzfKVW5dz+2MvF+Y+PG4w3/z4OEuAJElSmbEIaK99644n+XnNC4XxMYcO5PunjqeywhIgSZJUbiwC2itX37uK6+57tjCeOGx/rp1yJF2r3IUkSZLKkZ/itEcL//Y837kjFsZjBvdlzvRJ9OxalWAqSZIk7QuLgN7Ubcte5Ku3PV4YDz+gJzfMqKZfjy4JppIkSdK+sgioVfc8uZ4Lfvko2WxufGDf7iycNZmBfbolG0ySJEn7zCKgFtWs3szZCx+mvjHXAvr36srCWdUctH/PhJNJkiSpPVgE9L88/uJWZl6/mLr6RgB6d6ti/hnVHDKoT8LJJEmS1F4sAvoHz2x4jWlza9heVw9At6oKZk+byLiD+iWcTJIkSe3JIqCCF7e8ztTZi9i0YxcAVRUZrj7tSI4aeUDCySRJktTeLAICYONrdUydvYiXtu4EIJOBKz9xBO8d87aEk0mSJKkjWATE1td3c/qcGp7duKMwd/lJh3HS+KEJppIkSVJHsgik3Ou7Gpg1fzFPvLytMHfRCYGpRw1LMJUkSZI6mkUgxXbVN3LWwqUsfu7VwtxnjxnJOceNSjCVJEmSisEikFINjVnO++Uy7ntqQ2Hu1Ilv58sfGk0mk0kwmSRJkorBIpBC2WyWr9z6OLc/9nJh7sRxB3LFv4yzBEiSJKWERSCFvn1H5Oc1awrjf37HAL5/6ngqKywBkiRJaWERSJlr7n2Ga+97pjCeMGx/rps6gW5VlQmmkiRJUrFZBFLkZ4ue59t3PFkYjz6wD3OnTaJn16oEU0mSJCkJFoGU+O2jL/GVWx8vjIcf0JMFMyfTr2eXBFNJkiQpKRaBFPjzk69w/k3LyGZz4wP7dmfhrMkM7NMt2WCSJElKjEWgk6tZvZmzFi6lvjHXAvr36srCWdUctH/PhJNJkiQpSRaBTuzxF7cy8/rF1NU3AtC7WxXzz6jmkEF9Ek4mSZKkpFkEOqlnNrzGtLk1bK+rB6BbVQWzp01k3EH9Ek4mSZKkUmAR6IRe3PI6U2cvYtOOXQBUVmS4+rQjOWrkAQknkyRJUqmwCHQyG1+rY+rsRby0dScAmQxcecoRvHfM2xJOJkmSpFJiEehEtu3czbS5NTy7cUdh7vKPjeXkdw1NMJUkSZkENkAAABi8SURBVJJKkUWgk3h9VwMzr1/Mipe2FeYu/MChTD16eHKhJEmSVLIsAp3ArvpGzv7ZUhY/92ph7jP/PIJzjz8kwVSSJEkqZRaBMtfQmOX8Xy7j3rihMHfqxLdz8YljyGQyCSaTJElSKbMIlLFsNstXbn2c3z/2cmHuxHEHcsW/jLMESJIk6U1ZBMrYt++I/LxmTWH8z+8YwPdPHU9lhSVAkiRJb84iUKauufcZrr3vmcJ4wrD9uW7qBLpVVSaYSpIkSeXCIlCGbly0hm/f8WRhPPrAPsydNomeXasSTCVJkqRyYhEoM7979CUuuXV5YTz8gJ4smDmZfj27JJhKkiRJ5cYiUEb+HF/hvJuWkc3mxgf27c6CmZMZ2KdbssEkSZJUdiwCZaJm9WbOXriU+sZcC9i/ZxcWzqrm7f17JpxMkiRJ5cgiUAYef3ErM69fzM7djQD07lbF/BnVHDKoT8LJJEmSVK4sAiXumQ2vMW1uDdvr6gHoWlXBT0+fyOEH7ZdwMkmSJJUzi0AJe3HL60ydvYhNO3YBUFmR4epPH8nRow5IOJkkSZLKnUWgRG18rY6psxfx0tadAGQycOUpR/C+d74t4WSSJEnqDCwCJWjbzt1Mm1vDsxt3FOYu/9hYTn7X0ARTSZIkqTOxCJSY13c1MOv6Jax4aVth7sIPHMrUo4cnF0qSJEmdjkWghOyqb+Scny2l5rnNhbnP/PMIzj3+kARTSZIkqTOyCJSIhsYsF9z8KH+OGwpzp058OxefOIZMJpNgMkmSJHVGFoESkM1m+eptj/O7R18qzH3osAO54l/GWQIkSZLUISwCJeA7d0ZuXLSmMP7ndwzgB58cT2WFJUCSJEkdwyKQsGvve4Zr7n2mMD7y4P24buoEulVVJphKkiRJnZ1FIEE3LlrDt/7wZGE8+sA+zJteTc+uVQmmkiRJUhpYBBLyu0df4pJblxfGww/oyQ0zq+nXs0uCqSRJkpQWFoEE3Btf4byblpHN5sYH9u3OgpmTGdSne7LBJEmSlBoWgSJb/Nxmzlq4lPrGXAvYv2cXFs6q5u39eyacTJIkSWlSNiejhxCqgPOAqcA7gHrgYeDKGONvk8y2t1a8tJUZ1y9m5+5GAHp3q2L+jGoOGdQn4WSSJElKm3I6IvAL4DvA08BZwIVAT+C2EMJZSQbbGy9u283pc2rYvrMegK5VFfz09IkcftB+CSeTJElSGpXFEYEQwsnAvwI3xhhPazZ/A/AYcGUI4dcxNnssbwnZsKOeS/64jk21DQBUVmS4+tNHcvSoAxJOJkmSpLQqlyMCM/LLq5pPxhhfB64jd2TgU8UOtTc2vlbHV/60jg35EgDwvVMO533vfFuCqSRJkpR2ZXFEADga2Ak80sK6B/PLdwM/erMXWblyJZlMcZ/W+59/Xs/abfWF8dnV/Tm061ZWrNha1BwqL3V1dQCsWLEi4SQqB+4vaiv3GbWV+0zpyTbdfnIflPwRgRBCH2AAsDbG2NjCJmvyy1HFS7X3Xtz+9xIw9Yj9+Ejom2AaSZIkKaccjgg03VJnRyvrm+b3+Al7zJgxVFZWtkuovXVlz8FcefsyJg7twYUnH1X0IxIqT03fuIwdOzbhJCoH7i9qK/cZtZX7TOlpaGhg2bJl+/Qa5VAE9nTco6Q/WVeP6M/Xjs9dD2AJkCRJUqko+VODgG35Ze9W1jcdMfCke0mSJGkvlXwRiDHuANYBB4UQWjqvZ0TTpsVLJUmSJJW3ki8CeQ8A3YDJLaw7Nr/8S/HiSJIkSeWtXIrAdfnlRc0nQwj9gM8Cm4Gbih1KkiRJKlflcLEwMcY/hRDmADNDCLcBtwC9gHOAA4FPxhi3vdlrSJIkSfq7sigCeZ8l90CxzwDXAnXAIuDcGON9SQaTJEmSyk3ZFIH8w8R+nP8lSZIkaR+UyzUCkiRJktqRRUCSJElKIYuAJEmSlEIWAUmSJCmFLAKSJElSClkEJEmSpBSyCEiSJEkpZBGQJEmSUsgiIEmSJKWQRUCSJElKIYuAJEmSlEIWAUmSJCmFLAKSJElSClkEJEmSpBSyCEiSJEkpZBGQJEmSUsgiIEmSJKWQRUCSJElKIYuAJEmSlEIWAUmSJCmFLAKSJElSClkEJEmSpBSyCEiSJEkpZBGQJEmSUsgiIEmSJKWQRUCSJElKIYuAJEmSlEIWAUmSJCmFLAKSJElSClkEJEmSpBSyCEiSJEkpZBGQJEmSUsgiIEmSJKWQRUCSJElKIYuAJEmSlEIWAUmSJCmFLAKSJElSClkEJEmSpBSyCEiSJEkpZBGQJEmSUsgiIEmSJKWQRUCSJElKIYuAJEmSlEIWAUmSJCmFLAKSJElSClkEJEmSpBSyCEiSJEkpZBGQJEmSUsgiIEmSJKWQRUCSJElKIYuAJEmSlEIWAUmSJCmFLAKSJElSClkEJEmSpBSyCEiSJEkpZBGQJEmSUsgiIEmSJKWQRUCSJElKIYuAJEmSlEIWAUmSJCmFqpJ88xDCZOAG4FDgjBjj9a1s1xv4EnAKMByoBf4GXBFjvL8oYSVJkqROJJEjAiGELiGEbwAPAkP2tC1wF3Ax8AAwE/g6MBK4J4TwkQ6OK0mSJHU6SR0RmA18kty3/H2Ar73JtucCR5P79v+SpskQwi+AJ4GfhBCGxRh3d2BeSZIkqVNJ6hqBDcBRMcbvAdk9bDsjv80Pmk/GGF8BbgQGAx/qiJCSJElSZ5VIEYgxXhhjfGRP2+WvDTgMeDrGuKGFTR7ML9/dnvkkSZKkzi7Ri4X3wgggA6xpZX3T/Ki9ebGVK1eSyWTaI1eb1NXVAbBixYqiv7fKk/uM2sL9RW3lPqO2cp8pPdnsnk6q2bN9LgIhhEv3ctMfxRg3t/Hl++SXO1pZ3zTft42vK0mSJKVaexwR+PpebrcQaGsR2FPVadPX+2PGjKGysrKNEfZdU3seO3Zs0d9b5cl9Rm3h/qK2cp9RW7nPlJ6GhgaWLVu2T6+xz0UgxtiR59psyy97t7K+6YjB1g7MIEmSJHU6pf5k4dVAIzCslfUj8stYnDiSJElS51DSRSDGWAs8DBwSQmjpwWPH5pd/KV4qSZIkqfyVdBHIuy6/vKj5ZAhhGHAq8DRwd7FDSZIkSeWs6LcPDSH0BE5sNvXO/HJiCOG1/O93xBj/kP/9XOAU4D9CCPsDfwIGAueRu1j4jBhjY8cnlyRJkjqPJJ4jMAi4uYX5c/O/AJ4HhgPEGBtDCB8jd0TgNOBTwHZypwNdFmN8tKMDS5IkSZ1N0YtAjPE52njbzxhjHfCN/C9JkiRJ+6gcrhGQJEmS1M4sApIkSVIKWQQkSZKkFLIISJIkSSlkEZAkSZJSyCIgSZIkpZBFQJIkSUohi4AkSZKUQhYBSZIkKYUsApIkSVIKWQQkSZKkFLIISJIkSSlkEZAkSZJSyCIgSZIkpZBFQJIkSUohi4AkSZKUQhYBSZIkKYUsApIkSVIKWQQkSZKkFLIISJIkSSlkEZAkSZJSyCIgSZIkpZBFQJIkSUohi4AkSZKUQhYBSZIkKYUsApIkSVIKWQQkSZKkFLIISJIkSSlkEZAkSZJSyCIgSZIkpZBFQJIkSUohi4AkSZKUQhYBSZIkKYUsApIkSVIKWQQkSZKkFLIISJIkSSlkEZAkSZJSyCIgSZIkpZBFQJIkSUohi4AkSZKUQhYBSZIkKYUsApIkSVIKWQQkSZKkFLIISJIkSSlkEZAkSZJSyCIgSZIkpZBFQJIkSUohi4AkSZKUQhYBSZIkKYUsApIkSVIKWQQkSZKkFLIISJIkSSlkEZAkSZJSyCIgSZIkpZBFQJIkSUohi4AkSZKUQhYBSZIkKYUsApIkSVIKWQQkSZKkFLIISJIkSSlkEZAkSZJSqCqJNw0hVALTgXOB0eQKyWrgV8C3Y4yvvWH7gcBXgY8CQ4GtwH3AZTHG5cVLLkmSJHUORT8ikC8BfwBmA5uA84HPA88BXwH+lN+mafv9gIeAM4FbyRWI7wDvBh4KIUwsYnxJkiSpU0jiiMApwPuBW2KM/9ps/ichhDuBDwAnA7/Oz18KHAJ8Nsb406aNQwi/Bx4DrgEmFSG3JEmS1GkkcY1AFrgJ+G4L627PL8cDhBCqgNOBLcC85hvGGFcCdwITQwiHd1haSZIkqRMq+hGBGONN5IpAS/rll1vzywDsD9wVY6xvYfsHgQ+TO03osT2998qVK8lkMm0L3A7q6uoAWLFiRdHfW+XJfUZt4f6itnKfUVu5z5SebDa7z69RMncNCiH0AmYAdcDN+emR+eWaVn6saX5UB0aTJEmSOp19PiIQQrh0Lzf9UYxxcyuv0R34BTAc+FKM8fn8qj755Y5WXrNpvu/eBBgzZgyVlZV73rCdNbXnsWPHFv29VZ7cZ9QW7i9qK/cZtZX7TOlpaGhg2bJl+/Qa7XFq0Nf3cruFwP8qAiGEt5G7G9BRwJUxxm83W72nYx7FP89HkiRJ6gT2uQjEGN/yh/EQwnjgNnLPBjg/xvj9N2yyLb/s3cpLNB0x2NrKekmSJEktSOSBYgAhhGPJ3SVoN3BijPGuFjZblV8Oa+VlRuSXsZ3jSZIkSZ1aIhcLhxAmA78nd6rQu1spAQBPA+uBySGEbi2sPza/vL/9U0qSJEmdVxJPFu5P7mFhO4Hj888DaFGMsZHcE4j7AGe94XUmAccBd8cYn+qwwJIkSVInlMSpQV8md03AjcC7QgjvamGbDTHG+/K//y/go8D3QggjgBpydxe6ANgEnN3hiSVJkqROJokiMCm//HT+V0vuI/dtPzHGHSGEY4CvAP8KnEOuAPweuDTGuLpD00qSJEmdUBJPFj7uLfzMVuCi/C9JkiRJ+6hkniwsSZIkqXgsApIkSVIKWQQkSZKkFLIISJIkSSlkEZAkSZJSyCIgSZIkpZBFQJIkSUohi4AkSZKUQhYBSZIkKYUsApIkSVIKWQQkSZKkFLIISJIkSSlkEZAkSZJSyCIgSZIkpZBFQJIkSUohi4AkSZKUQhYBSZIkKYUsApIkSVIKWQQkSZKkFLIISJIkSSlkEZAkSZJSyCIgSZIkpZBFQJIkSUohi4AkSZKUQhYBSZIkKYUsApIkSVIKWQQkSZKkFLIISJIkSSlkEZAkSZJSyCIgSZIkpZBFQJIkSUohi4AkSZKUQhYBSZIkKYUsApIkSVIKWQQkSZKkFLIISJIkSSlkEZAkSZJSyCIgSZIkpZBFQJIkSUohi4AkSZKUQhYBSZIkKYUsApIkSVIKWQQkSZKkFLIISJIkSSlkEZAkSZJSyCIgSZIkpZBFQJIkSUohi4AkSZKUQhYBSZIkKYUsApIkSVIKWQQkSZKkFLIISJIkSSlkEZAkSZJSyCIgSZIkpZBFQJIkSUohi4AkSZKUQhYBSZIkKYUsApIkSVIKWQQkSZKkFLIISJIkSSlUlcSbhhD6AGcBnwJGAt2A1cBvgW/FGLe8YfvewJeAU4DhQC3wN+CKGOP9xUsuSZIkdQ5FPyIQQugL3A18C1gBnA+cBzwHfBH4awihZ7PtuwB3ARcDDwAzga+TKxD3hBA+Usz8kiRJUmeQxBGBLwCTgK/FGP+z2fy1IYTfAx8GPg3Mzs+fCxxN7tv/S5o2DiH8AngS+EkIYViMcXdR0kuSJEmdQBLXCCwh943+tS2s+0N+OazZ3AwgC/yg+YYxxleAG4HBwIfaP6YkSZLUeRX9iECM8Vbg1lZWj84vH4XCtQGHAU/HGDe0sP2D5I4YvJvc9QVvqqGhoc1520M2m030/VV+3GfUFu4vaiv3GbWV+0zpaY//F4lcLNwkhNAD6AkMBaYCnwNuAn6d32QEkAHWtPISTfOj3uRtCtcbLF++fF/i7rNly5Yl+v4qP+4zagv3F7WV+4zayn2mZPUEdrT1h/a5CIQQLt3LTX8UY9z8hrn/Av49//sNwOdijD9utr5Pftnaf1jTfN+9zCBJkiSJ9jki8PW93G4h8MYi8N/kTuk5EPgI8N8hhBOAKTHGbeSuDXgzmb14343AoPzva/cyqyRJklTqms582fhWfnifi0CMcW8+jLf2s6uAVfnhjSGEpcD3gMuB/wC25df1buUlmo4YbG3tPSZMmJAld7RBkiRJ6kzafDpQc6X2ZOGmOwmdmF+uBhr5x7sINTciv4wdGUqSJEnqbJJ4oNiDIYRNIYReLazeP7+sAIgx1gIPA4eEEIa0sP2x+eVf2j+pJEmS1HklcUTgaaA/f79IuLkZ+WXzD/bX5ZcXNd8whDAMODX/ene3c0ZJkiSpU8s03Re2WEIIbwceAg4id6vQPwMNwHvJfbDfAEyOMT6X376C3IPGPgDMB/4EDATOAwYA748xPljU/whJkiSpzBW9CACEEAYAXwA+Cgwnd2TiBeAO4IoY40tv2L4buSMCpwEjge3kjhpcFmN8tHjJJUmSpM4hkSIgSZIkKVmJPlm4swshVJE7hWkq8A6gntzFz1fGGH+bZDaVnhBCP3JHyk4FDgbqgMeB2cDcGKOtXW8qhPB+4C7Yt1s7q3MLIRwNXAK8G+hG7g59NwDfizE2JplNpSd/TeYl5E7RHgLsBB4D5uG/TWWv1G4f2tn8AvgOuQuazwIuJPfgh9tCCGclGUylJYQwlNxfrF8A7gM+C3wV2I9cEfhuculUDkIIfcjtK1KrQggfB+4HDgEuBT4HvAx8m9wHO6kghPAOcl9gTgFuBT5D7t+mruT+vrk6uXRqD54a1EFCCCcDvwFujDGe1my+B7kPfEOA4TFGH3YmQgjXAmcC/x5j/FGz+f3IPSfjAGBIjPGVhCKqxOX3oSnkrrca7REBvVEIoT+5h3huBCbEGLfn5yuAe8jd0e8DMcZ1yaVUKQkhXA9MA86MMf6k2XxX4Elyz3MaGWNcnUxC7SuPCHScpluhXtV8Msb4OrlbovYEPlXsUCpZLwO/BuY0n4wxbgEeBCqBcQnkUhkIIbyH3FGkbwLrE46j0nU6uef1fKOpBADEGBtjjMfFGA+3BOgNRuWX9zefjDHuAhbnhyOLmkjtyiLQcY4mdx7dIy2sa7rd6buLF0elLMZ4WYzx32KMLT0qvF9+ubWYmVQeQgi9yRXIR/AUMr25E/LL/2mayB+lllqzPL8MLawbQe72708WL47amxcLd4D8uboDgFWtXHi1Jr8c1cI6qSCEMI7cE7RXkDtPU3qjbwNDgZNjjPUhtPTvtQTAWGAL0CuEcA3wYaBHCGETcCNwcYzxtSQDquR8CzgJ+GEIoR6oAfoAZwCTgO/GGF9MMJ/2kUcEOkaf/LKlb3ebz/ctQhaVqfzD924l943L2d7NQ28UQjgOOBv4ls9U0V44AMiSe5DnJuCT5O5qtwz4v8CdIYTK5OKp1MQY1wCTyd1Z6nfkTj1cBVwAXBBj/EKC8dQOPCLQMfZ0BbYX8elNhRAmkysB/YFPxxjv38OPKGVCCD3JnRK0AvhGwnFUHrqRuz7tBzHGy5smQwg/Ax4gd7rqvwK/TCaeSk0IYQTwW+AgcncLWkbujkEnA1eGEIbFGP89wYjaRxaBjrEtv+zdyvqmIwae863/JYRwGrnbstUCJ8QY7002kUrUt4BhwNH5C/ekPdlO7pbE/3Cb0BhjNoQwh1wROB6LgP5uHvBOoDrGuLTZ/C0hhF3A50MIf44x3ppMPO0rTw3qAPkLPtcBB7VymHVE06bFS6VyEEK4EFhI7tDrJEuAWhJC+D/k7v/+U+DlEMJBTb/IfetLs7HU5Nn8sksL617OL/u1sE4pFELoBRwDPPOGEtDktvzy/cVLpfZmEeg4D5D7B3lyC+uOzS//Urw4KnUhhHPJ3fXlHuCfYozP7uFHlF7vI3eK4VnknhvQ/NdR+W2axlKTplMMj2xh3bD8cm2Rsqj09SD390z3Vtb3fMNSZcgi0HGuyy8vaj4ZQuhH7n7fm4Gbih1KpSmE8G7gh8BDwEdijNv28CNKtxuBj7by6/H8Nk1jqckcoBG4OH+NCQAhhG7AufnhbS39oNInxrgReBp4e/7GBG/U9Cwkv9QsYz5ZuAOFEGYDM8ldaHML0As4BxgNfDLG+KsE46mEhBAWAxOBS4CnWtnsiRjjE8VLpXIUQrgXONYnC6slIYRLga+Tux3xNeS+zZ0OvAv4aYzxs4mFU8kJIXyQ3GeYeuC/yT2vpCdwKrlTgv4KHOd1SuXLItCB8o9tPxv4DLmHcdQBi4ArYoz3JZlNpSWEsDd/EC+LMV7a0VlU3iwC2pMQwqnA54HDyT21/AlyR7Fnxxj9UKB/EEI4AvgCudOaBwG7yH1h9Utyd6DamWA87SOLgCRJkpRCXiMgSZIkpZBFQJIkSUohi4AkSZKUQhYBSZKk/99+HQgAAAAACPK3HuSyCIZEAAAAhkQAAACGRAAAAIZEAAAAhkQAAACGRAAAAIZEAAAAhkQAAACGRAAAAIZEAAAAhkQAAACGRAAAAIZEAAAAhgLwhQ9P/PVvvAAAAABJRU5ErkJggg==\n",
                "text/plain": "<Figure size 900x600 with 1 Axes>"
              }
            ],
            "_view_module": "@jupyter-widgets/output",
            "_model_module_version": "1.0.0",
            "_view_count": null,
            "_view_module_version": "1.0.0",
            "layout": "IPY_MODEL_52ba3db76aeb4f67ab13392f30a7f730",
            "_model_module": "@jupyter-widgets/output"
          }
        },
        "3260424f5d4c41c7ab9abf5e51d25b51": {
          "model_module": "@jupyter-widgets/controls",
          "model_name": "SliderStyleModel",
          "state": {
            "_view_name": "StyleView",
            "handle_color": null,
            "_model_name": "SliderStyleModel",
            "description_width": "",
            "_view_module": "@jupyter-widgets/base",
            "_model_module_version": "1.5.0",
            "_view_count": null,
            "_view_module_version": "1.2.0",
            "_model_module": "@jupyter-widgets/controls"
          }
        },
        "eaa57331fa7d4abea4e4ce4cee890ee2": {
          "model_module": "@jupyter-widgets/base",
          "model_name": "LayoutModel",
          "state": {
            "_view_name": "LayoutView",
            "grid_template_rows": null,
            "right": null,
            "justify_content": null,
            "_view_module": "@jupyter-widgets/base",
            "overflow": null,
            "_model_module_version": "1.2.0",
            "_view_count": null,
            "flex_flow": null,
            "width": null,
            "min_width": null,
            "border": null,
            "align_items": null,
            "bottom": null,
            "_model_module": "@jupyter-widgets/base",
            "top": null,
            "grid_column": null,
            "overflow_y": null,
            "overflow_x": null,
            "grid_auto_flow": null,
            "grid_area": null,
            "grid_template_columns": null,
            "flex": null,
            "_model_name": "LayoutModel",
            "justify_items": null,
            "grid_row": null,
            "max_height": null,
            "align_content": null,
            "visibility": null,
            "align_self": null,
            "height": null,
            "min_height": null,
            "padding": null,
            "grid_auto_rows": null,
            "grid_gap": null,
            "max_width": null,
            "order": null,
            "_view_module_version": "1.2.0",
            "grid_template_areas": null,
            "object_position": null,
            "object_fit": null,
            "grid_auto_columns": null,
            "margin": null,
            "display": null,
            "left": null
          }
        },
        "52ba3db76aeb4f67ab13392f30a7f730": {
          "model_module": "@jupyter-widgets/base",
          "model_name": "LayoutModel",
          "state": {
            "_view_name": "LayoutView",
            "grid_template_rows": null,
            "right": null,
            "justify_content": null,
            "_view_module": "@jupyter-widgets/base",
            "overflow": null,
            "_model_module_version": "1.2.0",
            "_view_count": null,
            "flex_flow": null,
            "width": null,
            "min_width": null,
            "border": null,
            "align_items": null,
            "bottom": null,
            "_model_module": "@jupyter-widgets/base",
            "top": null,
            "grid_column": null,
            "overflow_y": null,
            "overflow_x": null,
            "grid_auto_flow": null,
            "grid_area": null,
            "grid_template_columns": null,
            "flex": null,
            "_model_name": "LayoutModel",
            "justify_items": null,
            "grid_row": null,
            "max_height": null,
            "align_content": null,
            "visibility": null,
            "align_self": null,
            "height": null,
            "min_height": null,
            "padding": null,
            "grid_auto_rows": null,
            "grid_gap": null,
            "max_width": null,
            "order": null,
            "_view_module_version": "1.2.0",
            "grid_template_areas": null,
            "object_position": null,
            "object_fit": null,
            "grid_auto_columns": null,
            "margin": null,
            "display": null,
            "left": null
          }
        },
        "7e1decb222e14c20a58ba29926787943": {
          "model_module": "@jupyter-widgets/controls",
          "model_name": "VBoxModel",
          "state": {
            "_view_name": "VBoxView",
            "_dom_classes": [
              "widget-interact"
            ],
            "_model_name": "VBoxModel",
            "_view_module": "@jupyter-widgets/controls",
            "_model_module_version": "1.5.0",
            "_view_count": null,
            "_view_module_version": "1.5.0",
            "box_style": "",
            "layout": "IPY_MODEL_b1109264cc7547c88596337f05f710e6",
            "_model_module": "@jupyter-widgets/controls",
            "children": [
              "IPY_MODEL_6c299b3bdad943f79b89b87b9b909182",
              "IPY_MODEL_100dccc8e0d84314b90bbb5136e0737d"
            ]
          }
        },
        "b1109264cc7547c88596337f05f710e6": {
          "model_module": "@jupyter-widgets/base",
          "model_name": "LayoutModel",
          "state": {
            "_view_name": "LayoutView",
            "grid_template_rows": null,
            "right": null,
            "justify_content": null,
            "_view_module": "@jupyter-widgets/base",
            "overflow": null,
            "_model_module_version": "1.2.0",
            "_view_count": null,
            "flex_flow": null,
            "width": null,
            "min_width": null,
            "border": null,
            "align_items": null,
            "bottom": null,
            "_model_module": "@jupyter-widgets/base",
            "top": null,
            "grid_column": null,
            "overflow_y": null,
            "overflow_x": null,
            "grid_auto_flow": null,
            "grid_area": null,
            "grid_template_columns": null,
            "flex": null,
            "_model_name": "LayoutModel",
            "justify_items": null,
            "grid_row": null,
            "max_height": null,
            "align_content": null,
            "visibility": null,
            "align_self": null,
            "height": null,
            "min_height": null,
            "padding": null,
            "grid_auto_rows": null,
            "grid_gap": null,
            "max_width": null,
            "order": null,
            "_view_module_version": "1.2.0",
            "grid_template_areas": null,
            "object_position": null,
            "object_fit": null,
            "grid_auto_columns": null,
            "margin": null,
            "display": null,
            "left": null
          }
        },
        "6c299b3bdad943f79b89b87b9b909182": {
          "model_module": "@jupyter-widgets/controls",
          "model_name": "DropdownModel",
          "state": {
            "_options_labels": [
              "Men",
              "Women",
              "Both"
            ],
            "_view_name": "DropdownView",
            "style": "IPY_MODEL_089ab359978249619c9d7964fa7c7c38",
            "_dom_classes": [],
            "description": "g",
            "_model_name": "DropdownModel",
            "index": 0,
            "_view_module": "@jupyter-widgets/controls",
            "_model_module_version": "1.5.0",
            "_view_count": null,
            "disabled": false,
            "_view_module_version": "1.5.0",
            "description_tooltip": null,
            "_model_module": "@jupyter-widgets/controls",
            "layout": "IPY_MODEL_ad9a5206418d4aab829769160334f9a5"
          }
        },
        "100dccc8e0d84314b90bbb5136e0737d": {
          "model_module": "@jupyter-widgets/output",
          "model_name": "OutputModel",
          "state": {
            "_view_name": "OutputView",
            "msg_id": "",
            "_dom_classes": [],
            "_model_name": "OutputModel",
            "outputs": [
              {
                "output_type": "display_data",
                "metadata": {
                  "tags": [],
                  "needs_background": "light"
                },
                "image/png": "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\n",
                "text/plain": "<Figure size 900x600 with 1 Axes>"
              }
            ],
            "_view_module": "@jupyter-widgets/output",
            "_model_module_version": "1.0.0",
            "_view_count": null,
            "_view_module_version": "1.0.0",
            "layout": "IPY_MODEL_e6ca3190688d428f8bbd73f04dde901c",
            "_model_module": "@jupyter-widgets/output"
          }
        },
        "089ab359978249619c9d7964fa7c7c38": {
          "model_module": "@jupyter-widgets/controls",
          "model_name": "DescriptionStyleModel",
          "state": {
            "_view_name": "StyleView",
            "_model_name": "DescriptionStyleModel",
            "description_width": "",
            "_view_module": "@jupyter-widgets/base",
            "_model_module_version": "1.5.0",
            "_view_count": null,
            "_view_module_version": "1.2.0",
            "_model_module": "@jupyter-widgets/controls"
          }
        },
        "ad9a5206418d4aab829769160334f9a5": {
          "model_module": "@jupyter-widgets/base",
          "model_name": "LayoutModel",
          "state": {
            "_view_name": "LayoutView",
            "grid_template_rows": null,
            "right": null,
            "justify_content": null,
            "_view_module": "@jupyter-widgets/base",
            "overflow": null,
            "_model_module_version": "1.2.0",
            "_view_count": null,
            "flex_flow": null,
            "width": null,
            "min_width": null,
            "border": null,
            "align_items": null,
            "bottom": null,
            "_model_module": "@jupyter-widgets/base",
            "top": null,
            "grid_column": null,
            "overflow_y": null,
            "overflow_x": null,
            "grid_auto_flow": null,
            "grid_area": null,
            "grid_template_columns": null,
            "flex": null,
            "_model_name": "LayoutModel",
            "justify_items": null,
            "grid_row": null,
            "max_height": null,
            "align_content": null,
            "visibility": null,
            "align_self": null,
            "height": null,
            "min_height": null,
            "padding": null,
            "grid_auto_rows": null,
            "grid_gap": null,
            "max_width": null,
            "order": null,
            "_view_module_version": "1.2.0",
            "grid_template_areas": null,
            "object_position": null,
            "object_fit": null,
            "grid_auto_columns": null,
            "margin": null,
            "display": null,
            "left": null
          }
        },
        "e6ca3190688d428f8bbd73f04dde901c": {
          "model_module": "@jupyter-widgets/base",
          "model_name": "LayoutModel",
          "state": {
            "_view_name": "LayoutView",
            "grid_template_rows": null,
            "right": null,
            "justify_content": null,
            "_view_module": "@jupyter-widgets/base",
            "overflow": null,
            "_model_module_version": "1.2.0",
            "_view_count": null,
            "flex_flow": null,
            "width": null,
            "min_width": null,
            "border": null,
            "align_items": null,
            "bottom": null,
            "_model_module": "@jupyter-widgets/base",
            "top": null,
            "grid_column": null,
            "overflow_y": null,
            "overflow_x": null,
            "grid_auto_flow": null,
            "grid_area": null,
            "grid_template_columns": null,
            "flex": null,
            "_model_name": "LayoutModel",
            "justify_items": null,
            "grid_row": null,
            "max_height": null,
            "align_content": null,
            "visibility": null,
            "align_self": null,
            "height": null,
            "min_height": null,
            "padding": null,
            "grid_auto_rows": null,
            "grid_gap": null,
            "max_width": null,
            "order": null,
            "_view_module_version": "1.2.0",
            "grid_template_areas": null,
            "object_position": null,
            "object_fit": null,
            "grid_auto_columns": null,
            "margin": null,
            "display": null,
            "left": null
          }
        },
        "2c871c5d98544009b079b0fe534e4782": {
          "model_module": "@jupyter-widgets/controls",
          "model_name": "VBoxModel",
          "state": {
            "_view_name": "VBoxView",
            "_dom_classes": [
              "widget-interact"
            ],
            "_model_name": "VBoxModel",
            "_view_module": "@jupyter-widgets/controls",
            "_model_module_version": "1.5.0",
            "_view_count": null,
            "_view_module_version": "1.5.0",
            "box_style": "",
            "layout": "IPY_MODEL_fc3f319cdbaa44c693758175b09de58f",
            "_model_module": "@jupyter-widgets/controls",
            "children": [
              "IPY_MODEL_75166df50d134993a7a224de346270df",
              "IPY_MODEL_8a86c451865146b490b3a1aafc8df7b5"
            ]
          }
        },
        "fc3f319cdbaa44c693758175b09de58f": {
          "model_module": "@jupyter-widgets/base",
          "model_name": "LayoutModel",
          "state": {
            "_view_name": "LayoutView",
            "grid_template_rows": null,
            "right": null,
            "justify_content": null,
            "_view_module": "@jupyter-widgets/base",
            "overflow": null,
            "_model_module_version": "1.2.0",
            "_view_count": null,
            "flex_flow": null,
            "width": null,
            "min_width": null,
            "border": null,
            "align_items": null,
            "bottom": null,
            "_model_module": "@jupyter-widgets/base",
            "top": null,
            "grid_column": null,
            "overflow_y": null,
            "overflow_x": null,
            "grid_auto_flow": null,
            "grid_area": null,
            "grid_template_columns": null,
            "flex": null,
            "_model_name": "LayoutModel",
            "justify_items": null,
            "grid_row": null,
            "max_height": null,
            "align_content": null,
            "visibility": null,
            "align_self": null,
            "height": null,
            "min_height": null,
            "padding": null,
            "grid_auto_rows": null,
            "grid_gap": null,
            "max_width": null,
            "order": null,
            "_view_module_version": "1.2.0",
            "grid_template_areas": null,
            "object_position": null,
            "object_fit": null,
            "grid_auto_columns": null,
            "margin": null,
            "display": null,
            "left": null
          }
        },
        "75166df50d134993a7a224de346270df": {
          "model_module": "@jupyter-widgets/controls",
          "model_name": "DropdownModel",
          "state": {
            "_options_labels": [
              "Men",
              "Women",
              "Both"
            ],
            "_view_name": "DropdownView",
            "style": "IPY_MODEL_0ab7af47454348e28a8a861d2dfa2429",
            "_dom_classes": [],
            "description": "g",
            "_model_name": "DropdownModel",
            "index": 2,
            "_view_module": "@jupyter-widgets/controls",
            "_model_module_version": "1.5.0",
            "_view_count": null,
            "disabled": false,
            "_view_module_version": "1.5.0",
            "description_tooltip": null,
            "_model_module": "@jupyter-widgets/controls",
            "layout": "IPY_MODEL_b0e408d39fce462e8871b40127c68f2d"
          }
        },
        "8a86c451865146b490b3a1aafc8df7b5": {
          "model_module": "@jupyter-widgets/output",
          "model_name": "OutputModel",
          "state": {
            "_view_name": "OutputView",
            "msg_id": "",
            "_dom_classes": [],
            "_model_name": "OutputModel",
            "outputs": [
              {
                "output_type": "display_data",
                "metadata": {
                  "tags": [],
                  "needs_background": "light"
                },
                "image/png": "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\n",
                "text/plain": "<Figure size 900x600 with 1 Axes>"
              }
            ],
            "_view_module": "@jupyter-widgets/output",
            "_model_module_version": "1.0.0",
            "_view_count": null,
            "_view_module_version": "1.0.0",
            "layout": "IPY_MODEL_f5d3cc6113ee417cbaac7393e787c775",
            "_model_module": "@jupyter-widgets/output"
          }
        },
        "0ab7af47454348e28a8a861d2dfa2429": {
          "model_module": "@jupyter-widgets/controls",
          "model_name": "DescriptionStyleModel",
          "state": {
            "_view_name": "StyleView",
            "_model_name": "DescriptionStyleModel",
            "description_width": "",
            "_view_module": "@jupyter-widgets/base",
            "_model_module_version": "1.5.0",
            "_view_count": null,
            "_view_module_version": "1.2.0",
            "_model_module": "@jupyter-widgets/controls"
          }
        },
        "b0e408d39fce462e8871b40127c68f2d": {
          "model_module": "@jupyter-widgets/base",
          "model_name": "LayoutModel",
          "state": {
            "_view_name": "LayoutView",
            "grid_template_rows": null,
            "right": null,
            "justify_content": null,
            "_view_module": "@jupyter-widgets/base",
            "overflow": null,
            "_model_module_version": "1.2.0",
            "_view_count": null,
            "flex_flow": null,
            "width": null,
            "min_width": null,
            "border": null,
            "align_items": null,
            "bottom": null,
            "_model_module": "@jupyter-widgets/base",
            "top": null,
            "grid_column": null,
            "overflow_y": null,
            "overflow_x": null,
            "grid_auto_flow": null,
            "grid_area": null,
            "grid_template_columns": null,
            "flex": null,
            "_model_name": "LayoutModel",
            "justify_items": null,
            "grid_row": null,
            "max_height": null,
            "align_content": null,
            "visibility": null,
            "align_self": null,
            "height": null,
            "min_height": null,
            "padding": null,
            "grid_auto_rows": null,
            "grid_gap": null,
            "max_width": null,
            "order": null,
            "_view_module_version": "1.2.0",
            "grid_template_areas": null,
            "object_position": null,
            "object_fit": null,
            "grid_auto_columns": null,
            "margin": null,
            "display": null,
            "left": null
          }
        },
        "f5d3cc6113ee417cbaac7393e787c775": {
          "model_module": "@jupyter-widgets/base",
          "model_name": "LayoutModel",
          "state": {
            "_view_name": "LayoutView",
            "grid_template_rows": null,
            "right": null,
            "justify_content": null,
            "_view_module": "@jupyter-widgets/base",
            "overflow": null,
            "_model_module_version": "1.2.0",
            "_view_count": null,
            "flex_flow": null,
            "width": null,
            "min_width": null,
            "border": null,
            "align_items": null,
            "bottom": null,
            "_model_module": "@jupyter-widgets/base",
            "top": null,
            "grid_column": null,
            "overflow_y": null,
            "overflow_x": null,
            "grid_auto_flow": null,
            "grid_area": null,
            "grid_template_columns": null,
            "flex": null,
            "_model_name": "LayoutModel",
            "justify_items": null,
            "grid_row": null,
            "max_height": null,
            "align_content": null,
            "visibility": null,
            "align_self": null,
            "height": null,
            "min_height": null,
            "padding": null,
            "grid_auto_rows": null,
            "grid_gap": null,
            "max_width": null,
            "order": null,
            "_view_module_version": "1.2.0",
            "grid_template_areas": null,
            "object_position": null,
            "object_fit": null,
            "grid_auto_columns": null,
            "margin": null,
            "display": null,
            "left": null
          }
        }
      }
>>>>>>> e180eba515cd277023a17e9f763a5529bd8413fd
    }
  },
<<<<<<< HEAD
  {
   "cell_type": "code",
   "execution_count": 4,
   "metadata": {},
   "outputs": [
    {
     "data": {
      "application/vnd.jupyter.widget-view+json": {
       "model_id": "93317210d49b406db33c4edb67adb430",
       "version_major": 2,
       "version_minor": 0
=======
  "cells": [
    {
      "cell_type": "markdown",
      "metadata": {
        "id": "view-in-github",
        "colab_type": "text"
>>>>>>> e180eba515cd277023a17e9f763a5529bd8413fd
      },
      "source": [
        "<a href=\"https://colab.research.google.com/github/andrewcgaitskell/voila/blob/master/notebooks/InteractVeryBasic.ipynb\" target=\"_parent\"><img src=\"https://colab.research.google.com/assets/colab-badge.svg\" alt=\"Open In Colab\"/></a>"
      ]
    },
    {
<<<<<<< HEAD
     "data": {
      "text/plain": [
       "<function __main__.f(x)>"
      ]
     },
     "execution_count": 4,
     "metadata": {},
     "output_type": "execute_result"
    }
   ],
   "source": [
    "def f(x):\n",
    "    plt.plot(a,a*x)\n",
    "    plt.ylim(-30,30)\n",
    "interact(f, x = 10)"
   ]
  },
  {
   "cell_type": "code",
   "execution_count": 5,
   "metadata": {},
   "outputs": [
    {
     "data": {
      "image/png": "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\n",
      "text/plain": [
       "<Figure size 900x600 with 1 Axes>"
      ]
     },
     "metadata": {
      "needs_background": "light"
     },
     "output_type": "display_data"
    }
   ],
   "source": [
    "fig = plt.figure()\n",
    "ax = plt.axes()"
   ]
  },
  {
   "cell_type": "code",
   "execution_count": 6,
   "metadata": {},
   "outputs": [
=======
      "cell_type": "code",
      "metadata": {
        "id": "sUYhN6DxztbZ",
        "colab_type": "code",
        "colab": {}
      },
      "source": [
        "import numpy as np\n",
        "import matplotlib as mpl\n",
        "import matplotlib.pyplot as plt\n",
        "\n",
        "from ipywidgets import interact, interactive, fixed, interact_manual\n",
        "plt.style.use('seaborn-whitegrid')\n"
      ],
      "execution_count": 0,
      "outputs": []
    },
    {
      "cell_type": "code",
      "metadata": {
        "id": "LXlECP6uztbf",
        "colab_type": "code",
        "colab": {}
      },
      "source": [
        "%matplotlib inline\n",
        "plt.rcParams['figure.figsize'] = (6,4)\n",
        "plt.rcParams['figure.dpi'] = 150"
      ],
      "execution_count": 0,
      "outputs": []
    },
>>>>>>> e180eba515cd277023a17e9f763a5529bd8413fd
    {
      "cell_type": "code",
      "metadata": {
        "id": "89JFTRvtztbj",
        "colab_type": "code",
        "colab": {
          "base_uri": "https://localhost:8080/",
          "height": 34
        },
        "outputId": "59702784-9ed3-4aa9-c670-987d5f25b6a8"
      },
      "source": [
        "a = np.arange(0,10)\n",
        "a"
      ],
      "execution_count": 3,
      "outputs": [
        {
          "output_type": "execute_result",
          "data": {
            "text/plain": [
              "array([0, 1, 2, 3, 4, 5, 6, 7, 8, 9])"
            ]
          },
          "metadata": {
            "tags": []
          },
          "execution_count": 3
        }
      ]
<<<<<<< HEAD
     },
     "metadata": {
      "needs_background": "light"
     },
     "output_type": "display_data"
    }
   ],
   "source": [
    "fig = plt.figure()\n",
    "ax = plt.axes()\n",
    "\n",
    "x = np.linspace(0, 10, 1000)\n",
    "ax.plot(x, np.sin(x));"
   ]
  },
  {
   "cell_type": "code",
   "execution_count": 7,
   "metadata": {},
   "outputs": [],
   "source": [
    "from IPython.display import display\n",
    "def f(a, b):\n",
    "    display(a + b)\n",
    "    return a+b"
   ]
  },
  {
   "cell_type": "code",
   "execution_count": 8,
   "metadata": {},
   "outputs": [
    {
     "data": {
      "application/vnd.jupyter.widget-view+json": {
       "model_id": "e9b86241995447738841baa8636f930f",
       "version_major": 2,
       "version_minor": 0
=======
    },
    {
      "cell_type": "code",
      "metadata": {
        "id": "4jVA4uq1ztbn",
        "colab_type": "code",
        "colab": {
          "base_uri": "https://localhost:8080/",
          "height": 582,
          "referenced_widgets": [
            "227a3cd3ba73476495671e2ab987e305",
            "b242477761a64c608dca095f320eece3",
            "e54bb18cfe5244bda10c3f06a1b4864b",
            "b75eca69dab540a7991922505c1b19af",
            "3260424f5d4c41c7ab9abf5e51d25b51",
            "eaa57331fa7d4abea4e4ce4cee890ee2",
            "52ba3db76aeb4f67ab13392f30a7f730"
          ]
        },
        "outputId": "6aad8877-5ca5-40b0-d0ab-dc399854320c"
>>>>>>> e180eba515cd277023a17e9f763a5529bd8413fd
      },
      "source": [
        "def f(x):\n",
        "    plt.plot(a,a*x)\n",
        "    plt.ylim(-30,30)\n",
        "interact(f, x = 10)"
      ],
      "execution_count": 4,
      "outputs": [
        {
          "output_type": "display_data",
          "data": {
            "application/vnd.jupyter.widget-view+json": {
              "model_id": "227a3cd3ba73476495671e2ab987e305",
              "version_minor": 0,
              "version_major": 2
            },
            "text/plain": [
              "interactive(children=(IntSlider(value=10, description='x', max=30, min=-10), Output()), _dom_classes=('widget-…"
            ]
          },
          "metadata": {
            "tags": []
          }
        },
        {
          "output_type": "execute_result",
          "data": {
            "text/plain": [
              "<function __main__.f>"
            ]
          },
          "metadata": {
            "tags": []
          },
          "execution_count": 4
        }
      ]
    },
    {
      "cell_type": "code",
      "metadata": {
        "id": "rW6NkGUEztbp",
        "colab_type": "code",
        "colab": {
          "base_uri": "https://localhost:8080/",
          "height": 533
        },
        "outputId": "579e06df-876d-4db1-a8c6-679f1427a576"
      },
      "source": [
        "fig = plt.figure()\n",
        "ax = plt.axes()"
      ],
      "execution_count": 5,
      "outputs": [
        {
          "output_type": "display_data",
          "data": {
            "image/png": "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\n",
            "text/plain": [
              "<Figure size 900x600 with 1 Axes>"
            ]
          },
          "metadata": {
            "tags": [],
            "needs_background": "light"
          }
        }
      ]
<<<<<<< HEAD
     },
     "execution_count": 8,
     "metadata": {},
     "output_type": "execute_result"
    }
   ],
   "source": [
    "import numpy as np\n",
    "import matplotlib.pyplot as plt\n",
    "import pandas as pd\n",
    "\n",
    "N = 5\n",
    "menMeans = (20, 35, 30, 35, 27)\n",
    "womenMeans = (25, 32, 34, 20, 25)\n",
    "menStd = (2, 3, 4, 1, 2)\n",
    "womenStd = (3, 5, 2, 3, 3)\n",
    "ind = np.arange(N)    # the x locations for the groups\n",
    "width = 0.35       # the width of the bars: can also be len(x) sequence\n",
    "\n",
    "def stackbar(g):\n",
    "    p1 = plt.bar(ind, menMeans, width, yerr=menStd)\n",
    "    p2 = plt.bar(ind, womenMeans, width,\n",
    "                 bottom=menMeans, yerr=womenStd)\n",
    "\n",
    "    plt.ylabel('Scores')\n",
    "    plt.title('Scores by group and gender')\n",
    "    plt.xticks(ind, ('G1', 'G2', 'G3', 'G4', 'G5'))\n",
    "    plt.yticks(np.arange(0, 81, 10))\n",
    "    plt.legend((p1[0], p2[0]), ('Men', 'Women'))\n",
    "\n",
    "interact(stackbar,g=['Men','Women','Both'])"
   ]
  },
  {
   "cell_type": "code",
   "execution_count": 9,
   "metadata": {},
   "outputs": [
=======
    },
>>>>>>> e180eba515cd277023a17e9f763a5529bd8413fd
    {
      "cell_type": "code",
      "metadata": {
        "id": "lMLY3WHsztbt",
        "colab_type": "code",
        "colab": {
          "base_uri": "https://localhost:8080/",
          "height": 525
        },
        "outputId": "db10b601-f458-4400-a736-e3ae391f56a1"
      },
      "source": [
        "fig = plt.figure()\n",
        "ax = plt.axes()\n",
        "\n",
        "x = np.linspace(0, 10, 1000)\n",
        "ax.plot(x, np.sin(x));"
      ],
      "execution_count": 6,
      "outputs": [
        {
          "output_type": "display_data",
          "data": {
            "image/png": "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\n",
            "text/plain": [
              "<Figure size 900x600 with 1 Axes>"
            ]
          },
          "metadata": {
            "tags": [],
            "needs_background": "light"
          }
        }
      ]
<<<<<<< HEAD
     },
     "execution_count": 9,
     "metadata": {},
     "output_type": "execute_result"
    }
   ],
   "source": [
    "dataset = pd.DataFrame(columns=['menMeans','womenMeans','menStd','womenStd'], index=['G1','G2','G3','G4','G5'])\n",
    "dataset\n",
    "                       "
   ]
  },
  {
   "cell_type": "code",
   "execution_count": 10,
   "metadata": {},
   "outputs": [],
   "source": [
    "N = 5\n",
    "menMeans = (20, 35, 30, 35, 27)\n",
    "#dataset.menMeans.iloc[[0,1,2,3,4]] = menMeans\n",
    "dataset.loc[:, ('menMeans')] = menMeans"
   ]
  },
  {
   "cell_type": "code",
   "execution_count": 11,
   "metadata": {},
   "outputs": [],
   "source": [
    "womenMeans = (25, 32, 34, 20, 25)\n",
    "#dataset.womenMeans.iloc[[0,1,2,3,4]] = womenMeans\n",
    "dataset.loc[:, ('womenMeans')] = womenMeans"
   ]
  },
  {
   "cell_type": "code",
   "execution_count": 12,
   "metadata": {},
   "outputs": [],
   "source": [
    "menStd = (2, 3, 4, 1, 2)\n",
    "#dataset.menStd.iloc[[0,1,2,3,4]] = menStd\n",
    "dataset.loc[:, ('menStd')] = menStd"
   ]
  },
  {
   "cell_type": "code",
   "execution_count": 13,
   "metadata": {},
   "outputs": [],
   "source": [
    "womenStd = (3, 5, 2, 3, 3)\n",
    "#dataset.womenStd.iloc[[0,1,2,3,4]] = womenStd\n",
    "dataset.loc[:, ('womenStd')] = womenStd"
   ]
  },
  {
   "cell_type": "code",
   "execution_count": 14,
   "metadata": {},
   "outputs": [],
   "source": [
    "ind = np.arange(N)    # the x locations for the groups"
   ]
  },
  {
   "cell_type": "code",
   "execution_count": 15,
   "metadata": {},
   "outputs": [],
   "source": [
    "width = 0.35       # the width of the bars: can also be len(x) sequence"
   ]
  },
  {
   "cell_type": "code",
   "execution_count": 16,
   "metadata": {},
   "outputs": [
=======
    },
>>>>>>> e180eba515cd277023a17e9f763a5529bd8413fd
    {
      "cell_type": "code",
      "metadata": {
        "id": "qCAe_LpXztbv",
        "colab_type": "code",
        "colab": {}
      },
      "source": [
        "from IPython.display import display\n",
        "def f(a, b):\n",
        "    display(a + b)\n",
        "    return a+b"
      ],
      "execution_count": 0,
      "outputs": []
    },
    {
      "cell_type": "code",
      "metadata": {
        "id": "tz2ah1zaztbz",
        "colab_type": "code",
        "colab": {
          "base_uri": "https://localhost:8080/",
          "height": 606,
          "referenced_widgets": [
            "7e1decb222e14c20a58ba29926787943",
            "b1109264cc7547c88596337f05f710e6",
            "6c299b3bdad943f79b89b87b9b909182",
            "100dccc8e0d84314b90bbb5136e0737d",
            "089ab359978249619c9d7964fa7c7c38",
            "ad9a5206418d4aab829769160334f9a5",
            "e6ca3190688d428f8bbd73f04dde901c"
          ]
        },
        "outputId": "0da96b76-2e8a-47d8-8e16-9fbd2030a76f"
      },
      "source": [
        "import numpy as np\n",
        "import matplotlib.pyplot as plt\n",
        "import pandas as pd\n",
        "\n",
        "N = 5\n",
        "menMeans = (20, 35, 30, 35, 27)\n",
        "womenMeans = (25, 32, 34, 20, 25)\n",
        "menStd = (2, 3, 4, 1, 2)\n",
        "womenStd = (3, 5, 2, 3, 3)\n",
        "ind = np.arange(N)    # the x locations for the groups\n",
        "width = 0.35       # the width of the bars: can also be len(x) sequence\n",
        "\n",
        "def stackbar(g):\n",
        "    p1 = plt.bar(ind, menMeans, width, yerr=menStd)\n",
        "    p2 = plt.bar(ind, womenMeans, width,\n",
        "                 bottom=menMeans, yerr=womenStd)\n",
        "\n",
        "    plt.ylabel('Scores')\n",
        "    plt.title('Scores by group and gender')\n",
        "    plt.xticks(ind, ('G1', 'G2', 'G3', 'G4', 'G5'))\n",
        "    plt.yticks(np.arange(0, 81, 10))\n",
        "    plt.legend((p1[0], p2[0]), ('Men', 'Women'))\n",
        "\n",
        "interact(stackbar,g=['Men','Women','Both'])"
      ],
      "execution_count": 8,
      "outputs": [
        {
          "output_type": "display_data",
          "data": {
            "application/vnd.jupyter.widget-view+json": {
              "model_id": "7e1decb222e14c20a58ba29926787943",
              "version_minor": 0,
              "version_major": 2
            },
            "text/plain": [
              "interactive(children=(Dropdown(description='g', options=('Men', 'Women', 'Both'), value='Men'), Output()), _do…"
            ]
          },
          "metadata": {
            "tags": []
          }
        },
        {
          "output_type": "execute_result",
          "data": {
            "text/plain": [
              "<function __main__.stackbar>"
            ]
          },
          "metadata": {
            "tags": []
          },
          "execution_count": 8
        }
      ]
<<<<<<< HEAD
     },
     "execution_count": 16,
     "metadata": {},
     "output_type": "execute_result"
    }
   ],
   "source": [
    "dataset['Group'] = dataset.index\n",
    "dataset"
   ]
  },
  {
   "cell_type": "code",
   "execution_count": 17,
   "metadata": {},
   "outputs": [
    {
     "data": {
      "text/plain": [
       "<matplotlib.axes._subplots.AxesSubplot at 0x114f6afa0>"
      ]
     },
     "execution_count": 17,
     "metadata": {},
     "output_type": "execute_result"
=======
    },
    {
      "cell_type": "code",
      "metadata": {
        "id": "jGU4An5Sztb2",
        "colab_type": "code",
        "colab": {
          "base_uri": "https://localhost:8080/",
          "height": 197
        },
        "outputId": "d9b23d2e-dde3-498f-8e52-768773325544"
      },
      "source": [
        "dataset = pd.DataFrame(columns=['menMeans','womenMeans','menStd','womenStd'], index=['G1','G2','G3','G4','G5'])\n",
        "dataset\n",
        "                       "
      ],
      "execution_count": 9,
      "outputs": [
        {
          "output_type": "execute_result",
          "data": {
            "text/html": [
              "<div>\n",
              "<style scoped>\n",
              "    .dataframe tbody tr th:only-of-type {\n",
              "        vertical-align: middle;\n",
              "    }\n",
              "\n",
              "    .dataframe tbody tr th {\n",
              "        vertical-align: top;\n",
              "    }\n",
              "\n",
              "    .dataframe thead th {\n",
              "        text-align: right;\n",
              "    }\n",
              "</style>\n",
              "<table border=\"1\" class=\"dataframe\">\n",
              "  <thead>\n",
              "    <tr style=\"text-align: right;\">\n",
              "      <th></th>\n",
              "      <th>menMeans</th>\n",
              "      <th>womenMeans</th>\n",
              "      <th>menStd</th>\n",
              "      <th>womenStd</th>\n",
              "    </tr>\n",
              "  </thead>\n",
              "  <tbody>\n",
              "    <tr>\n",
              "      <th>G1</th>\n",
              "      <td>NaN</td>\n",
              "      <td>NaN</td>\n",
              "      <td>NaN</td>\n",
              "      <td>NaN</td>\n",
              "    </tr>\n",
              "    <tr>\n",
              "      <th>G2</th>\n",
              "      <td>NaN</td>\n",
              "      <td>NaN</td>\n",
              "      <td>NaN</td>\n",
              "      <td>NaN</td>\n",
              "    </tr>\n",
              "    <tr>\n",
              "      <th>G3</th>\n",
              "      <td>NaN</td>\n",
              "      <td>NaN</td>\n",
              "      <td>NaN</td>\n",
              "      <td>NaN</td>\n",
              "    </tr>\n",
              "    <tr>\n",
              "      <th>G4</th>\n",
              "      <td>NaN</td>\n",
              "      <td>NaN</td>\n",
              "      <td>NaN</td>\n",
              "      <td>NaN</td>\n",
              "    </tr>\n",
              "    <tr>\n",
              "      <th>G5</th>\n",
              "      <td>NaN</td>\n",
              "      <td>NaN</td>\n",
              "      <td>NaN</td>\n",
              "      <td>NaN</td>\n",
              "    </tr>\n",
              "  </tbody>\n",
              "</table>\n",
              "</div>"
            ],
            "text/plain": [
              "   menMeans womenMeans menStd womenStd\n",
              "G1      NaN        NaN    NaN      NaN\n",
              "G2      NaN        NaN    NaN      NaN\n",
              "G3      NaN        NaN    NaN      NaN\n",
              "G4      NaN        NaN    NaN      NaN\n",
              "G5      NaN        NaN    NaN      NaN"
            ]
          },
          "metadata": {
            "tags": []
          },
          "execution_count": 9
        }
      ]
>>>>>>> e180eba515cd277023a17e9f763a5529bd8413fd
    },
    {
      "cell_type": "code",
      "metadata": {
        "id": "DriuQQceztb6",
        "colab_type": "code",
        "colab": {}
      },
      "source": [
        "N = 5\n",
        "menMeans = (20, 35, 30, 35, 27)\n",
        "#dataset.menMeans.iloc[[0,1,2,3,4]] = menMeans\n",
        "dataset.loc[:, ('menMeans')] = menMeans"
      ],
      "execution_count": 0,
      "outputs": []
    },
    {
      "cell_type": "code",
      "metadata": {
        "id": "xTz7rOPoztb9",
        "colab_type": "code",
        "colab": {}
      },
      "source": [
        "womenMeans = (25, 32, 34, 20, 25)\n",
        "#dataset.womenMeans.iloc[[0,1,2,3,4]] = womenMeans\n",
        "dataset.loc[:, ('womenMeans')] = womenMeans"
      ],
      "execution_count": 0,
      "outputs": []
    },
    {
      "cell_type": "code",
      "metadata": {
        "id": "mserdieRztb_",
        "colab_type": "code",
        "colab": {}
      },
      "source": [
        "menStd = (2, 3, 4, 1, 2)\n",
        "#dataset.menStd.iloc[[0,1,2,3,4]] = menStd\n",
        "dataset.loc[:, ('menStd')] = menStd"
      ],
      "execution_count": 0,
      "outputs": []
    },
    {
      "cell_type": "code",
      "metadata": {
        "id": "qmVpDcajztcC",
        "colab_type": "code",
        "colab": {}
      },
      "source": [
        "womenStd = (3, 5, 2, 3, 3)\n",
        "#dataset.womenStd.iloc[[0,1,2,3,4]] = womenStd\n",
        "dataset.loc[:, ('womenStd')] = womenStd"
      ],
      "execution_count": 0,
      "outputs": []
    },
    {
      "cell_type": "code",
      "metadata": {
        "id": "smfavXfvztcE",
        "colab_type": "code",
        "colab": {}
      },
      "source": [
        "ind = np.arange(N)    # the x locations for the groups"
      ],
      "execution_count": 0,
      "outputs": []
    },
    {
      "cell_type": "code",
      "metadata": {
        "id": "_zjQZ5D-ztcH",
        "colab_type": "code",
        "colab": {}
      },
      "source": [
        "width = 0.35       # the width of the bars: can also be len(x) sequence"
      ],
      "execution_count": 0,
      "outputs": []
    },
    {
      "cell_type": "code",
      "metadata": {
        "id": "rpaDlcbnztcK",
        "colab_type": "code",
        "colab": {
          "base_uri": "https://localhost:8080/",
          "height": 197
        },
        "outputId": "d6b3d465-d2fc-4ff2-eac5-0117e537ac44"
      },
      "source": [
        "dataset['Group'] = dataset.index\n",
        "dataset"
      ],
      "execution_count": 16,
      "outputs": [
        {
          "output_type": "execute_result",
          "data": {
            "text/html": [
              "<div>\n",
              "<style scoped>\n",
              "    .dataframe tbody tr th:only-of-type {\n",
              "        vertical-align: middle;\n",
              "    }\n",
              "\n",
              "    .dataframe tbody tr th {\n",
              "        vertical-align: top;\n",
              "    }\n",
              "\n",
              "    .dataframe thead th {\n",
              "        text-align: right;\n",
              "    }\n",
              "</style>\n",
              "<table border=\"1\" class=\"dataframe\">\n",
              "  <thead>\n",
              "    <tr style=\"text-align: right;\">\n",
              "      <th></th>\n",
              "      <th>menMeans</th>\n",
              "      <th>womenMeans</th>\n",
              "      <th>menStd</th>\n",
              "      <th>womenStd</th>\n",
              "      <th>Group</th>\n",
              "    </tr>\n",
              "  </thead>\n",
              "  <tbody>\n",
              "    <tr>\n",
              "      <th>G1</th>\n",
              "      <td>20</td>\n",
              "      <td>25</td>\n",
              "      <td>2</td>\n",
              "      <td>3</td>\n",
              "      <td>G1</td>\n",
              "    </tr>\n",
              "    <tr>\n",
              "      <th>G2</th>\n",
              "      <td>35</td>\n",
              "      <td>32</td>\n",
              "      <td>3</td>\n",
              "      <td>5</td>\n",
              "      <td>G2</td>\n",
              "    </tr>\n",
              "    <tr>\n",
              "      <th>G3</th>\n",
              "      <td>30</td>\n",
              "      <td>34</td>\n",
              "      <td>4</td>\n",
              "      <td>2</td>\n",
              "      <td>G3</td>\n",
              "    </tr>\n",
              "    <tr>\n",
              "      <th>G4</th>\n",
              "      <td>35</td>\n",
              "      <td>20</td>\n",
              "      <td>1</td>\n",
              "      <td>3</td>\n",
              "      <td>G4</td>\n",
              "    </tr>\n",
              "    <tr>\n",
              "      <th>G5</th>\n",
              "      <td>27</td>\n",
              "      <td>25</td>\n",
              "      <td>2</td>\n",
              "      <td>3</td>\n",
              "      <td>G5</td>\n",
              "    </tr>\n",
              "  </tbody>\n",
              "</table>\n",
              "</div>"
            ],
            "text/plain": [
              "    menMeans  womenMeans  menStd  womenStd Group\n",
              "G1        20          25       2         3    G1\n",
              "G2        35          32       3         5    G2\n",
              "G3        30          34       4         2    G3\n",
              "G4        35          20       1         3    G4\n",
              "G5        27          25       2         3    G5"
            ]
          },
          "metadata": {
            "tags": []
          },
          "execution_count": 16
        }
      ]
<<<<<<< HEAD
     },
     "metadata": {
      "needs_background": "light"
     },
     "output_type": "display_data"
    }
   ],
   "source": [
    "dataset.plot()"
   ]
  },
  {
   "cell_type": "code",
   "execution_count": 18,
   "metadata": {},
   "outputs": [],
   "source": [
    "longdataset = pd.melt(dataset, id_vars=['Group'], value_vars=['menMeans','womenMeans','menStd','womenStd'])"
   ]
  },
  {
   "cell_type": "code",
   "execution_count": 19,
   "metadata": {},
   "outputs": [
=======
    },
>>>>>>> e180eba515cd277023a17e9f763a5529bd8413fd
    {
      "cell_type": "code",
      "metadata": {
        "id": "f5jG7OCwztcM",
        "colab_type": "code",
        "colab": {
          "base_uri": "https://localhost:8080/",
          "height": 543
        },
        "outputId": "775d5551-0716-45a1-fd14-15a04ca1ce01"
      },
      "source": [
        "dataset.plot()"
      ],
      "execution_count": 17,
      "outputs": [
        {
          "output_type": "execute_result",
          "data": {
            "text/plain": [
              "<matplotlib.axes._subplots.AxesSubplot at 0x7f6e37085ba8>"
            ]
          },
          "metadata": {
            "tags": []
          },
          "execution_count": 17
        },
        {
          "output_type": "display_data",
          "data": {
            "image/png": "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\n",
            "text/plain": [
              "<Figure size 900x600 with 1 Axes>"
            ]
          },
          "metadata": {
            "tags": [],
            "needs_background": "light"
          }
        }
      ]
<<<<<<< HEAD
     },
     "execution_count": 19,
     "metadata": {},
     "output_type": "execute_result"
    }
   ],
   "source": [
    "#longdataset['Gender'] = df['variable'].apply(lambda x: 'Men' if men == 'Bill' else 'Women')\n",
    "\n",
    "longdataset['Gender'] = longdataset['variable'].apply(lambda x: 'Women' if 'women' in x else 'Men')\n",
    "longdataset['Measure'] = longdataset['variable'].apply(lambda x: 'Mean' if 'Means' in x else 'Std')\n",
    "longdataset"
   ]
  },
  {
   "cell_type": "code",
   "execution_count": 20,
   "metadata": {},
   "outputs": [],
   "source": [
    "columnlist = ['Gender','Measure']\n",
    "widedataset = longdataset.pivot_table(index='Group', columns=columnlist, values='value')"
   ]
  },
  {
   "cell_type": "code",
   "execution_count": 21,
   "metadata": {},
   "outputs": [
=======
    },
>>>>>>> e180eba515cd277023a17e9f763a5529bd8413fd
    {
      "cell_type": "code",
      "metadata": {
        "id": "CKMPkkW1ztcQ",
        "colab_type": "code",
        "colab": {}
      },
      "source": [
        "longdataset = pd.melt(dataset, id_vars=['Group'], value_vars=['menMeans','womenMeans','menStd','womenStd'])"
      ],
      "execution_count": 0,
      "outputs": []
    },
    {
      "cell_type": "code",
      "metadata": {
        "id": "31eqH_PSztcU",
        "colab_type": "code",
        "colab": {
          "base_uri": "https://localhost:8080/",
          "height": 647
        },
        "outputId": "a5612ec8-af8c-4d75-950f-b9d343b4dd9e"
      },
      "source": [
        "#longdataset['Gender'] = df['variable'].apply(lambda x: 'Men' if men == 'Bill' else 'Women')\n",
        "\n",
        "longdataset['Gender'] = longdataset['variable'].apply(lambda x: 'Women' if 'women' in x else 'Men')\n",
        "longdataset['Measure'] = longdataset['variable'].apply(lambda x: 'Mean' if 'Means' in x else 'Std')\n",
        "longdataset"
      ],
      "execution_count": 19,
      "outputs": [
        {
          "output_type": "execute_result",
          "data": {
            "text/html": [
              "<div>\n",
              "<style scoped>\n",
              "    .dataframe tbody tr th:only-of-type {\n",
              "        vertical-align: middle;\n",
              "    }\n",
              "\n",
              "    .dataframe tbody tr th {\n",
              "        vertical-align: top;\n",
              "    }\n",
              "\n",
              "    .dataframe thead th {\n",
              "        text-align: right;\n",
              "    }\n",
              "</style>\n",
              "<table border=\"1\" class=\"dataframe\">\n",
              "  <thead>\n",
              "    <tr style=\"text-align: right;\">\n",
              "      <th></th>\n",
              "      <th>Group</th>\n",
              "      <th>variable</th>\n",
              "      <th>value</th>\n",
              "      <th>Gender</th>\n",
              "      <th>Measure</th>\n",
              "    </tr>\n",
              "  </thead>\n",
              "  <tbody>\n",
              "    <tr>\n",
              "      <th>0</th>\n",
              "      <td>G1</td>\n",
              "      <td>menMeans</td>\n",
              "      <td>20</td>\n",
              "      <td>Men</td>\n",
              "      <td>Mean</td>\n",
              "    </tr>\n",
              "    <tr>\n",
              "      <th>1</th>\n",
              "      <td>G2</td>\n",
              "      <td>menMeans</td>\n",
              "      <td>35</td>\n",
              "      <td>Men</td>\n",
              "      <td>Mean</td>\n",
              "    </tr>\n",
              "    <tr>\n",
              "      <th>2</th>\n",
              "      <td>G3</td>\n",
              "      <td>menMeans</td>\n",
              "      <td>30</td>\n",
              "      <td>Men</td>\n",
              "      <td>Mean</td>\n",
              "    </tr>\n",
              "    <tr>\n",
              "      <th>3</th>\n",
              "      <td>G4</td>\n",
              "      <td>menMeans</td>\n",
              "      <td>35</td>\n",
              "      <td>Men</td>\n",
              "      <td>Mean</td>\n",
              "    </tr>\n",
              "    <tr>\n",
              "      <th>4</th>\n",
              "      <td>G5</td>\n",
              "      <td>menMeans</td>\n",
              "      <td>27</td>\n",
              "      <td>Men</td>\n",
              "      <td>Mean</td>\n",
              "    </tr>\n",
              "    <tr>\n",
              "      <th>5</th>\n",
              "      <td>G1</td>\n",
              "      <td>womenMeans</td>\n",
              "      <td>25</td>\n",
              "      <td>Women</td>\n",
              "      <td>Mean</td>\n",
              "    </tr>\n",
              "    <tr>\n",
              "      <th>6</th>\n",
              "      <td>G2</td>\n",
              "      <td>womenMeans</td>\n",
              "      <td>32</td>\n",
              "      <td>Women</td>\n",
              "      <td>Mean</td>\n",
              "    </tr>\n",
              "    <tr>\n",
              "      <th>7</th>\n",
              "      <td>G3</td>\n",
              "      <td>womenMeans</td>\n",
              "      <td>34</td>\n",
              "      <td>Women</td>\n",
              "      <td>Mean</td>\n",
              "    </tr>\n",
              "    <tr>\n",
              "      <th>8</th>\n",
              "      <td>G4</td>\n",
              "      <td>womenMeans</td>\n",
              "      <td>20</td>\n",
              "      <td>Women</td>\n",
              "      <td>Mean</td>\n",
              "    </tr>\n",
              "    <tr>\n",
              "      <th>9</th>\n",
              "      <td>G5</td>\n",
              "      <td>womenMeans</td>\n",
              "      <td>25</td>\n",
              "      <td>Women</td>\n",
              "      <td>Mean</td>\n",
              "    </tr>\n",
              "    <tr>\n",
              "      <th>10</th>\n",
              "      <td>G1</td>\n",
              "      <td>menStd</td>\n",
              "      <td>2</td>\n",
              "      <td>Men</td>\n",
              "      <td>Std</td>\n",
              "    </tr>\n",
              "    <tr>\n",
              "      <th>11</th>\n",
              "      <td>G2</td>\n",
              "      <td>menStd</td>\n",
              "      <td>3</td>\n",
              "      <td>Men</td>\n",
              "      <td>Std</td>\n",
              "    </tr>\n",
              "    <tr>\n",
              "      <th>12</th>\n",
              "      <td>G3</td>\n",
              "      <td>menStd</td>\n",
              "      <td>4</td>\n",
              "      <td>Men</td>\n",
              "      <td>Std</td>\n",
              "    </tr>\n",
              "    <tr>\n",
              "      <th>13</th>\n",
              "      <td>G4</td>\n",
              "      <td>menStd</td>\n",
              "      <td>1</td>\n",
              "      <td>Men</td>\n",
              "      <td>Std</td>\n",
              "    </tr>\n",
              "    <tr>\n",
              "      <th>14</th>\n",
              "      <td>G5</td>\n",
              "      <td>menStd</td>\n",
              "      <td>2</td>\n",
              "      <td>Men</td>\n",
              "      <td>Std</td>\n",
              "    </tr>\n",
              "    <tr>\n",
              "      <th>15</th>\n",
              "      <td>G1</td>\n",
              "      <td>womenStd</td>\n",
              "      <td>3</td>\n",
              "      <td>Women</td>\n",
              "      <td>Std</td>\n",
              "    </tr>\n",
              "    <tr>\n",
              "      <th>16</th>\n",
              "      <td>G2</td>\n",
              "      <td>womenStd</td>\n",
              "      <td>5</td>\n",
              "      <td>Women</td>\n",
              "      <td>Std</td>\n",
              "    </tr>\n",
              "    <tr>\n",
              "      <th>17</th>\n",
              "      <td>G3</td>\n",
              "      <td>womenStd</td>\n",
              "      <td>2</td>\n",
              "      <td>Women</td>\n",
              "      <td>Std</td>\n",
              "    </tr>\n",
              "    <tr>\n",
              "      <th>18</th>\n",
              "      <td>G4</td>\n",
              "      <td>womenStd</td>\n",
              "      <td>3</td>\n",
              "      <td>Women</td>\n",
              "      <td>Std</td>\n",
              "    </tr>\n",
              "    <tr>\n",
              "      <th>19</th>\n",
              "      <td>G5</td>\n",
              "      <td>womenStd</td>\n",
              "      <td>3</td>\n",
              "      <td>Women</td>\n",
              "      <td>Std</td>\n",
              "    </tr>\n",
              "  </tbody>\n",
              "</table>\n",
              "</div>"
            ],
            "text/plain": [
              "   Group    variable  value Gender Measure\n",
              "0     G1    menMeans     20    Men    Mean\n",
              "1     G2    menMeans     35    Men    Mean\n",
              "2     G3    menMeans     30    Men    Mean\n",
              "3     G4    menMeans     35    Men    Mean\n",
              "4     G5    menMeans     27    Men    Mean\n",
              "5     G1  womenMeans     25  Women    Mean\n",
              "6     G2  womenMeans     32  Women    Mean\n",
              "7     G3  womenMeans     34  Women    Mean\n",
              "8     G4  womenMeans     20  Women    Mean\n",
              "9     G5  womenMeans     25  Women    Mean\n",
              "10    G1      menStd      2    Men     Std\n",
              "11    G2      menStd      3    Men     Std\n",
              "12    G3      menStd      4    Men     Std\n",
              "13    G4      menStd      1    Men     Std\n",
              "14    G5      menStd      2    Men     Std\n",
              "15    G1    womenStd      3  Women     Std\n",
              "16    G2    womenStd      5  Women     Std\n",
              "17    G3    womenStd      2  Women     Std\n",
              "18    G4    womenStd      3  Women     Std\n",
              "19    G5    womenStd      3  Women     Std"
            ]
          },
          "metadata": {
            "tags": []
          },
          "execution_count": 19
        }
      ]
<<<<<<< HEAD
     },
     "execution_count": 21,
     "metadata": {},
     "output_type": "execute_result"
    }
   ],
   "source": [
    "widedataset"
   ]
  },
  {
   "cell_type": "code",
   "execution_count": 22,
   "metadata": {},
   "outputs": [],
   "source": [
    "def plotfiltered(g):\n",
    "    if g in ['Men','Women']:\n",
    "        datatopivot = longdataset[longdataset['Gender']==g]\n",
    "    else:\n",
    "        datatopivot = longdataset\n",
    "    columnlist = ['Gender','Measure']\n",
    "    datatoplot = datatopivot.pivot_table(index='Group', columns=columnlist, values='value')\n",
    "    datatoplot.plot()\n",
    "#plotfiltered('Women')"
   ]
  },
  {
   "cell_type": "code",
   "execution_count": 23,
   "metadata": {},
   "outputs": [
=======
    },
>>>>>>> e180eba515cd277023a17e9f763a5529bd8413fd
    {
      "cell_type": "code",
      "metadata": {
        "id": "_rNzHskMztcX",
        "colab_type": "code",
        "colab": {}
      },
      "source": [
        "columnlist = ['Gender','Measure']\n",
        "widedataset = longdataset.pivot_table(index='Group', columns=columnlist, values='value')"
      ],
      "execution_count": 0,
      "outputs": []
    },
    {
      "cell_type": "code",
      "metadata": {
        "id": "F6WbX7PDztcZ",
        "colab_type": "code",
        "colab": {
          "base_uri": "https://localhost:8080/",
          "height": 257
        },
        "outputId": "919373f4-d9aa-49b4-892f-da95747890ae"
      },
      "source": [
        "widedataset"
      ],
      "execution_count": 21,
      "outputs": [
        {
          "output_type": "execute_result",
          "data": {
            "text/html": [
              "<div>\n",
              "<style scoped>\n",
              "    .dataframe tbody tr th:only-of-type {\n",
              "        vertical-align: middle;\n",
              "    }\n",
              "\n",
              "    .dataframe tbody tr th {\n",
              "        vertical-align: top;\n",
              "    }\n",
              "\n",
              "    .dataframe thead tr th {\n",
              "        text-align: left;\n",
              "    }\n",
              "\n",
              "    .dataframe thead tr:last-of-type th {\n",
              "        text-align: right;\n",
              "    }\n",
              "</style>\n",
              "<table border=\"1\" class=\"dataframe\">\n",
              "  <thead>\n",
              "    <tr>\n",
              "      <th>Gender</th>\n",
              "      <th colspan=\"2\" halign=\"left\">Men</th>\n",
              "      <th colspan=\"2\" halign=\"left\">Women</th>\n",
              "    </tr>\n",
              "    <tr>\n",
              "      <th>Measure</th>\n",
              "      <th>Mean</th>\n",
              "      <th>Std</th>\n",
              "      <th>Mean</th>\n",
              "      <th>Std</th>\n",
              "    </tr>\n",
              "    <tr>\n",
              "      <th>Group</th>\n",
              "      <th></th>\n",
              "      <th></th>\n",
              "      <th></th>\n",
              "      <th></th>\n",
              "    </tr>\n",
              "  </thead>\n",
              "  <tbody>\n",
              "    <tr>\n",
              "      <th>G1</th>\n",
              "      <td>20</td>\n",
              "      <td>2</td>\n",
              "      <td>25</td>\n",
              "      <td>3</td>\n",
              "    </tr>\n",
              "    <tr>\n",
              "      <th>G2</th>\n",
              "      <td>35</td>\n",
              "      <td>3</td>\n",
              "      <td>32</td>\n",
              "      <td>5</td>\n",
              "    </tr>\n",
              "    <tr>\n",
              "      <th>G3</th>\n",
              "      <td>30</td>\n",
              "      <td>4</td>\n",
              "      <td>34</td>\n",
              "      <td>2</td>\n",
              "    </tr>\n",
              "    <tr>\n",
              "      <th>G4</th>\n",
              "      <td>35</td>\n",
              "      <td>1</td>\n",
              "      <td>20</td>\n",
              "      <td>3</td>\n",
              "    </tr>\n",
              "    <tr>\n",
              "      <th>G5</th>\n",
              "      <td>27</td>\n",
              "      <td>2</td>\n",
              "      <td>25</td>\n",
              "      <td>3</td>\n",
              "    </tr>\n",
              "  </tbody>\n",
              "</table>\n",
              "</div>"
            ],
            "text/plain": [
              "Gender   Men     Women    \n",
              "Measure Mean Std  Mean Std\n",
              "Group                     \n",
              "G1        20   2    25   3\n",
              "G2        35   3    32   5\n",
              "G3        30   4    34   2\n",
              "G4        35   1    20   3\n",
              "G5        27   2    25   3"
            ]
          },
          "metadata": {
            "tags": []
          },
          "execution_count": 21
        }
      ]
<<<<<<< HEAD
     },
     "metadata": {
      "needs_background": "light"
     },
     "output_type": "display_data"
    }
   ],
   "source": [
    "plotfiltered('Women')"
   ]
  },
  {
   "cell_type": "code",
   "execution_count": 24,
   "metadata": {},
   "outputs": [
    {
     "data": {
      "application/vnd.jupyter.widget-view+json": {
       "model_id": "5f7eecd9662447709a1148bf3a5363b4",
       "version_major": 2,
       "version_minor": 0
=======
    },
    {
      "cell_type": "code",
      "metadata": {
        "id": "ZFsfOhOVztcc",
        "colab_type": "code",
        "colab": {}
>>>>>>> e180eba515cd277023a17e9f763a5529bd8413fd
      },
      "source": [
        "def plotfiltered(g):\n",
        "    if g in ['Men','Women']:\n",
        "        datatopivot = longdataset[longdataset['Gender']==g]\n",
        "    else:\n",
        "        datatopivot = longdataset\n",
        "    columnlist = ['Gender','Measure']\n",
        "    datatoplot = datatopivot.pivot_table(index='Group', columns=columnlist, values='value')\n",
        "    datatoplot.plot()\n",
        "#plotfiltered('Women')"
      ],
      "execution_count": 0,
      "outputs": []
    },
    {
      "cell_type": "code",
      "metadata": {
        "id": "37uQ6-axztcf",
        "colab_type": "code",
        "colab": {
          "base_uri": "https://localhost:8080/",
          "height": 553
        },
        "outputId": "d92c8f5d-681f-4a48-9c12-63d5220ab4b6"
      },
      "source": [
        "plotfiltered('Women')"
      ],
      "execution_count": 23,
      "outputs": [
        {
          "output_type": "display_data",
          "data": {
            "image/png": "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\n",
            "text/plain": [
              "<Figure size 900x600 with 1 Axes>"
            ]
          },
          "metadata": {
            "tags": [],
            "needs_background": "light"
          }
        }
      ]
    },
    {
      "cell_type": "code",
      "metadata": {
        "id": "GoE_EBncztci",
        "colab_type": "code",
        "colab": {
          "base_uri": "https://localhost:8080/",
          "height": 602,
          "referenced_widgets": [
            "2c871c5d98544009b079b0fe534e4782",
            "fc3f319cdbaa44c693758175b09de58f",
            "75166df50d134993a7a224de346270df",
            "8a86c451865146b490b3a1aafc8df7b5",
            "0ab7af47454348e28a8a861d2dfa2429",
            "b0e408d39fce462e8871b40127c68f2d",
            "f5d3cc6113ee417cbaac7393e787c775"
          ]
        },
        "outputId": "21e7ccef-394f-4895-a99b-c2c5553bfcf5"
      },
      "source": [
        "interact(plotfiltered,g=['Men','Women','Both'])"
      ],
      "execution_count": 24,
      "outputs": [
        {
          "output_type": "display_data",
          "data": {
            "application/vnd.jupyter.widget-view+json": {
              "model_id": "2c871c5d98544009b079b0fe534e4782",
              "version_minor": 0,
              "version_major": 2
            },
            "text/plain": [
              "interactive(children=(Dropdown(description='g', options=('Men', 'Women', 'Both'), value='Men'), Output()), _do…"
            ]
          },
          "metadata": {
            "tags": []
          }
        },
        {
          "output_type": "execute_result",
          "data": {
            "text/plain": [
              "<function __main__.plotfiltered>"
            ]
          },
          "metadata": {
            "tags": []
          },
          "execution_count": 24
        }
      ]
<<<<<<< HEAD
     },
     "execution_count": 24,
     "metadata": {},
     "output_type": "execute_result"
    }
   ],
   "source": [
    "interact(plotfiltered,g=['Men','Women','Both'])"
   ]
  },
  {
   "cell_type": "code",
   "execution_count": 25,
   "metadata": {},
   "outputs": [
    {
     "data": {
      "application/vnd.jupyter.widget-view+json": {
       "model_id": "8aafd47d036c4669a686538158f69c1b",
       "version_major": 2,
       "version_minor": 0
      },
      "text/plain": [
       "VBox(children=(IntSlider(value=0), IntSlider(value=0), IntSlider(value=0)))"
      ]
     },
     "metadata": {},
     "output_type": "display_data"
    },
    {
     "data": {
      "application/vnd.jupyter.widget-view+json": {
       "model_id": "67eee6e0efaf4cd38261acd3332b615e",
       "version_major": 2,
       "version_minor": 0
      },
      "text/plain": [
       "Output()"
      ]
     },
     "metadata": {},
     "output_type": "display_data"
    }
   ],
   "source": [
    "import ipywidgets as widgets\n",
    "a = widgets.IntSlider()\n",
    "b = widgets.IntSlider()\n",
    "c = widgets.IntSlider()\n",
    "ui = widgets.VBox([a, b, c])\n",
    "def f(a, b, c):\n",
    "    print((a, b, c))\n",
    "\n",
    "out = widgets.interactive_output(f, {'a': a, 'b': b, 'c': c})\n",
    "\n",
    "display(ui, out)"
   ]
  },
  {
   "cell_type": "code",
   "execution_count": 26,
   "metadata": {},
   "outputs": [
    {
     "data": {
      "application/vnd.jupyter.widget-view+json": {
       "model_id": "bdc8c0e1de994a91974482c81ea91720",
       "version_major": 2,
       "version_minor": 0
      },
      "text/plain": [
       "interactive(children=(Combobox(value='Chicago', description='x', options=('Chicago', 'New York', 'Washington')…"
      ]
     },
     "metadata": {},
     "output_type": "display_data"
    }
   ],
   "source": [
    "def f(x):\n",
    "    return x\n",
    "interact(f, x=widgets.Combobox(options=[\"Chicago\", \"New York\", \"Washington\"], value=\"Chicago\"));"
   ]
  },
  {
   "cell_type": "code",
   "execution_count": 27,
   "metadata": {},
   "outputs": [
    {
     "data": {
      "application/vnd.jupyter.widget-view+json": {
       "model_id": "800532c36c5b448a9d870de648406c4a",
       "version_major": 2,
       "version_minor": 0
      },
      "text/plain": [
       "interactive(children=(FloatSlider(value=0.0, description='m', max=2.0, min=-2.0), FloatSlider(value=0.0, descr…"
      ]
     },
     "metadata": {},
     "output_type": "display_data"
    }
   ],
   "source": [
    "%matplotlib inline\n",
    "from ipywidgets import interactive\n",
    "import matplotlib.pyplot as plt\n",
    "import numpy as np\n",
    "\n",
    "def f(m, b):\n",
    "    plt.figure(2)\n",
    "    x = np.linspace(-10, 10, num=1000)\n",
    "    plt.plot(x, m * x + b)\n",
    "    plt.ylim(-5, 5)\n",
    "    plt.show()\n",
    "\n",
    "interactive_plot = interactive(f, m=(-2.0, 2.0), b=(-3, 3, 0.5))\n",
    "output = interactive_plot.children[-1]\n",
    "output.layout.height = '500px'\n",
    "interactive_plot"
   ]
  },
  {
   "cell_type": "code",
   "execution_count": 28,
   "metadata": {},
   "outputs": [
    {
     "data": {
      "image/png": "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\n",
      "text/plain": [
       "<Figure size 432x288 with 2 Axes>"
      ]
     },
     "metadata": {
      "needs_background": "light"
     },
     "output_type": "display_data"
    }
   ],
   "source": [
    "fig2 = plt.figure(constrained_layout=True)\n",
    "spec2 = gridspec.GridSpec(ncols=1, nrows=2, figure=fig2)\n",
    "f2_ax1 = fig2.add_subplot(spec2[0, 0])\n",
    "f2_ax2 = fig2.add_subplot(spec2[1, 0])"
   ]
  },
  {
   "cell_type": "code",
   "execution_count": null,
   "metadata": {},
   "outputs": [],
   "source": []
  }
 ],
 "metadata": {
  "kernelspec": {
   "display_name": "Python 3",
   "language": "python",
   "name": "python3"
  },
  "language_info": {
   "codemirror_mode": {
    "name": "ipython",
    "version": 3
   },
   "file_extension": ".py",
   "mimetype": "text/x-python",
   "name": "python",
   "nbconvert_exporter": "python",
   "pygments_lexer": "ipython3",
   "version": "3.8.2"
  }
 },
 "nbformat": 4,
 "nbformat_minor": 4
}
=======
    },
    {
      "cell_type": "code",
      "metadata": {
        "id": "85rNL0_4ztcm",
        "colab_type": "code",
        "colab": {}
      },
      "source": [
        ""
      ],
      "execution_count": 0,
      "outputs": []
    }
  ]
}
>>>>>>> e180eba515cd277023a17e9f763a5529bd8413fd

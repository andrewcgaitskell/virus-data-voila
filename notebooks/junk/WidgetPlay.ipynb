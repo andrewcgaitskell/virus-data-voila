{
 "cells": [
  {
   "cell_type": "markdown",
   "metadata": {
    "colab_type": "text",
    "id": "view-in-github"
   },
   "source": [
    "<a href=\"https://colab.research.google.com/github/andrewcgaitskell/voila/blob/master/notebooks/WidgetPlay.ipynb\" target=\"_parent\"><img src=\"https://colab.research.google.com/assets/colab-badge.svg\" alt=\"Open In Colab\"/></a>"
   ]
  },
  {
   "cell_type": "markdown",
   "metadata": {
    "colab_type": "text",
    "id": "Vj9frr2rsHe9"
   },
   "source": [
    "https://towardsdatascience.com/bring-your-jupyter-notebook-to-life-with-interactive-widgets-bc12e03f0916"
   ]
  },
  {
   "cell_type": "code",
   "execution_count": 28,
   "metadata": {
    "colab": {
     "base_uri": "https://localhost:8080/",
     "height": 34
    },
    "colab_type": "code",
    "id": "KrOKBw-IsMSz",
    "outputId": "44425241-b794-4ded-8e5f-7eed5881e7c9"
   },
   "outputs": [
    {
     "name": "stdout",
     "output_type": "stream",
     "text": [
      "/Users/andrewgaitskell/Documents/Dashboards/voila/notebooks/data/\n"
     ]
    }
   ],
   "source": [
    "try:\n",
    "    from google.colab import drive\n",
    "    drive.mount('/content/drive')\n",
    "    mounty = '/content/drive'\n",
    "    drivefolder = '/My Drive/DashboardData/'\n",
    "    path2data = mounty + drivefolder\n",
    "except:\n",
    "    import os\n",
    "    mounty = os.getcwd()\n",
    "    drivefolder = '/data/'\n",
    "    path2data = mounty + drivefolder\n",
    "    print(path2data)"
   ]
  },
  {
   "cell_type": "code",
   "execution_count": 29,
   "metadata": {
    "colab": {},
    "colab_type": "code",
    "id": "ZPvwSQ8jsHe9"
   },
   "outputs": [],
   "source": [
    "import ipywidgets as widgets"
   ]
  },
  {
   "cell_type": "code",
   "execution_count": 30,
   "metadata": {
    "colab": {
     "base_uri": "https://localhost:8080/",
     "height": 48,
     "referenced_widgets": [
      "a1a69c0f997a4eff83f42420576cd7d8",
      "0487c6dc878b414a88d17f090ab55c7d",
      "f2f66b07a02540e78a249544a775dd9c"
     ]
    },
    "colab_type": "code",
    "id": "fj6MYiN3sHfB",
    "outputId": "310f362f-e18d-4c20-ea8c-363b3eea16d6"
   },
   "outputs": [
    {
     "data": {
      "application/vnd.jupyter.widget-view+json": {
       "model_id": "a50e0d5cc7784dcdbd595ad09e624122",
       "version_major": 2,
       "version_minor": 0
      },
      "text/plain": [
       "IntSlider(value=3, description='Slider:', max=10)"
      ]
     },
     "metadata": {},
     "output_type": "display_data"
    }
   ],
   "source": [
    "widgets.IntSlider(\n",
    "    min=0,\n",
    "    max=10,\n",
    "    step=1,\n",
    "    description='Slider:',\n",
    "    value=3\n",
    ")"
   ]
  },
  {
   "cell_type": "code",
   "execution_count": 31,
   "metadata": {
    "colab": {},
    "colab_type": "code",
    "id": "Ep0Yq3owsHfG"
   },
   "outputs": [],
   "source": [
    "from IPython.display import display"
   ]
  },
  {
   "cell_type": "code",
   "execution_count": 32,
   "metadata": {
    "colab": {
     "base_uri": "https://localhost:8080/",
     "height": 48,
     "referenced_widgets": [
      "fcc766283ccf47d9a50af5358ab46a69",
      "4442f20e53e5419c8627729146a6208b",
      "a4663e551bfe4822b09595b741b9f518"
     ]
    },
    "colab_type": "code",
    "id": "xcFMTzgpsHfJ",
    "outputId": "7c5f398e-d898-46ce-c40a-b9d95b7ffd3f"
   },
   "outputs": [
    {
     "data": {
      "application/vnd.jupyter.widget-view+json": {
       "model_id": "4a0300d1b8f946829b4a32e8f9d22e06",
       "version_major": 2,
       "version_minor": 0
      },
      "text/plain": [
       "IntSlider(value=0)"
      ]
     },
     "metadata": {},
     "output_type": "display_data"
    }
   ],
   "source": [
    "slider = widgets.IntSlider()\n",
    "display(slider)"
   ]
  },
  {
   "cell_type": "code",
   "execution_count": 33,
   "metadata": {
    "colab": {},
    "colab_type": "code",
    "id": "yfVvOSeXsHfN"
   },
   "outputs": [],
   "source": [
    "#slider.value"
   ]
  },
  {
   "cell_type": "code",
   "execution_count": 34,
   "metadata": {
    "colab": {
     "base_uri": "https://localhost:8080/",
     "height": 48,
     "referenced_widgets": [
      "3a04035c26fb452b9c4830ecd3b2a042",
      "64b02fb810bd4576b453af3e301f7a0f",
      "fb354b40f16e43bcb15163f132936097"
     ]
    },
    "colab_type": "code",
    "id": "WRsK-lj5sHfP",
    "outputId": "ee948734-4c0f-4085-e06e-758446b82851"
   },
   "outputs": [
    {
     "data": {
      "application/vnd.jupyter.widget-view+json": {
       "model_id": "1b88927c52394b49a568c6689283ab22",
       "version_major": 2,
       "version_minor": 0
      },
      "text/plain": [
       "Button(description='Medium', style=ButtonStyle())"
      ]
     },
     "metadata": {},
     "output_type": "display_data"
    }
   ],
   "source": [
    "btn = widgets.Button(description='Medium')\n",
    "display(btn)\n",
    "\n",
    "def btn_eventhandler(obj):\n",
    "    print('Hello from the {} button!'.format(obj.description))\n",
    "\n",
    "btn.on_click(btn_eventhandler)"
   ]
  },
  {
   "cell_type": "code",
   "execution_count": null,
   "metadata": {
    "colab": {},
    "colab_type": "code",
    "id": "iw1i73f1sHfS"
   },
   "outputs": [],
   "source": []
  },
  {
   "cell_type": "code",
   "execution_count": 35,
   "metadata": {
    "colab": {},
    "colab_type": "code",
    "id": "T6nIq4jPsHfV"
   },
   "outputs": [],
   "source": [
    "import pandas as pd\n",
    "import numpy as np\n",
    "\n",
    "filepath = path2data + \"OxCGRT/OxCGRT_latest.csv\"\n",
    "df_latest = pd.read_csv(filepath)"
   ]
  },
  {
   "cell_type": "code",
   "execution_count": 36,
   "metadata": {
    "colab": {},
    "colab_type": "code",
    "id": "7UrchFF4sHfZ"
   },
   "outputs": [],
   "source": [
    "ALL = 'ALL'\n",
    "\n",
    "def unique_sorted_values_plus_ALL(array):\n",
    "    unique = array.unique().tolist()\n",
    "    unique.sort()\n",
    "    unique.insert(0, ALL)\n",
    "    return unique"
   ]
  },
  {
   "cell_type": "code",
   "execution_count": 37,
   "metadata": {
    "colab": {},
    "colab_type": "code",
    "id": "XmSr-KVSsHfb"
   },
   "outputs": [],
   "source": [
    "dropdown_country = widgets.Dropdown(options =    unique_sorted_values_plus_ALL(df_latest.CountryName))"
   ]
  },
  {
   "cell_type": "markdown",
   "metadata": {
    "colab_type": "text",
    "id": "1vM8eZ81sHfe"
   },
   "source": [
    "def dropdown_country_eventhandler(change):\n",
    "    if (change.new == ALL):\n",
    "        display(df_latest)\n",
    "    else:\n",
    "        display(df_latest[df_latest.CountryName == change.new])"
   ]
  },
  {
   "cell_type": "code",
   "execution_count": 38,
   "metadata": {
    "colab": {
     "base_uri": "https://localhost:8080/",
     "height": 48,
     "referenced_widgets": [
      "2499cb34f8434863a30a6a7f925664be",
      "47611d0000064752a9c2aaeb5e7c4eef",
      "fa97c9c289074974ad5b19b0687410e8"
     ]
    },
    "colab_type": "code",
    "id": "YzxsE4z0sHfe",
    "outputId": "ba0a0ed4-42b6-4ed0-b819-1a896bd22d90"
   },
   "outputs": [
    {
     "data": {
      "application/vnd.jupyter.widget-view+json": {
       "model_id": "c243464359384def938ad3feea5a0b0b",
       "version_major": 2,
       "version_minor": 0
      },
      "text/plain": [
       "Dropdown(options=('ALL', 'Afghanistan', 'Albania', 'Algeria', 'Andorra', 'Angola', 'Argentina', 'Aruba', 'Aust…"
      ]
     },
     "metadata": {},
     "output_type": "display_data"
    }
   ],
   "source": [
    "display(dropdown_country)"
   ]
  },
  {
   "cell_type": "code",
   "execution_count": 39,
   "metadata": {
    "colab": {},
    "colab_type": "code",
    "id": "dRBb4GQksHfk"
   },
   "outputs": [],
   "source": [
    "output_country = widgets.Output()"
   ]
  },
  {
   "cell_type": "code",
   "execution_count": 40,
   "metadata": {
    "colab": {},
    "colab_type": "code",
    "id": "orOLxwsKsHfo"
   },
   "outputs": [],
   "source": [
    "def dropdown_country_eventhandler(change):\n",
    "    output_country.clear_output()\n",
    "    with output_country:\n",
    "        display(df_latest[df_latest.CountryName == change.new])"
   ]
  },
  {
   "cell_type": "code",
   "execution_count": 41,
   "metadata": {
    "colab": {},
    "colab_type": "code",
    "id": "qtcPzwhRsHfq"
   },
   "outputs": [],
   "source": [
    "dropdown_country.observe(dropdown_country_eventhandler, names='value')"
   ]
  },
  {
   "cell_type": "code",
   "execution_count": 42,
   "metadata": {
    "colab": {
     "base_uri": "https://localhost:8080/",
     "height": 476,
     "referenced_widgets": [
      "4b85727a1523445abffb5e448f50ab2e",
      "fbbdb633ed9e45f18a1c98dddc99ddc3"
     ]
    },
    "colab_type": "code",
    "id": "13YJp9a-sHft",
    "outputId": "cc02bf51-e0e3-4ab6-d256-24c961276ad5"
   },
   "outputs": [
    {
     "data": {
      "application/vnd.jupyter.widget-view+json": {
       "model_id": "7804c1c656ab4d29a27861c13b8c0924",
       "version_major": 2,
       "version_minor": 0
      },
      "text/plain": [
       "Output()"
      ]
     },
     "metadata": {},
     "output_type": "display_data"
    }
   ],
   "source": [
    "display(output_country)"
   ]
  }
 ],
 "metadata": {
  "colab": {
   "include_colab_link": true,
   "name": "WidgetPlay.ipynb",
   "provenance": []
  },
  "kernelspec": {
   "display_name": "Python 3",
   "language": "python",
   "name": "python3"
  },
  "language_info": {
   "codemirror_mode": {
    "name": "ipython",
    "version": 3
   },
   "file_extension": ".py",
   "mimetype": "text/x-python",
   "name": "python",
   "nbconvert_exporter": "python",
   "pygments_lexer": "ipython3",
   "version": "3.8.3"
  },
  "widgets": {
   "application/vnd.jupyter.widget-state+json": {
    "0487c6dc878b414a88d17f090ab55c7d": {
     "model_module": "@jupyter-widgets/controls",
     "model_name": "SliderStyleModel",
     "state": {
      "_model_module": "@jupyter-widgets/controls",
      "_model_module_version": "1.5.0",
      "_model_name": "SliderStyleModel",
      "_view_count": null,
      "_view_module": "@jupyter-widgets/base",
      "_view_module_version": "1.2.0",
      "_view_name": "StyleView",
      "description_width": "",
      "handle_color": null
     }
    },
    "2499cb34f8434863a30a6a7f925664be": {
     "model_module": "@jupyter-widgets/controls",
     "model_name": "DropdownModel",
     "state": {
      "_dom_classes": [],
      "_model_module": "@jupyter-widgets/controls",
      "_model_module_version": "1.5.0",
      "_model_name": "DropdownModel",
      "_options_labels": [
       "ALL",
       "Afghanistan",
       "Albania",
       "Algeria",
       "Andorra",
       "Angola",
       "Argentina",
       "Aruba",
       "Australia",
       "Austria",
       "Azerbaijan",
       "Bahrain",
       "Bangladesh",
       "Barbados",
       "Belarus",
       "Belgium",
       "Belize",
       "Benin",
       "Bermuda",
       "Bhutan",
       "Bolivia",
       "Bosnia and Herzegovina",
       "Botswana",
       "Brazil",
       "Brunei",
       "Bulgaria",
       "Burkina Faso",
       "Burundi",
       "Cameroon",
       "Canada",
       "Cape Verde",
       "Central African Republic",
       "Chad",
       "Chile",
       "China",
       "Colombia",
       "Congo",
       "Costa Rica",
       "Cote d'Ivoire",
       "Croatia",
       "Cuba",
       "Cyprus",
       "Czech Republic",
       "Democratic Republic of Congo",
       "Denmark",
       "Djibouti",
       "Dominica",
       "Dominican Republic",
       "Ecuador",
       "Egypt",
       "El Salvador",
       "Estonia",
       "Eswatini",
       "Ethiopia",
       "Finland",
       "France",
       "Gabon",
       "Gambia",
       "Georgia",
       "Germany",
       "Ghana",
       "Greece",
       "Greenland",
       "Guam",
       "Guatemala",
       "Guinea",
       "Guyana",
       "Honduras",
       "Hong Kong",
       "Hungary",
       "Iceland",
       "India",
       "Indonesia",
       "Iran",
       "Iraq",
       "Ireland",
       "Israel",
       "Italy",
       "Jamaica",
       "Japan",
       "Jordan",
       "Kazakhstan",
       "Kenya",
       "Kosovo",
       "Kuwait",
       "Kyrgyz Republic",
       "Laos",
       "Lebanon",
       "Lesotho",
       "Liberia",
       "Libya",
       "Lithuania",
       "Luxembourg",
       "Macao",
       "Madagascar",
       "Malawi",
       "Malaysia",
       "Mali",
       "Mauritania",
       "Mauritius",
       "Mexico",
       "Moldova",
       "Mongolia",
       "Morocco",
       "Mozambique",
       "Myanmar",
       "Namibia",
       "Nepal",
       "Netherlands",
       "New Zealand",
       "Nicaragua",
       "Niger",
       "Nigeria",
       "Norway",
       "Oman",
       "Pakistan",
       "Palestine",
       "Panama",
       "Papua New Guinea",
       "Paraguay",
       "Peru",
       "Philippines",
       "Poland",
       "Portugal",
       "Puerto Rico",
       "Qatar",
       "Romania",
       "Russia",
       "Rwanda",
       "San Marino",
       "Saudi Arabia",
       "Senegal",
       "Serbia",
       "Seychelles",
       "Sierra Leone",
       "Singapore",
       "Slovak Republic",
       "Slovenia",
       "Solomon Islands",
       "Somalia",
       "South Africa",
       "South Korea",
       "South Sudan",
       "Spain",
       "Sri Lanka",
       "Sudan",
       "Suriname",
       "Sweden",
       "Switzerland",
       "Syria",
       "Taiwan",
       "Tanzania",
       "Thailand",
       "Timor",
       "Trinidad and Tobago",
       "Tunisia",
       "Turkey",
       "Turkmenistan",
       "Uganda",
       "Ukraine",
       "United Arab Emirates",
       "United Kingdom",
       "United States",
       "Uruguay",
       "Uzbekistan",
       "Venezuela",
       "Vietnam",
       "Yemen",
       "Zambia",
       "Zimbabwe"
      ],
      "_view_count": null,
      "_view_module": "@jupyter-widgets/controls",
      "_view_module_version": "1.5.0",
      "_view_name": "DropdownView",
      "description": "",
      "description_tooltip": null,
      "disabled": false,
      "index": 3,
      "layout": "IPY_MODEL_fa97c9c289074974ad5b19b0687410e8",
      "style": "IPY_MODEL_47611d0000064752a9c2aaeb5e7c4eef"
     }
    },
    "3a04035c26fb452b9c4830ecd3b2a042": {
     "model_module": "@jupyter-widgets/controls",
     "model_name": "ButtonModel",
     "state": {
      "_dom_classes": [],
      "_model_module": "@jupyter-widgets/controls",
      "_model_module_version": "1.5.0",
      "_model_name": "ButtonModel",
      "_view_count": null,
      "_view_module": "@jupyter-widgets/controls",
      "_view_module_version": "1.5.0",
      "_view_name": "ButtonView",
      "button_style": "",
      "description": "Medium",
      "disabled": false,
      "icon": "",
      "layout": "IPY_MODEL_fb354b40f16e43bcb15163f132936097",
      "style": "IPY_MODEL_64b02fb810bd4576b453af3e301f7a0f",
      "tooltip": ""
     }
    },
    "4442f20e53e5419c8627729146a6208b": {
     "model_module": "@jupyter-widgets/controls",
     "model_name": "SliderStyleModel",
     "state": {
      "_model_module": "@jupyter-widgets/controls",
      "_model_module_version": "1.5.0",
      "_model_name": "SliderStyleModel",
      "_view_count": null,
      "_view_module": "@jupyter-widgets/base",
      "_view_module_version": "1.2.0",
      "_view_name": "StyleView",
      "description_width": "",
      "handle_color": null
     }
    },
    "47611d0000064752a9c2aaeb5e7c4eef": {
     "model_module": "@jupyter-widgets/controls",
     "model_name": "DescriptionStyleModel",
     "state": {
      "_model_module": "@jupyter-widgets/controls",
      "_model_module_version": "1.5.0",
      "_model_name": "DescriptionStyleModel",
      "_view_count": null,
      "_view_module": "@jupyter-widgets/base",
      "_view_module_version": "1.2.0",
      "_view_name": "StyleView",
      "description_width": ""
     }
    },
    "4b85727a1523445abffb5e448f50ab2e": {
     "model_module": "@jupyter-widgets/output",
     "model_name": "OutputModel",
     "state": {
      "_dom_classes": [],
      "_model_module": "@jupyter-widgets/output",
      "_model_module_version": "1.0.0",
      "_model_name": "OutputModel",
      "_view_count": null,
      "_view_module": "@jupyter-widgets/output",
      "_view_module_version": "1.0.0",
      "_view_name": "OutputView",
      "layout": "IPY_MODEL_fbbdb633ed9e45f18a1c98dddc99ddc3",
      "msg_id": "",
      "outputs": [
       {
        "metadata": {
         "tags": []
        },
        "output_type": "display_data",
        "text/html": "<div>\n<style scoped>\n    .dataframe tbody tr th:only-of-type {\n        vertical-align: middle;\n    }\n\n    .dataframe tbody tr th {\n        vertical-align: top;\n    }\n\n    .dataframe thead th {\n        text-align: right;\n    }\n</style>\n<table border=\"1\" class=\"dataframe\">\n  <thead>\n    <tr style=\"text-align: right;\">\n      <th></th>\n      <th>CountryName</th>\n      <th>CountryCode</th>\n      <th>Date</th>\n      <th>C1_School closing</th>\n      <th>C1_Flag</th>\n      <th>C2_Workplace closing</th>\n      <th>C2_Flag</th>\n      <th>C3_Cancel public events</th>\n      <th>C3_Flag</th>\n      <th>C4_Restrictions on gatherings</th>\n      <th>C4_Flag</th>\n      <th>C5_Close public transport</th>\n      <th>C5_Flag</th>\n      <th>C6_Stay at home requirements</th>\n      <th>C6_Flag</th>\n      <th>C7_Restrictions on internal movement</th>\n      <th>C7_Flag</th>\n      <th>C8_International travel controls</th>\n      <th>E1_Income support</th>\n      <th>E1_Flag</th>\n      <th>E2_Debt/contract relief</th>\n      <th>E3_Fiscal measures</th>\n      <th>E4_International support</th>\n      <th>H1_Public information campaigns</th>\n      <th>H1_Flag</th>\n      <th>H2_Testing policy</th>\n      <th>H3_Contact tracing</th>\n      <th>H4_Emergency investment in healthcare</th>\n      <th>H5_Investment in vaccines</th>\n      <th>M1_Wildcard</th>\n      <th>ConfirmedCases</th>\n      <th>ConfirmedDeaths</th>\n      <th>StringencyIndex</th>\n      <th>StringencyIndexForDisplay</th>\n      <th>StringencyLegacyIndex</th>\n      <th>StringencyLegacyIndexForDisplay</th>\n      <th>GovernmentResponseIndex</th>\n      <th>GovernmentResponseIndexForDisplay</th>\n      <th>ContainmentHealthIndex</th>\n      <th>ContainmentHealthIndexForDisplay</th>\n      <th>EconomicSupportIndex</th>\n      <th>EconomicSupportIndexForDisplay</th>\n    </tr>\n  </thead>\n  <tbody>\n    <tr>\n      <th>6871</th>\n      <td>Algeria</td>\n      <td>DZA</td>\n      <td>20200101</td>\n      <td>0.0</td>\n      <td>NaN</td>\n      <td>0.0</td>\n      <td>NaN</td>\n      <td>0.0</td>\n      <td>NaN</td>\n      <td>0.0</td>\n      <td>NaN</td>\n      <td>0.0</td>\n      <td>NaN</td>\n      <td>0.0</td>\n      <td>NaN</td>\n      <td>0.0</td>\n      <td>NaN</td>\n      <td>0.0</td>\n      <td>0.0</td>\n      <td>NaN</td>\n      <td>0.0</td>\n      <td>0.0</td>\n      <td>0.0</td>\n      <td>0.0</td>\n      <td>NaN</td>\n      <td>0.0</td>\n      <td>0.0</td>\n      <td>0.0</td>\n      <td>0.0</td>\n      <td>NaN</td>\n      <td>0.0</td>\n      <td>0.0</td>\n      <td>0.0</td>\n      <td>0.0</td>\n      <td>0.00</td>\n      <td>0.00</td>\n      <td>0.00</td>\n      <td>0.00</td>\n      <td>0.00</td>\n      <td>0.00</td>\n      <td>0.0</td>\n      <td>0.0</td>\n    </tr>\n    <tr>\n      <th>6872</th>\n      <td>Algeria</td>\n      <td>DZA</td>\n      <td>20200102</td>\n      <td>0.0</td>\n      <td>NaN</td>\n      <td>0.0</td>\n      <td>NaN</td>\n      <td>0.0</td>\n      <td>NaN</td>\n      <td>0.0</td>\n      <td>NaN</td>\n      <td>0.0</td>\n      <td>NaN</td>\n      <td>0.0</td>\n      <td>NaN</td>\n      <td>0.0</td>\n      <td>NaN</td>\n      <td>0.0</td>\n      <td>0.0</td>\n      <td>NaN</td>\n      <td>0.0</td>\n      <td>0.0</td>\n      <td>0.0</td>\n      <td>0.0</td>\n      <td>NaN</td>\n      <td>0.0</td>\n      <td>0.0</td>\n      <td>0.0</td>\n      <td>0.0</td>\n      <td>NaN</td>\n      <td>0.0</td>\n      <td>0.0</td>\n      <td>0.0</td>\n      <td>0.0</td>\n      <td>0.00</td>\n      <td>0.00</td>\n      <td>0.00</td>\n      <td>0.00</td>\n      <td>0.00</td>\n      <td>0.00</td>\n      <td>0.0</td>\n      <td>0.0</td>\n    </tr>\n    <tr>\n      <th>6873</th>\n      <td>Algeria</td>\n      <td>DZA</td>\n      <td>20200103</td>\n      <td>0.0</td>\n      <td>NaN</td>\n      <td>0.0</td>\n      <td>NaN</td>\n      <td>0.0</td>\n      <td>NaN</td>\n      <td>0.0</td>\n      <td>NaN</td>\n      <td>0.0</td>\n      <td>NaN</td>\n      <td>0.0</td>\n      <td>NaN</td>\n      <td>0.0</td>\n      <td>NaN</td>\n      <td>0.0</td>\n      <td>0.0</td>\n      <td>NaN</td>\n      <td>0.0</td>\n      <td>0.0</td>\n      <td>0.0</td>\n      <td>0.0</td>\n      <td>NaN</td>\n      <td>0.0</td>\n      <td>0.0</td>\n      <td>0.0</td>\n      <td>0.0</td>\n      <td>NaN</td>\n      <td>0.0</td>\n      <td>0.0</td>\n      <td>0.0</td>\n      <td>0.0</td>\n      <td>0.00</td>\n      <td>0.00</td>\n      <td>0.00</td>\n      <td>0.00</td>\n      <td>0.00</td>\n      <td>0.00</td>\n      <td>0.0</td>\n      <td>0.0</td>\n    </tr>\n    <tr>\n      <th>6874</th>\n      <td>Algeria</td>\n      <td>DZA</td>\n      <td>20200104</td>\n      <td>0.0</td>\n      <td>NaN</td>\n      <td>0.0</td>\n      <td>NaN</td>\n      <td>0.0</td>\n      <td>NaN</td>\n      <td>0.0</td>\n      <td>NaN</td>\n      <td>0.0</td>\n      <td>NaN</td>\n      <td>0.0</td>\n      <td>NaN</td>\n      <td>0.0</td>\n      <td>NaN</td>\n      <td>0.0</td>\n      <td>0.0</td>\n      <td>NaN</td>\n      <td>0.0</td>\n      <td>0.0</td>\n      <td>0.0</td>\n      <td>0.0</td>\n      <td>NaN</td>\n      <td>0.0</td>\n      <td>0.0</td>\n      <td>0.0</td>\n      <td>0.0</td>\n      <td>NaN</td>\n      <td>0.0</td>\n      <td>0.0</td>\n      <td>0.0</td>\n      <td>0.0</td>\n      <td>0.00</td>\n      <td>0.00</td>\n      <td>0.00</td>\n      <td>0.00</td>\n      <td>0.00</td>\n      <td>0.00</td>\n      <td>0.0</td>\n      <td>0.0</td>\n    </tr>\n    <tr>\n      <th>6875</th>\n      <td>Algeria</td>\n      <td>DZA</td>\n      <td>20200105</td>\n      <td>0.0</td>\n      <td>NaN</td>\n      <td>0.0</td>\n      <td>NaN</td>\n      <td>0.0</td>\n      <td>NaN</td>\n      <td>0.0</td>\n      <td>NaN</td>\n      <td>0.0</td>\n      <td>NaN</td>\n      <td>0.0</td>\n      <td>NaN</td>\n      <td>0.0</td>\n      <td>NaN</td>\n      <td>0.0</td>\n      <td>0.0</td>\n      <td>NaN</td>\n      <td>0.0</td>\n      <td>0.0</td>\n      <td>0.0</td>\n      <td>0.0</td>\n      <td>NaN</td>\n      <td>0.0</td>\n      <td>0.0</td>\n      <td>0.0</td>\n      <td>0.0</td>\n      <td>NaN</td>\n      <td>0.0</td>\n      <td>0.0</td>\n      <td>0.0</td>\n      <td>0.0</td>\n      <td>0.00</td>\n      <td>0.00</td>\n      <td>0.00</td>\n      <td>0.00</td>\n      <td>0.00</td>\n      <td>0.00</td>\n      <td>0.0</td>\n      <td>0.0</td>\n    </tr>\n    <tr>\n      <th>...</th>\n      <td>...</td>\n      <td>...</td>\n      <td>...</td>\n      <td>...</td>\n      <td>...</td>\n      <td>...</td>\n      <td>...</td>\n      <td>...</td>\n      <td>...</td>\n      <td>...</td>\n      <td>...</td>\n      <td>...</td>\n      <td>...</td>\n      <td>...</td>\n      <td>...</td>\n      <td>...</td>\n      <td>...</td>\n      <td>...</td>\n      <td>...</td>\n      <td>...</td>\n      <td>...</td>\n      <td>...</td>\n      <td>...</td>\n      <td>...</td>\n      <td>...</td>\n      <td>...</td>\n      <td>...</td>\n      <td>...</td>\n      <td>...</td>\n      <td>...</td>\n      <td>...</td>\n      <td>...</td>\n      <td>...</td>\n      <td>...</td>\n      <td>...</td>\n      <td>...</td>\n      <td>...</td>\n      <td>...</td>\n      <td>...</td>\n      <td>...</td>\n      <td>...</td>\n      <td>...</td>\n    </tr>\n    <tr>\n      <th>7012</th>\n      <td>Algeria</td>\n      <td>DZA</td>\n      <td>20200521</td>\n      <td>3.0</td>\n      <td>1.0</td>\n      <td>2.0</td>\n      <td>1.0</td>\n      <td>2.0</td>\n      <td>1.0</td>\n      <td>4.0</td>\n      <td>0.0</td>\n      <td>2.0</td>\n      <td>1.0</td>\n      <td>2.0</td>\n      <td>0.0</td>\n      <td>2.0</td>\n      <td>0.0</td>\n      <td>3.0</td>\n      <td>0.0</td>\n      <td>NaN</td>\n      <td>1.0</td>\n      <td>0.0</td>\n      <td>0.0</td>\n      <td>2.0</td>\n      <td>1.0</td>\n      <td>0.0</td>\n      <td>0.0</td>\n      <td>0.0</td>\n      <td>0.0</td>\n      <td>NaN</td>\n      <td>7542.0</td>\n      <td>568.0</td>\n      <td>83.8</td>\n      <td>83.8</td>\n      <td>85.95</td>\n      <td>85.95</td>\n      <td>61.86</td>\n      <td>61.86</td>\n      <td>68.56</td>\n      <td>68.56</td>\n      <td>25.0</td>\n      <td>25.0</td>\n    </tr>\n    <tr>\n      <th>7013</th>\n      <td>Algeria</td>\n      <td>DZA</td>\n      <td>20200522</td>\n      <td>3.0</td>\n      <td>1.0</td>\n      <td>2.0</td>\n      <td>1.0</td>\n      <td>2.0</td>\n      <td>1.0</td>\n      <td>4.0</td>\n      <td>0.0</td>\n      <td>2.0</td>\n      <td>1.0</td>\n      <td>2.0</td>\n      <td>0.0</td>\n      <td>2.0</td>\n      <td>0.0</td>\n      <td>3.0</td>\n      <td>0.0</td>\n      <td>NaN</td>\n      <td>1.0</td>\n      <td>0.0</td>\n      <td>0.0</td>\n      <td>2.0</td>\n      <td>1.0</td>\n      <td>0.0</td>\n      <td>0.0</td>\n      <td>0.0</td>\n      <td>0.0</td>\n      <td>NaN</td>\n      <td>7728.0</td>\n      <td>575.0</td>\n      <td>83.8</td>\n      <td>83.8</td>\n      <td>85.95</td>\n      <td>85.95</td>\n      <td>61.86</td>\n      <td>61.86</td>\n      <td>68.56</td>\n      <td>68.56</td>\n      <td>25.0</td>\n      <td>25.0</td>\n    </tr>\n    <tr>\n      <th>7014</th>\n      <td>Algeria</td>\n      <td>DZA</td>\n      <td>20200523</td>\n      <td>3.0</td>\n      <td>1.0</td>\n      <td>2.0</td>\n      <td>1.0</td>\n      <td>2.0</td>\n      <td>1.0</td>\n      <td>4.0</td>\n      <td>0.0</td>\n      <td>2.0</td>\n      <td>1.0</td>\n      <td>2.0</td>\n      <td>0.0</td>\n      <td>2.0</td>\n      <td>0.0</td>\n      <td>3.0</td>\n      <td>0.0</td>\n      <td>NaN</td>\n      <td>1.0</td>\n      <td>0.0</td>\n      <td>0.0</td>\n      <td>2.0</td>\n      <td>1.0</td>\n      <td>0.0</td>\n      <td>0.0</td>\n      <td>0.0</td>\n      <td>0.0</td>\n      <td>NaN</td>\n      <td>7918.0</td>\n      <td>582.0</td>\n      <td>83.8</td>\n      <td>83.8</td>\n      <td>85.95</td>\n      <td>85.95</td>\n      <td>61.86</td>\n      <td>61.86</td>\n      <td>68.56</td>\n      <td>68.56</td>\n      <td>25.0</td>\n      <td>25.0</td>\n    </tr>\n    <tr>\n      <th>7015</th>\n      <td>Algeria</td>\n      <td>DZA</td>\n      <td>20200524</td>\n      <td>3.0</td>\n      <td>1.0</td>\n      <td>2.0</td>\n      <td>1.0</td>\n      <td>2.0</td>\n      <td>1.0</td>\n      <td>4.0</td>\n      <td>0.0</td>\n      <td>2.0</td>\n      <td>1.0</td>\n      <td>2.0</td>\n      <td>0.0</td>\n      <td>2.0</td>\n      <td>0.0</td>\n      <td>3.0</td>\n      <td>0.0</td>\n      <td>NaN</td>\n      <td>1.0</td>\n      <td>0.0</td>\n      <td>0.0</td>\n      <td>2.0</td>\n      <td>1.0</td>\n      <td>0.0</td>\n      <td>0.0</td>\n      <td>0.0</td>\n      <td>0.0</td>\n      <td>NaN</td>\n      <td>8113.0</td>\n      <td>592.0</td>\n      <td>83.8</td>\n      <td>83.8</td>\n      <td>85.95</td>\n      <td>85.95</td>\n      <td>61.86</td>\n      <td>61.86</td>\n      <td>68.56</td>\n      <td>68.56</td>\n      <td>25.0</td>\n      <td>25.0</td>\n    </tr>\n    <tr>\n      <th>7016</th>\n      <td>Algeria</td>\n      <td>DZA</td>\n      <td>20200525</td>\n      <td>NaN</td>\n      <td>NaN</td>\n      <td>NaN</td>\n      <td>NaN</td>\n      <td>NaN</td>\n      <td>NaN</td>\n      <td>NaN</td>\n      <td>NaN</td>\n      <td>NaN</td>\n      <td>NaN</td>\n      <td>NaN</td>\n      <td>NaN</td>\n      <td>NaN</td>\n      <td>NaN</td>\n      <td>NaN</td>\n      <td>NaN</td>\n      <td>NaN</td>\n      <td>NaN</td>\n      <td>NaN</td>\n      <td>NaN</td>\n      <td>NaN</td>\n      <td>NaN</td>\n      <td>NaN</td>\n      <td>NaN</td>\n      <td>NaN</td>\n      <td>NaN</td>\n      <td>NaN</td>\n      <td>8306.0</td>\n      <td>600.0</td>\n      <td>NaN</td>\n      <td>83.8</td>\n      <td>NaN</td>\n      <td>85.95</td>\n      <td>NaN</td>\n      <td>61.86</td>\n      <td>NaN</td>\n      <td>68.56</td>\n      <td>NaN</td>\n      <td>25.0</td>\n    </tr>\n  </tbody>\n</table>\n<p>146 rows × 42 columns</p>\n</div>",
        "text/plain": "     CountryName  ... EconomicSupportIndexForDisplay\n6871     Algeria  ...                            0.0\n6872     Algeria  ...                            0.0\n6873     Algeria  ...                            0.0\n6874     Algeria  ...                            0.0\n6875     Algeria  ...                            0.0\n...          ...  ...                            ...\n7012     Algeria  ...                           25.0\n7013     Algeria  ...                           25.0\n7014     Algeria  ...                           25.0\n7015     Algeria  ...                           25.0\n7016     Algeria  ...                           25.0\n\n[146 rows x 42 columns]"
       }
      ]
     }
    },
    "64b02fb810bd4576b453af3e301f7a0f": {
     "model_module": "@jupyter-widgets/controls",
     "model_name": "ButtonStyleModel",
     "state": {
      "_model_module": "@jupyter-widgets/controls",
      "_model_module_version": "1.5.0",
      "_model_name": "ButtonStyleModel",
      "_view_count": null,
      "_view_module": "@jupyter-widgets/base",
      "_view_module_version": "1.2.0",
      "_view_name": "StyleView",
      "button_color": null,
      "font_weight": ""
     }
    },
    "a1a69c0f997a4eff83f42420576cd7d8": {
     "model_module": "@jupyter-widgets/controls",
     "model_name": "IntSliderModel",
     "state": {
      "_dom_classes": [],
      "_model_module": "@jupyter-widgets/controls",
      "_model_module_version": "1.5.0",
      "_model_name": "IntSliderModel",
      "_view_count": null,
      "_view_module": "@jupyter-widgets/controls",
      "_view_module_version": "1.5.0",
      "_view_name": "IntSliderView",
      "continuous_update": true,
      "description": "Slider:",
      "description_tooltip": null,
      "disabled": false,
      "layout": "IPY_MODEL_f2f66b07a02540e78a249544a775dd9c",
      "max": 10,
      "min": 0,
      "orientation": "horizontal",
      "readout": true,
      "readout_format": "d",
      "step": 1,
      "style": "IPY_MODEL_0487c6dc878b414a88d17f090ab55c7d",
      "value": 3
     }
    },
    "a4663e551bfe4822b09595b741b9f518": {
     "model_module": "@jupyter-widgets/base",
     "model_name": "LayoutModel",
     "state": {
      "_model_module": "@jupyter-widgets/base",
      "_model_module_version": "1.2.0",
      "_model_name": "LayoutModel",
      "_view_count": null,
      "_view_module": "@jupyter-widgets/base",
      "_view_module_version": "1.2.0",
      "_view_name": "LayoutView",
      "align_content": null,
      "align_items": null,
      "align_self": null,
      "border": null,
      "bottom": null,
      "display": null,
      "flex": null,
      "flex_flow": null,
      "grid_area": null,
      "grid_auto_columns": null,
      "grid_auto_flow": null,
      "grid_auto_rows": null,
      "grid_column": null,
      "grid_gap": null,
      "grid_row": null,
      "grid_template_areas": null,
      "grid_template_columns": null,
      "grid_template_rows": null,
      "height": null,
      "justify_content": null,
      "justify_items": null,
      "left": null,
      "margin": null,
      "max_height": null,
      "max_width": null,
      "min_height": null,
      "min_width": null,
      "object_fit": null,
      "object_position": null,
      "order": null,
      "overflow": null,
      "overflow_x": null,
      "overflow_y": null,
      "padding": null,
      "right": null,
      "top": null,
      "visibility": null,
      "width": null
     }
    },
    "f2f66b07a02540e78a249544a775dd9c": {
     "model_module": "@jupyter-widgets/base",
     "model_name": "LayoutModel",
     "state": {
      "_model_module": "@jupyter-widgets/base",
      "_model_module_version": "1.2.0",
      "_model_name": "LayoutModel",
      "_view_count": null,
      "_view_module": "@jupyter-widgets/base",
      "_view_module_version": "1.2.0",
      "_view_name": "LayoutView",
      "align_content": null,
      "align_items": null,
      "align_self": null,
      "border": null,
      "bottom": null,
      "display": null,
      "flex": null,
      "flex_flow": null,
      "grid_area": null,
      "grid_auto_columns": null,
      "grid_auto_flow": null,
      "grid_auto_rows": null,
      "grid_column": null,
      "grid_gap": null,
      "grid_row": null,
      "grid_template_areas": null,
      "grid_template_columns": null,
      "grid_template_rows": null,
      "height": null,
      "justify_content": null,
      "justify_items": null,
      "left": null,
      "margin": null,
      "max_height": null,
      "max_width": null,
      "min_height": null,
      "min_width": null,
      "object_fit": null,
      "object_position": null,
      "order": null,
      "overflow": null,
      "overflow_x": null,
      "overflow_y": null,
      "padding": null,
      "right": null,
      "top": null,
      "visibility": null,
      "width": null
     }
    },
    "fa97c9c289074974ad5b19b0687410e8": {
     "model_module": "@jupyter-widgets/base",
     "model_name": "LayoutModel",
     "state": {
      "_model_module": "@jupyter-widgets/base",
      "_model_module_version": "1.2.0",
      "_model_name": "LayoutModel",
      "_view_count": null,
      "_view_module": "@jupyter-widgets/base",
      "_view_module_version": "1.2.0",
      "_view_name": "LayoutView",
      "align_content": null,
      "align_items": null,
      "align_self": null,
      "border": null,
      "bottom": null,
      "display": null,
      "flex": null,
      "flex_flow": null,
      "grid_area": null,
      "grid_auto_columns": null,
      "grid_auto_flow": null,
      "grid_auto_rows": null,
      "grid_column": null,
      "grid_gap": null,
      "grid_row": null,
      "grid_template_areas": null,
      "grid_template_columns": null,
      "grid_template_rows": null,
      "height": null,
      "justify_content": null,
      "justify_items": null,
      "left": null,
      "margin": null,
      "max_height": null,
      "max_width": null,
      "min_height": null,
      "min_width": null,
      "object_fit": null,
      "object_position": null,
      "order": null,
      "overflow": null,
      "overflow_x": null,
      "overflow_y": null,
      "padding": null,
      "right": null,
      "top": null,
      "visibility": null,
      "width": null
     }
    },
    "fb354b40f16e43bcb15163f132936097": {
     "model_module": "@jupyter-widgets/base",
     "model_name": "LayoutModel",
     "state": {
      "_model_module": "@jupyter-widgets/base",
      "_model_module_version": "1.2.0",
      "_model_name": "LayoutModel",
      "_view_count": null,
      "_view_module": "@jupyter-widgets/base",
      "_view_module_version": "1.2.0",
      "_view_name": "LayoutView",
      "align_content": null,
      "align_items": null,
      "align_self": null,
      "border": null,
      "bottom": null,
      "display": null,
      "flex": null,
      "flex_flow": null,
      "grid_area": null,
      "grid_auto_columns": null,
      "grid_auto_flow": null,
      "grid_auto_rows": null,
      "grid_column": null,
      "grid_gap": null,
      "grid_row": null,
      "grid_template_areas": null,
      "grid_template_columns": null,
      "grid_template_rows": null,
      "height": null,
      "justify_content": null,
      "justify_items": null,
      "left": null,
      "margin": null,
      "max_height": null,
      "max_width": null,
      "min_height": null,
      "min_width": null,
      "object_fit": null,
      "object_position": null,
      "order": null,
      "overflow": null,
      "overflow_x": null,
      "overflow_y": null,
      "padding": null,
      "right": null,
      "top": null,
      "visibility": null,
      "width": null
     }
    },
    "fbbdb633ed9e45f18a1c98dddc99ddc3": {
     "model_module": "@jupyter-widgets/base",
     "model_name": "LayoutModel",
     "state": {
      "_model_module": "@jupyter-widgets/base",
      "_model_module_version": "1.2.0",
      "_model_name": "LayoutModel",
      "_view_count": null,
      "_view_module": "@jupyter-widgets/base",
      "_view_module_version": "1.2.0",
      "_view_name": "LayoutView",
      "align_content": null,
      "align_items": null,
      "align_self": null,
      "border": null,
      "bottom": null,
      "display": null,
      "flex": null,
      "flex_flow": null,
      "grid_area": null,
      "grid_auto_columns": null,
      "grid_auto_flow": null,
      "grid_auto_rows": null,
      "grid_column": null,
      "grid_gap": null,
      "grid_row": null,
      "grid_template_areas": null,
      "grid_template_columns": null,
      "grid_template_rows": null,
      "height": null,
      "justify_content": null,
      "justify_items": null,
      "left": null,
      "margin": null,
      "max_height": null,
      "max_width": null,
      "min_height": null,
      "min_width": null,
      "object_fit": null,
      "object_position": null,
      "order": null,
      "overflow": null,
      "overflow_x": null,
      "overflow_y": null,
      "padding": null,
      "right": null,
      "top": null,
      "visibility": null,
      "width": null
     }
    },
    "fcc766283ccf47d9a50af5358ab46a69": {
     "model_module": "@jupyter-widgets/controls",
     "model_name": "IntSliderModel",
     "state": {
      "_dom_classes": [],
      "_model_module": "@jupyter-widgets/controls",
      "_model_module_version": "1.5.0",
      "_model_name": "IntSliderModel",
      "_view_count": null,
      "_view_module": "@jupyter-widgets/controls",
      "_view_module_version": "1.5.0",
      "_view_name": "IntSliderView",
      "continuous_update": true,
      "description": "",
      "description_tooltip": null,
      "disabled": false,
      "layout": "IPY_MODEL_a4663e551bfe4822b09595b741b9f518",
      "max": 100,
      "min": 0,
      "orientation": "horizontal",
      "readout": true,
      "readout_format": "d",
      "step": 1,
      "style": "IPY_MODEL_4442f20e53e5419c8627729146a6208b",
      "value": 0
     }
    }
   }
  }
 },
 "nbformat": 4,
 "nbformat_minor": 1
}

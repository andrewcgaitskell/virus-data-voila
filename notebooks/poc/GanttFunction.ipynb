{
 "cells": [
  {
   "cell_type": "code",
   "execution_count": 1,
   "metadata": {},
   "outputs": [],
   "source": [
    "import numpy as np"
   ]
  },
  {
   "cell_type": "code",
   "execution_count": 2,
   "metadata": {},
   "outputs": [],
   "source": [
    "import seaborn as sns\n",
    "sns.set()"
   ]
  },
  {
   "cell_type": "code",
   "execution_count": 3,
   "metadata": {},
   "outputs": [],
   "source": [
    "import pandas as pd"
   ]
  },
  {
   "cell_type": "code",
   "execution_count": 4,
   "metadata": {},
   "outputs": [
    {
     "data": {
      "text/plain": [
       "400"
      ]
     },
     "execution_count": 4,
     "metadata": {},
     "output_type": "execute_result"
    }
   ],
   "source": [
    "figdict ={\"dimx\": 400,\"dimy\": 200}\n",
    "figdict[\"dimx\"]"
   ]
  },
  {
   "cell_type": "code",
   "execution_count": 5,
   "metadata": {},
   "outputs": [
    {
     "data": {
      "text/html": [
       "<div>\n",
       "<style scoped>\n",
       "    .dataframe tbody tr th:only-of-type {\n",
       "        vertical-align: middle;\n",
       "    }\n",
       "\n",
       "    .dataframe tbody tr th {\n",
       "        vertical-align: top;\n",
       "    }\n",
       "\n",
       "    .dataframe thead th {\n",
       "        text-align: right;\n",
       "    }\n",
       "</style>\n",
       "<table border=\"1\" class=\"dataframe\">\n",
       "  <thead>\n",
       "    <tr style=\"text-align: right;\">\n",
       "      <th></th>\n",
       "      <th>person</th>\n",
       "      <th>activityid</th>\n",
       "      <th>start</th>\n",
       "      <th>duration</th>\n",
       "    </tr>\n",
       "  </thead>\n",
       "  <tbody>\n",
       "    <tr>\n",
       "      <th>0</th>\n",
       "      <td>dummy</td>\n",
       "      <td>0</td>\n",
       "      <td>0</td>\n",
       "      <td>0</td>\n",
       "    </tr>\n",
       "    <tr>\n",
       "      <th>1</th>\n",
       "      <td>jimmy</td>\n",
       "      <td>1</td>\n",
       "      <td>110</td>\n",
       "      <td>30</td>\n",
       "    </tr>\n",
       "    <tr>\n",
       "      <th>2</th>\n",
       "      <td>jimmy</td>\n",
       "      <td>2</td>\n",
       "      <td>150</td>\n",
       "      <td>10</td>\n",
       "    </tr>\n",
       "    <tr>\n",
       "      <th>3</th>\n",
       "      <td>billy</td>\n",
       "      <td>3</td>\n",
       "      <td>100</td>\n",
       "      <td>20</td>\n",
       "    </tr>\n",
       "    <tr>\n",
       "      <th>4</th>\n",
       "      <td>billy</td>\n",
       "      <td>4</td>\n",
       "      <td>130</td>\n",
       "      <td>10</td>\n",
       "    </tr>\n",
       "    <tr>\n",
       "      <th>5</th>\n",
       "      <td>billy</td>\n",
       "      <td>5</td>\n",
       "      <td>150</td>\n",
       "      <td>10</td>\n",
       "    </tr>\n",
       "    <tr>\n",
       "      <th>6</th>\n",
       "      <td>andy</td>\n",
       "      <td>6</td>\n",
       "      <td>20</td>\n",
       "      <td>3</td>\n",
       "    </tr>\n",
       "  </tbody>\n",
       "</table>\n",
       "</div>"
      ],
      "text/plain": [
       "  person  activityid  start  duration\n",
       "0  dummy           0      0         0\n",
       "1  jimmy           1    110        30\n",
       "2  jimmy           2    150        10\n",
       "3  billy           3    100        20\n",
       "4  billy           4    130        10\n",
       "5  billy           5    150        10\n",
       "6   andy           6     20         3"
      ]
     },
     "execution_count": 5,
     "metadata": {},
     "output_type": "execute_result"
    }
   ],
   "source": [
    "#jimmy\n",
    "rawdata = {'person': ['dummy'], 'activityid':[0], 'start': [0], 'duration' : [0]}\n",
    "ganttdata_df = pd.DataFrame(data=rawdata)\n",
    "ganttdata_df\n",
    "\n",
    "xranges = np.array([(110, 30)])\n",
    "new_row = {'person':'jimmy', 'activityid':1, 'start':110, 'duration':30}\n",
    "ganttdata_df = ganttdata_df.append(new_row, ignore_index=True)\n",
    "\n",
    "xranges = np.array([(150, 10)])\n",
    "new_row = {'person':'jimmy', 'activityid':2, 'start':150, 'duration':10}\n",
    "ganttdata_df = ganttdata_df.append(new_row, ignore_index=True)\n",
    "\n",
    "xranges = np.array([(100, 20)])\n",
    "new_row = {'person':'billy', 'activityid':3, 'start':100, 'duration':20}\n",
    "ganttdata_df = ganttdata_df.append(new_row, ignore_index=True)\n",
    "\n",
    "xranges = np.array([(130, 10)])\n",
    "new_row = {'person':'billy', 'activityid':4, 'start':130, 'duration':10}\n",
    "ganttdata_df = ganttdata_df.append(new_row, ignore_index=True)\n",
    "\n",
    "xranges = np.array([(150, 10)])\n",
    "new_row = {'person':'billy', 'activityid':5, 'start':150, 'duration':10}\n",
    "ganttdata_df = ganttdata_df.append(new_row, ignore_index=True)\n",
    "\n",
    "new_row = {'person':'andy', 'activityid':6, 'start':20, 'duration':3}\n",
    "#append row to the dataframe\n",
    "ganttdata_df = ganttdata_df.append(new_row, ignore_index=True)\n",
    "ganttdata_df"
   ]
  },
  {
   "cell_type": "code",
   "execution_count": 6,
   "metadata": {},
   "outputs": [
    {
     "data": {
      "text/plain": [
       "['dummy', 'jimmy', 'billy', 'andy']"
      ]
     },
     "execution_count": 6,
     "metadata": {},
     "output_type": "execute_result"
    }
   ],
   "source": [
    "people = ganttdata_df.person.unique().tolist()\n",
    "people"
   ]
  },
  {
   "cell_type": "code",
   "execution_count": 7,
   "metadata": {},
   "outputs": [
    {
     "data": {
      "text/plain": [
       "[(0.2980392156862745, 0.4470588235294118, 0.6901960784313725),\n",
       " (0.8666666666666667, 0.5176470588235295, 0.3215686274509804),\n",
       " (0.3333333333333333, 0.6588235294117647, 0.40784313725490196),\n",
       " (0.7686274509803922, 0.3058823529411765, 0.3215686274509804),\n",
       " (0.5058823529411764, 0.4470588235294118, 0.7019607843137254),\n",
       " (0.5764705882352941, 0.47058823529411764, 0.3764705882352941)]"
      ]
     },
     "execution_count": 7,
     "metadata": {},
     "output_type": "execute_result"
    }
   ],
   "source": [
    "numberofpeople = len(people)\n",
    "current_palette = sns.color_palette(None,numberofpeople+2)\n",
    "current_palette"
   ]
  },
  {
   "cell_type": "code",
   "execution_count": 8,
   "metadata": {},
   "outputs": [],
   "source": [
    "bargap = 4"
   ]
  },
  {
   "cell_type": "code",
   "execution_count": 9,
   "metadata": {},
   "outputs": [
    {
     "data": {
      "text/plain": [
       "50"
      ]
     },
     "execution_count": 9,
     "metadata": {},
     "output_type": "execute_result"
    }
   ],
   "source": [
    "step = figdict[\"dimy\"]/numberofpeople\n",
    "step = int(step)\n",
    "step"
   ]
  },
  {
   "cell_type": "code",
   "execution_count": 10,
   "metadata": {},
   "outputs": [
    {
     "data": {
      "text/plain": [
       "[25, 75, 125, 175]"
      ]
     },
     "execution_count": 10,
     "metadata": {},
     "output_type": "execute_result"
    }
   ],
   "source": [
    "ticklocations = range(int(step/2),figdict[\"dimy\"],step)\n",
    "ticklocations = list(ticklocations)\n",
    "ticklocations"
   ]
  },
  {
   "cell_type": "code",
   "execution_count": 11,
   "metadata": {},
   "outputs": [
    {
     "data": {
      "text/plain": [
       "[0, 50, 100, 150]"
      ]
     },
     "execution_count": 11,
     "metadata": {},
     "output_type": "execute_result"
    }
   ],
   "source": [
    "barlocations = range(0,figdict[\"dimy\"],step)\n",
    "barlocations = list(barlocations)\n",
    "barlocations"
   ]
  },
  {
   "cell_type": "code",
   "execution_count": 12,
   "metadata": {},
   "outputs": [
    {
     "data": {
      "text/html": [
       "<div>\n",
       "<style scoped>\n",
       "    .dataframe tbody tr th:only-of-type {\n",
       "        vertical-align: middle;\n",
       "    }\n",
       "\n",
       "    .dataframe tbody tr th {\n",
       "        vertical-align: top;\n",
       "    }\n",
       "\n",
       "    .dataframe thead th {\n",
       "        text-align: right;\n",
       "    }\n",
       "</style>\n",
       "<table border=\"1\" class=\"dataframe\">\n",
       "  <thead>\n",
       "    <tr style=\"text-align: right;\">\n",
       "      <th></th>\n",
       "      <th>people</th>\n",
       "      <th>barlocation</th>\n",
       "      <th>color</th>\n",
       "    </tr>\n",
       "  </thead>\n",
       "  <tbody>\n",
       "    <tr>\n",
       "      <th>0</th>\n",
       "      <td>dummy</td>\n",
       "      <td>0</td>\n",
       "      <td>0</td>\n",
       "    </tr>\n",
       "    <tr>\n",
       "      <th>1</th>\n",
       "      <td>jimmy</td>\n",
       "      <td>50</td>\n",
       "      <td>1</td>\n",
       "    </tr>\n",
       "    <tr>\n",
       "      <th>2</th>\n",
       "      <td>billy</td>\n",
       "      <td>100</td>\n",
       "      <td>2</td>\n",
       "    </tr>\n",
       "    <tr>\n",
       "      <th>3</th>\n",
       "      <td>andy</td>\n",
       "      <td>150</td>\n",
       "      <td>3</td>\n",
       "    </tr>\n",
       "  </tbody>\n",
       "</table>\n",
       "</div>"
      ],
      "text/plain": [
       "  people  barlocation  color\n",
       "0  dummy            0      0\n",
       "1  jimmy           50      1\n",
       "2  billy          100      2\n",
       "3   andy          150      3"
      ]
     },
     "execution_count": 12,
     "metadata": {},
     "output_type": "execute_result"
    }
   ],
   "source": [
    "people_df = pd.DataFrame(data=people)\n",
    "people_df.columns = ['people']\n",
    "barlocations_df = pd.DataFrame(data=barlocations)\n",
    "barlocations_df.columns = ['barlocation']\n",
    "wherebar_df = pd.concat([people_df, barlocations_df], axis=1)\n",
    "wherebar_df['color'] = wherebar_df.index\n",
    "wherebar_df"
   ]
  },
  {
   "cell_type": "code",
   "execution_count": 13,
   "metadata": {},
   "outputs": [],
   "source": [
    "def getbarlocation(person_in):    \n",
    "    barloc = wherebar_df.loc[wherebar_df['people'] == person_in]['barlocation'].tolist()\n",
    "    return barloc[0]\n",
    "def getbarcolor(person_in):    \n",
    "    barcolor = wherebar_df.loc[wherebar_df['people'] == person_in]['color'].tolist()\n",
    "    return barcolor[0]\n",
    "#a = getbarcolor('andy')"
   ]
  },
  {
   "cell_type": "code",
   "execution_count": 14,
   "metadata": {},
   "outputs": [
    {
     "data": {
      "image/png": "[encoded data removed]",
      "text/plain": [
       "<Figure size 720x720 with 2 Axes>"
      ]
     },
     "metadata": {},
     "output_type": "display_data"
    }
   ],
   "source": [
    "import matplotlib.pyplot as plt \n",
    "\n",
    "def addbar2(xranges_in,yranges_in,facecolor_in):\n",
    "        axs[0].broken_barh(xranges_in, yranges_in, facecolors=facecolor_in)#, label='label') \n",
    "# Declaring a figure \"gnt\" \n",
    "figs, axs = plt.subplots(2,1,figsize=(10,10),sharex=True) \n",
    "# Setting Y-axis limits \n",
    "axs[0].set_ylim(0, figdict[\"dimy\"]) \n",
    "  \n",
    "# Setting X-axis limits \n",
    "axs[0].set_xlim(0, figdict[\"dimx\"]) \n",
    "  \n",
    "# Setting ticks on y-axis \n",
    "axs[0].set_yticks(ticklocations) \n",
    "# Labelling tickes of y-axis \n",
    "axs[0].set_yticklabels(people) \n",
    "  \n",
    "# Setting graph attribute \n",
    "axs[0].grid(True) \n",
    "\n",
    "# Declaring a bar in schedule \n",
    "#gnt.broken_barh(ganttdata)\n",
    "for index, row in ganttdata_df.iterrows():\n",
    "    #print(row['person'], row['activityid'], row['start'],row['duration'])\n",
    "    xranges = np.array([(row['start'], row['duration'])])\n",
    "    barlocation = getbarlocation(row['person'])\n",
    "    yranges = np.array((barlocation+bargap, step-bargap))\n",
    "    barcolor = getbarcolor(row['person'])\n",
    "    facecolor = current_palette[barcolor]\n",
    "    addbar2(xranges,yranges,facecolor)\n",
    "\n",
    "#gnt.legend() "
   ]
  },
  {
   "cell_type": "code",
   "execution_count": null,
   "metadata": {},
   "outputs": [],
   "source": []
  }
 ],
 "metadata": {
  "kernelspec": {
   "display_name": "Python 3",
   "language": "python",
   "name": "python3"
  },
  "language_info": {
   "codemirror_mode": {
    "name": "ipython",
    "version": 3
   },
   "file_extension": ".py",
   "mimetype": "text/x-python",
   "name": "python",
   "nbconvert_exporter": "python",
   "pygments_lexer": "ipython3",
   "version": "3.8.2"
  }
 },
 "nbformat": 4,
 "nbformat_minor": 4
}
